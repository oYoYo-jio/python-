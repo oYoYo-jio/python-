{
 "cells": [
  {
   "cell_type": "markdown",
   "metadata": {},
   "source": [
    "# Reparameterization Trick\n",
    "\n",
    "Inspired from the example given by Goker Erdogan http://gokererdogan.github.io/2016/07/01/reparameterization-trick/\n",
    "\n",
    "Suppose we have a Normal distribution parameterized by $\\theta$: \n",
    "\n",
    "$$x \\sim p_\\theta(x) = N(\\theta,1) = \\frac{1}{\\sqrt{2\\pi}}e^{-\\frac{1}{2}(x-\\theta)^2}$$\n",
    "\n",
    "We draw samples from it and then use those samples to find the minimum of: $J(\\theta) = E_{x \\sim p_\\theta(x)}[x^2]$. And we do so using gradient descent.\n",
    "\n",
    "### Score/Reinforce way\n",
    "\n",
    "We take a derivative of $J(\\theta)$ with respect to $\\theta$:\n",
    "\n",
    "$$\\nabla_\\theta J(\\theta)$$ \n",
    "$$= \\nabla_\\theta  E_{x \\sim p_\\theta(x)}[x^2]$$\n",
    "$$= \\nabla_\\theta \\int{p_\\theta(x) x^2 dx}$$\n",
    "$$= \\int{\\nabla_\\theta{p_\\theta(x)} x^2 dx}$$\n",
    "$$= \\int{\\frac{p_\\theta(x)}{p_\\theta(x)} \\nabla_\\theta{p_\\theta(x)} x^2 dx}$$\n",
    "$$= \\int{p_\\theta(x) \\frac{\\nabla_\\theta{p_\\theta(x)}}{p_\\theta(x)}  x^2 dx}$$\n",
    "$$= \\int{p_\\theta(x) \\nabla_\\theta{log{p_\\theta(x)}  x^2 dx}}$$\n",
    "$$= E_{x \\sim p_\\theta(x)} [\\nabla_\\theta{log{p_\\theta(x)}}  x^2]$$\n",
    "\n",
    "We can now use Monte Carlo estimate of this using samples:\n",
    "\n",
    "$$\\widehat{\\nabla_\\theta J(\\theta)} = \\frac{1}{N} \\sum_{i=1}^{N} \\nabla_\\theta{log{p_\\theta(x_i)}}  x_i^2$$\n",
    "\n",
    "Substituting expression for $p_\\theta(x)$ from above and taking a log followed by gradient wrt $\\theta$, we get:\n",
    "\n",
    "$$\\widehat{\\nabla_\\theta J(\\theta)} = \\frac{1}{N} \\sum_{i=1}^{N} (x_i-\\theta)  x^2_i \\;\\;\\;\\; \\text{...(1)}$$\n",
    "\n",
    "\n",
    "### Reparameterization Trick\n",
    "\n",
    "Let: $$x = \\theta+\\epsilon \\;\\;\\;\\; {\\text{where}} \\;\\;\\; \\epsilon \\sim N(0,1)$$ \n",
    "\n",
    "This reparameterization leaves the distribution: \n",
    "\n",
    "$$p_\\theta(x) = N(\\theta,1)$$\n",
    "\n",
    "Let us now again calculate $\\nabla_\\theta J(\\theta) = \\nabla_\\theta E_{x \\sim p_\\theta(x)}[x^2]$\n",
    "\n",
    "$$\\nabla_\\theta J(\\theta)$$ \n",
    "$$= \\nabla_\\theta  E_{x \\sim p_\\theta(x)}[x^2]$$\n",
    "$$= \\nabla_\\theta  E_{\\epsilon \\sim N(0,1)}[(\\theta+\\epsilon)^2]$$\n",
    "As Expectation does not depend on $\\theta$, we can move the gradient inside without getting in the `log` issue as in previous method:\n",
    "\n",
    "$$= \\nabla_\\theta \\int{p(\\epsilon) (\\theta+\\epsilon)^2 d\\epsilon}$$\n",
    "$$=  \\int{p(\\epsilon) \\nabla_\\theta(\\theta+\\epsilon)^2 d\\epsilon}$$\n",
    "$$=  \\int{p(\\epsilon) 2(\\theta+\\epsilon) d\\epsilon}$$\n",
    "$$= E_{\\epsilon \\sim N(0,1)}[2 (\\theta+\\epsilon)] $$\n",
    "\n",
    "Next, we convert Expectation to MC estimate to get:\n",
    "\n",
    "$$\\widehat{\\nabla_\\theta J(\\theta)} = \\frac{1}{N} \\sum_{i=1}^{N} 2(\\theta+\\epsilon_i) \\;\\;\\;\\; \\text{...(2)}$$\n",
    "\n",
    "### Experiment\n",
    "\n",
    "Let us say $\\theta=2$\n",
    "\n",
    "1) We generate samples for $x \\sim N(\\theta,1)$ and use these samples in equation (1) to calculate the REINFORCE estimate of $\\nabla_\\theta J(\\theta)$\n",
    "\n",
    "2) We generate samples for $\\epsilon \\sim N(0,1)$ and use these samples in equation (2) to calculate the Reparameterized estimate of $\\nabla_\\theta J(\\theta)$\n",
    "\n",
    "\n",
    "We do so for various values of N and compare the estimate of $\\nabla_\\theta J(\\theta)$ in both the cases. We also calculate the Variance of the estimate in both the cases.\n",
    "\n",
    "\n",
    "**We can see that Variance is lot higher in REINFORCE as compared to Reparameterization - almost higher by one more of magnitude. This is the Apporach of Reparameterization that we will use in Soft Actor Critic.**\n",
    "\n",
    "You can also analytically derive the mean and variance of Equations (1) and (2) as below:\n",
    "\n",
    "### Mean and Variance of Gradient Estimator in Equation (1):  mean=4; variance=87/N\n",
    "\n",
    "$$E[\\widehat{\\nabla_\\theta J(\\theta)}] = E[\\frac{1}{N} \\sum_{i=1}^{N} (x_i-\\theta)  x^2_i]$$\n",
    "$$ = \\frac{1}{N} \\sum_{i=1}^{N} E[(x_i-\\theta)  x^2_i]$$\n",
    "$$ = \\frac{1}{N} \\sum_{i=1}^{N} E[x_i^3]-\\theta E[x^2_i]$$\n",
    "$$ = \\frac{1}{N} \\sum_{i=1}^{N} E[x_i^3]-\\theta E[x^2_i]$$\n",
    "$$ = \\frac{1}{N} \\sum_{i=1}^{N} (\\mu^3+3 \\mu {\\sigma}^2) -\\theta (\\mu^2+\\sigma^2)$$\n",
    "$$ = (\\mu^3+3 \\mu {\\sigma}^2) -\\theta (\\mu^2+\\sigma^2)$$\n",
    "\n",
    "putting $\\theta=\\mu$ and $\\sigma=1$:\n",
    "\n",
    "$$ = (2^3+3.2.1) -2.(2^2+1) = 14-10 = 4$$\n",
    "\n",
    "Again, we calculate the variance of gradient estimate in equation (1)\n",
    "\n",
    "$$Var(\\widehat{\\nabla_\\theta J(\\theta)}) = var(\\frac{1}{N} \\sum_{i=1}^{N} (x_i-\\theta)  x^2_i)$$\n",
    "$$ = \\frac{1}{N^2} \\sum_{i=1}^{N} var(x_i^3-\\theta.x^2_i)$$\n",
    "$$ = \\frac{1}{N^2} \\sum_{i=1}^{N} E[(x_i^3-\\theta.x^2_i)^2] - (E[x_i^3-\\theta.x^2_i])^2 $$\n",
    "$$ = \\frac{1}{N^2} \\sum_{i=1}^{N} E[x_i^6+\\theta^2x_i^4-2.\\theta.x^3_ix^2_i] - (E[x_i^3-\\theta.x^2_i])^2 $$\n",
    "$$ = \\frac{1}{N} \\left[ {\\mu ^{6}+15\\mu ^{4}\\sigma ^{2}+45\\mu ^{2}\\sigma ^{4}+15\\sigma ^{6}}+\\theta^2 ({\\displaystyle \\mu ^{4}+6\\mu ^{2}\\sigma ^{2}+3\\sigma ^{4}})-2.\\theta({\\displaystyle \\mu ^{5}+10\\mu ^{3}\\sigma ^{2}+15\\mu \\sigma ^{4}}) - ({\\displaystyle \\mu ^{3}+3\\mu \\sigma ^{2}}-\\theta.({\\displaystyle \\mu ^{2}+\\sigma ^{2}}))^2 \\right]$$\n",
    "\n",
    "Putting $\\theta=\\mu=2, \\;\\; \\text{and} \\;\\; \\sigma=1$:\n",
    "\n",
    "\n",
    "$$Var(\\widehat{\\nabla_\\theta J(\\theta)}) = \\frac{1}{N}[2^6+15.2^4+45.2^2+15+4(2^4+6.2^2+3)-4(2^5+10.2^3+15.2)-(2^3+3.2-2(2^2+1))^2]$$\n",
    "\n",
    "$$Var(\\widehat{\\nabla_\\theta J(\\theta)}) = \\frac{1}{N}[64+240+180+15+4(16+6.4+3)-4(32+10.8+15.2)-(8+3.2-2(4+1))^2]$$\n",
    "\n",
    "$$Var(\\widehat{\\nabla_\\theta J(\\theta)}) = \\frac{1}{N}[64+240+180+15+4(16+6.4+3)-4(32+10.8+15.2)-(8+3.2-2(4+1))^2]$$\n",
    "\n",
    "$$Var(\\widehat{\\nabla_\\theta J(\\theta)}) = \\frac{87}{N}$$\n",
    "\n",
    "\n",
    "### Mean and Variance of Gradient Estimator in Equation (2):  mean=4; variance=4/N\n",
    "\n",
    "$$E[\\widehat{\\nabla_\\theta J(\\theta)}] = E[\\frac{1}{N} \\sum_{i=1}^{N} 2(\\theta+\\epsilon_i)]$$\n",
    "$$= \\frac{1}{N} \\sum_{i=1}^{N} 2E[(\\theta+\\epsilon_i)]$$\n",
    "$$= \\frac{1}{N} \\sum_{i=1}^{N} 2.\\theta$$\n",
    "$$ E[\\widehat{\\nabla_\\theta J(\\theta)}] = 2.\\theta = 4$$\n",
    "\n",
    "Let us calculate the variance\n",
    "\n",
    "$$Var(\\widehat{\\nabla_\\theta J(\\theta)}) = Var(\\frac{1}{N} \\sum_{i=1}^{N} 2(\\theta+\\epsilon_i))$$\n",
    "$$ = \\frac{1}{N^2} \\sum_{i=1}^{N} Var(2(\\theta+\\epsilon_i))$$\n",
    "$$ = \\frac{1}{N^2} \\sum_{i=1}^{N} Var(2\\epsilon_i)$$\n",
    "$$ = \\frac{1}{N^2} \\sum_{i=1}^{N} 4.Var(\\epsilon_i)$$\n",
    "$$ = \\frac{1}{N^2} \\sum_{i=1}^{N} 4.1$$\n",
    "$$ Var(\\widehat{\\nabla_\\theta J(\\theta)})= \\frac{4}{N}$$\n",
    "\n",
    "### Conclusion from Analytical Solution\n",
    "\n",
    "We can see analytically that Estimate of Gradient in equation (1) and (2) both is equal to **mean=4**. However, Variance in method/equation 1 is $\\frac{87}{N}$ vs that in method 2 being $\\frac{87}{N}$:\n",
    "\n",
    "$$mean_1 = mean_2 = 4$$\n",
    "$$\\frac{var_1}{var_2} = \\frac{87}{4} = 21.75$$\n",
    "\n",
    "We see that REINFORCE/SCORE approach has a higher variance, almost by one order of magnitude higher.\n"
   ]
  },
  {
   "cell_type": "markdown",
   "metadata": {},
   "source": [
    "### Running the Experiment"
   ]
  },
  {
   "cell_type": "code",
   "execution_count": 1,
   "metadata": {},
   "outputs": [
    {
     "name": "stdout",
     "output_type": "stream",
     "text": [
      "[4.008513  3.9837909 3.9972649 4.0006776 3.9994502]\n",
      "[3.9986959 3.999479  4.0004582 3.9999344 4.0000186]\n",
      "[9.003560e+00 8.494680e-01 8.742704e-02 8.678474e-03 8.554653e-04]\n",
      "[4.1074410e-01 3.9180346e-02 4.0255673e-03 4.0744917e-04 4.0299241e-05]\n"
     ]
    }
   ],
   "source": [
    "import numpy as np\n",
    "Ns = [10,100,1000,10000,100000]\n",
    "runs=10000\n",
    "\n",
    "theta = 2.0\n",
    "\n",
    "grad_reinforce = lambda x: np.sum((x-theta) * np.square(x)) / x.size\n",
    "grad_reparam = lambda eps: np.sum(2 * (theta+eps)) / eps.size\n",
    "\n",
    "mean_reinforce = np.zeros_like(Ns, dtype=np.float32)\n",
    "var_reinforce = np.zeros_like(Ns, dtype=np.float32)\n",
    "\n",
    "mean_reparam = np.zeros_like(Ns, dtype=np.float32)\n",
    "var_reparam = np.zeros_like(Ns, dtype=np.float32)\n",
    "\n",
    "runs_reinforce = np.zeros(runs)\n",
    "runs_reparam = np.zeros(runs)\n",
    "for i,N in enumerate(Ns):\n",
    "    for r in range(runs):\n",
    "        x = np.random.default_rng().normal(theta, 1, N)\n",
    "        runs_reinforce[r] = grad_reinforce(x)\n",
    "        eps = np.random.default_rng().normal(0, 1, N)\n",
    "        runs_reparam[r] = grad_reparam(eps)\n",
    "    \n",
    "    mean_reinforce[i] = np.mean(runs_reinforce)\n",
    "    var_reinforce[i] = np.var(runs_reinforce)\n",
    "    \n",
    "    mean_reparam[i] = np.mean(runs_reparam)\n",
    "    var_reparam[i] = np.var(runs_reparam)\n",
    "    \n",
    "print (mean_reinforce)\n",
    "print (mean_reparam)\n",
    "print\n",
    "print (var_reinforce)\n",
    "print (var_reparam)\n"
   ]
  },
  {
   "cell_type": "code",
   "execution_count": 2,
   "metadata": {},
   "outputs": [
    {
     "name": "stdout",
     "output_type": "stream",
     "text": [
      "mean_reinforce:\n",
      " [4.008513  3.9837909 3.9972649 4.0006776 3.9994502]\n",
      "\n",
      "mean_reparam:\n",
      " [3.9986959 3.999479  4.0004582 3.9999344 4.0000186]\n",
      "\n",
      "ratio of means:\n",
      " [1.0024551 0.9960774 0.9992018 1.0001858 0.9998579]\n",
      "\n",
      "\n",
      "var_reinforce\n",
      " [9.003560e+00 8.494680e-01 8.742704e-02 8.678474e-03 8.554653e-04]\n",
      "\n",
      "var_reparam\n",
      " [4.1074410e-01 3.9180346e-02 4.0255673e-03 4.0744917e-04 4.0299241e-05]\n",
      "\n",
      "ratio of variances:\n",
      " [21.92012  21.680973 21.717943 21.299526 21.227827]\n"
     ]
    }
   ],
   "source": [
    "print ('mean_reinforce:\\n', mean_reinforce)\n",
    "print ('\\nmean_reparam:\\n', mean_reparam)\n",
    "print ('\\nratio of means:\\n', mean_reinforce/mean_reparam)\n",
    "print ()\n",
    "print ()\n",
    "print ('var_reinforce\\n',var_reinforce)\n",
    "print ('\\nvar_reparam\\n',var_reparam)\n",
    "print ('\\nratio of variances:\\n',var_reinforce/var_reparam)\n"
   ]
  },
  {
   "cell_type": "code",
   "execution_count": 3,
   "metadata": {},
   "outputs": [
    {
     "data": {
      "image/png": "[encoded data removed]",
      "text/plain": [
       "<Figure size 432x288 with 1 Axes>"
      ]
     },
     "metadata": {
      "needs_background": "light"
     },
     "output_type": "display_data"
    }
   ],
   "source": [
    "%matplotlib inline\n",
    "import matplotlib.pyplot as plt\n",
    "\n",
    "fig = plt.figure()\n",
    "ax = plt.subplot(111)\n",
    "\n",
    "ax.plot(mean_reinforce, label='Reinforce')\n",
    "ax.plot(mean_reparam, label='Reparam')\n",
    "\n",
    "plt.title('Gradient Est(mean)')\n",
    "ax.legend()\n",
    "plt.show()"
   ]
  },
  {
   "cell_type": "code",
   "execution_count": 4,
   "metadata": {},
   "outputs": [
    {
     "data": {
      "image/png": "[encoded data removed]",
      "text/plain": [
       "<Figure size 432x288 with 1 Axes>"
      ]
     },
     "metadata": {
      "needs_background": "light"
     },
     "output_type": "display_data"
    }
   ],
   "source": [
    "%matplotlib inline\n",
    "import matplotlib.pyplot as plt\n",
    "\n",
    "fig = plt.figure()\n",
    "ax = plt.subplot(111)\n",
    "\n",
    "ax.plot(var_reinforce, label='Reinforce')\n",
    "ax.plot(var_reparam, label='Reparam')\n",
    "\n",
    "plt.title('Gradient Est(variance)')\n",
    "ax.legend()\n",
    "plt.show()"
   ]
  }
 ],
 "metadata": {
  "kernelspec": {
   "display_name": "Python 3",
   "language": "python",
   "name": "python3"
  },
  "language_info": {
   "codemirror_mode": {
    "name": "ipython",
    "version": 3
   },
   "file_extension": ".py",
   "mimetype": "text/x-python",
   "name": "python",
   "nbconvert_exporter": "python",
   "pygments_lexer": "ipython3",
   "version": "3.8.3"
  }
 },
 "nbformat": 4,
 "nbformat_minor": 4
}
