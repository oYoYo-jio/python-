{
 "cells": [
  {
   "cell_type": "markdown",
   "metadata": {},
   "source": [
    "# Exploration vs Exploitation\n",
    "\n",
    "In this notebook we will look at the exploration vs exploitation dilemma. We will consider a simpler environment known as **Mulit Arm Bandit**.\n",
    "\n",
    "We will implement three variations of exploration strategy and compare their relative performance. \n",
    "\n",
    "Our Bandit has $K$ actions. Each action has a probability of success $\\theta_k$ which is known to us. When you pull the kth arm, it produces a reward $r$ of 1 with probability $\\theta_k$ and reward $r$ of 0 with probability $1-\\theta_k$.\n",
    "\n",
    "Let the optimal action be defined as the one which has maximum probability of success i.e. $\\theta_k$.\n",
    "\n",
    "$\\theta^* = \\max_k\\{\\theta_k\\}$\n",
    "\n",
    "The regret at a time step t is defined as $\\theta^* - r_t$\n",
    "\n",
    "The total regret for a fixed time horizon T is defined as:\n",
    "$$\\rho = T . \\theta^* - \\sum_{t=1}^T r_t$$\n",
    "\n",
    "We will use three different exploration strategies and see how total regret grows as a function of T."
   ]
  },
  {
   "cell_type": "code",
   "execution_count": 1,
   "metadata": {},
   "outputs": [],
   "source": [
    "import numpy as np\n",
    "from matplotlib import pyplot as plt\n",
    "%matplotlib inline"
   ]
  },
  {
   "cell_type": "markdown",
   "metadata": {},
   "source": [
    "### Bandit Environment\n",
    "`Bandit` implements the environment. We are using non contextual multi arm bandit. In other words the environment has no state, we take an action and observe the reward and the episode terminates. In next time step, we choose another action as per our exploration strategy to get another reward followed by episode termination. This cycle goes on for T time steps. "
   ]
  },
  {
   "cell_type": "code",
   "execution_count": 2,
   "metadata": {},
   "outputs": [],
   "source": [
    "class Bandit:\n",
    "    def __init__(self, n_actions=5):\n",
    "        self._probs = np.random.random(n_actions)\n",
    "        self.n_actions = n_actions\n",
    "\n",
    "    def pull(self, action):\n",
    "        if np.random.random() > self._probs[action]:\n",
    "            return 0.0\n",
    "        return 1.0\n",
    "\n",
    "    def optimal_reward(self):\n",
    "        return np.max(self._probs)"
   ]
  },
  {
   "cell_type": "markdown",
   "metadata": {},
   "source": [
    "### Random Sampling Agent\n",
    "\n",
    "In this the agent randomly chooses an action from available actions and records the regret. There is no exploitation. Only random exploration. We know that it will behave very badly."
   ]
  },
  {
   "cell_type": "code",
   "execution_count": 3,
   "metadata": {},
   "outputs": [],
   "source": [
    "class RandomAgent:\n",
    "    def __init__(self, n_actions=5):\n",
    "        self.success_cnt = np.zeros(n_actions)\n",
    "        self.failure_cnt = np.zeros(n_actions)\n",
    "        self.total_pulls = 0\n",
    "        self.n_actions = n_actions\n",
    "        \n",
    "    def reset(self):\n",
    "        self.success_cnt = np.zeros(n_actions)\n",
    "        self.failure_cnt = np.zeros(n_actions)\n",
    "        self.total_pulls = 0        \n",
    "        \n",
    "    def get_action(self):\n",
    "        return np.random.randint(0, self.n_actions)\n",
    "    \n",
    "    def update(self, action, reward):\n",
    "        self.total_pulls += 1\n",
    "        self.success_cnt[action] += reward\n",
    "        self.failure_cnt[action] += 1 - reward"
   ]
  },
  {
   "cell_type": "markdown",
   "metadata": {},
   "source": [
    "### Epsilon Greedy Sampling Agent\n",
    "\n",
    "This is similar to the $\\epsilon$-greedy strategy we have seen in all previous chapters. The agent tries different actions and forms an estimate $\\{\\hat{\\theta}_k\\}$ of the unknown actual success probabilities $\\{\\theta_k\\}$ of `Bandit` environment. It takes the action with  $\\hat{\\theta}^* = \\max_k\\{\\hat{\\theta}_k\\}$ with $1-\\epsilon$ probability(exploit) and takes a random action with probability $\\epsilon$ (explore)."
   ]
  },
  {
   "cell_type": "code",
   "execution_count": 4,
   "metadata": {},
   "outputs": [],
   "source": [
    "class EGreedyAgent(RandomAgent):\n",
    "    def __init__(self, n_actions=5, epsilon=0.01):\n",
    "        super().__init__(n_actions)\n",
    "        self.epsilon = epsilon\n",
    "    \n",
    "    def get_action(self):\n",
    "        estimates = self.success_cnt / (self.success_cnt+self.failure_cnt+1e-12)\n",
    "        if np.random.random() < self.epsilon:\n",
    "            return np.random.randint(0, self.n_actions)\n",
    "        else:\n",
    "            return np.argmax(estimates)"
   ]
  },
  {
   "cell_type": "markdown",
   "metadata": {},
   "source": [
    "### UCB1 Sampling Agent\n",
    "The agent tries different actions and records the number of successes ($\\alpha_k$) and failures ($\\beta_k$). \n",
    "\n",
    "It calculates the estimates of success probabilities:\n",
    "$$exploit = \\hat{\\theta}_k = \\frac{\\alpha_k}{\\alpha_k + \\beta_k}$$ \n",
    "\n",
    "It also calculates the exploration which favors the less visited actions more:\n",
    "$$explore = \\sqrt{\\frac{2.\\log{t}}{\\alpha_k + \\beta_k}} $$\n",
    "\n",
    "The agent then picks the action with maximum of explore + exploit score: \n",
    "$$score = \\frac{\\alpha_k}{\\alpha_k + \\beta_k} + \\eta\\sqrt{\\frac{2.\\log{t}}{\\alpha_k + \\beta_k}} $$ \n",
    "where $\\eta$ controls the relative importance of explore vs exploit. We will use $\\eta=1$ in our code."
   ]
  },
  {
   "cell_type": "code",
   "execution_count": 5,
   "metadata": {},
   "outputs": [],
   "source": [
    "class UCBAgent(RandomAgent):\n",
    "    def get_action(self):\n",
    "        exploit = self.success_cnt / (self.success_cnt+self.failure_cnt+1e-12)\n",
    "        explore = np.sqrt(2*np.log(np.maximum(self.total_pulls,1))/(self.success_cnt+self.failure_cnt+1e-12))\n",
    "        estimates =  exploit + explore\n",
    "        return np.argmax(estimates)        "
   ]
  },
  {
   "cell_type": "markdown",
   "metadata": {},
   "source": [
    "### Thompson Sampling Agent\n",
    "\n",
    "This is based on Bayesian Approach. We start with an agent which has uniform probability (prior) which is reflected with a prior beta distribution of $Beta(\\alpha=1, \\beta=1)$. The agent then samples the actions using this distribution. And then it picks the action with maximum $\\hat{\\theta}_k$\n",
    "\n",
    "As the success and failure counts are updated in each step, the agent updates it belief of the $\\hat{\\theta}_k$:\n",
    "\n",
    "$\\hat{\\theta}_k \\sim Beta(\\alpha=\\alpha_k+1, \\beta=\\beta_k+1)$ \n",
    "\n",
    "It uses the updated $Beta$ distribution to sample and pick the action with maximum $\\hat{\\theta}_k$. And the cycle goes on\n",
    "\n",
    "It is basically picking up actions based on the samples of the belief of which action has the what chance of being best."
   ]
  },
  {
   "cell_type": "code",
   "execution_count": 6,
   "metadata": {},
   "outputs": [],
   "source": [
    "class ThompsonAgent(RandomAgent):\n",
    "    def get_action(self):\n",
    "        estimates = np.random.beta(self.success_cnt+1, self.failure_cnt+1)\n",
    "        return np.argmax(estimates)"
   ]
  },
  {
   "cell_type": "markdown",
   "metadata": {},
   "source": [
    "### Playout\n",
    "`get_regret` calculates the total regret for a given agent and an environment with fixed $\\theta_k$'s"
   ]
  },
  {
   "cell_type": "code",
   "execution_count": 7,
   "metadata": {},
   "outputs": [],
   "source": [
    "def get_regret(env, agent, n_steps=10000, n_trials=10):\n",
    "    score = np.zeros(n_steps)\n",
    "    optimal_r = env.optimal_reward()\n",
    "\n",
    "    for trial in range(n_trials):\n",
    "        agent.reset()\n",
    "        for t in range(n_steps):\n",
    "            action = agent.get_action()\n",
    "            reward = env.pull(action)\n",
    "            agent.update(action, reward)\n",
    "            score[t] += optimal_r - reward\n",
    "    score = score / n_trials\n",
    "    score = np.cumsum(score)\n",
    "    return score"
   ]
  },
  {
   "cell_type": "markdown",
   "metadata": {},
   "source": [
    "### Plot\n",
    "We plot the total regret curve for all the three exploration strategies"
   ]
  },
  {
   "cell_type": "code",
   "execution_count": 8,
   "metadata": {},
   "outputs": [],
   "source": [
    "def plot_regret(agents, scores):\n",
    "    for k,v in agents.items():\n",
    "        plt.plot(scores[k])\n",
    "    plt.legend([k for k,v in agents.items()])\n",
    "    plt.ylabel(\"regret\")\n",
    "    plt.xlabel(\"steps\")\n",
    "    plt.show()"
   ]
  },
  {
   "cell_type": "markdown",
   "metadata": {},
   "source": [
    "### Everything put together"
   ]
  },
  {
   "cell_type": "code",
   "execution_count": 9,
   "metadata": {},
   "outputs": [
    {
     "data": {
      "image/png": "[encoded data removed]",
      "text/plain": [
       "<Figure size 432x288 with 1 Axes>"
      ]
     },
     "metadata": {
      "needs_background": "light"
     },
     "output_type": "display_data"
    }
   ],
   "source": [
    "n_actions = 5\n",
    "epsilon = 0.01\n",
    "\n",
    "agents = {\n",
    "    #\"Random\" : RandomAgent(n_actions), \n",
    "    \"EpsilonGreedy(eps=0.01)\" : EGreedyAgent(n_actions, epsilon),\n",
    "    \"UCB\": UCBAgent(n_actions),\n",
    "    \"Thompson\": ThompsonAgent(n_actions) }\n",
    "\n",
    "env = Bandit(n_actions)\n",
    "scores = {}\n",
    "\n",
    "for name, agent in agents.items():\n",
    "    score = get_regret(env, agent)\n",
    "    scores[name] = score\n",
    "\n",
    "plot_regret(agents, scores)"
   ]
  }
 ],
 "metadata": {
  "kernelspec": {
   "display_name": "Python 3",
   "language": "python",
   "name": "python3"
  },
  "language_info": {
   "codemirror_mode": {
    "name": "ipython",
    "version": 3
   },
   "file_extension": ".py",
   "mimetype": "text/x-python",
   "name": "python",
   "nbconvert_exporter": "python",
   "pygments_lexer": "ipython3",
   "version": "3.8.3"
  }
 },
 "nbformat": 4,
 "nbformat_minor": 4
}
