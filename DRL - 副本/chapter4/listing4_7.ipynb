{
 "cells": [
  {
   "cell_type": "markdown",
   "metadata": {},
   "source": [
    "# Q Learning (Off Policy) on continuous state environment\n",
    "\n",
    "We will be using **TD control method of Q Learning** on Cart Pole environment. A pole is attached to a cart which moves on a frictionless surface. The pole starts upright at the start of episode. The goal is to prevent the pole from falling by increasing or decreasing the velocity of the cart. Cart’s x-position can vary from -4.8 to 4.8. The velocity of cart ranges from -Inf to +Inf. Pole angle has to be between -24 degrees to +24 degrees and pole’s angular velocity ranges form -Inf to +Inf. The state space thus is a continuous one of four observations (Cart position, Car velocity, Pole angle, pole angular velocity). The agent has two actions – push cart to left or push cart to right i.e. two discrete actions. Reward is +1 at every time step and agent wants to maximize reward by keep pole balanced for longest time interval. The episode terminates once pole angle is more than 12 degrees in either direction or the cart position is beyond 2.4 from center i.e. either < -2.4 or > 2.4 or the agent is able to balance the pole for 200 time steps.   \n",
    "\n"
   ]
  },
  {
   "cell_type": "markdown",
   "metadata": {},
   "source": [
    "### Q Learning Update equation (remains same)\n",
    "\n",
    "Q Learning control is carried by sampling step by step and updating Q values at each step. We use ε-greedy policy to explore and generate samples. However, the policy learnt is a deterministic greedy policy with no exploration. The Update equation is given below:\n",
    "\n",
    "$$ \n",
    "\\DeclareMathOperator*{\\max}{max} Q(S,A) \\leftarrow Q(S,A) + \\alpha * [ R + \\gamma * \\max_{A'} Q(S’,A’) – Q(S,A)] $$\n",
    "\n",
    "\n",
    "To reiterate, if we use experience replay, we store the samples `(s, a, r, s', done)` in a buffer. The samples are generated using an exploratory behavior policy while we improve a deterministic target policy using Q-values. Therefore, we can always use older samples from behavior policy and apply them again and again. We can keep the buffer size fixed to some pre-determined size and keep deleting the older samples as we collect new ones. The process makes learning sample efficient by reusing a sample multiple times. Rest of the approach remains same. \n",
    "\n",
    "Initial code cells are a copy of `listing4_6` which cover the implementation of QAgent, Replay buffer and training algorithm. We then will look into the range of values that each of state dimension can have and look at an approach to apply the QLearning agent to this continuous environment."
   ]
  },
  {
   "cell_type": "code",
   "execution_count": 1,
   "metadata": {},
   "outputs": [],
   "source": [
    "# Initial imports and enviroment setup\n",
    "import sys\n",
    "import gym\n",
    "import numpy as np\n",
    "import seaborn as sns\n",
    "import matplotlib.pyplot as plt\n",
    "%matplotlib inline"
   ]
  },
  {
   "cell_type": "code",
   "execution_count": 2,
   "metadata": {},
   "outputs": [
    {
     "name": "stdout",
     "output_type": "stream",
     "text": [
      "Cart Pole Environment\n"
     ]
    },
    {
     "data": {
      "text/plain": [
       "<matplotlib.image.AxesImage at 0x1777b15cb80>"
      ]
     },
     "execution_count": 2,
     "metadata": {},
     "output_type": "execute_result"
    },
    {
     "data": {
      "image/png": "[encoded data removed]",
      "text/plain": [
       "<Figure size 432x288 with 1 Axes>"
      ]
     },
     "metadata": {
      "needs_background": "light"
     },
     "output_type": "display_data"
    }
   ],
   "source": [
    "env = gym.make('CartPole-v0')\n",
    "env.reset()\n",
    "print(\"Cart Pole Environment\")\n",
    "plt.imshow(env.render('rgb_array'))"
   ]
  },
  {
   "cell_type": "code",
   "execution_count": 3,
   "metadata": {},
   "outputs": [],
   "source": [
    "# Q Learning Learning agent class\n",
    "from collections import defaultdict\n",
    "\n",
    "\n",
    "class QLearningAgent:\n",
    "    def __init__(self, alpha, epsilon, gamma, get_possible_actions):\n",
    "        self.get_possible_actions = get_possible_actions\n",
    "        self.alpha = alpha\n",
    "        self.epsilon = epsilon\n",
    "        self.gamma = gamma\n",
    "        self._Q = defaultdict(lambda: defaultdict(lambda: 0))\n",
    "\n",
    "    def get_Q(self, state, action):\n",
    "        return self._Q[state][action]\n",
    "\n",
    "    def set_Q(self, state, action, value):\n",
    "        self._Q[state][action] = value\n",
    "\n",
    "    def update(self, state, action, reward, next_state, done):\n",
    "        if not done:\n",
    "            best_next_action = self.max_action(next_state)\n",
    "            td_error = reward + self.gamma * \\\n",
    "                       self.get_Q(next_state, best_next_action) - \\\n",
    "                       self.get_Q(state, action)\n",
    "        else:\n",
    "            td_error = reward - self.get_Q(state, action)\n",
    "\n",
    "        new_value = self.get_Q(state, action) + self.alpha * td_error\n",
    "        self.set_Q(state, action, new_value)\n",
    "\n",
    "    def max_action(self, state):\n",
    "        actions = self.get_possible_actions(state)\n",
    "        best_action = []\n",
    "        best_q_value = float(\"-inf\")\n",
    "\n",
    "        for action in actions:\n",
    "            q_s_a = self.get_Q(state, action)\n",
    "            if q_s_a > best_q_value:\n",
    "                best_action = [action]\n",
    "                best_q_value = q_s_a\n",
    "            elif q_s_a == best_q_value:\n",
    "                best_action.append(action)\n",
    "        return np.random.choice(np.array(best_action))\n",
    "\n",
    "    def get_action(self, state):\n",
    "        actions = self.get_possible_actions(state)\n",
    "\n",
    "        if len(actions) == 0:\n",
    "            return None\n",
    "\n",
    "        if np.random.random() < self.epsilon:\n",
    "            a = np.random.choice(actions)\n",
    "            return a\n",
    "        else:\n",
    "            a = self.max_action(state)\n",
    "            return a"
   ]
  },
  {
   "cell_type": "markdown",
   "metadata": {},
   "source": [
    "#### Replay Buffer"
   ]
  },
  {
   "cell_type": "code",
   "execution_count": 4,
   "metadata": {},
   "outputs": [],
   "source": [
    "class ReplayBuffer:\n",
    "    def __init__(self, size):\n",
    "        self.size = size  # max number of items in buffer\n",
    "        self.buffer = []   # array to holde buffer\n",
    "\n",
    "    def __len__(self):\n",
    "        return len(self.buffer)\n",
    "\n",
    "    def add(self, state, action, reward, next_state, done):\n",
    "        item = (state, action, reward, next_state, done)\n",
    "        self.buffer = self.buffer[-self.size:] + [item]\n",
    "\n",
    "    def sample(self, batch_size):\n",
    "        idxs = np.random.choice(len(self.buffer), batch_size)\n",
    "        samples = [self.buffer[i] for i in idxs]\n",
    "        states, actions, rewards, next_states, done_flags = \\\n",
    "            list(zip(*samples))\n",
    "        return states, actions, rewards, next_states, done_flags"
   ]
  },
  {
   "cell_type": "code",
   "execution_count": 5,
   "metadata": {},
   "outputs": [],
   "source": [
    "# training algorithm with reply buffer\n",
    "def train_agent(env, agent, episode_cnt=10000, tmax=10000,\n",
    "                anneal_eps=True, replay_buffer=None, batch_size=16):\n",
    "    episode_rewards = []\n",
    "    for i in range(episode_cnt):\n",
    "        G = 0\n",
    "        state = env.reset()\n",
    "        for t in range(tmax):\n",
    "            action = agent.get_action(state)\n",
    "            next_state, reward, done, _ = env.step(action)\n",
    "            if replay_buffer:\n",
    "                replay_buffer.add(state, action, reward, next_state, done)\n",
    "                states, actions, rewards, next_states, done_flags = \\\n",
    "                        replay_buffer(batch_size)\n",
    "                for i in range(batch_size):\n",
    "                    agent.update(states[i], actions[i], rewards[i],\n",
    "                                 next_states[i], done_flags[i])\n",
    "            else:\n",
    "                agent.update(state, action, reward, next_state, done)\n",
    "\n",
    "            G += reward\n",
    "            if done:\n",
    "                episode_rewards.append(G)\n",
    "                # to reduce the exploration probability epsilon over the\n",
    "                # training period.\n",
    "                if anneal_eps:\n",
    "                    agent.epsilon = agent.epsilon * 0.99\n",
    "                break\n",
    "            state = next_state\n",
    "    return np.array(episode_rewards)"
   ]
  },
  {
   "cell_type": "code",
   "execution_count": 6,
   "metadata": {},
   "outputs": [],
   "source": [
    "# plot rewards\n",
    "def plot_rewards(env_name, rewards, label):\n",
    "    plt.title(\"env={}, Mean reward = {:.1f}\".format(env_name,\n",
    "                                                    np.mean(rewards[-20:])))\n",
    "    plt.plot(rewards, label=label)\n",
    "    plt.grid()\n",
    "    plt.legend()\n",
    "    plt.ylim(0, 200)\n",
    "    plt.show()"
   ]
  },
  {
   "cell_type": "markdown",
   "metadata": {},
   "source": [
    "#### Making state discrete\n",
    "\n",
    "Cart Pole has 4 states:\n",
    "\n",
    "- x-position: between values -4.8 to 4.8\n",
    "- x-velocity: -$\\infty$ to $\\infty$ but we know it will not go significantly high or low\n",
    "- pole-angle: -24 to 24 degrees\n",
    "- pole angular velocity: -$\\infty$ to $\\infty$ but again it may not go too high from origin.\n",
    "\n",
    "We can experiment and discretize each of the 4 values with some granularity. The values I am suggesting below are based on the various trial and error that was carried out to converge on some reasonable range. However, a more thorough approach would be to plot the 4 state values across multiple samples and see the distribution to arrive at a better approach to making values discrete.\n",
    "\n",
    "\n"
   ]
  },
  {
   "cell_type": "code",
   "execution_count": 7,
   "metadata": {},
   "outputs": [],
   "source": [
    "# We will use ObservationWrapper class from gym to wrap our environment.\n",
    "# We need to implement observation() method which will receive the\n",
    "# original state values from underlying environment\n",
    "# In observation() we will discretize the state values\n",
    "# which then will be passed to outside world by env\n",
    "# the agent will use these discrete state values\n",
    "# to learn an effective policy using q-learning\n",
    "from gym.core import ObservationWrapper\n",
    "\n",
    "\n",
    "class Discretizer(ObservationWrapper):\n",
    "    def observation(self, state):\n",
    "        discrete_x_pos = round(state[0], 1)\n",
    "        discrete_x_vel = round(state[1], 1)\n",
    "        discrete_pole_angle = round(state[2], 1)\n",
    "        discrete_pole_ang_vel = round(state[3], 1)\n",
    "\n",
    "        return (discrete_x_pos, discrete_x_vel,\n",
    "                discrete_pole_angle, discrete_pole_ang_vel)"
   ]
  },
  {
   "cell_type": "code",
   "execution_count": 8,
   "metadata": {},
   "outputs": [
    {
     "data": {
      "image/png": "[encoded data removed]",
      "text/plain": [
       "<Figure size 432x288 with 1 Axes>"
      ]
     },
     "metadata": {
      "needs_background": "light"
     },
     "output_type": "display_data"
    }
   ],
   "source": [
    "# create Cart Pole environment\n",
    "# using .env will remove the time limit termination of 200 steps\n",
    "env = gym.make('CartPole-v0').env  \n",
    "\n",
    "# wrap our env with Discretizer\n",
    "env = Discretizer(env)\n",
    "\n",
    "# create a Q Learning agent\n",
    "agent = QLearningAgent(alpha=0.5, epsilon=0.20, gamma=0.99, \n",
    "                       get_possible_actions=lambda s : range(env.action_space.n))\n",
    "\n",
    "# train agent using replay buffer and get rewards for episodes\n",
    "rewards = train_agent(env, agent, episode_cnt = 50000)\n",
    "\n",
    "# plot rewards\n",
    "plot_rewards(\"Cart Pole World\",rewards, 'Q-Learning')"
   ]
  },
  {
   "cell_type": "code",
   "execution_count": 9,
   "metadata": {},
   "outputs": [],
   "source": [
    "env.close()"
   ]
  },
  {
   "cell_type": "markdown",
   "metadata": {},
   "source": [
    "### Conclusion\n",
    "\n",
    "Q agent with discretization of states is able to get rewards around 50 compared the maximum reward of 200. In Subsequent chapters, We will study other more powerful methods to obtain higher rewards."
   ]
  }
 ],
 "metadata": {
  "kernelspec": {
   "display_name": "Python 3",
   "language": "python",
   "name": "python3"
  },
  "language_info": {
   "codemirror_mode": {
    "name": "ipython",
    "version": 3
   },
   "file_extension": ".py",
   "mimetype": "text/x-python",
   "name": "python",
   "nbconvert_exporter": "python",
   "pygments_lexer": "ipython3",
   "version": "3.8.3"
  }
 },
 "nbformat": 4,
 "nbformat_minor": 4
}
