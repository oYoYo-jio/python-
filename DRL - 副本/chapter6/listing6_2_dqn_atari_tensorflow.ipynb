{
 "cells": [
  {
   "cell_type": "markdown",
   "metadata": {},
   "source": [
    "# DQN - Deep Q-Network  (TensorFlow) - Play Atari game.\n",
    "\n",
    "In this notebook, we will use DQN with **experience replay** and **target networks** from `listing6_1` to train the agent to play Atari game. Most of the implementation will be same as previous one except some pre-processing to make Atari game playing trainable with DQN. \n",
    "\n",
    "The deep learning approach combined with Q-Learinng and word `DQN` was coined in this paper. We have tried to broadly follow the steps of the paper in this notebook\n",
    "\n",
    "Paper: [Playing Atari with Deep Reinforcement Learning](https://arxiv.org/pdf/1312.5602.pdf)\n",
    "\n",
    "### Recap from last notebook\n",
    "\n",
    "$$ \n",
    "\\DeclareMathOperator*{\\max}{max}$$\n",
    "\n",
    "Q Learning control is carried out by sampling step by step and updating Q values at each step. We use ε-greedy policy to explore and generate samples. However, the policy learnt is a deterministic greedy policy with no exploration. We can carryout updates online i.e. we take a step and use `(current state, action, reward and next_state)` tuple to update. \n",
    "\n",
    "In case of function approximation using neural network, the input to the network is the state and output is the q(s,a) for all the actions in the state `s`. It is denoted as $ \\hat{q}(s_t,a; w_{t}) $, where $w_{t}$ is the weigths of the neural network which we are trying to learn as part of DQN learning. \n",
    "\n",
    "We use two networks, one target network to get the max q-value of next state denoted by $ \\max_a \\hat {q}(s_{t+1},a; w^{-}_{t}) $ and the primary network with weights $w_{t}$ which we are updated based on back propagation of the TD error through the network.\n",
    "\n",
    "The Update equation is given below. This is the online version:\n",
    "$$ w_{t+1} \\leftarrow w_t + \\alpha [ R_{t+1} + \\gamma . \\max_{a} \\hat{q}(S_{t+1},a,w^{-}_{t}) – \\hat{q}(S_t,A_t,w_t)] \\nabla \\hat{q}(S_t,A_t,w_t)$$\n",
    "\n",
    "Online update with neural network with millions of weights does not work well. Accordingly, We use experience replay (aka Replay Buffer).  We use a behavior policy to explore the environment and store the samples `(s, a, r, s', done)` in a buffer. The samples are generated using an exploratory behavior policy while we improve a deterministic target policy using q-values. \n",
    "\n",
    "Therefore, we can always use older samples from behavior policy and apply them again and again. We can keep the buffer size fixed to some pre-determined size and keep deleting the older samples as we collect new ones. This process makes learning sample efficient by reusing a sample multiple times and also removing temporal dependence of the samples we would otherwise see while following a trajectory.\n",
    "\n",
    "The update equation with batch update with minor modifications is given below. We collect samples of transitions (current state, action, reward, next state) in a buffer. Where each sample is denoted as a tuple: \n",
    "\n",
    "$$ (s_{i}, a_{i}, r_{i}, s^{'}_{i}, done_{i})$$\n",
    "\n",
    "Subscript (i) denotes ith sample. We take N samples from experience replay selecting randomly and update the weights. Subscript (t) denotes the index of weight updates. If the current state is done, as denoted by `done` flag, the target is just the reward as terminal states have zero value. The final update equation is as given below:\n",
    "\n",
    "$$w_{t+1} \\leftarrow w_t + \\alpha \\frac{1}{N} \\sum_{i=1}^{N} \\left[ r_i + \\left( (1-done_i) . \\gamma .  \\max_{a^{'}_{i}} \\hat{q}(s_{i}^{'},a_{i}^{'};w^{-}_{t}) \\right) – \\hat{q}(s_i,a_i;w_t) \\right] \\nabla \\hat{q}(s_i,a_i;w_t)$$\n",
    "\n"
   ]
  },
  {
   "cell_type": "code",
   "execution_count": 1,
   "metadata": {},
   "outputs": [],
   "source": [
    "import random\n",
    "import numpy as np\n",
    "import tensorflow as tf\n",
    "from tensorflow.keras.layers import Dense, Flatten\n",
    "from tensorflow.keras import Model\n",
    "import gym\n",
    "import numpy as np\n",
    "import matplotlib.pyplot as plt\n",
    "from scipy.signal import convolve, gaussian\n",
    "\n",
    "import os\n",
    "import io\n",
    "import base64\n",
    "import time\n",
    "import glob\n",
    "from IPython.display import HTML\n",
    "\n",
    "%matplotlib inline\n"
   ]
  },
  {
   "cell_type": "markdown",
   "metadata": {},
   "source": [
    "### Environment - Atari Breakout \n",
    "\n",
    "We can use the setup here to run on any environment which has state as a single vector and actions are discrete. We will build it on Atari Breakout.\n"
   ]
  },
  {
   "cell_type": "code",
   "execution_count": 2,
   "metadata": {},
   "outputs": [],
   "source": [
    "def make_env(env_name, seed=None):\n",
    "    # remove time limit wrapper from environment\n",
    "    env = gym.make(env_name).unwrapped\n",
    "    if seed is not None:\n",
    "        env.seed(seed)\n",
    "    return env"
   ]
  },
  {
   "cell_type": "code",
   "execution_count": 3,
   "metadata": {},
   "outputs": [
    {
     "data": {
      "image/png": "[encoded data removed]",
      "text/plain": [
       "<Figure size 1152x648 with 8 Axes>"
      ]
     },
     "metadata": {
      "needs_background": "light"
     },
     "output_type": "display_data"
    }
   ],
   "source": [
    "env_name = \"BreakoutNoFrameskip-v4\"\n",
    "\n",
    "env = make_env(env_name)\n",
    "env.reset()\n",
    "\n",
    "\n",
    "\n",
    "n_cols = 4\n",
    "n_rows = 2\n",
    "fig = plt.figure(figsize=(16, 9))\n",
    "\n",
    "for row in range(n_rows):\n",
    "    for col in range(n_cols):\n",
    "        ax = fig.add_subplot(n_rows, n_cols, row * n_cols + col + 1)\n",
    "        ax.imshow(env.render('rgb_array'))\n",
    "        env.step(env.action_space.sample())\n",
    "plt.show()"
   ]
  },
  {
   "cell_type": "markdown",
   "metadata": {},
   "source": [
    "#### We can play the game\n",
    "\n",
    "use `A` and `D` on keyboard to move the bat and `Space-bar` to start. use `Esc` to kill the game.\n",
    "\n",
    "**NOTE: Running the cell below may crash your kernel in Mac. If you face that problem, please comment the cell below or do not run it**."
   ]
  },
  {
   "cell_type": "code",
   "execution_count": 4,
   "metadata": {},
   "outputs": [
    {
     "name": "stdout",
     "output_type": "stream",
     "text": [
      "pygame 2.0.0 (SDL 2.0.12, python 3.8.5)\n",
      "Hello from the pygame community. https://www.pygame.org/contribute.html\n"
     ]
    }
   ],
   "source": [
    "from gym.utils.play import play\n",
    "\n",
    "play(env=gym.make(env_name), zoom=2, fps=30)"
   ]
  },
  {
   "cell_type": "markdown",
   "metadata": {},
   "source": [
    "### Pre processing\n",
    "\n",
    "Atari images are 210x160x3 pixels but we will scale it down and also convert to gray-scale to reduce the size and make the game learn faster from smaller image sizes. We will also stack 4 last frames as input observation. This is done to capture the motion of the ball and bat which would not be visible in a single frame of game. OpenAI Gym library has ObservationWrappers to provide all these pre-processing out of the box. We will also be clipping rewards with just the sign of rewards. This is following the approach outlined in original paper. Let us build our preprocessor below"
   ]
  },
  {
   "cell_type": "code",
   "execution_count": 5,
   "metadata": {},
   "outputs": [
    {
     "name": "stdout",
     "output_type": "stream",
     "text": [
      "(84, 84, 4)\n"
     ]
    }
   ],
   "source": [
    "from gym.wrappers import AtariPreprocessing\n",
    "from gym.wrappers import FrameStack\n",
    "from gym.wrappers import TransformReward\n",
    "from gym.core import ObservationWrapper\n",
    "\n",
    "# in tensorflow imgs have shape [h, w, c] instead of torch imgs with shape [c, h, w]\n",
    "\n",
    "class SwapChannelWrapper(gym.ObservationWrapper):\n",
    "    def __init__(self, env):\n",
    "        gym.ObservationWrapper.__init__(self, env)\n",
    "\n",
    "        self.img_size = [self.observation_space.shape[i]\n",
    "                         for i in [1, 2, 0]\n",
    "                         ]\n",
    "        self.observation_space = gym.spaces.Box(0.0, 1.0, self.img_size)\n",
    "\n",
    "    def observation(self, img):\n",
    "        \"\"\"what happens to each observation\"\"\"\n",
    "        img = img[:].transpose(1, 2, 0) #we also remove the lazywrapper to swap the axis\n",
    "        return img\n",
    "\n",
    "def make_env(env_name, clip_rewards=True, seed=None):\n",
    "    env = gym.make(env_name)\n",
    "    if seed is not None:\n",
    "        env.seed(seed)\n",
    "    env = AtariPreprocessing(env, screen_size=84, scale_obs=True)\n",
    "    env = FrameStack(env, num_stack=4)\n",
    "    if clip_rewards:\n",
    "        env = TransformReward(env, lambda r: np.sign(r))\n",
    "    env = SwapChannelWrapper(env)\n",
    "    return env\n",
    "\n",
    "env = make_env(env_name)\n",
    "env.reset()\n",
    "n_actions = env.action_space.n\n",
    "state_shape = env.observation_space.shape\n",
    "print(state_shape)"
   ]
  },
  {
   "cell_type": "code",
   "execution_count": 6,
   "metadata": {
    "scrolled": false
   },
   "outputs": [
    {
     "name": "stderr",
     "output_type": "stream",
     "text": [
      "Exception in Tkinter callback\n",
      "Traceback (most recent call last):\n",
      "  File \"C:\\Users\\nsang\\anaconda3\\envs\\apress-test\\lib\\tkinter\\__init__.py\", line 1883, in __call__\n",
      "    return self.func(*args)\n",
      "  File \"C:\\Users\\nsang\\anaconda3\\envs\\apress-test\\lib\\tkinter\\__init__.py\", line 804, in callit\n",
      "    func(*args)\n",
      "  File \"C:\\Users\\nsang\\anaconda3\\envs\\apress-test\\lib\\site-packages\\matplotlib\\backends\\_backend_tk.py\", line 253, in idle_draw\n",
      "    self.draw()\n",
      "  File \"C:\\Users\\nsang\\anaconda3\\envs\\apress-test\\lib\\site-packages\\matplotlib\\backends\\backend_tkagg.py\", line 9, in draw\n",
      "    super(FigureCanvasTkAgg, self).draw()\n",
      "  File \"C:\\Users\\nsang\\anaconda3\\envs\\apress-test\\lib\\site-packages\\matplotlib\\backends\\backend_agg.py\", line 407, in draw\n",
      "    self.figure.draw(self.renderer)\n",
      "  File \"C:\\Users\\nsang\\anaconda3\\envs\\apress-test\\lib\\site-packages\\matplotlib\\backend_bases.py\", line 1544, in _draw\n",
      "    def _draw(renderer): raise Done(renderer)\n",
      "matplotlib.backend_bases._get_renderer.<locals>.Done: <matplotlib.backends.backend_agg.RendererAgg object at 0x0000021463BA7580>\n",
      "Exception in Tkinter callback\n",
      "Traceback (most recent call last):\n",
      "  File \"C:\\Users\\nsang\\anaconda3\\envs\\apress-test\\lib\\tkinter\\__init__.py\", line 1883, in __call__\n",
      "    return self.func(*args)\n",
      "  File \"C:\\Users\\nsang\\anaconda3\\envs\\apress-test\\lib\\site-packages\\matplotlib\\backends\\_backend_tk.py\", line 242, in resize\n",
      "    self.draw()\n",
      "  File \"C:\\Users\\nsang\\anaconda3\\envs\\apress-test\\lib\\site-packages\\matplotlib\\backends\\backend_tkagg.py\", line 9, in draw\n",
      "    super(FigureCanvasTkAgg, self).draw()\n",
      "  File \"C:\\Users\\nsang\\anaconda3\\envs\\apress-test\\lib\\site-packages\\matplotlib\\backends\\backend_agg.py\", line 407, in draw\n",
      "    self.figure.draw(self.renderer)\n",
      "  File \"C:\\Users\\nsang\\anaconda3\\envs\\apress-test\\lib\\site-packages\\matplotlib\\backend_bases.py\", line 1544, in _draw\n",
      "    def _draw(renderer): raise Done(renderer)\n",
      "matplotlib.backend_bases._get_renderer.<locals>.Done: <matplotlib.backends.backend_agg.RendererAgg object at 0x0000021463E460D0>\n",
      "Exception in Tkinter callback\n",
      "Traceback (most recent call last):\n",
      "  File \"C:\\Users\\nsang\\anaconda3\\envs\\apress-test\\lib\\tkinter\\__init__.py\", line 1883, in __call__\n",
      "    return self.func(*args)\n",
      "  File \"C:\\Users\\nsang\\anaconda3\\envs\\apress-test\\lib\\tkinter\\__init__.py\", line 804, in callit\n",
      "    func(*args)\n",
      "  File \"C:\\Users\\nsang\\anaconda3\\envs\\apress-test\\lib\\site-packages\\matplotlib\\backends\\_backend_tk.py\", line 253, in idle_draw\n",
      "    self.draw()\n",
      "  File \"C:\\Users\\nsang\\anaconda3\\envs\\apress-test\\lib\\site-packages\\matplotlib\\backends\\backend_tkagg.py\", line 9, in draw\n",
      "    super(FigureCanvasTkAgg, self).draw()\n",
      "  File \"C:\\Users\\nsang\\anaconda3\\envs\\apress-test\\lib\\site-packages\\matplotlib\\backends\\backend_agg.py\", line 407, in draw\n",
      "    self.figure.draw(self.renderer)\n",
      "  File \"C:\\Users\\nsang\\anaconda3\\envs\\apress-test\\lib\\site-packages\\matplotlib\\backend_bases.py\", line 1544, in _draw\n",
      "    def _draw(renderer): raise Done(renderer)\n",
      "matplotlib.backend_bases._get_renderer.<locals>.Done: <matplotlib.backends.backend_agg.RendererAgg object at 0x0000021463E460D0>\n"
     ]
    },
    {
     "data": {
      "image/png": "[encoded data removed]",
      "text/plain": [
       "<Figure size 864x720 with 1 Axes>"
      ]
     },
     "metadata": {
      "needs_background": "light"
     },
     "output_type": "display_data"
    },
    {
     "data": {
      "image/png": "[encoded data removed]",
      "text/plain": [
       "<Figure size 1080x661 with 1 Axes>"
      ]
     },
     "metadata": {
      "needs_background": "light"
     },
     "output_type": "display_data"
    }
   ],
   "source": [
    "for _ in range(12):\n",
    "    obs, _, _, _ = env.step(env.action_space.sample())\n",
    "\n",
    "plt.figure(figsize=[12,10])\n",
    "plt.title(\"Game image\")\n",
    "plt.imshow(env.render(\"rgb_array\"))\n",
    "plt.show()\n",
    "\n",
    "obs = np.transpose(obs,[0,2,1]) #move axes\n",
    "obs = obs.reshape((obs.shape[0], -1))\n",
    "\n",
    "\n",
    "plt.figure(figsize=[15,15])\n",
    "plt.title(\"Agent observation (4 frames left to right)\")\n",
    "plt.imshow(obs, cmap='gray')\n",
    "plt.show()"
   ]
  },
  {
   "cell_type": "markdown",
   "metadata": {},
   "source": [
    "### Building a network using tensorflow"
   ]
  },
  {
   "cell_type": "markdown",
   "metadata": {},
   "source": [
    "Let us build a DQN agent using the architecture suggested in paper.\n",
    "\n",
    "    Observation:\n",
    "        tensorflow 84x84x4 tensorflow has channels in the last dimension\n",
    "        input: [batch_size, 84, 84, 4]\n",
    "        1st hidden layer: 16 8x8 filters with stride 4 and RelU activation\n",
    "        2nd hidden layer: 32 4x4 filters with stride of 2 and RelU activation\n",
    "        3nd hidden layer: Linear layer with 256 outputs and RelU activatrion\n",
    "        output layer: Linear with n_actions units with no activation\n",
    "\n",
    "To build this network, after 2 layers of convolution, we will flatten the layers. To connect this to Dense(Linear) layer, we can calculate the number of units entering dense layer. We do so using the formula for Conv2D output. **We needed this for PyTorch but TensorFlow computes this internally and we do not need to provide the same explicitly.**\n",
    "\n",
    "`out_dim = (in_dim - (kernel_size - 1) - 1) // stride  + 1`"
   ]
  },
  {
   "cell_type": "code",
   "execution_count": 7,
   "metadata": {},
   "outputs": [],
   "source": [
    "def conv2d_size_out(size, kernel_size, stride):\n",
    "    return (size - (kernel_size - 1) - 1) // stride  + 1\n"
   ]
  },
  {
   "cell_type": "code",
   "execution_count": 8,
   "metadata": {},
   "outputs": [
    {
     "name": "stdout",
     "output_type": "stream",
     "text": [
      "Conv1:  20\n",
      "Conv1:  9\n",
      "Input to Dense layer: 2592\n"
     ]
    }
   ],
   "source": [
    "# for the network above\n",
    "# 1st Conv layer output size\n",
    "conv1 = conv2d_size_out(84, 8, 4)\n",
    "print('Conv1: ', conv1)\n",
    "conv2 = conv2d_size_out(conv1, 4, 2)\n",
    "print('Conv1: ', conv2)\n",
    "\n",
    "#number of units entering dense layer would be\n",
    "print(\"Input to Dense layer:\", conv2*conv2*32) #32 is number of filters coming out in 2nd conv layer"
   ]
  },
  {
   "cell_type": "code",
   "execution_count": 9,
   "metadata": {},
   "outputs": [],
   "source": [
    "class DQNAgent:\n",
    "    def __init__(self, state_shape, n_actions, epsilon=0):\n",
    "\n",
    "        super().__init__()\n",
    "        self.epsilon = epsilon\n",
    "        self.n_actions = n_actions\n",
    "        self.state_shape = state_shape\n",
    "        \n",
    "        # a simple NN with state_dim as input vector (inout is state s)\n",
    "        # and self.n_actions as output vector of logits of q(s, a)\n",
    "        self.model = tf.keras.models.Sequential()\n",
    "        self.model.add(tf.keras.Input(shape=state_shape))\n",
    "        self.model.add(tf.keras.layers.Conv2D(16, kernel_size=8, strides=4, activation='relu'))\n",
    "        self.model.add(tf.keras.layers.Conv2D(32, kernel_size=4, strides=2, activation='relu'))\n",
    "        self.model.add(tf.keras.layers.Flatten())\n",
    "        self.model.add(tf.keras.layers.Dense(256, activation='relu'))\n",
    "        self.model.add(tf.keras.layers.Dense(n_actions))\n",
    "        \n",
    "    def __call__(self, state_t):\n",
    "        # pass the state at time t through the newrok to get Q(s,a)\n",
    "        qvalues = self.model(state_t)\n",
    "        return qvalues\n",
    "\n",
    "    def get_qvalues(self, states):\n",
    "        # input is an array of states in numpy and outout is Qvals as numpy array\n",
    "        qvalues = self.model(states)\n",
    "        return qvalues.numpy()\n",
    "\n",
    "    def sample_actions(self, qvalues):\n",
    "        # sample actions from a batch of q_values using epsilon greedy policy\n",
    "        epsilon = self.epsilon\n",
    "        batch_size, n_actions = qvalues.shape\n",
    "        random_actions = np.random.choice(n_actions, size=batch_size)\n",
    "        best_actions = qvalues.argmax(axis=-1)\n",
    "        should_explore = np.random.choice(\n",
    "            [0, 1], batch_size, p=[1-epsilon, epsilon])\n",
    "        return np.where(should_explore, random_actions, best_actions)"
   ]
  },
  {
   "cell_type": "code",
   "execution_count": 10,
   "metadata": {},
   "outputs": [],
   "source": [
    "agent = DQNAgent(state_shape, n_actions, epsilon=0.5)"
   ]
  },
  {
   "cell_type": "code",
   "execution_count": 11,
   "metadata": {},
   "outputs": [
    {
     "name": "stdout",
     "output_type": "stream",
     "text": [
      "Model: \"sequential\"\n",
      "_________________________________________________________________\n",
      "Layer (type)                 Output Shape              Param #   \n",
      "=================================================================\n",
      "conv2d (Conv2D)              (None, 20, 20, 16)        4112      \n",
      "_________________________________________________________________\n",
      "conv2d_1 (Conv2D)            (None, 9, 9, 32)          8224      \n",
      "_________________________________________________________________\n",
      "flatten (Flatten)            (None, 2592)              0         \n",
      "_________________________________________________________________\n",
      "dense (Dense)                (None, 256)               663808    \n",
      "_________________________________________________________________\n",
      "dense_1 (Dense)              (None, 4)                 1028      \n",
      "=================================================================\n",
      "Total params: 677,172\n",
      "Trainable params: 677,172\n",
      "Non-trainable params: 0\n",
      "_________________________________________________________________\n"
     ]
    }
   ],
   "source": [
    "agent.model.summary()"
   ]
  },
  {
   "cell_type": "code",
   "execution_count": 12,
   "metadata": {},
   "outputs": [],
   "source": [
    "def evaluate(env, agent, n_games=1, greedy=False, t_max=10000):\n",
    "    rewards = []\n",
    "    for _ in range(n_games):\n",
    "        s = env.reset()\n",
    "        reward = 0\n",
    "        for _ in range(t_max):\n",
    "            qvalues = agent.get_qvalues(np.array([s]))\n",
    "            action = qvalues.argmax(axis=-1)[0] if greedy else agent.sample_actions(qvalues)[0]\n",
    "            s, r, done, _ = env.step(action)\n",
    "            reward += r\n",
    "            if done:\n",
    "                break\n",
    "\n",
    "        rewards.append(reward)\n",
    "    return np.mean(rewards)"
   ]
  },
  {
   "cell_type": "code",
   "execution_count": 13,
   "metadata": {},
   "outputs": [
    {
     "data": {
      "text/plain": [
       "0.0"
      ]
     },
     "execution_count": 13,
     "metadata": {},
     "output_type": "execute_result"
    }
   ],
   "source": [
    "evaluate(env, agent, n_games=1)"
   ]
  },
  {
   "cell_type": "code",
   "execution_count": 14,
   "metadata": {},
   "outputs": [],
   "source": [
    "env.close()"
   ]
  },
  {
   "cell_type": "markdown",
   "metadata": {},
   "source": [
    "### Experience replay\n",
    "\n",
    "We will use the replay buffer we saw in chapter 4 listings. Replay buffer is very important in DQN to break the correlation between samples. We use a behavior policy ($\\epsilon-greedy$) to sample from the environment and store the transitions (s,a,r,s',done) into a buffer. These samples are used multiple times in a learning making the process sample efficient. \n",
    "\n",
    "The interface to ReplayBuffer is:\n",
    "* `exp_replay.add(state, action, reward, next_state, done)` - saves (s,a,r,s',done) tuple into the buffer\n",
    "* `exp_replay.sample(batch_size)` - returns states, actions, rewards, next_states and done_flags for `batch_size` random samples.\n",
    "* `len(exp_replay)` - returns number of elements stored in replay buffer.\n",
    "\n",
    "We have modified the implementation a bit to make it more efficient"
   ]
  },
  {
   "cell_type": "code",
   "execution_count": 15,
   "metadata": {},
   "outputs": [],
   "source": [
    "class ReplayBuffer:\n",
    "    def __init__(self, size):\n",
    "        self.size = size #max number of items in buffer\n",
    "        self.buffer =[] #array to holde buffer\n",
    "        self.next_id = 0\n",
    "    \n",
    "    def __len__(self):\n",
    "        return len(self.buffer)\n",
    "    \n",
    "    def add(self, state, action, reward, next_state, done):\n",
    "        item = (state, action, reward, next_state, done)\n",
    "        if len(self.buffer) < self.size:\n",
    "           self.buffer.append(item)\n",
    "        else:\n",
    "            self.buffer[self.next_id] = item\n",
    "        self.next_id = (self.next_id + 1) % self.size\n",
    "        \n",
    "    def sample(self, batch_size):\n",
    "        idxs = np.random.choice(len(self.buffer), batch_size)\n",
    "        samples = [self.buffer[i] for i in idxs]\n",
    "        states, actions, rewards, next_states, done_flags = list(zip(*samples))\n",
    "        return np.array(states), np.array(actions), np.array(rewards), np.array(next_states), np.array(done_flags)"
   ]
  },
  {
   "cell_type": "code",
   "execution_count": 16,
   "metadata": {},
   "outputs": [],
   "source": [
    "def play_and_record(start_state, agent, env, exp_replay, n_steps=1):\n",
    "\n",
    "    s = start_state\n",
    "    sum_rewards = 0\n",
    "\n",
    "    # Play the game for n_steps and record transitions in buffer\n",
    "    for _ in range(n_steps):\n",
    "        qvalues = agent.get_qvalues(np.array([s]))\n",
    "        a = agent.sample_actions(qvalues)[0]        \n",
    "        next_s, r, done, _ = env.step(a)\n",
    "        sum_rewards += r\n",
    "        exp_replay.add(s, a, r, next_s, done)\n",
    "        if done:\n",
    "            s = env.reset()\n",
    "        else:\n",
    "            s = next_s\n",
    "        \n",
    "    return sum_rewards, s"
   ]
  },
  {
   "cell_type": "markdown",
   "metadata": {},
   "source": [
    "### Target network\n"
   ]
  },
  {
   "cell_type": "code",
   "execution_count": 17,
   "metadata": {},
   "outputs": [],
   "source": [
    "target_network = DQNAgent(agent.state_shape, agent.n_actions, epsilon=0.5)\n",
    "target_network.model.set_weights(agent.model.get_weights())"
   ]
  },
  {
   "cell_type": "markdown",
   "metadata": {},
   "source": [
    "### Learning with... Q-learning\n",
    "Here we write a function similar to tabular q-learning. We will calculate average TD error per batch using the equation: \n",
    "\n",
    "$$ L =  \\frac{1}{N} \\sum_{i=1}^{N} \\left[ r_i + \\left( (1-done_i) . \\gamma .  \\max_{a^{'}} \\hat{q}(s_{i}^{'},a^{'};w^{-}_{t}) \\right) – \\hat{q}(s_i,a_i;w_t) \\right]^2$$\n",
    "\n",
    "\n",
    "$$ \\nabla_w L =   - \\frac{1}{N} \\sum_{i=1}^{N} \\left[ r_i + \\left( (1-done_i) . \\gamma .  \\max_{a^{'}} \\hat{q}(s_{i}^{'},a^{'};w^{-}_{t}) \\right) – \\hat{q}(s_i,a_i;w_t) \\right] \\nabla \\hat{q}(s_i,a_i;w_t)$$\n",
    "\n",
    "\n",
    "$\\hat{q}(s',A;w^{-})$ is calculated using target network whose weights are held constant and refreshed periodically from the agent learning network. \n",
    "\n",
    "Target is given by following:\n",
    "* non terminal state: $r_i +  \\gamma .  \\max_{a^{'}} \\hat{q}(s_{i}^{'},a^{'};w^{-}_{t})$\n",
    "* terminal state: $ r_i $\n",
    "\n",
    "We then carryout back propagation through the agent network to update the weights using equation below:\n",
    "\n",
    "\n",
    "$$ \n",
    "\\DeclareMathOperator*{\\max}{max} w_{t+1} \\leftarrow w_t - \\alpha \\nabla_{w}L$$"
   ]
  },
  {
   "cell_type": "code",
   "execution_count": 18,
   "metadata": {},
   "outputs": [],
   "source": [
    "def compute_td_loss(agent, target_network, states, actions, rewards, next_states, done_flags,\n",
    "                    gamma=0.99):\n",
    "\n",
    "    # get q-values for all actions in current states\n",
    "    # use agent network\n",
    "    predicted_qvalues = agent(states)\n",
    "\n",
    "    # compute q-values for all actions in next states\n",
    "    # use target network\n",
    "    predicted_next_qvalues = target_network(next_states)\n",
    "    \n",
    "    # select q-values for chosen actions\n",
    "    row_indices= tf.range(len(actions))\n",
    "    indices = tf.transpose([row_indices, actions])\n",
    "    predicted_qvalues_for_actions = tf.gather_nd(predicted_qvalues, indices)\n",
    "    \n",
    "\n",
    "    # compute Qmax(next_states, actions) using predicted next q-values\n",
    "    next_state_values = tf.reduce_max(predicted_next_qvalues, axis=1)\n",
    "\n",
    "    # compute \"target q-values\" \n",
    "    target_qvalues_for_actions = rewards + gamma * next_state_values * (1-done_flags)\n",
    "\n",
    "    # mean squared error loss to minimize\n",
    "    loss = tf.keras.losses.MSE(target_qvalues_for_actions, predicted_qvalues_for_actions)\n",
    "\n",
    "    return loss"
   ]
  },
  {
   "cell_type": "markdown",
   "metadata": {},
   "source": [
    "### Main loop\n",
    "\n",
    "We now carryout the training on DQN setup above."
   ]
  },
  {
   "cell_type": "code",
   "execution_count": 19,
   "metadata": {},
   "outputs": [],
   "source": [
    "from tqdm import trange\n",
    "from IPython.display import clear_output\n",
    "import matplotlib.pyplot as plt"
   ]
  },
  {
   "cell_type": "code",
   "execution_count": 20,
   "metadata": {},
   "outputs": [],
   "source": [
    "# set a seed\n",
    "seed = 13\n",
    "random.seed(seed)\n",
    "np.random.seed(seed)\n",
    "tf.random.set_seed(seed)"
   ]
  },
  {
   "cell_type": "code",
   "execution_count": 21,
   "metadata": {},
   "outputs": [],
   "source": [
    "#setup env and agent and target networks\n",
    "env = make_env(env_name, seed)\n",
    "state_dim = env.observation_space.shape\n",
    "n_actions = env.action_space.n\n",
    "state = env.reset()\n",
    "\n",
    "agent = DQNAgent(state_dim, n_actions, epsilon=1)\n",
    "target_network = DQNAgent(state_dim, n_actions, epsilon=1)\n",
    "target_network.model.set_weights(agent.model.get_weights())"
   ]
  },
  {
   "cell_type": "code",
   "execution_count": 22,
   "metadata": {},
   "outputs": [
    {
     "name": "stdout",
     "output_type": "stream",
     "text": [
      "10000\n"
     ]
    }
   ],
   "source": [
    "# let us fill experience replay with some samples using full random policy\n",
    "exp_replay = ReplayBuffer(10**4)\n",
    "for i in range(100):\n",
    "    play_and_record(state, agent, env, exp_replay, n_steps=10**2)\n",
    "    if len(exp_replay) == 10**4:\n",
    "        break\n",
    "print(len(exp_replay))"
   ]
  },
  {
   "cell_type": "code",
   "execution_count": 23,
   "metadata": {},
   "outputs": [],
   "source": [
    "#setup some parameters for training\n",
    "timesteps_per_epoch = 1\n",
    "batch_size = 32\n",
    "\n",
    "total_steps = 100\n",
    "# total_steps = 3 * 10**6\n",
    "# We will train only for a sample of 100 steps\n",
    "# To train the full network on a CPU will take hours.\n",
    "# infact even GPU training will be fiarly long\n",
    "# Those who have access to powerful machines with GPU could \n",
    "# try training it over 3-5 million steps or so\n",
    "\n",
    "\n",
    "#init Optimizer\n",
    "optimizer = tf.keras.optimizers.Adam(learning_rate=1e-4)\n",
    "\n",
    "# set exploration epsilon \n",
    "start_epsilon = 1\n",
    "end_epsilon = 0.05\n",
    "eps_decay_final_step = 1 * 10**6\n",
    "\n",
    "# setup spme frequency for loggind and updating target network\n",
    "loss_freq = 20\n",
    "refresh_target_network_freq = 100\n",
    "eval_freq = 1000\n",
    "\n",
    "# to clip the gradients\n",
    "max_grad_norm = 5000"
   ]
  },
  {
   "cell_type": "code",
   "execution_count": 24,
   "metadata": {},
   "outputs": [],
   "source": [
    "mean_rw_history = []\n",
    "td_loss_history = []\n"
   ]
  },
  {
   "cell_type": "code",
   "execution_count": 25,
   "metadata": {},
   "outputs": [],
   "source": [
    "def epsilon_schedule(start_eps, end_eps, step, final_step):\n",
    "    return start_eps + (end_eps-start_eps)*min(step, final_step)/final_step\n",
    "\n",
    "def smoothen(values):\n",
    "    kernel = gaussian(100, std=100)\n",
    "    kernel = kernel / np.sum(kernel)\n",
    "    return convolve(values, kernel, 'valid')"
   ]
  },
  {
   "cell_type": "code",
   "execution_count": 26,
   "metadata": {},
   "outputs": [
    {
     "name": "stderr",
     "output_type": "stream",
     "text": [
      "  3%|██▍                                                                               | 3/101 [00:07<08:30,  5.21s/it]"
     ]
    },
    {
     "name": "stdout",
     "output_type": "stream",
     "text": [
      "buffer size = 10000, epsilon = 1.00000\n"
     ]
    },
    {
     "name": "stderr",
     "output_type": "stream",
     "text": [
      "100%|████████████████████████████████████████████████████████████████████████████████| 101/101 [00:13<00:00,  7.31it/s]\n",
      "Exception in Tkinter callback\n",
      "Traceback (most recent call last):\n",
      "  File \"C:\\Users\\nsang\\anaconda3\\envs\\apress-test\\lib\\tkinter\\__init__.py\", line 1883, in __call__\n",
      "    return self.func(*args)\n",
      "  File \"C:\\Users\\nsang\\anaconda3\\envs\\apress-test\\lib\\tkinter\\__init__.py\", line 804, in callit\n",
      "    func(*args)\n",
      "  File \"C:\\Users\\nsang\\anaconda3\\envs\\apress-test\\lib\\site-packages\\matplotlib\\backends\\_backend_tk.py\", line 253, in idle_draw\n",
      "    self.draw()\n",
      "  File \"C:\\Users\\nsang\\anaconda3\\envs\\apress-test\\lib\\site-packages\\matplotlib\\backends\\backend_tkagg.py\", line 9, in draw\n",
      "    super(FigureCanvasTkAgg, self).draw()\n",
      "  File \"C:\\Users\\nsang\\anaconda3\\envs\\apress-test\\lib\\site-packages\\matplotlib\\backends\\backend_agg.py\", line 407, in draw\n",
      "    self.figure.draw(self.renderer)\n",
      "  File \"C:\\Users\\nsang\\anaconda3\\envs\\apress-test\\lib\\site-packages\\matplotlib\\backend_bases.py\", line 1544, in _draw\n",
      "    def _draw(renderer): raise Done(renderer)\n",
      "matplotlib.backend_bases._get_renderer.<locals>.Done: <matplotlib.backends.backend_agg.RendererAgg object at 0x000002143428C520>\n",
      "Exception in Tkinter callback\n",
      "Traceback (most recent call last):\n",
      "  File \"C:\\Users\\nsang\\anaconda3\\envs\\apress-test\\lib\\tkinter\\__init__.py\", line 1883, in __call__\n",
      "    return self.func(*args)\n",
      "  File \"C:\\Users\\nsang\\anaconda3\\envs\\apress-test\\lib\\site-packages\\matplotlib\\backends\\_backend_tk.py\", line 242, in resize\n",
      "    self.draw()\n",
      "  File \"C:\\Users\\nsang\\anaconda3\\envs\\apress-test\\lib\\site-packages\\matplotlib\\backends\\backend_tkagg.py\", line 9, in draw\n",
      "    super(FigureCanvasTkAgg, self).draw()\n",
      "  File \"C:\\Users\\nsang\\anaconda3\\envs\\apress-test\\lib\\site-packages\\matplotlib\\backends\\backend_agg.py\", line 407, in draw\n",
      "    self.figure.draw(self.renderer)\n",
      "  File \"C:\\Users\\nsang\\anaconda3\\envs\\apress-test\\lib\\site-packages\\matplotlib\\backend_bases.py\", line 1544, in _draw\n",
      "    def _draw(renderer): raise Done(renderer)\n",
      "matplotlib.backend_bases._get_renderer.<locals>.Done: <matplotlib.backends.backend_agg.RendererAgg object at 0x000002143428C520>\n",
      "Exception in Tkinter callback\n",
      "Traceback (most recent call last):\n",
      "  File \"C:\\Users\\nsang\\anaconda3\\envs\\apress-test\\lib\\tkinter\\__init__.py\", line 1883, in __call__\n",
      "    return self.func(*args)\n",
      "  File \"C:\\Users\\nsang\\anaconda3\\envs\\apress-test\\lib\\tkinter\\__init__.py\", line 804, in callit\n",
      "    func(*args)\n",
      "  File \"C:\\Users\\nsang\\anaconda3\\envs\\apress-test\\lib\\site-packages\\matplotlib\\backends\\_backend_tk.py\", line 253, in idle_draw\n",
      "    self.draw()\n",
      "  File \"C:\\Users\\nsang\\anaconda3\\envs\\apress-test\\lib\\site-packages\\matplotlib\\backends\\backend_tkagg.py\", line 9, in draw\n",
      "    super(FigureCanvasTkAgg, self).draw()\n",
      "  File \"C:\\Users\\nsang\\anaconda3\\envs\\apress-test\\lib\\site-packages\\matplotlib\\backends\\backend_agg.py\", line 407, in draw\n",
      "    self.figure.draw(self.renderer)\n",
      "  File \"C:\\Users\\nsang\\anaconda3\\envs\\apress-test\\lib\\site-packages\\matplotlib\\backend_bases.py\", line 1544, in _draw\n",
      "    def _draw(renderer): raise Done(renderer)\n",
      "matplotlib.backend_bases._get_renderer.<locals>.Done: <matplotlib.backends.backend_agg.RendererAgg object at 0x000002143428C520>\n"
     ]
    },
    {
     "data": {
      "image/png": "[encoded data removed]",
      "text/plain": [
       "<Figure size 1152x360 with 2 Axes>"
      ]
     },
     "metadata": {
      "needs_background": "light"
     },
     "output_type": "display_data"
    }
   ],
   "source": [
    "state = env.reset()\n",
    "for step in trange(total_steps + 1):\n",
    "    \n",
    "    # reduce exploration as we progress\n",
    "    agent.epsilon = epsilon_schedule(start_epsilon, end_epsilon, step, eps_decay_final_step)\n",
    "\n",
    "    # take timesteps_per_epoch and update experience replay buffer\n",
    "    _, state = play_and_record(state, agent, env, exp_replay, timesteps_per_epoch)\n",
    "\n",
    "    # train by sampling batch_size of data from experience replay\n",
    "    states, actions, rewards, next_states, done_flags = exp_replay.sample(batch_size)\n",
    "    \n",
    "    with tf.GradientTape() as tape:\n",
    "        # loss = <compute TD loss>\n",
    "        loss = compute_td_loss(agent, target_network, \n",
    "                               states, actions, rewards, next_states, done_flags,                  \n",
    "                               gamma=0.99)\n",
    "\n",
    "    gradients = tape.gradient(loss, agent.model.trainable_variables)\n",
    "    clipped_grads = [tf.clip_by_norm(g, max_grad_norm) for g in gradients]\n",
    "    optimizer.apply_gradients(zip(clipped_grads, agent.model.trainable_variables))\n",
    "\n",
    "\n",
    "    if step % loss_freq == 0:\n",
    "        td_loss_history.append(loss.numpy())\n",
    "\n",
    "    if step % refresh_target_network_freq == 0:\n",
    "        # Load agent weights into target_network\n",
    "        target_network.model.set_weights(agent.model.get_weights())\n",
    "\n",
    "    if step % eval_freq == 0:\n",
    "        # eval the agent\n",
    "        mean_rw_history.append(evaluate(\n",
    "            make_env(env_name, seed=step), agent, n_games=3, greedy=True, t_max=1000)\n",
    "        )\n",
    "\n",
    "        clear_output(True)\n",
    "        print(\"buffer size = %i, epsilon = %.5f\" %\n",
    "              (len(exp_replay), agent.epsilon))\n",
    "\n",
    "        plt.figure(figsize=[16, 5])\n",
    "        plt.subplot(1, 2, 1)\n",
    "        plt.title(\"Mean reward per episode\")\n",
    "        plt.plot(mean_rw_history)\n",
    "        plt.grid()\n",
    "\n",
    "        assert not np.isnan(td_loss_history[-1])\n",
    "        plt.subplot(1, 2, 2)\n",
    "        plt.title(\"TD loss history (smoothened)\")\n",
    "        plt.plot(smoothen(td_loss_history))\n",
    "        plt.grid()\n",
    "\n",
    "        plt.show()"
   ]
  },
  {
   "cell_type": "code",
   "execution_count": 27,
   "metadata": {},
   "outputs": [
    {
     "name": "stdout",
     "output_type": "stream",
     "text": [
      "final score: 0.0\n"
     ]
    }
   ],
   "source": [
    "final_score = evaluate(\n",
    "  make_env(env_name),\n",
    "  agent, n_games=1, greedy=True, t_max=1000\n",
    ")\n",
    "print('final score:', final_score)\n"
   ]
  },
  {
   "cell_type": "markdown",
   "metadata": {},
   "source": [
    "The training for 100 steps will not produce any result. It may be close to 100,000 steps or so before you see any semblance of learning by agent. Do not worry about any exceptions you may get above. That is because the first graph has no data point for 100 steps. First data point for the left graph is generated only at 1000th step."
   ]
  },
  {
   "cell_type": "markdown",
   "metadata": {},
   "source": [
    "**Let us record a video of trained agent**"
   ]
  },
  {
   "cell_type": "code",
   "execution_count": 28,
   "metadata": {},
   "outputs": [],
   "source": [
    "def generate_animation(env, agent, save_dir):\n",
    "    \n",
    "    try:\n",
    "        env = gym.wrappers.Monitor(\n",
    "            env, save_dir, video_callable=lambda id: True, force=True, mode='evaluation')\n",
    "    except gym.error.Error as e:\n",
    "        print(e)\n",
    "\n",
    "    if not os.path.exists(save_dir):\n",
    "        os.makedirs(save_dir)\n",
    "        \n",
    "    state = env.reset()\n",
    "    print(\"initial shape:\", state.shape)\n",
    "    reward = 0\n",
    "    t = 0\n",
    "    while True:\n",
    "        qvalues = agent.get_qvalues(np.array([state]))\n",
    "        action = qvalues.argmax(axis=-1)[0]\n",
    "        state, r, done, _ = env.step(action)\n",
    "        reward += r\n",
    "        t += 1\n",
    "        if done or t >=1000:\n",
    "            print('Got reward: {}'.format(reward))\n",
    "            break\n",
    "            \n",
    "def display_animation(filepath):\n",
    "    video = io.open(filepath, 'r+b').read()\n",
    "    encoded = base64.b64encode(video)\n",
    "    return HTML(data='''<video alt=\"test\" controls>\n",
    "                <source src=\"data:video/mp4;base64,{0}\" type=\"video/mp4\" />\n",
    "                 </video>'''.format(encoded.decode('ascii')))"
   ]
  },
  {
   "cell_type": "code",
   "execution_count": 29,
   "metadata": {},
   "outputs": [
    {
     "name": "stdout",
     "output_type": "stream",
     "text": [
      "initial shape: (84, 84, 4)\n",
      "Got reward: 0.0\n"
     ]
    },
    {
     "data": {
      "text/html": [
       "<video alt=\"test\" controls>\n",
       "                <source src=\"data:video/mp4;base64,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\" type=\"video/mp4\" />\n",
       "                 </video>"
      ],
      "text/plain": [
       "<IPython.core.display.HTML object>"
      ]
     },
     "execution_count": 29,
     "metadata": {},
     "output_type": "execute_result"
    }
   ],
   "source": [
    "# Animate learned policy\n",
    "save_dir='./videos/tensorflow/6_2'\n",
    "env = make_env(env_name)\n",
    "generate_animation(env, agent, save_dir=save_dir)\n",
    "[filepath] = glob.glob(os.path.join(save_dir, '*.mp4'))\n",
    "display_animation(filepath)\n"
   ]
  },
  {
   "cell_type": "code",
   "execution_count": 30,
   "metadata": {},
   "outputs": [],
   "source": [
    "#TODO\n",
    "\n",
    "# Try to run this on another environment of your choice from OpenAI Gym\n",
    "# read the accompanying text and try to enahnce the network using various variants\n"
   ]
  },
  {
   "cell_type": "markdown",
   "metadata": {},
   "source": [
    "### Summary\n",
    "\n",
    "In this notebook we saw how to train a DQN agent with experience replay and target networks to play Atari game. If you have access to a GPU, try to train the agent and see how well it plays. We can improve the agent further with many tricks and there are many more papers detailing such attempts. As we go along, we will be implementing many of these variants."
   ]
  }
 ],
 "metadata": {
  "kernelspec": {
   "display_name": "Python 3",
   "language": "python",
   "name": "python3"
  },
  "language_info": {
   "codemirror_mode": {
    "name": "ipython",
    "version": 3
   },
   "file_extension": ".py",
   "mimetype": "text/x-python",
   "name": "python",
   "nbconvert_exporter": "python",
   "pygments_lexer": "ipython3",
   "version": "3.8.3"
  }
 },
 "nbformat": 4,
 "nbformat_minor": 1
}
