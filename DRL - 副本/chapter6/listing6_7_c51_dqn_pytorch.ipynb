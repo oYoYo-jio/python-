{
 "cells": [
  {
   "cell_type": "markdown",
   "metadata": {},
   "source": [
    "# Deep Q-Network Variant Categorical 51-Atom DQN (C-51) implementation (PyTorch).\n",
    "\n",
    "In this notebook, we will implement C51 (Categorical DQN) variant of DQN. First part of the notebook is all about the vanilla DQN and how we train - a copy of `6_1_dqn_pytorch.ipynb`. The C51 variant is after these sections on vanilla DQN.\n",
    "\n",
    "\n",
    "### RECAP\n",
    "\n",
    "$$ \n",
    "\\DeclareMathOperator*{\\max}{max}$$\n",
    "\n",
    "Q Learning control is carried out by sampling step by step and updating Q values at each step. We use ε-greedy policy to explore and generate samples. However, the policy learnt is a deterministic greedy policy with no exploration. We can carryout updates online i.e. we take a step and use `(current state, action, reward and next_state)` tuple to update. \n",
    "\n",
    "In case of function approximation using neural network, the input to the network is the state and output is the q(s,a) for all the actions in the state `s`. It is denoted as $ \\hat{q}(s_t,a; w_{t}) $, where $w_{t}$ is the weights of the neural network which we are trying to learn as part of DQN learning. \n",
    "\n",
    "We use two networks, one target network to get the max q-value of next state denoted by $ \\max_a \\hat {q}(s_{t+1},a; w^{-}_{t}) $ and the primary network with weights $w_{t}$ which we are updated based on back propagation of the TD error through the network.\n",
    "\n",
    "The Update equation is given below. This is the online version:\n",
    "$$ w_{t+1} \\leftarrow w_t + \\alpha [ R_{t+1} + \\gamma . \\max_{a} \\hat{q}(S_{t+1},a,w^{-}_{t}) – \\hat{q}(S_t,A_t,w_t)] \\nabla \\hat{q}(S_t,A_t,w_t)$$\n",
    "\n",
    "Online update with neural network with millions of weights does not work well. Accordingly, We use experience replay (aka Replay Buffer).  We use a behavior policy to explore the environment and store the samples `(s, a, r, s', done)` in a buffer. The samples are generated using an exploratory behavior policy while we improve a deterministic target policy using q-values. \n",
    "\n",
    "Therefore, we can always use older samples from behavior policy and apply them again and again. We can keep the buffer size fixed to some pre-determined size and keep deleting the older samples as we collect new ones. This process makes learning sample efficient by reusing a sample multiple times and also removing temporal dependence of the samples we would otherwise see while following a trajectory.\n",
    "\n",
    "The update equation with batch update with minor modifications is given below. We collect samples of transitions (current state, action, reward, next state) in a buffer. Where each sample is denoted as a tuple: \n",
    "\n",
    "$$ (s_{i}, a_{i}, r_{i}, s^{'}_{i}, done_{i})$$\n",
    "\n",
    "Subscript (i) denotes ith sample. We take N samples from experience replay selecting randomly and update the weights. Subscript (t) denotes the index of weight updates. If the current state is done, as denoted by `done` flag, the target is just the reward as terminal states have zero value. The final update equation is as given below:\n",
    "\n",
    "$$w_{t+1} \\leftarrow w_t + \\alpha \\frac{1}{N} \\sum_{i=1}^{N} \\left[ r_i + \\left( (1-done_i) . \\gamma .  \\max_{a^{'}} \\hat{q}(s_{i}^{'},a^{'};w^{-}_{t}) \\right) – \\hat{q}(s_i,a_i;w_t) \\right] \\nabla \\hat{q}(s_i,a_i;w_t)$$\n"
   ]
  },
  {
   "cell_type": "code",
   "execution_count": 1,
   "metadata": {},
   "outputs": [],
   "source": [
    "import random\n",
    "import numpy as np\n",
    "import torch\n",
    "import torch.nn as nn\n",
    "import torch.nn.functional as F\n",
    "import torch.optim as optim\n",
    "\n",
    "import gym\n",
    "\n",
    "import numpy as np\n",
    "import matplotlib.pyplot as plt\n",
    "from scipy.signal import convolve, gaussian\n",
    "import math\n",
    "import os\n",
    "import io\n",
    "import base64\n",
    "import time\n",
    "from tqdm import trange\n",
    "import glob\n",
    "import random\n",
    "from collections import namedtuple\n",
    "\n",
    "from IPython.display import HTML, clear_output\n",
    "\n",
    "%matplotlib inline\n"
   ]
  },
  {
   "cell_type": "markdown",
   "metadata": {},
   "source": [
    "### Environment - CartPole \n",
    "\n",
    "We can use the setup here to run on any environment which has state as a single vector and actions are discrete. We will build it on Cart Pole and they try to run this on many other environments like Lunar Lander and others.\n"
   ]
  },
  {
   "cell_type": "code",
   "execution_count": 2,
   "metadata": {},
   "outputs": [],
   "source": [
    "def make_env(env_name, seed=None):\n",
    "    # remove time limit wrapper from environment\n",
    "    env = gym.make(env_name).unwrapped\n",
    "    if seed is not None:\n",
    "        env.seed(seed)\n",
    "    return env"
   ]
  },
  {
   "cell_type": "code",
   "execution_count": 3,
   "metadata": {},
   "outputs": [
    {
     "data": {
      "image/png": "[encoded data removed]",
      "text/plain": [
       "<Figure size 432x288 with 1 Axes>"
      ]
     },
     "metadata": {
      "needs_background": "light"
     },
     "output_type": "display_data"
    }
   ],
   "source": [
    "ENV_NAME = 'CartPole-v1'\n",
    "\n",
    "env = make_env(ENV_NAME)\n",
    "env.reset()\n",
    "plt.imshow(env.render(\"rgb_array\"))\n",
    "state_shape, n_actions = env.observation_space.shape, env.action_space.n"
   ]
  },
  {
   "cell_type": "markdown",
   "metadata": {},
   "source": [
    "### Building a network using pytorch"
   ]
  },
  {
   "cell_type": "markdown",
   "metadata": {},
   "source": [
    "Let us build a DQN agent using a simple network. We now need to build a neural network that can map states/observations to state q-values. The observation space and action space is as given below for CartPole\n",
    "\n",
    "    Observation:\n",
    "        Type: Box(4)\n",
    "        Num     Observation               Min                     Max\n",
    "        0       Cart Position             -4.8                    4.8\n",
    "        1       Cart Velocity             -Inf                    Inf\n",
    "        2       Pole Angle                -0.418 rad (-24 deg)    0.418 rad (24 deg)\n",
    "        3       Pole Angular Velocity     -Inf                    Inf\n",
    "    Actions:\n",
    "        Type: Discrete(2)\n",
    "        Num   Action\n",
    "        0     Push cart to the left\n",
    "        1     Push cart to the right\n",
    "        \n",
    "\n",
    "The model will be a simple one with 2 hidden payers with Relu activation and final layer being logits with dimension equation to number of actions. "
   ]
  },
  {
   "cell_type": "code",
   "execution_count": 4,
   "metadata": {},
   "outputs": [
    {
     "data": {
      "text/plain": [
       "device(type='cpu')"
      ]
     },
     "execution_count": 4,
     "metadata": {},
     "output_type": "execute_result"
    }
   ],
   "source": [
    "device = torch.device('cuda' if torch.cuda.is_available() else 'cpu')\n",
    "device"
   ]
  },
  {
   "cell_type": "code",
   "execution_count": 5,
   "metadata": {},
   "outputs": [],
   "source": [
    "class DQNAgent(nn.Module):\n",
    "    def __init__(self, state_shape, n_actions, epsilon=0):\n",
    "\n",
    "        super().__init__()\n",
    "        self.epsilon = epsilon\n",
    "        self.n_actions = n_actions\n",
    "        self.state_shape = state_shape\n",
    "        \n",
    "        state_dim = state_shape[0]\n",
    "        # a simple NN with state_dim as input vector (inout is state s)\n",
    "        # and self.n_actions as output vector of logits of q(s, a)\n",
    "        self.fc1 = nn.Linear(state_dim, 64)\n",
    "        self.fc2 = nn.Linear(64, 128)\n",
    "        self.fc3 = nn.Linear(128, 32)\n",
    "        self.q = nn.Linear(32, n_actions)\n",
    "        \n",
    "    def forward(self, state_t):\n",
    "        # pass the state at time t through the newrok to get Q(s,a)\n",
    "        x = F.relu(self.fc1(state_t))\n",
    "        x = F.relu(self.fc2(x))\n",
    "        x = F.relu(self.fc3(x))\n",
    "        qvalues = self.q(x)\n",
    "        return qvalues\n",
    "\n",
    "    def get_qvalues(self, states):\n",
    "        # input is an array of states in numpy and outout is Qvals as numpy array\n",
    "        states = torch.tensor(states, device=device, dtype=torch.float32)\n",
    "        qvalues = self.forward(states)\n",
    "        return qvalues.data.cpu().numpy()\n",
    "\n",
    "    def sample_actions(self, qvalues):\n",
    "        # sample actions from a batch of q_values using epsilon greedy policy\n",
    "        epsilon = self.epsilon\n",
    "        batch_size, n_actions = qvalues.shape\n",
    "        random_actions = np.random.choice(n_actions, size=batch_size)\n",
    "        best_actions = qvalues.argmax(axis=-1)\n",
    "        should_explore = np.random.choice(\n",
    "            [0, 1], batch_size, p=[1-epsilon, epsilon])\n",
    "        return np.where(should_explore, random_actions, best_actions)"
   ]
  },
  {
   "cell_type": "code",
   "execution_count": 6,
   "metadata": {},
   "outputs": [],
   "source": [
    "agent = DQNAgent(state_shape, n_actions, epsilon=0.5).to(device)"
   ]
  },
  {
   "cell_type": "code",
   "execution_count": 7,
   "metadata": {},
   "outputs": [],
   "source": [
    "def evaluate(env, agent, n_games=1, greedy=False, t_max=10000):\n",
    "    rewards = []\n",
    "    for _ in range(n_games):\n",
    "        s = env.reset()\n",
    "        reward = 0\n",
    "        for _ in range(t_max):\n",
    "            qvalues = agent.get_qvalues([s])\n",
    "            action = qvalues.argmax(axis=-1)[0] if greedy else agent.sample_actions(qvalues)[0]\n",
    "            s, r, done, _ = env.step(action)\n",
    "            reward += r\n",
    "            if done:\n",
    "                break\n",
    "\n",
    "        rewards.append(reward)\n",
    "    return np.mean(rewards)"
   ]
  },
  {
   "cell_type": "code",
   "execution_count": 8,
   "metadata": {},
   "outputs": [
    {
     "name": "stdout",
     "output_type": "stream",
     "text": [
      "11.0\n"
     ]
    }
   ],
   "source": [
    "print(evaluate(env, agent, n_games=1))\n",
    "env.close()"
   ]
  },
  {
   "cell_type": "markdown",
   "metadata": {},
   "source": [
    "### Experience replay\n",
    "\n",
    "We will use the replay buffer we saw in chapter 4 listings. Replay buffer is very important in DQN to break the correlation between samples. We use a behavior policy (epsilon greedy) to sample from the environment and store the transitions (s,a,r,s',done) into a buffer. These samples are used multiple times in a learning making the process sample efficient. \n",
    "\n",
    "The interface to ReplayBuffer is:\n",
    "* `exp_replay.add(state, action, reward, next_state, done)` - saves (s,a,r,s',done) tuple into the buffer\n",
    "* `exp_replay.sample(batch_size)` - returns states, actions, rewards, next_states and done_flags for `batch_size` random samples.\n",
    "* `len(exp_replay)` - returns number of elements stored in replay buffer.\n",
    "\n",
    "We have modified the implementation a bit to make it more efficient"
   ]
  },
  {
   "cell_type": "code",
   "execution_count": 9,
   "metadata": {},
   "outputs": [],
   "source": [
    "class ReplayBuffer:\n",
    "    def __init__(self, size):\n",
    "        self.size = size #max number of items in buffer\n",
    "        self.buffer =[] #array to holde buffer\n",
    "        self.next_id = 0\n",
    "    \n",
    "    def __len__(self):\n",
    "        return len(self.buffer)\n",
    "    \n",
    "    def add(self, state, action, reward, next_state, done):\n",
    "        item = (state, action, reward, next_state, done)\n",
    "        if len(self.buffer) < self.size:\n",
    "           self.buffer.append(item)\n",
    "        else:\n",
    "            self.buffer[self.next_id] = item\n",
    "        self.next_id = (self.next_id + 1) % self.size\n",
    "        \n",
    "    def sample(self, batch_size):\n",
    "        idxs = np.random.choice(len(self.buffer), batch_size)\n",
    "        samples = [self.buffer[i] for i in idxs]\n",
    "        states, actions, rewards, next_states, done_flags = list(zip(*samples))\n",
    "        return np.array(states), np.array(actions), np.array(rewards), np.array(next_states), np.array(done_flags)"
   ]
  },
  {
   "cell_type": "code",
   "execution_count": 10,
   "metadata": {},
   "outputs": [],
   "source": [
    "def play_and_record(start_state, agent, env, exp_replay, n_steps=1):\n",
    "\n",
    "    s = start_state\n",
    "    sum_rewards = 0\n",
    "\n",
    "    # Play the game for n_steps and record transitions in buffer\n",
    "    for _ in range(n_steps):\n",
    "        qvalues = agent.get_qvalues([s])\n",
    "        a = agent.sample_actions(qvalues)[0]        \n",
    "        next_s, r, done, _ = env.step(a)\n",
    "        sum_rewards += r\n",
    "        exp_replay.add(s, a, r, next_s, done)\n",
    "        if done:\n",
    "            s = env.reset()\n",
    "        else:\n",
    "            s = next_s\n",
    "        \n",
    "    return sum_rewards, s"
   ]
  },
  {
   "cell_type": "markdown",
   "metadata": {},
   "source": [
    "### Target network\n"
   ]
  },
  {
   "cell_type": "code",
   "execution_count": 11,
   "metadata": {},
   "outputs": [
    {
     "data": {
      "text/plain": [
       "<All keys matched successfully>"
      ]
     },
     "execution_count": 11,
     "metadata": {},
     "output_type": "execute_result"
    }
   ],
   "source": [
    "target_network = DQNAgent(agent.state_shape, agent.n_actions, epsilon=0.5).to(device)\n",
    "target_network.load_state_dict(agent.state_dict())"
   ]
  },
  {
   "cell_type": "markdown",
   "metadata": {},
   "source": [
    "### Learning with... Q-learning\n",
    "Here we write a function similar to tabular q-learning. We will calculate average TD error per batch using the equation: \n",
    "\n",
    "$$ L =  \\frac{1}{N} \\sum_{i=1}^{N} \\left[ r_i + \\left( (1-done_i) . \\gamma .  \\max_{a^{'}} \\hat{q}(s_{i}^{'},a^{'};w^{-}_{t}) \\right) – \\hat{q}(s_i,a_i;w_t) \\right]^2$$\n",
    "\n",
    "\n",
    "$$ \\nabla_w L =   - \\frac{1}{N} \\sum_{i=1}^{N} \\left[ r_i + \\left( (1-done_i) . \\gamma .  \\max_{a^{'}} \\hat{q}(s_{i}^{'},a^{'};w^{-}_{t}) \\right) – \\hat{q}(s_i,a_i;w_t) \\right] \\nabla \\hat{q}(s_i,a_i;w_t)$$\n",
    "\n",
    "\n",
    "$\\hat{q}(s',A;w^{-})$ is calculated using target network whose weights are held constant and refreshed periodically from the agent learning network. \n",
    "\n",
    "Target is given by following:\n",
    "* non terminal state: $r_i +  \\gamma .  \\max_{a^{'}} \\hat{q}(s_{i}^{'},a^{'};w^{-}_{t})$\n",
    "* terminal state: $ r_i $\n",
    "\n",
    "We then carryout back propagation through the agent network to update the weights using equation below:\n",
    "\n",
    "\n",
    "$$ \n",
    "\\DeclareMathOperator*{\\max}{max} w_{t+1} \\leftarrow w_t - \\alpha \\nabla_{w}L$$"
   ]
  },
  {
   "cell_type": "code",
   "execution_count": 12,
   "metadata": {},
   "outputs": [],
   "source": [
    "def td_loss_dqn(agent, target_network, states, actions, rewards, next_states, done_flags,\n",
    "                    gamma=0.99, device=device):\n",
    "\n",
    "    # convert numpy array to torch tensors\n",
    "    states = torch.tensor(states, device=device, dtype=torch.float)\n",
    "    actions = torch.tensor(actions, device=device, dtype=torch.long)\n",
    "    rewards = torch.tensor(rewards, device=device, dtype=torch.float)\n",
    "    next_states = torch.tensor(next_states, device=device, dtype=torch.float)\n",
    "    done_flags = torch.tensor(done_flags.astype('float32'),device=device,dtype=torch.float)\n",
    "\n",
    "    # get q-values for all actions in current states\n",
    "    # use agent network\n",
    "    q_s = agent(states)\n",
    "\n",
    "    # select q-values for chosen actions\n",
    "    q_s_a = q_s[range(\n",
    "        len(actions)), actions]\n",
    "\n",
    "    with torch.no_grad():\n",
    "        # compute q-values for all actions in next states\n",
    "        # use target network\n",
    "        q_s1 = target_network(next_states)\n",
    "\n",
    "\n",
    "        # compute Qmax(next_states, actions) using predicted next q-values\n",
    "        q_s1_a1max,_ = torch.max(q_s1, dim=1)\n",
    "\n",
    "        # compute \"target q-values\" \n",
    "        target_q = rewards + gamma * q_s1_a1max * (1-done_flags)\n",
    "\n",
    "    # mean squared error loss to minimize\n",
    "    loss = torch.mean((q_s_a - target_q.detach()) ** 2)\n",
    "\n",
    "    return loss"
   ]
  },
  {
   "cell_type": "code",
   "execution_count": 13,
   "metadata": {},
   "outputs": [],
   "source": [
    "def epsilon_schedule(start_eps, end_eps, step, final_step):\n",
    "    return start_eps + (end_eps-start_eps)*min(step, final_step)/final_step\n",
    "\n",
    "def smoothen(values):\n",
    "    kernel = gaussian(100, std=100)\n",
    "    kernel = kernel / np.sum(kernel)\n",
    "    return convolve(values, kernel, 'valid')"
   ]
  },
  {
   "cell_type": "markdown",
   "metadata": {},
   "source": [
    "### Main loop\n",
    "\n",
    "We now carryout the training on DQN setup above."
   ]
  },
  {
   "cell_type": "code",
   "execution_count": 14,
   "metadata": {},
   "outputs": [],
   "source": [
    "def train_agent(env, agent, target_network, optimizer, td_loss_fn):\n",
    "    \n",
    "    state = env.reset()\n",
    "    # let us fill experience replay with some samples using full random policy\n",
    "    exp_replay = ReplayBuffer(10**4)\n",
    "    for i in range(100):\n",
    "        play_and_record(state, agent, env, exp_replay, n_steps=10**2)\n",
    "        if len(exp_replay) == 10**4:\n",
    "            break\n",
    "    print('Finished filling buffer with: {} samples'.format(len(exp_replay)))\n",
    "\n",
    "    mean_rw_history = []\n",
    "    td_loss_history = []\n",
    "    state = env.reset()\n",
    "    for step in trange(total_steps + 1):\n",
    "\n",
    "        # reduce exploration as we progress\n",
    "        agent.epsilon = epsilon_schedule(start_epsilon, end_epsilon, step, eps_decay_final_step)\n",
    "\n",
    "        # take timesteps_per_epoch and update experience replay buffer\n",
    "        _, state = play_and_record(state, agent, env, exp_replay, timesteps_per_epoch)\n",
    "\n",
    "        # train by sampling batch_size of data from experience replay\n",
    "        states, actions, rewards, next_states, done_flags = exp_replay.sample(batch_size)\n",
    "\n",
    "\n",
    "        # loss = <compute TD loss>\n",
    "        optimizer.zero_grad()\n",
    "        loss = td_loss_fn(agent, target_network, \n",
    "                          states, actions, rewards, next_states, done_flags,                  \n",
    "                          gamma=0.99,\n",
    "                          device=device)\n",
    "\n",
    "        loss.backward()\n",
    "        grad_norm = nn.utils.clip_grad_norm_(agent.parameters(), max_grad_norm)\n",
    "        optimizer.step()\n",
    "\n",
    "        if step % loss_freq == 0:\n",
    "            td_loss_history.append(loss.data.cpu().item())\n",
    "\n",
    "        if step % refresh_target_network_freq == 0:\n",
    "            # Load agent weights into target_network\n",
    "            target_network.load_state_dict(agent.state_dict())\n",
    "\n",
    "        if step % eval_freq == 0:\n",
    "            # eval the agent\n",
    "            mean_rw_history.append(evaluate(\n",
    "                make_env(ENV_NAME, seed=step), agent, n_games=3, greedy=True, t_max=1000)\n",
    "            )\n",
    "\n",
    "            clear_output(True)\n",
    "            print(\"buffer size = %i, epsilon = %.5f\" %\n",
    "                  (len(exp_replay), agent.epsilon))\n",
    "\n",
    "            plt.figure(figsize=[16, 5])\n",
    "            plt.subplot(1, 2, 1)\n",
    "            plt.title(\"Mean reward per episode\")\n",
    "            plt.plot(mean_rw_history)\n",
    "            plt.grid()\n",
    "\n",
    "            assert not np.isnan(td_loss_history[-1])\n",
    "            plt.subplot(1, 2, 2)\n",
    "            plt.title(\"TD loss history (smoothened)\")\n",
    "            plt.plot(smoothen(td_loss_history))\n",
    "            plt.grid()\n",
    "\n",
    "            plt.show()\n",
    "    "
   ]
  },
  {
   "cell_type": "code",
   "execution_count": 15,
   "metadata": {},
   "outputs": [],
   "source": [
    "#setup some parameters for training\n",
    "timesteps_per_epoch = 1\n",
    "batch_size = 32\n",
    "total_steps = 3 * 10**4\n",
    "\n",
    "# set exploration epsilon \n",
    "start_epsilon = 1\n",
    "end_epsilon = 0.05\n",
    "eps_decay_final_step = 2 * 10**4\n",
    "\n",
    "# setup spme frequency for loggind and updating target network\n",
    "loss_freq = 50\n",
    "refresh_target_network_freq = 100\n",
    "eval_freq = 1000\n",
    "\n",
    "# to clip the gradients\n",
    "max_grad_norm = 5000\n",
    "\n",
    "#set up random numbers\n",
    "seed=0\n",
    "random.seed(seed)\n",
    "np.random.seed(seed)\n",
    "torch.manual_seed(seed) \n",
    "\n",
    "#init environment\n",
    "ENV_NAME = 'CartPole-v1'\n",
    "env = make_env(ENV_NAME, seed)\n",
    "state_dim = env.observation_space.shape\n",
    "n_actions = env.action_space.n\n",
    "\n",
    "#init agent, target network and Optimizer\n",
    "agent = DQNAgent(state_dim, n_actions, epsilon=1).to(device)\n",
    "target_network = DQNAgent(state_dim, n_actions, epsilon=1).to(device)\n",
    "target_network.load_state_dict(agent.state_dict())\n",
    "optimizer = torch.optim.Adam(agent.parameters(), lr=1e-4)"
   ]
  },
  {
   "cell_type": "code",
   "execution_count": 16,
   "metadata": {},
   "outputs": [
    {
     "name": "stdout",
     "output_type": "stream",
     "text": [
      "buffer size = 10000, epsilon = 0.05000\n"
     ]
    },
    {
     "data": {
      "image/png": "[encoded data removed]",
      "text/plain": [
       "<Figure size 1152x360 with 2 Axes>"
      ]
     },
     "metadata": {
      "needs_background": "light"
     },
     "output_type": "display_data"
    },
    {
     "name": "stderr",
     "output_type": "stream",
     "text": [
      "100%|███████████████████████████████████████████████████████████████████████████| 30001/30001 [02:39<00:00, 188.40it/s]\n"
     ]
    }
   ],
   "source": [
    "train_agent(env, agent, target_network, optimizer, td_loss_fn=td_loss_dqn)"
   ]
  },
  {
   "cell_type": "code",
   "execution_count": 17,
   "metadata": {},
   "outputs": [
    {
     "name": "stdout",
     "output_type": "stream",
     "text": [
      "final score: 281.6666666666667\n"
     ]
    }
   ],
   "source": [
    "final_score = evaluate(\n",
    "  make_env(ENV_NAME),\n",
    "  agent, n_games=30, greedy=True, t_max=1000\n",
    ")\n",
    "print('final score:', final_score)\n"
   ]
  },
  {
   "cell_type": "markdown",
   "metadata": {},
   "source": [
    "**Let us record a video of trained agent**"
   ]
  },
  {
   "cell_type": "code",
   "execution_count": 18,
   "metadata": {},
   "outputs": [],
   "source": [
    "def generate_animation(env, agent, save_dir):\n",
    "    \n",
    "    try:\n",
    "        env = gym.wrappers.Monitor(\n",
    "            env, save_dir, video_callable=lambda id: True, force=True, mode='evaluation')\n",
    "    except gym.error.Error as e:\n",
    "        print(e)\n",
    "\n",
    "    if not os.path.exists(save_dir):\n",
    "        os.makedirs(save_dir)\n",
    "        \n",
    "    state = env.reset()\n",
    "    reward = 0\n",
    "    while True:\n",
    "        qvalues = agent.get_qvalues([state])\n",
    "        action = qvalues.argmax(axis=-1)[0]\n",
    "        state, r, done, _ = env.step(action)\n",
    "        reward += r\n",
    "        if done:\n",
    "            print('Got reward: {}'.format(reward))\n",
    "            break\n",
    "            \n",
    "def display_animation(filepath):\n",
    "    video = io.open(filepath, 'r+b').read()\n",
    "    encoded = base64.b64encode(video)\n",
    "    return HTML(data='''<video alt=\"test\" controls>\n",
    "                <source src=\"data:video/mp4;base64,{0}\" type=\"video/mp4\" />\n",
    "                 </video>'''.format(encoded.decode('ascii')))"
   ]
  },
  {
   "cell_type": "code",
   "execution_count": 19,
   "metadata": {},
   "outputs": [
    {
     "name": "stdout",
     "output_type": "stream",
     "text": [
      "Got reward: 292.0\n"
     ]
    },
    {
     "data": {
      "text/html": [
       "<video alt=\"test\" controls>\n",
       "                <source src=\"data:video/mp4;base64,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\" type=\"video/mp4\" />\n",
       "                 </video>"
      ],
      "text/plain": [
       "<IPython.core.display.HTML object>"
      ]
     },
     "execution_count": 19,
     "metadata": {},
     "output_type": "execute_result"
    }
   ],
   "source": [
    "# Animate learned policy\n",
    "save_dir='./videos/pytorch/6_7/'\n",
    "env = make_env(ENV_NAME)\n",
    "generate_animation(env, agent, save_dir=save_dir)\n",
    "[filepath] = glob.glob(os.path.join(save_dir, '*.mp4'))\n",
    "display_animation(filepath)\n"
   ]
  },
  {
   "cell_type": "markdown",
   "metadata": {},
   "source": [
    "### Categorical 51-Atom DQN (C-51)\n",
    "\n",
    "In the paper, https://arxiv.org/pdf/1707.06887.pdf , authors of the paper use a different route of distributional RL. Till now we have been outputting Q(s,a) values for an input state `s`. The number of units in output were of size `n_action`. In a way the output values were expected Q(s,a) using monte-carlo technique of averaging over a number of samples to form an estimate $\\hat Q(s,a)$ of the actual expected value $E[Q(s,a)]$. \n",
    "\n",
    "In Categorical 51-Atom DQN, for each Q(s,a) (`n_action` of them), we now produce an estimate of the distribution of Q(s,a) values - `n_atom` values for each q(s,a). We are now trying to predict the entire distribution modeled as a categorical probability distribution instead of just estimating the mean value of Q(s,a). \n",
    "\n",
    "$$ Q(s,a) = \\sum_i z_i p_i(s,a)$$ \n",
    "\n",
    "$p_i(s,a)$ is the probability that action-value at (s,a) will be $z_i$. \n",
    "\n",
    "We now have `n_action * n_atom` outputs, i.e. `n_atom` outputs for each value of `n_action`. Further these outputs are probabilities. For one action, we have `n_atom` probabilities and these are the probability of Q_value being in `-n_atom` discrete values in the range `V_min` to `V_max`. You can refer to the text or the linked paper above for more details. \n",
    "\n",
    "In C51 version of **distributional RL**, the authors took $i$ to be 51 atoms (support points) over the values -10 to 10. We will use the same setup in code below. As these values are parameterized in the code, you are welcomed to change these and explore the impact.\n",
    "\n",
    "After bellman updates are applied, the values shift and there is a step of **projection** to bring back the probability distribution of Q(s,a) to the support points of **atoms**. \n",
    "\n",
    "The loss is also replaced from mean squared error to cross-entropy error. The agent is trained using a epsilon-greedy policy, similar to DQN. "
   ]
  },
  {
   "cell_type": "code",
   "execution_count": 20,
   "metadata": {},
   "outputs": [],
   "source": [
    "class CategoricalDQN(nn.Module):\n",
    "    def __init__(self, state_shape, n_actions, n_atoms=51, Vmin=-10, Vmax=10, epsilon=0):\n",
    "        \n",
    "        super(CategoricalDQN, self).__init__()\n",
    "        self.epsilon = epsilon\n",
    "        self.n_actions = n_actions\n",
    "        self.state_shape = state_shape        \n",
    "        state_dim = state_shape[0]\n",
    "        self.n_atoms = n_atoms\n",
    "        self.Vmin = Vmin\n",
    "        self.Vmax = Vmax\n",
    "        # a simple NN with state_dim as input vector (inout is state s)\n",
    "        # and self.n_actions as output vector of logits of q(s, a)\n",
    "        self.fc1 = nn.Linear(state_dim, 64)\n",
    "        self.fc2 = nn.Linear(64, 128)\n",
    "        self.fc3 = nn.Linear(128, 32)\n",
    "        self.probs = nn.Linear(32, n_actions * n_atoms)\n",
    "        \n",
    "    def forward(self, state_t):\n",
    "        # pass the state at time t through the newrok to get Q(s,a)\n",
    "        x = F.relu(self.fc1(state_t))\n",
    "        x = F.relu(self.fc2(x))\n",
    "        x = F.relu(self.fc3(x))\n",
    "        probs = F.softmax(self.probs(x).view(-1, self.n_actions, self.n_atoms), dim=-1)\n",
    "        return probs\n",
    "\n",
    "    def get_probs(self, states):\n",
    "        # input is an array of states in numpy and outout is Qvals as numpy array\n",
    "        states = torch.tensor(states, device=device, dtype=torch.float32)\n",
    "        probs = self.forward(states)\n",
    "        return probs.data.cpu().numpy()\n",
    "\n",
    "    def get_qvalues(self, states):\n",
    "        # input is an array of states in numpy and outout is Qvals as numpy array\n",
    "        states = torch.tensor(states, device=device, dtype=torch.float32)\n",
    "        probs = self.forward(states)\n",
    "        support = torch.linspace(self.Vmin, self.Vmax, self.n_atoms)\n",
    "        qvals = support * probs\n",
    "        qvals = qvals.sum(-1)\n",
    "        return qvals.data.cpu().numpy()\n",
    "\n",
    "    def sample_actions(self, qvalues):\n",
    "        # sample actions from a batch of q_values using epsilon greedy policy\n",
    "        epsilon = self.epsilon\n",
    "        batch_size, n_actions = qvalues.shape\n",
    "        random_actions = np.random.choice(n_actions, size=batch_size)\n",
    "        best_actions = qvalues.argmax(axis=-1)\n",
    "        should_explore = np.random.choice(\n",
    "            [0, 1], batch_size, p=[1-epsilon, epsilon])\n",
    "        return np.where(should_explore, random_actions, best_actions)"
   ]
  },
  {
   "cell_type": "code",
   "execution_count": 21,
   "metadata": {},
   "outputs": [],
   "source": [
    "def compute_projection(model, next_states, rewards, done_flags, gamma=0.99, n_atoms=51, Vmin=-10, Vmax=10):\n",
    "    batch_size = next_states.size()[0]\n",
    "\n",
    "    d_z = (Vmax - Vmin) / (n_atoms-1)\n",
    "    support = torch.linspace(Vmin, Vmax, n_atoms)\n",
    "    probs = model(next_states)\n",
    "    qvals = support * probs\n",
    "    best_actions = qvals.sum(-1).argmax(-1)\n",
    "    best_actions = best_actions.unsqueeze(1).unsqueeze(1).expand(probs.size(0), 1, probs.size(2))\n",
    "    best_qvals = qvals.gather(1,best_actions).squeeze(1)\n",
    "    \n",
    "    rewards = rewards.unsqueeze(1).expand_as(best_qvals)\n",
    "    done_flags   = done_flags.unsqueeze(1).expand_as(best_qvals)\n",
    "    support = support.unsqueeze(0).expand_as(best_qvals)\n",
    "    \n",
    "    Tz = rewards + (1-done_flags) * gamma * support\n",
    "    Tz = Tz.clamp(Vmin, Vmax)\n",
    "    b = (Tz - Vmin) / (d_z)\n",
    "    l = b.floor().long()\n",
    "    u = b.ceil().long()\n",
    "    \n",
    "    projected_dist = torch.zeros(best_qvals.size())\n",
    "    \n",
    "    offset = torch.linspace(0, (batch_size - 1) * n_atoms, batch_size).long()\\\n",
    "                    .unsqueeze(1).expand(batch_size, n_atoms)\n",
    "\n",
    "    proj_dist = torch.zeros(best_qvals.size())    \n",
    "    proj_dist.view(-1).index_add_(0, (l + offset).view(-1), (best_qvals * (u.float() - b)).view(-1))\n",
    "    proj_dist.view(-1).index_add_(0, (u + offset).view(-1), (best_qvals * (b - l.float())).view(-1))\n",
    "    \n",
    "    return proj_dist    \n",
    "    \n",
    "    "
   ]
  },
  {
   "cell_type": "code",
   "execution_count": 22,
   "metadata": {},
   "outputs": [],
   "source": [
    "def td_loss_categorical_dqn(agent, target_network, states, actions, rewards, next_states, done_flags,\n",
    "                    gamma=0.99, device=device):\n",
    "\n",
    "    # convert numpy array to torch tensors\n",
    "    states = torch.tensor(states, device=device, dtype=torch.float)\n",
    "    actions = torch.tensor(actions, device=device, dtype=torch.long)\n",
    "    rewards = torch.tensor(rewards, device=device, dtype=torch.float)\n",
    "    next_states = torch.tensor(next_states, device=device, dtype=torch.float)\n",
    "    done_flags = torch.tensor(done_flags.astype('float32'),device=device,dtype=torch.float)\n",
    "\n",
    "\n",
    "    dist = agent(states)\n",
    "    batch_size, n_actions, n_atoms = dist.size()\n",
    "    actions = actions.unsqueeze(1).unsqueeze(1).expand(batch_size, 1, n_atoms)\n",
    "    dist = dist.gather(1, actions).squeeze(1)\n",
    "    dist.clamp(0.01, 0.99)\n",
    "    \n",
    "    with torch.no_grad():\n",
    "        proj_dist = compute_projection(target_network, next_states, rewards, done_flags, gamma)\n",
    "    \n",
    "    loss = - (proj_dist * dist.log()).sum(1).mean()\n",
    "        \n",
    "    return loss\n",
    "    "
   ]
  },
  {
   "cell_type": "code",
   "execution_count": 23,
   "metadata": {},
   "outputs": [],
   "source": [
    "#setup some parameters for training\n",
    "timesteps_per_epoch = 1\n",
    "batch_size = 32\n",
    "total_steps = 3 * 10**4\n",
    "\n",
    "# set exploration epsilon \n",
    "start_epsilon = 1\n",
    "end_epsilon = 0.05\n",
    "eps_decay_final_step = 2 * 10**4\n",
    "\n",
    "# setup spme frequency for loggind and updating target network\n",
    "loss_freq = 50\n",
    "refresh_target_network_freq = 100\n",
    "eval_freq = 1000\n",
    "\n",
    "# to clip the gradients\n",
    "max_grad_norm = 5000\n",
    "\n",
    "#set up random numbers\n",
    "seed=0\n",
    "random.seed(seed)\n",
    "np.random.seed(seed)\n",
    "torch.manual_seed(seed) \n",
    "\n",
    "#init environment\n",
    "ENV_NAME = 'CartPole-v1'\n",
    "env = make_env(ENV_NAME, seed)\n",
    "state_dim = env.observation_space.shape\n",
    "n_actions = env.action_space.n\n",
    "\n",
    "#init agent, target network and Optimizer\n",
    "agent = CategoricalDQN(state_dim, n_actions, epsilon=1).to(device)\n",
    "target_network = CategoricalDQN(state_dim, n_actions, epsilon=1).to(device)\n",
    "target_network.load_state_dict(agent.state_dict())\n",
    "optimizer = torch.optim.Adam(agent.parameters(), lr=1e-4)"
   ]
  },
  {
   "cell_type": "code",
   "execution_count": 24,
   "metadata": {
    "scrolled": false
   },
   "outputs": [
    {
     "name": "stdout",
     "output_type": "stream",
     "text": [
      "buffer size = 10000, epsilon = 0.05000\n"
     ]
    },
    {
     "data": {
      "image/png": "[encoded data removed]",
      "text/plain": [
       "<Figure size 1152x360 with 2 Axes>"
      ]
     },
     "metadata": {
      "needs_background": "light"
     },
     "output_type": "display_data"
    },
    {
     "name": "stderr",
     "output_type": "stream",
     "text": [
      "100%|███████████████████████████████████████████████████████████████████████████| 30001/30001 [04:42<00:00, 106.20it/s]\n"
     ]
    }
   ],
   "source": [
    "train_agent(env, agent, target_network, optimizer, td_loss_fn=td_loss_categorical_dqn)"
   ]
  },
  {
   "cell_type": "code",
   "execution_count": 25,
   "metadata": {},
   "outputs": [
    {
     "name": "stdout",
     "output_type": "stream",
     "text": [
      "final score(C51 DQN): 229\n"
     ]
    }
   ],
   "source": [
    "final_score = evaluate(\n",
    "  make_env(ENV_NAME),\n",
    "  agent, n_games=30, greedy=True, t_max=1000\n",
    ")\n",
    "print('final score(C51 DQN): {:.0f}'.format(final_score))"
   ]
  },
  {
   "cell_type": "markdown",
   "metadata": {},
   "source": [
    "### Summary\n",
    "\n",
    "In this notebook we saw how to train a DQN agent with experience replay and target networks. We also saw first variant under distributional RL i.e. **Distributional RL - Categorical DQN specifically 51-Atom (C51)**\n"
   ]
  }
 ],
 "metadata": {
  "kernelspec": {
   "display_name": "Python 3",
   "language": "python",
   "name": "python3"
  },
  "language_info": {
   "codemirror_mode": {
    "name": "ipython",
    "version": 3
   },
   "file_extension": ".py",
   "mimetype": "text/x-python",
   "name": "python",
   "nbconvert_exporter": "python",
   "pygments_lexer": "ipython3",
   "version": "3.8.3"
  }
 },
 "nbformat": 4,
 "nbformat_minor": 1
}
