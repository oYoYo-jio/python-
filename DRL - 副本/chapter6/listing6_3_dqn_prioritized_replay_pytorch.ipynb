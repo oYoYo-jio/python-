{
 "cells": [
  {
   "cell_type": "markdown",
   "metadata": {},
   "source": [
    "# Deep Q-Network implementation (DQN) - with Prioritized Replay (PyTorch).\n",
    "\n",
    "In this notebook, we will implement DQN with **experience replay** and **target networks**.\n",
    "$$ \\DeclareMathOperator*{\\max}{max}$$\n",
    "### Recap\n",
    "\n",
    "Q Learning control is carried out by sampling step by step and updating Q values at each step. We use ε-greedy policy to explore and generate samples. However, the policy learnt is a deterministic greedy policy with no exploration. We can carryout updates online i.e. we take a step and use `(current state, action, reward and next_state)` tuple to update. \n",
    "\n",
    "In case of function approximation using neural network, the input to the network is the state and output is the q(s,a) for all the actions in the state `s`. It is denoted as $ \\hat{q}(s_t,a; w_{t}) $, where $w_{t}$ is the weights of the neural network which we are trying to learn as part of DQN learning. \n",
    "\n",
    "We use two networks, one target network to get the max q-value of next state denoted by $ \\max_a \\hat {q}(s_{t+1},a; w^{-}_{t}) $ and the primary network (online network) with weights $w_{t}$ which we are updated based on back propagation of the TD error through the network.\n",
    "\n",
    "The Update equation is given below. This is the online version:\n",
    "$$ w_{t+1} \\leftarrow w_t + \\alpha [ R_{t+1} + \\gamma . \\max_{a} \\hat{q}(S_{t+1},a,w^{-}_{t}) – \\hat{q}(S_t,A_t,w_t)] \\nabla \\hat{q}(S_t,A_t,w_t)$$\n",
    "\n",
    "Online update with neural network with millions of weights does not work well. Accordingly, We use experience replay (aka Replay Buffer).  We use a behavior policy to explore the environment and store the samples `(s, a, r, s', done)` in a buffer. The samples are generated using an exploratory behavior policy while we improve a deterministic target policy using q-values. \n",
    "\n",
    "Therefore, we can always use older samples from behavior policy and apply them again and again. We can keep the buffer size fixed to some pre-determined size and keep deleting the older samples as we collect new ones. This process makes learning sample efficient by reusing a sample multiple times and also removing temporal dependence of the samples we would otherwise see while following a trajectory.\n",
    "\n",
    "The update equation with batch update with minor modifications is given below. We collect samples of transitions (current state, action, reward, next state) in a buffer. Where each sample is denoted as a tuple: \n",
    "\n",
    "$$ (s_{i}, a_{i}, r_{i}, s^{'}_{i}, done_{i})$$\n",
    "\n",
    "Subscript (i) denotes ith sample. We take N samples from experience replay selecting randomly and update the weights. Subscript (t) denotes the index of weight updates. If the current state is done, as denoted by `done` flag, the target is just the reward as terminal states have zero value. The final update equation is as given below:\n",
    "\n",
    "$$w_{t+1} \\leftarrow w_t + \\alpha \\frac{1}{N} \\sum_{i=1}^{N} \\left[ r_i + \\left( (1-done_i) . \\gamma .  \\max_{a^{'}} \\hat{q}(s_{i}^{'},a^{'};w^{-}_{t}) \\right) – \\hat{q}(s_i,a_i;w_t) \\right] \\nabla \\hat{q}(s_i,a_i;w_t)$$\n"
   ]
  },
  {
   "cell_type": "code",
   "execution_count": 1,
   "metadata": {},
   "outputs": [],
   "source": [
    "import random\n",
    "import numpy as np\n",
    "import torch\n",
    "import torch.nn as nn\n",
    "import gym\n",
    "import numpy as np\n",
    "import matplotlib.pyplot as plt\n",
    "from scipy.signal import convolve, gaussian\n",
    "\n",
    "import os\n",
    "import io\n",
    "import base64\n",
    "import time\n",
    "import glob\n",
    "from IPython.display import HTML\n",
    "\n",
    "%matplotlib inline\n"
   ]
  },
  {
   "cell_type": "markdown",
   "metadata": {},
   "source": [
    "### Environment - CartPole \n",
    "\n",
    "We can use the setup here to run on any environment which has state as a single vector and actions are discrete. We will build it on Cart Pole and they try to run this on many other environments like Atari games and others.\n"
   ]
  },
  {
   "cell_type": "code",
   "execution_count": 2,
   "metadata": {},
   "outputs": [],
   "source": [
    "def make_env(env_name, seed=None):\n",
    "    # remove time limit wrapper from environment\n",
    "    env = gym.make(env_name).unwrapped\n",
    "    if seed is not None:\n",
    "        env.seed(seed)\n",
    "    return env"
   ]
  },
  {
   "cell_type": "code",
   "execution_count": 3,
   "metadata": {},
   "outputs": [
    {
     "data": {
      "image/png": "[encoded data removed]",
      "text/plain": [
       "<Figure size 432x288 with 1 Axes>"
      ]
     },
     "metadata": {
      "needs_background": "light"
     },
     "output_type": "display_data"
    }
   ],
   "source": [
    "env_name = 'CartPole-v1'\n",
    "\n",
    "env = make_env(env_name)\n",
    "env.reset()\n",
    "plt.imshow(env.render(\"rgb_array\"))\n",
    "state_shape, n_actions = env.observation_space.shape, env.action_space.n"
   ]
  },
  {
   "cell_type": "markdown",
   "metadata": {},
   "source": [
    "### Building a network using pytorch"
   ]
  },
  {
   "cell_type": "markdown",
   "metadata": {},
   "source": [
    "Let us build a DQN agent using a simple network. We now need to build a neural network that can map states/observations to state q-values. The observation space and action space is as given below for CartPole\n",
    "\n",
    "    Observation:\n",
    "        Type: Box(4)\n",
    "        Num     Observation               Min                     Max\n",
    "        0       Cart Position             -4.8                    4.8\n",
    "        1       Cart Velocity             -Inf                    Inf\n",
    "        2       Pole Angle                -0.418 rad (-24 deg)    0.418 rad (24 deg)\n",
    "        3       Pole Angular Velocity     -Inf                    Inf\n",
    "    Actions:\n",
    "        Type: Discrete(2)\n",
    "        Num   Action\n",
    "        0     Push cart to the left\n",
    "        1     Push cart to the right\n",
    "        \n",
    "\n",
    "The model will be a simple one with 2 hidden layers with Relu activation and final layer being logits with dimension equal to number of actions. "
   ]
  },
  {
   "cell_type": "code",
   "execution_count": 4,
   "metadata": {},
   "outputs": [
    {
     "data": {
      "text/plain": [
       "device(type='cpu')"
      ]
     },
     "execution_count": 4,
     "metadata": {},
     "output_type": "execute_result"
    }
   ],
   "source": [
    "device = torch.device('cuda' if torch.cuda.is_available() else 'cpu')\n",
    "device"
   ]
  },
  {
   "cell_type": "code",
   "execution_count": 5,
   "metadata": {},
   "outputs": [],
   "source": [
    "class DQNAgent(nn.Module):\n",
    "    def __init__(self, state_shape, n_actions, epsilon=0):\n",
    "\n",
    "        super().__init__()\n",
    "        self.epsilon = epsilon\n",
    "        self.n_actions = n_actions\n",
    "        self.state_shape = state_shape\n",
    "        \n",
    "        state_dim = state_shape[0]\n",
    "        # a simple NN with state_dim as input vector (inout is state s)\n",
    "        # and self.n_actions as output vector of logits of q(s, a)\n",
    "        self.network = nn.Sequential()\n",
    "        self.network.add_module('layer1', nn.Linear(state_dim, 192))\n",
    "        self.network.add_module('relu1', nn.ReLU())\n",
    "        self.network.add_module('layer2', nn.Linear(192, 256))\n",
    "        self.network.add_module('relu2', nn.ReLU())\n",
    "        self.network.add_module('layer3', nn.Linear(256, 64))\n",
    "        self.network.add_module('relu3', nn.ReLU())\n",
    "        self.network.add_module('layer4', nn.Linear(64, n_actions))\n",
    "        # \n",
    "        self.parameters = self.network.parameters\n",
    "        \n",
    "    def forward(self, state_t):\n",
    "        # pass the state at time t through the newrok to get Q(s,a)\n",
    "        qvalues = self.network(state_t)\n",
    "        return qvalues\n",
    "\n",
    "    def get_qvalues(self, states):\n",
    "        # input is an array of states in numpy and outout is Qvals as numpy array\n",
    "        states = torch.tensor(states, device=device, dtype=torch.float32)\n",
    "        qvalues = self.forward(states)\n",
    "        return qvalues.data.cpu().numpy()\n",
    "\n",
    "    def sample_actions(self, qvalues):\n",
    "        # sample actions from a batch of q_values using epsilon greedy policy\n",
    "        epsilon = self.epsilon\n",
    "        batch_size, n_actions = qvalues.shape\n",
    "        random_actions = np.random.choice(n_actions, size=batch_size)\n",
    "        best_actions = qvalues.argmax(axis=-1)\n",
    "        should_explore = np.random.choice(\n",
    "            [0, 1], batch_size, p=[1-epsilon, epsilon])\n",
    "        return np.where(should_explore, random_actions, best_actions)"
   ]
  },
  {
   "cell_type": "code",
   "execution_count": 6,
   "metadata": {},
   "outputs": [],
   "source": [
    "agent = DQNAgent(state_shape, n_actions, epsilon=0.5).to(device)"
   ]
  },
  {
   "cell_type": "code",
   "execution_count": 7,
   "metadata": {},
   "outputs": [],
   "source": [
    "def evaluate(env, agent, n_games=1, greedy=False, t_max=10000):\n",
    "    rewards = []\n",
    "    for _ in range(n_games):\n",
    "        s = env.reset()\n",
    "        reward = 0\n",
    "        for _ in range(t_max):\n",
    "            qvalues = agent.get_qvalues([s])\n",
    "            action = qvalues.argmax(axis=-1)[0] if greedy else agent.sample_actions(qvalues)[0]\n",
    "            s, r, done, _ = env.step(action)\n",
    "            reward += r\n",
    "            if done:\n",
    "                break\n",
    "\n",
    "        rewards.append(reward)\n",
    "    return np.mean(rewards)"
   ]
  },
  {
   "cell_type": "code",
   "execution_count": 8,
   "metadata": {},
   "outputs": [
    {
     "name": "stdout",
     "output_type": "stream",
     "text": [
      "15.0\n"
     ]
    }
   ],
   "source": [
    "print(evaluate(env, agent, n_games=1))\n",
    "env.close()"
   ]
  },
  {
   "cell_type": "markdown",
   "metadata": {},
   "source": [
    "### Prioritized Experience replay\n",
    "\n",
    "In this notebook, we will use `Prioritized` version replay buffer as explained in the paper https://arxiv.org/pdf/1511.05952.pdf. \n",
    "\n",
    "Replay buffer is very important in DQN to break the correlation between samples. We use a behavior policy ($\\epsilon-greedy$) to sample from the environment and store the transitions (s,a,r,s',done) into a buffer. These samples are used multiple times in a learning making the process sample efficient. \n",
    "\n",
    "We will be using prioritized version of experience replay. \n",
    "\n",
    "The interface to PrioritizedReplayBuffer is:\n",
    "* `exp_replay.add(state, action, reward, next_state, done)` - saves (s,a,r,s',done) tuple into the buffer\n",
    "* `exp_replay.sample(batch_size)` - returns states, actions, rewards, next_states and done_flags for `batch_size` random samples.\n",
    "* `update_priorities(idxs, new_priorities)` - returns nothing. \n",
    "* `len(exp_replay)` - returns number of elements stored in replay buffer.\n",
    "\n",
    "In usual replay buffer, we select training batch with equal probability of selection for each sample/transition stored in the buffer. However, in Prioritized replay, we assign an importance score $p_i$ to each sample/transition. One approach to importance score is to use the absolute value of TD error $\\delta_i$ with addition of small constant $\\epsilon$ to avoid the edge case of error being zero and not picked up again ever.  \n",
    "\n",
    "$$ p_i = |\\delta_i| +\\epsilon$$\n",
    "\n",
    "$$\\delta_i = r_i + \\left( (1-done_i) . \\gamma .  \\max_{a^{'}} \\hat{q}(s_{i}^{'},a^{'};w^{-}_{t}) \\right) – \\hat{q}(s_i,a_i;w_t)$$\n",
    "\n",
    "\n",
    "At the time of picking the batch samples from buffer, the individual importance scores for samples are converted to probability which defines the probability of a sample being picked:\n",
    "\n",
    "$$P(i) = \\frac{p_i^{\\alpha}}{\\sum_i p_i^{\\alpha}}; \\alpha=0.6 $$\n",
    "\n",
    "$\\alpha$ is a hyper parameter and in the paper cited above, a value of 0.6 was found to work the best. We are using the same value in our code below:\n",
    "\n",
    "\n",
    "TD error for the samples chosen in the batch is used to calculate the loss and $\\nabla_w(L)$. The TD error is also used to update the importance score $p_i$ of the samples back in the buffer. \n",
    "\n",
    "\n",
    "The probability $P(i)$ is also used to calculate a weight, an importance sampling value, to adjust for the fact that samples now have a non uniform probability of being picked. The weight vector for batch samples as given below:\n",
    "\n",
    "$$w_i = \\left(\\frac{1}{N}.\\frac{1}{P(i)} \\right)^\\beta; \\beta=0.4$$\n",
    "\n",
    "Value of $\\beta=0.4$ has been taken from the paper cited above. \n",
    "\n",
    "While calculating the training loss, the individual TD errors $\\delta_i$ are weighed by the weights $w_i$. The updated batch loss equation is shown a few cells below."
   ]
  },
  {
   "cell_type": "code",
   "execution_count": 9,
   "metadata": {},
   "outputs": [],
   "source": [
    "class PrioritizedReplayBuffer:\n",
    "    def __init__(self, size, alpha=0.6, beta=0.4):\n",
    "        self.size = size #max number of items in buffer\n",
    "        self.buffer =[] #array to holde buffer\n",
    "        self.next_id = 0\n",
    "        self.alpha = alpha\n",
    "        self.beta = beta\n",
    "        self.priorities = np.ones(size)\n",
    "        self.epsilon = 1e-5\n",
    "    \n",
    "    def __len__(self):\n",
    "        return len(self.buffer)\n",
    "    \n",
    "    def add(self, state, action, reward, next_state, done):\n",
    "        item = (state, action, reward, next_state, done)\n",
    "        max_priority = self.priorities.max()\n",
    "        if len(self.buffer) < self.size:\n",
    "           self.buffer.append(item)\n",
    "        else:\n",
    "            self.buffer[self.next_id] = item\n",
    "        self.priorities[self.next_id] = max_priority\n",
    "        self.next_id = (self.next_id + 1) % self.size\n",
    "        \n",
    "    def sample(self, batch_size):\n",
    "        priorities = self.priorities[:len(self.buffer)]\n",
    "        probabilities = priorities ** self.alpha\n",
    "        probabilities /= probabilities.sum()\n",
    "        N = len(self.buffer)\n",
    "        weights = (N * probabilities) ** (-self.beta)\n",
    "        weights /= weights.max()\n",
    "\n",
    "        idxs = np.random.choice(len(self.buffer), batch_size, p=probabilities)\n",
    "\n",
    "        samples = [self.buffer[i] for i in idxs]\n",
    "        states, actions, rewards, next_states, done_flags = list(zip(*samples))\n",
    "        weights = weights[idxs]\n",
    "        \n",
    "        \n",
    "        return  (np.array(states), np.array(actions), np.array(rewards), \n",
    "                np.array(next_states), np.array(done_flags), np.array(weights), np.array(idxs))\n",
    "        \n",
    "    def update_priorities(self, idxs, new_priorities):\n",
    "        self.priorities[idxs] = new_priorities+self.epsilon"
   ]
  },
  {
   "cell_type": "code",
   "execution_count": 10,
   "metadata": {},
   "outputs": [],
   "source": [
    "def play_and_record(start_state, agent, env, exp_replay, n_steps=1):\n",
    "\n",
    "    s = start_state\n",
    "    sum_rewards = 0\n",
    "\n",
    "    # Play the game for n_steps and record transitions in buffer\n",
    "    for _ in range(n_steps):\n",
    "        qvalues = agent.get_qvalues([s])\n",
    "        a = agent.sample_actions(qvalues)[0]        \n",
    "        next_s, r, done, _ = env.step(a)\n",
    "        sum_rewards += r\n",
    "        exp_replay.add(s, a, r, next_s, done)\n",
    "        if done:\n",
    "            s = env.reset()\n",
    "        else:\n",
    "            s = next_s\n",
    "        \n",
    "    return sum_rewards, s"
   ]
  },
  {
   "cell_type": "markdown",
   "metadata": {},
   "source": [
    "### Target network\n"
   ]
  },
  {
   "cell_type": "code",
   "execution_count": 11,
   "metadata": {},
   "outputs": [
    {
     "data": {
      "text/plain": [
       "<All keys matched successfully>"
      ]
     },
     "execution_count": 11,
     "metadata": {},
     "output_type": "execute_result"
    }
   ],
   "source": [
    "target_network = DQNAgent(agent.state_shape, agent.n_actions, epsilon=0.5).to(device)\n",
    "target_network.load_state_dict(agent.state_dict())"
   ]
  },
  {
   "cell_type": "markdown",
   "metadata": {},
   "source": [
    "### Learning with... Q-learning\n",
    "Here we write a function similar to tabular q-learning. We will calculate average TD error per batch using the equation: \n",
    "\n",
    "$$ L =  \\frac{1}{N} \\sum_{i=1}^{N} \\left[ r_i + \\left( (1-done_i) . \\gamma .  \\max_{a^{'}} \\hat{q}(s_{i}^{'},a^{'};w^{-}_{t}) \\right) – \\hat{q}(s_i,a_i;w_t) \\right]^2$$\n",
    "\n",
    "\n",
    "$$ \\nabla_w L =   - \\frac{1}{N} \\sum_{i=1}^{N} \\left[ r_i + \\left( (1-done_i) . \\gamma .  \\max_{a^{'}} \\hat{q}(s_{i}^{'},a^{'};w^{-}_{t}) \\right) – \\hat{q}(s_i,a_i;w_t) \\right] \\nabla \\hat{q}(s_i,a_i;w_t)$$\n",
    "\n",
    "\n",
    "$\\hat{q}(s',A;w^{-})$ is calculated using target network whose weights are held constant and refreshed periodically from the agent learning network. \n",
    "\n",
    "Target is given by following:\n",
    "* non terminal state: $r_i +  \\gamma .  \\max_{a^{'}} \\hat{q}(s_{i}^{'},a^{'};w^{-}_{t})$\n",
    "* terminal state: $ r_i $\n",
    "\n",
    "We then carryout back propagation through the agent network to update the weights using equation below:\n",
    "\n",
    "\n",
    "$$ \n",
    "\\DeclareMathOperator*{\\max}{max} w_{t+1} \\leftarrow w_t - \\alpha \\nabla_{w}L$$"
   ]
  },
  {
   "cell_type": "code",
   "execution_count": 12,
   "metadata": {},
   "outputs": [],
   "source": [
    "def compute_td_loss_priority_replay(agent, target_network, replay_buffer,\n",
    "                                    states, actions, rewards, next_states, done_flags, weights, buffer_idxs,\n",
    "                                    gamma=0.99, device=device):\n",
    "\n",
    "    # convert numpy array to torch tensors\n",
    "    states = torch.tensor(states, device=device, dtype=torch.float)\n",
    "    actions = torch.tensor(actions, device=device, dtype=torch.long)\n",
    "    rewards = torch.tensor(rewards, device=device, dtype=torch.float)\n",
    "    next_states = torch.tensor(next_states, device=device, dtype=torch.float)\n",
    "    done_flags = torch.tensor(done_flags.astype('float32'),device=device,dtype=torch.float)\n",
    "    weights = torch.tensor(weights, device=device, dtype=torch.float)\n",
    "\n",
    "    # get q-values for all actions in current states\n",
    "    # use agent network\n",
    "    predicted_qvalues = agent(states)\n",
    "\n",
    "    # compute q-values for all actions in next states\n",
    "    # use target network\n",
    "    predicted_next_qvalues = target_network(next_states)\n",
    "    \n",
    "    # select q-values for chosen actions\n",
    "    predicted_qvalues_for_actions = predicted_qvalues[range(\n",
    "        len(actions)), actions]\n",
    "\n",
    "    # compute Qmax(next_states, actions) using predicted next q-values\n",
    "    next_state_values,_ = torch.max(predicted_next_qvalues, dim=1)\n",
    "\n",
    "    # compute \"target q-values\" \n",
    "    target_qvalues_for_actions = rewards + gamma * next_state_values * (1-done_flags)\n",
    "    \n",
    "    #compute each sample TD error\n",
    "    loss = ((predicted_qvalues_for_actions - target_qvalues_for_actions.detach()) ** 2) * weights\n",
    "    \n",
    "    # mean squared error loss to minimize\n",
    "    loss = loss.mean()\n",
    "    \n",
    "    # calculate new priorities and update buffer\n",
    "    with torch.no_grad():\n",
    "        new_priorities = predicted_qvalues_for_actions.detach() - target_qvalues_for_actions.detach()\n",
    "        new_priorities = np.absolute(new_priorities.detach().numpy())\n",
    "        replay_buffer.update_priorities(buffer_idxs, new_priorities)\n",
    "        \n",
    "    return loss"
   ]
  },
  {
   "cell_type": "markdown",
   "metadata": {},
   "source": [
    "### Main loop\n",
    "\n",
    "We now carryout the training on DQN setup above."
   ]
  },
  {
   "cell_type": "code",
   "execution_count": 13,
   "metadata": {},
   "outputs": [],
   "source": [
    "from tqdm import trange\n",
    "from IPython.display import clear_output\n",
    "import matplotlib.pyplot as plt"
   ]
  },
  {
   "cell_type": "code",
   "execution_count": 14,
   "metadata": {},
   "outputs": [
    {
     "data": {
      "text/plain": [
       "<torch._C.Generator at 0x1e10bf1f190>"
      ]
     },
     "execution_count": 14,
     "metadata": {},
     "output_type": "execute_result"
    }
   ],
   "source": [
    "# set a seed\n",
    "seed = 13\n",
    "random.seed(seed)\n",
    "np.random.seed(seed)\n",
    "torch.manual_seed(seed)"
   ]
  },
  {
   "cell_type": "code",
   "execution_count": 15,
   "metadata": {},
   "outputs": [
    {
     "data": {
      "text/plain": [
       "<All keys matched successfully>"
      ]
     },
     "execution_count": 15,
     "metadata": {},
     "output_type": "execute_result"
    }
   ],
   "source": [
    "#setup env and agent and target networks\n",
    "env_name = 'CartPole-v1'\n",
    "env = make_env(env_name, seed)\n",
    "state_dim = env.observation_space.shape\n",
    "n_actions = env.action_space.n\n",
    "state = env.reset()\n",
    "\n",
    "agent = DQNAgent(state_dim, n_actions, epsilon=1).to(device)\n",
    "target_network = DQNAgent(state_dim, n_actions, epsilon=1).to(device)\n",
    "target_network.load_state_dict(agent.state_dict())"
   ]
  },
  {
   "cell_type": "code",
   "execution_count": 16,
   "metadata": {
    "scrolled": false
   },
   "outputs": [
    {
     "name": "stdout",
     "output_type": "stream",
     "text": [
      "10000\n"
     ]
    }
   ],
   "source": [
    "# let us fill experience replay with some samples using full random policy\n",
    "exp_replay = PrioritizedReplayBuffer(10**4)\n",
    "for i in range(100):\n",
    "    play_and_record(state, agent, env, exp_replay, n_steps=10**2)\n",
    "    if len(exp_replay) == 10**4:\n",
    "        break\n",
    "print(len(exp_replay))\n"
   ]
  },
  {
   "cell_type": "code",
   "execution_count": 17,
   "metadata": {},
   "outputs": [],
   "source": [
    "#setup some parameters for training\n",
    "timesteps_per_epoch = 1\n",
    "batch_size = 32\n",
    "total_steps = 45000\n",
    "\n",
    "#init Optimizer\n",
    "opt = torch.optim.Adam(agent.parameters(), lr=1e-4)\n",
    "\n",
    "# set exploration epsilon \n",
    "start_epsilon = 1\n",
    "end_epsilon = 0.05\n",
    "eps_decay_final_step = 2 * 10**4\n",
    "\n",
    "# setup spme frequency for loggind and updating target network\n",
    "loss_freq = 20\n",
    "refresh_target_network_freq = 100\n",
    "eval_freq = 1000\n",
    "\n",
    "# to clip the gradients\n",
    "max_grad_norm = 5000"
   ]
  },
  {
   "cell_type": "code",
   "execution_count": 18,
   "metadata": {},
   "outputs": [],
   "source": [
    "mean_rw_history = []\n",
    "td_loss_history = []\n"
   ]
  },
  {
   "cell_type": "code",
   "execution_count": 19,
   "metadata": {},
   "outputs": [],
   "source": [
    "def epsilon_schedule(start_eps, end_eps, step, final_step):\n",
    "    return start_eps + (end_eps-start_eps)*min(step, final_step)/final_step\n",
    "\n",
    "def smoothen(values):\n",
    "    kernel = gaussian(100, std=100)\n",
    "    kernel = kernel / np.sum(kernel)\n",
    "    return convolve(values, kernel, 'valid')"
   ]
  },
  {
   "cell_type": "code",
   "execution_count": 20,
   "metadata": {},
   "outputs": [
    {
     "name": "stdout",
     "output_type": "stream",
     "text": [
      "buffer size = 10000, epsilon = 0.05000\n"
     ]
    },
    {
     "data": {
      "image/png": "[encoded data removed]",
      "text/plain": [
       "<Figure size 1152x360 with 2 Axes>"
      ]
     },
     "metadata": {
      "needs_background": "light"
     },
     "output_type": "display_data"
    },
    {
     "name": "stderr",
     "output_type": "stream",
     "text": [
      "100%|███████████████████████████████████████████████████████████████████████████| 45001/45001 [06:58<00:00, 107.57it/s]\n"
     ]
    }
   ],
   "source": [
    "state = env.reset()\n",
    "for step in trange(total_steps + 1):\n",
    "    \n",
    "    # reduce exploration as we progress\n",
    "    agent.epsilon = epsilon_schedule(start_epsilon, end_epsilon, step, eps_decay_final_step)\n",
    "\n",
    "    # take timesteps_per_epoch and update experience replay buffer\n",
    "    _, state = play_and_record(state, agent, env, exp_replay, timesteps_per_epoch)\n",
    "\n",
    "    # train by sampling batch_size of data from experience replay\n",
    "    states, actions, rewards, next_states, done_flags, weights, idxs = exp_replay.sample(batch_size)\n",
    "    \n",
    "\n",
    "    # loss = <compute TD loss>\n",
    "    loss = compute_td_loss_priority_replay(agent, target_network, exp_replay,\n",
    "                           states, actions, rewards, next_states, done_flags, weights, idxs,              \n",
    "                           gamma=0.99,\n",
    "                           device=device)\n",
    "\n",
    "    loss.backward()\n",
    "    grad_norm = nn.utils.clip_grad_norm_(agent.parameters(), max_grad_norm)\n",
    "    opt.step()\n",
    "    opt.zero_grad()\n",
    "\n",
    "    if step % loss_freq == 0:\n",
    "        td_loss_history.append(loss.data.cpu().item())\n",
    "\n",
    "    if step % refresh_target_network_freq == 0:\n",
    "        # Load agent weights into target_network\n",
    "        target_network.load_state_dict(agent.state_dict())\n",
    "\n",
    "    if step % eval_freq == 0:\n",
    "        # eval the agent\n",
    "        mean_rw_history.append(evaluate(\n",
    "            make_env(env_name, seed=step), agent, n_games=3, greedy=True, t_max=1000)\n",
    "        )\n",
    "\n",
    "        clear_output(True)\n",
    "        print(\"buffer size = %i, epsilon = %.5f\" %\n",
    "              (len(exp_replay), agent.epsilon))\n",
    "\n",
    "        plt.figure(figsize=[16, 5])\n",
    "        plt.subplot(1, 2, 1)\n",
    "        plt.title(\"Mean reward per episode\")\n",
    "        plt.plot(mean_rw_history)\n",
    "        plt.grid()\n",
    "\n",
    "        assert not np.isnan(td_loss_history[-1])\n",
    "        plt.subplot(1, 2, 2)\n",
    "        plt.title(\"TD loss history (smoothened)\")\n",
    "        plt.plot(smoothen(td_loss_history))\n",
    "        plt.grid()\n",
    "\n",
    "        plt.show()"
   ]
  },
  {
   "cell_type": "code",
   "execution_count": 21,
   "metadata": {},
   "outputs": [
    {
     "name": "stdout",
     "output_type": "stream",
     "text": [
      "final score: 1000.0\n",
      "Well done\n"
     ]
    }
   ],
   "source": [
    "final_score = evaluate(\n",
    "  make_env(env_name),\n",
    "  agent, n_games=30, greedy=True, t_max=1000\n",
    ")\n",
    "print('final score:', final_score)\n",
    "print('Well done')"
   ]
  },
  {
   "cell_type": "markdown",
   "metadata": {},
   "source": [
    "**Let us record a video of trained agent**"
   ]
  },
  {
   "cell_type": "code",
   "execution_count": 22,
   "metadata": {},
   "outputs": [],
   "source": [
    "def generate_animation(env, agent, save_dir):\n",
    "    \n",
    "    try:\n",
    "        env = gym.wrappers.Monitor(\n",
    "            env, save_dir, video_callable=lambda id: True, force=True, mode='evaluation')\n",
    "    except gym.error.Error as e:\n",
    "        print(e)\n",
    "\n",
    "    if not os.path.exists(save_dir):\n",
    "        os.makedirs(save_dir)\n",
    "        \n",
    "    state = env.reset()\n",
    "    reward = 0\n",
    "    while True:\n",
    "        qvalues = agent.get_qvalues([state])\n",
    "        action = qvalues.argmax(axis=-1)[0]\n",
    "        state, r, done, _ = env.step(action)\n",
    "        reward += r\n",
    "        if done or reward >=1000:\n",
    "            print('Got reward: {}'.format(reward))\n",
    "            break\n",
    "            \n",
    "def display_animation(filepath):\n",
    "    video = io.open(filepath, 'r+b').read()\n",
    "    encoded = base64.b64encode(video)\n",
    "    return HTML(data='''<video alt=\"test\" controls>\n",
    "                <source src=\"data:video/mp4;base64,{0}\" type=\"video/mp4\" />\n",
    "                 </video>'''.format(encoded.decode('ascii')))"
   ]
  },
  {
   "cell_type": "code",
   "execution_count": 23,
   "metadata": {},
   "outputs": [
    {
     "name": "stdout",
     "output_type": "stream",
     "text": [
      "Got reward: 1000.0\n"
     ]
    },
    {
     "data": {
      "text/html": [
       "<video alt=\"test\" controls>\n",
       "                <source src=\"data:video/mp4;base64,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\" type=\"video/mp4\" />\n",
       "                 </video>"
      ],
      "text/plain": [
       "<IPython.core.display.HTML object>"
      ]
     },
     "execution_count": 23,
     "metadata": {},
     "output_type": "execute_result"
    }
   ],
   "source": [
    "# Animate learned policy\n",
    "save_dir='./videos/pytorch/6_3/'\n",
    "env = make_env(env_name)\n",
    "generate_animation(env, agent, save_dir=save_dir)\n",
    "[filepath] = glob.glob(os.path.join(save_dir, '*.mp4'))\n",
    "display_animation(filepath)\n"
   ]
  },
  {
   "cell_type": "code",
   "execution_count": 24,
   "metadata": {},
   "outputs": [],
   "source": [
    "#TODO\n",
    "\n",
    "# Try to run this on another environment of your choice from OpenAI Gym\n",
    "# read the accompanying text and try to enahnce the network using various variants\n"
   ]
  },
  {
   "cell_type": "markdown",
   "metadata": {},
   "source": [
    "### Summary\n",
    "\n",
    "In this notebook we saw how to train a DQN agent with **prioritized** experience replay and target networks. We can see that using prioritized buffer speeds up the training significantly with higher scores. This is even more evident with more complex environments like Atari games. \n",
    "\n",
    "\n",
    "We can further improve this agent with additional tricks. As we go along, we will be implementing many of these variants."
   ]
  },
  {
   "cell_type": "code",
   "execution_count": null,
   "metadata": {},
   "outputs": [],
   "source": []
  }
 ],
 "metadata": {
  "kernelspec": {
   "display_name": "Python 3",
   "language": "python",
   "name": "python3"
  },
  "language_info": {
   "codemirror_mode": {
    "name": "ipython",
    "version": 3
   },
   "file_extension": ".py",
   "mimetype": "text/x-python",
   "name": "python",
   "nbconvert_exporter": "python",
   "pygments_lexer": "ipython3",
   "version": "3.8.3"
  }
 },
 "nbformat": 4,
 "nbformat_minor": 1
}
