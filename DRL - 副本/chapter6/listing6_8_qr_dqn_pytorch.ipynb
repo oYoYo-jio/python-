{
 "cells": [
  {
   "cell_type": "markdown",
   "metadata": {},
   "source": [
    "# Deep Q-Network Variant Quantile Regression DQN (QR-DQN) implementation (PyTorch).\n",
    "\n",
    "In this notebook, we will implement QR-DQN variant of DQN carrying on from `listing5_5_dqn_pytorch.ipynb`. First part of the notebook is all about the vanilla DQN and how we train. The QR-DQN variant is after these sections carried over from previous notebook.\n",
    "\n",
    "\n",
    "In this notebook, we will implement QR-DQN variant of DQN. First part of the notebook is all about the vanilla DQN and how we train - a copy of `6_1_dqn_pytorch.ipynb`. The QR-DQN variant is after these sections on vanilla DQN.\n",
    "\n",
    "\n",
    "### RECAP\n",
    "\n",
    "\n",
    "$$ \n",
    "\\DeclareMathOperator*{\\max}{max}$$\n",
    "\n",
    "Q Learning control is carried out by sampling step by step and updating Q values at each step. We use ε-greedy policy to explore and generate samples. However, the policy learnt is a deterministic greedy policy with no exploration. We can carryout updates online i.e. we take a step and use `(current state, action, reward and next_state)` tuple to update. \n",
    "\n",
    "In case of function approximation using neural network, the input to the network is the state and output is the q(s,a) for all the actions in the state `s`. It is denoted as $ \\hat{q}(s_t,a; w_{t}) $, where $w_{t}$ is the weights of the neural network which we are trying to learn as part of DQN learning. \n",
    "\n",
    "We use two networks, one target network to get the max q-value of next state denoted by $ \\max_a \\hat {q}(s_{t+1},a; w^{-}_{t}) $ and the primary network with weights $w_{t}$ which we are updated based on back propagation of the TD error through the network.\n",
    "\n",
    "The Update equation is given below. This is the online version:\n",
    "$$ w_{t+1} \\leftarrow w_t + \\alpha [ R_{t+1} + \\gamma . \\max_{a} \\hat{q}(S_{t+1},a,w^{-}_{t}) – \\hat{q}(S_t,A_t,w_t)] \\nabla \\hat{q}(S_t,A_t,w_t)$$\n",
    "\n",
    "Online update with neural network with millions of weights does not work well. Accordingly, We use experience replay (aka Replay Buffer).  We use a behavior policy to explore the environment and store the samples `(s, a, r, s', done)` in a buffer. The samples are generated using an exploratory behavior policy while we improve a deterministic target policy using q-values. \n",
    "\n",
    "Therefore, we can always use older samples from behavior policy and apply them again and again. We can keep the buffer size fixed to some pre-determined size and keep deleting the older samples as we collect new ones. This process makes learning sample efficient by reusing a sample multiple times and also removing temporal dependence of the samples we would otherwise see while following a trajectory.\n",
    "\n",
    "The update equation with batch update with minor modifications is given below. We collect samples of transitions (current state, action, reward, next state) in a buffer. Where each sample is denoted as a tuple: \n",
    "\n",
    "$$ (s_{i}, a_{i}, r_{i}, s^{'}_{i}, done_{i})$$\n",
    "\n",
    "Subscript (i) denotes ith sample. We take N samples from experience replay selecting randomly and update the weights. Subscript (t) denotes the index of weight updates. If the current state is done, as denoted by `done` flag, the target is just the reward as terminal states have zero value. The final update equation is as given below:\n",
    "\n",
    "$$w_{t+1} \\leftarrow w_t + \\alpha \\frac{1}{N} \\sum_{i=1}^{N} \\left[ r_i + \\left( (1-done_i) . \\gamma .  \\max_{a^{'}} \\hat{q}(s_{i}^{'},a^{'};w^{-}_{t}) \\right) – \\hat{q}(s_i,a_i;w_t) \\right] \\nabla \\hat{q}(s_i,a_i;w_t)$$\n"
   ]
  },
  {
   "cell_type": "code",
   "execution_count": 1,
   "metadata": {},
   "outputs": [],
   "source": [
    "import random\n",
    "import numpy as np\n",
    "import torch\n",
    "import torch.nn as nn\n",
    "import torch.nn.functional as F\n",
    "import torch.optim as optim\n",
    "\n",
    "import gym\n",
    "\n",
    "import numpy as np\n",
    "import matplotlib.pyplot as plt\n",
    "from scipy.signal import convolve, gaussian\n",
    "import math\n",
    "import os\n",
    "import io\n",
    "import base64\n",
    "import time\n",
    "from tqdm import trange\n",
    "import glob\n",
    "import random\n",
    "from collections import namedtuple\n",
    "\n",
    "from IPython.display import HTML, clear_output\n",
    "\n",
    "%matplotlib inline\n"
   ]
  },
  {
   "cell_type": "markdown",
   "metadata": {},
   "source": [
    "### Environment - CartPole \n",
    "\n",
    "We can use the setup here to run on any environment which has state as a single vector and actions are discrete. We will build it on Cart Pole and they try to run this on many other environments like Lunar Lander and others.\n"
   ]
  },
  {
   "cell_type": "code",
   "execution_count": 2,
   "metadata": {},
   "outputs": [],
   "source": [
    "def make_env(env_name, seed=None):\n",
    "    # remove time limit wrapper from environment\n",
    "    env = gym.make(env_name).unwrapped\n",
    "    if seed is not None:\n",
    "        env.seed(seed)\n",
    "    return env"
   ]
  },
  {
   "cell_type": "code",
   "execution_count": 3,
   "metadata": {},
   "outputs": [
    {
     "data": {
      "image/png": "[encoded data removed]",
      "text/plain": [
       "<Figure size 432x288 with 1 Axes>"
      ]
     },
     "metadata": {
      "needs_background": "light"
     },
     "output_type": "display_data"
    }
   ],
   "source": [
    "ENV_NAME = 'CartPole-v1'\n",
    "\n",
    "env = make_env(ENV_NAME)\n",
    "env.reset()\n",
    "plt.imshow(env.render(\"rgb_array\"))\n",
    "state_shape, n_actions = env.observation_space.shape, env.action_space.n"
   ]
  },
  {
   "cell_type": "markdown",
   "metadata": {},
   "source": [
    "### Building a network using pytorch"
   ]
  },
  {
   "cell_type": "markdown",
   "metadata": {},
   "source": [
    "Let us build a DQN agent using a simple network. We now need to build a neural network that can map states/observations to state q-values. The observation space and action space is as given below for CartPole\n",
    "\n",
    "    Observation:\n",
    "        Type: Box(4)\n",
    "        Num     Observation               Min                     Max\n",
    "        0       Cart Position             -4.8                    4.8\n",
    "        1       Cart Velocity             -Inf                    Inf\n",
    "        2       Pole Angle                -0.418 rad (-24 deg)    0.418 rad (24 deg)\n",
    "        3       Pole Angular Velocity     -Inf                    Inf\n",
    "    Actions:\n",
    "        Type: Discrete(2)\n",
    "        Num   Action\n",
    "        0     Push cart to the left\n",
    "        1     Push cart to the right\n",
    "        \n",
    "\n",
    "The model will be a simple one with 2 hidden payers with Relu activation and final layer being logits with dimension equation to number of actions. "
   ]
  },
  {
   "cell_type": "code",
   "execution_count": 4,
   "metadata": {},
   "outputs": [
    {
     "data": {
      "text/plain": [
       "device(type='cpu')"
      ]
     },
     "execution_count": 4,
     "metadata": {},
     "output_type": "execute_result"
    }
   ],
   "source": [
    "device = torch.device('cuda' if torch.cuda.is_available() else 'cpu')\n",
    "device"
   ]
  },
  {
   "cell_type": "code",
   "execution_count": 5,
   "metadata": {},
   "outputs": [],
   "source": [
    "class DQNAgent(nn.Module):\n",
    "    def __init__(self, state_shape, n_actions, epsilon=0):\n",
    "\n",
    "        super().__init__()\n",
    "        self.epsilon = epsilon\n",
    "        self.n_actions = n_actions\n",
    "        self.state_shape = state_shape\n",
    "        \n",
    "        state_dim = state_shape[0]\n",
    "        # a simple NN with state_dim as input vector (inout is state s)\n",
    "        # and self.n_actions as output vector of logits of q(s, a)\n",
    "        self.fc1 = nn.Linear(state_dim, 64)\n",
    "        self.fc2 = nn.Linear(64, 128)\n",
    "        self.fc3 = nn.Linear(128, 32)\n",
    "        self.q = nn.Linear(32, n_actions)\n",
    "        \n",
    "    def forward(self, state_t):\n",
    "        # pass the state at time t through the newrok to get Q(s,a)\n",
    "        x = F.relu(self.fc1(state_t))\n",
    "        x = F.relu(self.fc2(x))\n",
    "        x = F.relu(self.fc3(x))\n",
    "        qvalues = self.q(x)\n",
    "        return qvalues\n",
    "\n",
    "    def get_qvalues(self, states):\n",
    "        # input is an array of states in numpy and outout is Qvals as numpy array\n",
    "        states = torch.tensor(states, device=device, dtype=torch.float32)\n",
    "        qvalues = self.forward(states)\n",
    "        return qvalues.data.cpu().numpy()\n",
    "\n",
    "    def sample_actions(self, qvalues):\n",
    "        # sample actions from a batch of q_values using epsilon greedy policy\n",
    "        epsilon = self.epsilon\n",
    "        batch_size, n_actions = qvalues.shape\n",
    "        random_actions = np.random.choice(n_actions, size=batch_size)\n",
    "        best_actions = qvalues.argmax(axis=-1)\n",
    "        should_explore = np.random.choice(\n",
    "            [0, 1], batch_size, p=[1-epsilon, epsilon])\n",
    "        return np.where(should_explore, random_actions, best_actions)"
   ]
  },
  {
   "cell_type": "code",
   "execution_count": 6,
   "metadata": {},
   "outputs": [],
   "source": [
    "agent = DQNAgent(state_shape, n_actions, epsilon=0.5).to(device)"
   ]
  },
  {
   "cell_type": "code",
   "execution_count": 7,
   "metadata": {},
   "outputs": [],
   "source": [
    "def evaluate(env, agent, n_games=1, greedy=False, t_max=10000):\n",
    "    rewards = []\n",
    "    for _ in range(n_games):\n",
    "        s = env.reset()\n",
    "        reward = 0\n",
    "        for _ in range(t_max):\n",
    "            qvalues = agent.get_qvalues([s])\n",
    "            action = qvalues.argmax(axis=-1)[0] if greedy else agent.sample_actions(qvalues)[0]\n",
    "            s, r, done, _ = env.step(action)\n",
    "            reward += r\n",
    "            if done:\n",
    "                break\n",
    "\n",
    "        rewards.append(reward)\n",
    "    return np.mean(rewards)"
   ]
  },
  {
   "cell_type": "code",
   "execution_count": 8,
   "metadata": {},
   "outputs": [
    {
     "name": "stdout",
     "output_type": "stream",
     "text": [
      "14.0\n"
     ]
    }
   ],
   "source": [
    "print(evaluate(env, agent, n_games=1))\n",
    "env.close()"
   ]
  },
  {
   "cell_type": "markdown",
   "metadata": {},
   "source": [
    "### Experience replay\n",
    "\n",
    "We will use the replay buffer we saw in chapter 4 listings. Replay buffer is very important in DQN to break the correlation between samples. We use a behavior policy (epsilon greedy) to sample from the environment and store the transitions (s,a,r,s',done) into a buffer. These samples are used multiple times in a learning making the process sample efficient. \n",
    "\n",
    "The interface to ReplayBuffer is:\n",
    "* `exp_replay.add(state, action, reward, next_state, done)` - saves (s,a,r,s',done) tuple into the buffer\n",
    "* `exp_replay.sample(batch_size)` - returns states, actions, rewards, next_states and done_flags for `batch_size` random samples.\n",
    "* `len(exp_replay)` - returns number of elements stored in replay buffer.\n",
    "\n",
    "We have modified the implementation a bit to make it more efficient"
   ]
  },
  {
   "cell_type": "code",
   "execution_count": 9,
   "metadata": {},
   "outputs": [],
   "source": [
    "class ReplayBuffer:\n",
    "    def __init__(self, size):\n",
    "        self.size = size #max number of items in buffer\n",
    "        self.buffer =[] #array to holde buffer\n",
    "        self.next_id = 0\n",
    "    \n",
    "    def __len__(self):\n",
    "        return len(self.buffer)\n",
    "    \n",
    "    def add(self, state, action, reward, next_state, done):\n",
    "        item = (state, action, reward, next_state, done)\n",
    "        if len(self.buffer) < self.size:\n",
    "           self.buffer.append(item)\n",
    "        else:\n",
    "            self.buffer[self.next_id] = item\n",
    "        self.next_id = (self.next_id + 1) % self.size\n",
    "        \n",
    "    def sample(self, batch_size):\n",
    "        idxs = np.random.choice(len(self.buffer), batch_size)\n",
    "        samples = [self.buffer[i] for i in idxs]\n",
    "        states, actions, rewards, next_states, done_flags = list(zip(*samples))\n",
    "        return np.array(states), np.array(actions), np.array(rewards), np.array(next_states), np.array(done_flags)"
   ]
  },
  {
   "cell_type": "code",
   "execution_count": 10,
   "metadata": {},
   "outputs": [],
   "source": [
    "def play_and_record(start_state, agent, env, exp_replay, n_steps=1):\n",
    "\n",
    "    s = start_state\n",
    "    sum_rewards = 0\n",
    "\n",
    "    # Play the game for n_steps and record transitions in buffer\n",
    "    for _ in range(n_steps):\n",
    "        qvalues = agent.get_qvalues([s])\n",
    "        a = agent.sample_actions(qvalues)[0]        \n",
    "        next_s, r, done, _ = env.step(a)\n",
    "        sum_rewards += r\n",
    "        exp_replay.add(s, a, r, next_s, done)\n",
    "        if done:\n",
    "            s = env.reset()\n",
    "        else:\n",
    "            s = next_s\n",
    "        \n",
    "    return sum_rewards, s"
   ]
  },
  {
   "cell_type": "markdown",
   "metadata": {},
   "source": [
    "### Target network\n"
   ]
  },
  {
   "cell_type": "code",
   "execution_count": 11,
   "metadata": {},
   "outputs": [
    {
     "data": {
      "text/plain": [
       "<All keys matched successfully>"
      ]
     },
     "execution_count": 11,
     "metadata": {},
     "output_type": "execute_result"
    }
   ],
   "source": [
    "target_network = DQNAgent(agent.state_shape, agent.n_actions, epsilon=0.5).to(device)\n",
    "target_network.load_state_dict(agent.state_dict())"
   ]
  },
  {
   "cell_type": "markdown",
   "metadata": {},
   "source": [
    "### Learning with... Q-learning\n",
    "Here we write a function similar to tabular q-learning. We will calculate average TD error per batch using the equation: \n",
    "\n",
    "$$ L =  \\frac{1}{N} \\sum_{i=1}^{N} \\left[ r_i + \\left( (1-done_i) . \\gamma .  \\max_{a^{'}} \\hat{q}(s_{i}^{'},a^{'};w^{-}_{t}) \\right) – \\hat{q}(s_i,a_i;w_t) \\right]^2$$\n",
    "\n",
    "\n",
    "$$ \\nabla_w L =   - \\frac{1}{N} \\sum_{i=1}^{N} \\left[ r_i + \\left( (1-done_i) . \\gamma .  \\max_{a^{'}} \\hat{q}(s_{i}^{'},a^{'};w^{-}_{t}) \\right) – \\hat{q}(s_i,a_i;w_t) \\right] \\nabla \\hat{q}(s_i,a_i;w_t)$$\n",
    "\n",
    "\n",
    "$\\hat{q}(s',A;w^{-})$ is calculated using target network whose weights are held constant and refreshed periodically from the agent learning network. \n",
    "\n",
    "Target is given by following:\n",
    "* non terminal state: $r_i +  \\gamma .  \\max_{a^{'}} \\hat{q}(s_{i}^{'},a^{'};w^{-}_{t})$\n",
    "* terminal state: $ r_i $\n",
    "\n",
    "We then carryout back propagation through the agent network to update the weights using equation below:\n",
    "\n",
    "\n",
    "$$ \n",
    "\\DeclareMathOperator*{\\max}{max} w_{t+1} \\leftarrow w_t - \\alpha \\nabla_{w}L$$"
   ]
  },
  {
   "cell_type": "code",
   "execution_count": 12,
   "metadata": {},
   "outputs": [],
   "source": [
    "def td_loss_dqn(agent, target_network, states, actions, rewards, next_states, done_flags,\n",
    "                    gamma=0.99, device=device):\n",
    "\n",
    "    # convert numpy array to torch tensors\n",
    "    states = torch.tensor(states, device=device, dtype=torch.float)\n",
    "    actions = torch.tensor(actions, device=device, dtype=torch.long)\n",
    "    rewards = torch.tensor(rewards, device=device, dtype=torch.float)\n",
    "    next_states = torch.tensor(next_states, device=device, dtype=torch.float)\n",
    "    done_flags = torch.tensor(done_flags.astype('float32'),device=device,dtype=torch.float)\n",
    "\n",
    "    # get q-values for all actions in current states\n",
    "    # use agent network\n",
    "    q_s = agent(states)\n",
    "\n",
    "    # select q-values for chosen actions\n",
    "    q_s_a = q_s[range(\n",
    "        len(actions)), actions]\n",
    "\n",
    "    with torch.no_grad():\n",
    "        # compute q-values for all actions in next states\n",
    "        # use target network\n",
    "        q_s1 = target_network(next_states)\n",
    "\n",
    "\n",
    "        # compute Qmax(next_states, actions) using predicted next q-values\n",
    "        q_s1_a1max,_ = torch.max(q_s1, dim=1)\n",
    "\n",
    "        # compute \"target q-values\" \n",
    "        target_q = rewards + gamma * q_s1_a1max * (1-done_flags)\n",
    "\n",
    "    # mean squared error loss to minimize\n",
    "    loss = torch.mean((q_s_a - target_q.detach()) ** 2)\n",
    "\n",
    "    return loss"
   ]
  },
  {
   "cell_type": "code",
   "execution_count": 13,
   "metadata": {},
   "outputs": [],
   "source": [
    "def epsilon_schedule(start_eps, end_eps, step, final_step):\n",
    "    return start_eps + (end_eps-start_eps)*min(step, final_step)/final_step\n",
    "\n",
    "def smoothen(values):\n",
    "    kernel = gaussian(100, std=100)\n",
    "    kernel = kernel / np.sum(kernel)\n",
    "    return convolve(values, kernel, 'valid')"
   ]
  },
  {
   "cell_type": "markdown",
   "metadata": {},
   "source": [
    "### Main loop\n",
    "\n",
    "We now carryout the training on DQN setup above."
   ]
  },
  {
   "cell_type": "code",
   "execution_count": 14,
   "metadata": {},
   "outputs": [],
   "source": [
    "def train_agent(env, agent, target_network, optimizer, td_loss_fn):\n",
    "    \n",
    "    state = env.reset()\n",
    "    # let us fill experience replay with some samples using full random policy\n",
    "    exp_replay = ReplayBuffer(10**4)\n",
    "    for i in range(100):\n",
    "        play_and_record(state, agent, env, exp_replay, n_steps=10**2)\n",
    "        if len(exp_replay) == 10**4:\n",
    "            break\n",
    "    print('Finished filling buffer with: {} samples'.format(len(exp_replay)))\n",
    "\n",
    "    mean_rw_history = []\n",
    "    td_loss_history = []\n",
    "    state = env.reset()\n",
    "    for step in trange(total_steps + 1):\n",
    "\n",
    "        # reduce exploration as we progress\n",
    "        agent.epsilon = epsilon_schedule(start_epsilon, end_epsilon, step, eps_decay_final_step)\n",
    "\n",
    "        # take timesteps_per_epoch and update experience replay buffer\n",
    "        _, state = play_and_record(state, agent, env, exp_replay, timesteps_per_epoch)\n",
    "\n",
    "        # train by sampling batch_size of data from experience replay\n",
    "        states, actions, rewards, next_states, done_flags = exp_replay.sample(batch_size)\n",
    "\n",
    "\n",
    "        # loss = <compute TD loss>\n",
    "        optimizer.zero_grad()\n",
    "        loss = td_loss_fn(agent, target_network, \n",
    "                          states, actions, rewards, next_states, done_flags,                  \n",
    "                          gamma=0.99,\n",
    "                          device=device)\n",
    "\n",
    "        loss.backward()\n",
    "        grad_norm = nn.utils.clip_grad_norm_(agent.parameters(), max_grad_norm)\n",
    "        optimizer.step()\n",
    "\n",
    "        if step % loss_freq == 0:\n",
    "            td_loss_history.append(loss.data.cpu().item())\n",
    "\n",
    "        if step % refresh_target_network_freq == 0:\n",
    "            # Load agent weights into target_network\n",
    "            target_network.load_state_dict(agent.state_dict())\n",
    "\n",
    "        if step % eval_freq == 0:\n",
    "            # eval the agent\n",
    "            mean_rw_history.append(evaluate(\n",
    "                make_env(ENV_NAME, seed=step), agent, n_games=3, greedy=True, t_max=1000)\n",
    "            )\n",
    "\n",
    "            clear_output(True)\n",
    "            print(\"buffer size = %i, epsilon = %.5f\" %\n",
    "                  (len(exp_replay), agent.epsilon))\n",
    "\n",
    "            plt.figure(figsize=[16, 5])\n",
    "            plt.subplot(1, 2, 1)\n",
    "            plt.title(\"Mean reward per episode\")\n",
    "            plt.plot(mean_rw_history)\n",
    "            plt.grid()\n",
    "\n",
    "            assert not np.isnan(td_loss_history[-1])\n",
    "            plt.subplot(1, 2, 2)\n",
    "            plt.title(\"TD loss history (smoothened)\")\n",
    "            plt.plot(smoothen(td_loss_history))\n",
    "            plt.grid()\n",
    "\n",
    "            plt.show()\n",
    "    "
   ]
  },
  {
   "cell_type": "code",
   "execution_count": 15,
   "metadata": {},
   "outputs": [],
   "source": [
    "#setup some parameters for training\n",
    "timesteps_per_epoch = 1\n",
    "batch_size = 32\n",
    "total_steps = 3 * 10**4\n",
    "\n",
    "# set exploration epsilon \n",
    "start_epsilon = 1\n",
    "end_epsilon = 0.05\n",
    "eps_decay_final_step = 2 * 10**4\n",
    "\n",
    "# setup spme frequency for loggind and updating target network\n",
    "loss_freq = 50\n",
    "refresh_target_network_freq = 100\n",
    "eval_freq = 1000\n",
    "\n",
    "# to clip the gradients\n",
    "max_grad_norm = 5000\n",
    "\n",
    "#set up random numbers\n",
    "seed=0\n",
    "random.seed(seed)\n",
    "np.random.seed(seed)\n",
    "torch.manual_seed(seed) \n",
    "\n",
    "#init environment\n",
    "ENV_NAME = 'CartPole-v1'\n",
    "env = make_env(ENV_NAME, seed)\n",
    "state_dim = env.observation_space.shape\n",
    "n_actions = env.action_space.n\n",
    "\n",
    "#init agent, target network and Optimizer\n",
    "agent = DQNAgent(state_dim, n_actions, epsilon=1).to(device)\n",
    "target_network = DQNAgent(state_dim, n_actions, epsilon=1).to(device)\n",
    "target_network.load_state_dict(agent.state_dict())\n",
    "optimizer = torch.optim.Adam(agent.parameters(), lr=1e-4)"
   ]
  },
  {
   "cell_type": "code",
   "execution_count": 16,
   "metadata": {},
   "outputs": [
    {
     "name": "stdout",
     "output_type": "stream",
     "text": [
      "buffer size = 10000, epsilon = 0.05000\n"
     ]
    },
    {
     "data": {
      "image/png": "[encoded data removed]",
      "text/plain": [
       "<Figure size 1152x360 with 2 Axes>"
      ]
     },
     "metadata": {
      "needs_background": "light"
     },
     "output_type": "display_data"
    },
    {
     "name": "stderr",
     "output_type": "stream",
     "text": [
      "100%|███████████████████████████████████████████████████████████████████████████| 30001/30001 [03:30<00:00, 142.67it/s]\n"
     ]
    }
   ],
   "source": [
    "train_agent(env, agent, target_network, optimizer, td_loss_fn=td_loss_dqn)"
   ]
  },
  {
   "cell_type": "code",
   "execution_count": 17,
   "metadata": {},
   "outputs": [
    {
     "name": "stdout",
     "output_type": "stream",
     "text": [
      "final score: 283\n"
     ]
    }
   ],
   "source": [
    "final_score = evaluate(\n",
    "  make_env(ENV_NAME),\n",
    "  agent, n_games=30, greedy=True, t_max=1000\n",
    ")\n",
    "print('final score: {:.0f}'.format(final_score))\n"
   ]
  },
  {
   "cell_type": "markdown",
   "metadata": {},
   "source": [
    "**Let us record a video of trained agent**"
   ]
  },
  {
   "cell_type": "code",
   "execution_count": 18,
   "metadata": {},
   "outputs": [],
   "source": [
    "def generate_animation(env, agent, save_dir):\n",
    "    \n",
    "    try:\n",
    "        env = gym.wrappers.Monitor(\n",
    "            env, save_dir, video_callable=lambda id: True, force=True, mode='evaluation')\n",
    "    except gym.error.Error as e:\n",
    "        print(e)\n",
    "\n",
    "    if not os.path.exists(save_dir):\n",
    "        os.makedirs(save_dir)\n",
    "        \n",
    "    state = env.reset()\n",
    "    reward = 0\n",
    "    while True:\n",
    "        qvalues = agent.get_qvalues([state])\n",
    "        action = qvalues.argmax(axis=-1)[0]\n",
    "        state, r, done, _ = env.step(action)\n",
    "        reward += r\n",
    "        if done:\n",
    "            print('Got reward: {}'.format(reward))\n",
    "            break\n",
    "            \n",
    "def display_animation(filepath):\n",
    "    video = io.open(filepath, 'r+b').read()\n",
    "    encoded = base64.b64encode(video)\n",
    "    return HTML(data='''<video alt=\"test\" controls>\n",
    "                <source src=\"data:video/mp4;base64,{0}\" type=\"video/mp4\" />\n",
    "                 </video>'''.format(encoded.decode('ascii')))"
   ]
  },
  {
   "cell_type": "code",
   "execution_count": 19,
   "metadata": {},
   "outputs": [
    {
     "name": "stdout",
     "output_type": "stream",
     "text": [
      "Got reward: 355.0\n"
     ]
    },
    {
     "data": {
      "text/html": [
       "<video alt=\"test\" controls>\n",
       "                <source src=\"data:video/mp4;base64,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\" type=\"video/mp4\" />\n",
       "                 </video>"
      ],
      "text/plain": [
       "<IPython.core.display.HTML object>"
      ]
     },
     "execution_count": 19,
     "metadata": {},
     "output_type": "execute_result"
    }
   ],
   "source": [
    "# Animate learned policy\n",
    "save_dir='./videos/pytorch/6_8/'\n",
    "env = make_env(ENV_NAME)\n",
    "generate_animation(env, agent, save_dir=save_dir)\n",
    "[filepath] = glob.glob(os.path.join(save_dir, '*.mp4'))\n",
    "display_animation(filepath)\n"
   ]
  },
  {
   "cell_type": "markdown",
   "metadata": {},
   "source": [
    "### Quantile Regression (QR-DQN)\n",
    "\n",
    "Similar to C51 approach of distributional RL, the QR-DQN approach also depended on using quantiles to predict the distribution of Q(s,a) instead of predicting an estimate of the average of Q(s,a). PLease refer paper https://arxiv.org/pdf/1710.10044.pdf for more details. Both C51 and QR-DQN are variants of distributional RL and produced by scientists from DeepMind. \n",
    "\n",
    "The C51 approach modeled the distribution of $Q^{\\pi}(s,a)$ named $Z^{\\pi}(s,a)$ as a categorical distribution of probability over fixed points in the range of $V_{min}$ to $V_{max}$. The probability over these points was what was learnt by the network. Such an approached resulted in use of a projection step after bellman update to bring the new probabilities back to the fixed support points of `n_atoms` spread uniformly over $V_{min}$ to $V_{max}$. While the result worked there was a bit of disconnect with the theoretical basis on which the algorithm was derived.\n",
    "\n",
    "In contrast, in QR-DQN the approach was slightly different. The support points are still `N` but now the probabilities were fixed to 1/N with the location of these points something being learnt by network. In the words of authors....\n",
    "\n",
    ">We “transpose” the parametrization from C51: whereas the former uses N fixed locations for its approximation distribution and adjusts their probabilities, we assign fixed, uniform probabilities to N adjustable locations\n",
    "\n",
    "\n",
    "The loss used in this approach is that of quantile regression loss mixed with huber loss called **Quantile Huber loss** - equation 9 and 10 in the linked paper.\n",
    "\n",
    "Code cells below give an implementation of QR-DQN. \n"
   ]
  },
  {
   "cell_type": "code",
   "execution_count": 20,
   "metadata": {},
   "outputs": [],
   "source": [
    "class QRDQN(nn.Module):\n",
    "    def __init__(self, state_shape, n_actions, N=51, epsilon=0):\n",
    "\n",
    "        super(QRDQN, self).__init__()\n",
    "        self.epsilon = epsilon\n",
    "        self.n_actions = n_actions\n",
    "        self.state_shape = state_shape\n",
    "        self.N = N\n",
    "        \n",
    "        state_dim = state_shape[0]\n",
    "        # a simple NN with state_dim as input vector (inout is state s)\n",
    "        # and self.n_actions as output vector of logits of q(s, a)\n",
    "        self.fc1 = nn.Linear(state_dim, 64)\n",
    "        self.fc2 = nn.Linear(64, 128)\n",
    "        self.fc3 = nn.Linear(128, 32)\n",
    "        self.q = nn.Linear(32, n_actions*N)\n",
    "        \n",
    "    def forward(self, state_t):\n",
    "        # pass the state at time t through the newrok to get Q(s,a)\n",
    "        x = F.relu(self.fc1(state_t))\n",
    "        x = F.relu(self.fc2(x))\n",
    "        x = F.relu(self.fc3(x))\n",
    "        qvalues = self.q(x)\n",
    "        qvalues= qvalues.view(-1, self.n_actions, self.N)\n",
    "        return qvalues\n",
    "\n",
    "    def get_qvalues(self, states):\n",
    "        # input is an array of states in numpy and outout is Qvals as numpy array\n",
    "        states = torch.tensor(states, device=device, dtype=torch.float32)\n",
    "        qvalues = self.forward(states)\n",
    "        return qvalues.data.cpu().numpy()\n",
    "\n",
    "    def sample_actions(self, qvalues):\n",
    "        # sample actions from a batch of q_values using epsilon greedy policy\n",
    "        epsilon = self.epsilon\n",
    "        batch_size, n_actions, N = qvalues.shape\n",
    "        random_actions = np.random.choice(n_actions, size=batch_size)\n",
    "        best_actions = qvalues.mean(-1).argmax(-1)\n",
    "        should_explore = np.random.choice(\n",
    "            [0, 1], batch_size, p=[1-epsilon, epsilon])\n",
    "        return np.where(should_explore, random_actions, best_actions)"
   ]
  },
  {
   "cell_type": "code",
   "execution_count": 21,
   "metadata": {},
   "outputs": [],
   "source": [
    "def loss_qr_dqn(agent, target_network, states, actions, rewards, next_states, done_flags,\n",
    "                    gamma=0.99, device=device):\n",
    "\n",
    "    # convert numpy array to torch tensors\n",
    "    states = torch.tensor(states, device=device, dtype=torch.float)   #(batch_size, state_dim)\n",
    "    actions = torch.tensor(actions, device=device, dtype=torch.long)  #(batch_size,)\n",
    "    rewards = torch.tensor(rewards, device=device, dtype=torch.float) #(batch_size,)\n",
    "    next_states = torch.tensor(next_states, device=device, dtype=torch.float) #(batch_size, state_dim)\n",
    "    done_flags = torch.tensor(done_flags.astype('float32'),device=device,dtype=torch.float) #(batch_size,)\n",
    "        \n",
    "\n",
    "    # get q-values for all actions in current states\n",
    "    # use agent network\n",
    "    q_s = agent(states)  #(batch_size, n_actions, N)\n",
    "    batch_size, n_actions, N = q_s.shape\n",
    "    \n",
    "    tau = torch.FloatTensor([i/N for i in range(1,N+1)]).to(device) #(N,)\n",
    "    \n",
    "    # select q-values for chosen actions\n",
    "    q_s_a = q_s.gather(1, actions.unsqueeze(1).unsqueeze(1).expand(batch_size, 1, N)) #(batch_size, 1, N)\n",
    "    # print(q_s_a.shape)\n",
    "    #q_s_a = q_s_a.expand(batch_size, N, N) #(batch_size, N, N)\n",
    "    \n",
    "    with torch.no_grad():\n",
    "        # compute q-values for all actions in next states\n",
    "        # use target network\n",
    "        q_s1 = target_network(next_states)  #(batch_size, n_actions, N)\n",
    "\n",
    "        # compute Qmax(next_states, actions) using predicted next q-values\n",
    "        s1_actions_max = torch.argmax(q_s1.mean(-1), dim=-1) #(batch_size,)\n",
    "        q_s1_amax = q_s1.gather(1, s1_actions_max.unsqueeze(1).unsqueeze(1).expand(batch_size, 1, N)) #(batch_size, 1, N)\n",
    "        q_s1_amax = q_s1_amax.transpose(1,2) #(batch_size, N, 1)\n",
    "\n",
    "        rewards = rewards.unsqueeze(-1).unsqueeze(-1).expand(batch_size, N, 1) #(batch_size, N, 1)\n",
    "        done_flags = done_flags.unsqueeze(-1).unsqueeze(-1).expand(batch_size, N, 1) #(batch_size, N, 1)\n",
    "\n",
    "        targets = rewards + gamma * (1-done_flags) * q_s1_amax  # (batch_size, N, 1)\n",
    "        # print(targets.shape)\n",
    "        #targets = targets.expand(batch_size, N, 1) # (batch_size, N, N) \n",
    "        \n",
    "    td_errors = targets.detach() - q_s_a # (batch_size, N, N)\n",
    "        \n",
    "    k = 1.0 #kappa fixed at 1.0\n",
    "    \n",
    "    huber_loss = torch.where(td_errors.abs() <= k, 0.5*td_errors.pow(2), k*(td_errors.abs()-0.5*k)) # (batch_size, N, N)\n",
    "    quantile_loss = torch.abs(tau - (td_errors.detach() < 0).float()) * huber_loss # (batch_size, N, N)\n",
    "                            \n",
    "    # loss to minimize as per paper https://arxiv.org/pdf/1710.10044.pdf equation Algorithm 1 and eq 10\n",
    "    loss = quantile_loss.sum(-1).mean(-1).mean()\n",
    "\n",
    "    return loss"
   ]
  },
  {
   "cell_type": "code",
   "execution_count": 22,
   "metadata": {},
   "outputs": [],
   "source": [
    "def evaluate_qr_dqn(env, agent, n_games=1, greedy=False, t_max=10000):\n",
    "    rewards = []\n",
    "    for _ in range(n_games):\n",
    "        s = env.reset()\n",
    "        reward = 0\n",
    "        for _ in range(t_max):\n",
    "            qvalues = agent.get_qvalues([s])\n",
    "            action = qvalues.mean(-1).argmax(axis=-1)[0] if greedy else agent.sample_actions(qvalues)[0]\n",
    "            s, r, done, _ = env.step(action)\n",
    "            reward += r\n",
    "            if done:\n",
    "                break\n",
    "\n",
    "        rewards.append(reward)\n",
    "    return np.mean(rewards)"
   ]
  },
  {
   "cell_type": "code",
   "execution_count": 23,
   "metadata": {},
   "outputs": [],
   "source": [
    "def train_agent_qr_dqn(env, agent, target_network, optimizer, td_loss_fn):\n",
    "    \n",
    "    state = env.reset()\n",
    "    # let us fill experience replay with some samples using full random policy\n",
    "    exp_replay = ReplayBuffer(10**4)\n",
    "    for i in range(100):\n",
    "        play_and_record(state, agent, env, exp_replay, n_steps=10**2)\n",
    "        if len(exp_replay) == 10**4:\n",
    "            break\n",
    "    print('Finished filling buffer with: {} samples'.format(len(exp_replay)))\n",
    "\n",
    "    mean_rw_history = []\n",
    "    td_loss_history = []\n",
    "    state = env.reset()\n",
    "    for step in trange(total_steps + 1):\n",
    "\n",
    "        # reduce exploration as we progress\n",
    "        agent.epsilon = epsilon_schedule(start_epsilon, end_epsilon, step, eps_decay_final_step)\n",
    "\n",
    "        # take timesteps_per_epoch and update experience replay buffer\n",
    "        _, state = play_and_record(state, agent, env, exp_replay, timesteps_per_epoch)\n",
    "\n",
    "        # train by sampling batch_size of data from experience replay\n",
    "        states, actions, rewards, next_states, done_flags = exp_replay.sample(batch_size)\n",
    "\n",
    "\n",
    "        # loss = <compute TD loss>\n",
    "        optimizer.zero_grad()\n",
    "        loss = td_loss_fn(agent, target_network, \n",
    "                          states, actions, rewards, next_states, done_flags,                  \n",
    "                          gamma=0.99,\n",
    "                          device=device)\n",
    "\n",
    "        loss.backward()\n",
    "        optimizer.step()\n",
    "\n",
    "        if step % loss_freq == 0:\n",
    "            td_loss_history.append(loss.data.cpu().item())\n",
    "\n",
    "        if step % refresh_target_network_freq == 0:\n",
    "            # Load agent weights into target_network\n",
    "#             target_network.load_state_dict(agent.state_dict())\n",
    "            for target_param, agent_param in zip(target_network.parameters(), agent.parameters()):\n",
    "                target_param.data.copy_(0.001*agent_param.data + (1.0-0.001)*target_param.data)\n",
    "\n",
    "        if step % eval_freq == 0:\n",
    "            # eval the agent\n",
    "            mean_rw_history.append(evaluate_qr_dqn(\n",
    "                make_env(ENV_NAME, seed=step), agent, n_games=3, greedy=True, t_max=1000)\n",
    "            )\n",
    "\n",
    "            clear_output(True)\n",
    "            print(\"buffer size = %i, epsilon = %.5f\" %\n",
    "                  (len(exp_replay), agent.epsilon))\n",
    "\n",
    "            plt.figure(figsize=[16, 5])\n",
    "            plt.subplot(1, 2, 1)\n",
    "            plt.title(\"Mean reward per episode\")\n",
    "            plt.plot(mean_rw_history)\n",
    "            plt.grid()\n",
    "\n",
    "            assert not np.isnan(td_loss_history[-1])\n",
    "            plt.subplot(1, 2, 2)\n",
    "            plt.title(\"TD loss history (smoothened)\")\n",
    "            plt.plot(smoothen(td_loss_history))\n",
    "            plt.grid()\n",
    "\n",
    "            plt.show()\n",
    "    "
   ]
  },
  {
   "cell_type": "code",
   "execution_count": 24,
   "metadata": {},
   "outputs": [],
   "source": [
    "#setup some parameters for training\n",
    "timesteps_per_epoch = 1\n",
    "batch_size = 32\n",
    "total_steps = 2 * 10**4\n",
    "\n",
    "# set exploration epsilon \n",
    "start_epsilon = 1\n",
    "end_epsilon = 0.05\n",
    "eps_decay_final_step = 2 * 10**4\n",
    "\n",
    "# setup spme frequency for loggind and updating target network\n",
    "loss_freq = 50\n",
    "refresh_target_network_freq = 1\n",
    "eval_freq = 1000\n",
    "\n",
    "#set up random numbers\n",
    "seed=0\n",
    "random.seed(seed)\n",
    "np.random.seed(seed)\n",
    "torch.manual_seed(seed) \n",
    "\n",
    "#init environment\n",
    "ENV_NAME = 'CartPole-v1'\n",
    "env = make_env(ENV_NAME, seed)\n",
    "state_dim = env.observation_space.shape\n",
    "n_actions = env.action_space.n\n",
    "\n",
    "#init agent, target network and Optimizer\n",
    "agent = QRDQN(state_dim, n_actions, epsilon=1).to(device)\n",
    "target_network = QRDQN(state_dim, n_actions, epsilon=1).to(device)\n",
    "target_network.load_state_dict(agent.state_dict())\n",
    "optimizer = torch.optim.Adam(agent.parameters(), lr=1e-4)"
   ]
  },
  {
   "cell_type": "code",
   "execution_count": 25,
   "metadata": {
    "scrolled": false
   },
   "outputs": [
    {
     "name": "stdout",
     "output_type": "stream",
     "text": [
      "buffer size = 10000, epsilon = 0.05000\n"
     ]
    },
    {
     "data": {
      "image/png": "[encoded data removed]",
      "text/plain": [
       "<Figure size 1152x360 with 2 Axes>"
      ]
     },
     "metadata": {
      "needs_background": "light"
     },
     "output_type": "display_data"
    },
    {
     "name": "stderr",
     "output_type": "stream",
     "text": [
      "100%|████████████████████████████████████████████████████████████████████████████| 20001/20001 [03:45<00:00, 88.75it/s]\n"
     ]
    }
   ],
   "source": [
    "train_agent_qr_dqn(env, agent, target_network, optimizer, td_loss_fn=loss_qr_dqn)"
   ]
  },
  {
   "cell_type": "code",
   "execution_count": 26,
   "metadata": {},
   "outputs": [
    {
     "name": "stdout",
     "output_type": "stream",
     "text": [
      "final score: 289\n"
     ]
    }
   ],
   "source": [
    "final_score = evaluate_qr_dqn(\n",
    "  make_env(ENV_NAME),\n",
    "  agent, n_games=30, greedy=True, t_max=1000\n",
    ")\n",
    "print('final score: {:.0f}'.format(final_score))"
   ]
  },
  {
   "cell_type": "markdown",
   "metadata": {},
   "source": [
    "### Summary\n",
    "\n",
    "In this notebook we saw how to train a DQN agent with experience replay and target networks. We also saw 2nd variant of distributional RL called **Distributional RL - Quantile Regression DQN (QR-DQN)**\n"
   ]
  }
 ],
 "metadata": {
  "kernelspec": {
   "display_name": "Python 3",
   "language": "python",
   "name": "python3"
  },
  "language_info": {
   "codemirror_mode": {
    "name": "ipython",
    "version": 3
   },
   "file_extension": ".py",
   "mimetype": "text/x-python",
   "name": "python",
   "nbconvert_exporter": "python",
   "pygments_lexer": "ipython3",
   "version": "3.8.3"
  }
 },
 "nbformat": 4,
 "nbformat_minor": 1
}
