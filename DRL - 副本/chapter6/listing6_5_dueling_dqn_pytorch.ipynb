{
 "cells": [
  {
   "cell_type": "markdown",
   "metadata": {},
   "source": [
    "# Deep Q-Network Variant Dueling DQN implementation (PyTorch).\n",
    "\n",
    "In this notebook, we will implement Dueling DQN variant of DQN. First part of the notebook is all about the vanilla DQN and how we train - a copy of `6_1_dqn_pytorch.ipynb`. The Dueling DQN variant is after these sections on vanilla DQN. \n",
    "\n",
    "\n",
    "\n",
    "### RECAP\n",
    "\n",
    "$$ \n",
    "\\DeclareMathOperator*{\\max}{max}$$\n",
    "\n",
    "Q Learning control is carried out by sampling step by step and updating Q values at each step. We use ε-greedy policy to explore and generate samples. However, the policy learnt is a deterministic greedy policy with no exploration. We can carryout updates online i.e. we take a step and use `(current state, action, reward and next_state)` tuple to update. \n",
    "\n",
    "In case of function approximation using neural network, the input to the network is the state and output is the q(s,a) for all the actions in the state `s`. It is denoted as $ \\hat{q}(s_t,a; w_{t}) $, where $w_{t}$ is the weights of the neural network which we are trying to learn as part of DQN learning. \n",
    "\n",
    "We use two networks, one target network to get the max q-value of next state denoted by $ \\max_a \\hat {q}(s_{t+1},a; w^{-}_{t}) $ and the primary network with weights $w_{t}$ which we are updated based on back propagation of the TD error through the network.\n",
    "\n",
    "The Update equation is given below. This is the online version:\n",
    "$$ w_{t+1} \\leftarrow w_t + \\alpha [ R_{t+1} + \\gamma . \\max_{a} \\hat{q}(S_{t+1},a,w^{-}_{t}) – \\hat{q}(S_t,A_t,w_t)] \\nabla \\hat{q}(S_t,A_t,w_t)$$\n",
    "\n",
    "Online update with neural network with millions of weights does not work well. Accordingly, We use experience replay (aka Replay Buffer).  We use a behavior policy to explore the environment and store the samples `(s, a, r, s', done)` in a buffer. The samples are generated using an exploratory behavior policy while we improve a deterministic target policy using q-values. \n",
    "\n",
    "Therefore, we can always use older samples from behavior policy and apply them again and again. We can keep the buffer size fixed to some pre-determined size and keep deleting the older samples as we collect new ones. This process makes learning sample efficient by reusing a sample multiple times and also removing temporal dependence of the samples we would otherwise see while following a trajectory.\n",
    "\n",
    "The update equation with batch update with minor modifications is given below. We collect samples of transitions (current state, action, reward, next state) in a buffer. Where each sample is denoted as a tuple: \n",
    "\n",
    "$$ (s_{i}, a_{i}, r_{i}, s^{'}_{i}, done_{i})$$\n",
    "\n",
    "Subscript (i) denotes ith sample. We take N samples from experience replay selecting randomly and update the weights. Subscript (t) denotes the index of weight updates. If the current state is done, as denoted by `done` flag, the target is just the reward as terminal states have zero value. The final update equation is as given below:\n",
    "\n",
    "$$w_{t+1} \\leftarrow w_t + \\alpha \\frac{1}{N} \\sum_{i=1}^{N} \\left[ r_i + \\left( (1-done_i) . \\gamma .  \\max_{a^{'}} \\hat{q}(s_{i}^{'},a^{'};w^{-}_{t}) \\right) – \\hat{q}(s_i,a_i;w_t) \\right] \\nabla \\hat{q}(s_i,a_i;w_t)$$\n"
   ]
  },
  {
   "cell_type": "code",
   "execution_count": 1,
   "metadata": {},
   "outputs": [],
   "source": [
    "import random\n",
    "import numpy as np\n",
    "import torch\n",
    "import torch.nn as nn\n",
    "import torch.nn.functional as F\n",
    "import torch.optim as optim\n",
    "\n",
    "import gym\n",
    "\n",
    "import numpy as np\n",
    "import matplotlib.pyplot as plt\n",
    "from scipy.signal import convolve, gaussian\n",
    "import math\n",
    "import os\n",
    "import io\n",
    "import base64\n",
    "import time\n",
    "from tqdm import trange\n",
    "import glob\n",
    "import random\n",
    "from collections import namedtuple\n",
    "\n",
    "from IPython.display import HTML, clear_output\n",
    "\n",
    "%matplotlib inline\n"
   ]
  },
  {
   "cell_type": "markdown",
   "metadata": {},
   "source": [
    "### Environment - CartPole \n",
    "\n",
    "We can use the setup here to run on any environment which has state as a single vector and actions are discrete. We will build it on Cart Pole and they try to run this on many other environments like Lunar Lander and others.\n"
   ]
  },
  {
   "cell_type": "code",
   "execution_count": 2,
   "metadata": {},
   "outputs": [],
   "source": [
    "def make_env(env_name, seed=None):\n",
    "    # remove time limit wrapper from environment\n",
    "    env = gym.make(env_name).unwrapped\n",
    "    if seed is not None:\n",
    "        env.seed(seed)\n",
    "    return env"
   ]
  },
  {
   "cell_type": "code",
   "execution_count": 3,
   "metadata": {},
   "outputs": [
    {
     "data": {
      "image/png": "[encoded data removed]",
      "text/plain": [
       "<Figure size 432x288 with 1 Axes>"
      ]
     },
     "metadata": {
      "needs_background": "light"
     },
     "output_type": "display_data"
    }
   ],
   "source": [
    "ENV_NAME = 'CartPole-v1'\n",
    "\n",
    "env = make_env(ENV_NAME)\n",
    "env.reset()\n",
    "plt.imshow(env.render(\"rgb_array\"))\n",
    "state_shape, n_actions = env.observation_space.shape, env.action_space.n"
   ]
  },
  {
   "cell_type": "markdown",
   "metadata": {},
   "source": [
    "### Building a network using pytorch"
   ]
  },
  {
   "cell_type": "markdown",
   "metadata": {},
   "source": [
    "Let us build a DQN agent using a simple network. We now need to build a neural network that can map states/observations to state q-values. The observation space and action space is as given below for CartPole\n",
    "\n",
    "    Observation:\n",
    "        Type: Box(4)\n",
    "        Num     Observation               Min                     Max\n",
    "        0       Cart Position             -4.8                    4.8\n",
    "        1       Cart Velocity             -Inf                    Inf\n",
    "        2       Pole Angle                -0.418 rad (-24 deg)    0.418 rad (24 deg)\n",
    "        3       Pole Angular Velocity     -Inf                    Inf\n",
    "    Actions:\n",
    "        Type: Discrete(2)\n",
    "        Num   Action\n",
    "        0     Push cart to the left\n",
    "        1     Push cart to the right\n",
    "        \n",
    "\n",
    "The model will be a simple one with 2 hidden payers with Relu activation and final layer being logits with dimension equation to number of actions. "
   ]
  },
  {
   "cell_type": "code",
   "execution_count": 4,
   "metadata": {},
   "outputs": [
    {
     "data": {
      "text/plain": [
       "device(type='cpu')"
      ]
     },
     "execution_count": 4,
     "metadata": {},
     "output_type": "execute_result"
    }
   ],
   "source": [
    "device = torch.device('cuda' if torch.cuda.is_available() else 'cpu')\n",
    "device"
   ]
  },
  {
   "cell_type": "code",
   "execution_count": 5,
   "metadata": {},
   "outputs": [],
   "source": [
    "class DQNAgent(nn.Module):\n",
    "    def __init__(self, state_shape, n_actions, epsilon=0):\n",
    "\n",
    "        super().__init__()\n",
    "        self.epsilon = epsilon\n",
    "        self.n_actions = n_actions\n",
    "        self.state_shape = state_shape\n",
    "        \n",
    "        state_dim = state_shape[0]\n",
    "        # a simple NN with state_dim as input vector (inout is state s)\n",
    "        # and self.n_actions as output vector of logits of q(s, a)\n",
    "        self.fc1 = nn.Linear(state_dim, 64)\n",
    "        self.fc2 = nn.Linear(64, 128)\n",
    "        self.fc3 = nn.Linear(128, 32)\n",
    "        self.q = nn.Linear(32, n_actions)\n",
    "        \n",
    "    def forward(self, state_t):\n",
    "        # pass the state at time t through the newrok to get Q(s,a)\n",
    "        x = F.relu(self.fc1(state_t))\n",
    "        x = F.relu(self.fc2(x))\n",
    "        x = F.relu(self.fc3(x))\n",
    "        qvalues = self.q(x)\n",
    "        return qvalues\n",
    "\n",
    "    def get_qvalues(self, states):\n",
    "        # input is an array of states in numpy and outout is Qvals as numpy array\n",
    "        states = torch.tensor(states, device=device, dtype=torch.float32)\n",
    "        qvalues = self.forward(states)\n",
    "        return qvalues.data.cpu().numpy()\n",
    "\n",
    "    def sample_actions(self, qvalues):\n",
    "        # sample actions from a batch of q_values using epsilon greedy policy\n",
    "        epsilon = self.epsilon\n",
    "        batch_size, n_actions = qvalues.shape\n",
    "        random_actions = np.random.choice(n_actions, size=batch_size)\n",
    "        best_actions = qvalues.argmax(axis=-1)\n",
    "        should_explore = np.random.choice(\n",
    "            [0, 1], batch_size, p=[1-epsilon, epsilon])\n",
    "        return np.where(should_explore, random_actions, best_actions)"
   ]
  },
  {
   "cell_type": "code",
   "execution_count": 6,
   "metadata": {},
   "outputs": [],
   "source": [
    "agent = DQNAgent(state_shape, n_actions, epsilon=0.5).to(device)"
   ]
  },
  {
   "cell_type": "code",
   "execution_count": 7,
   "metadata": {},
   "outputs": [],
   "source": [
    "def evaluate(env, agent, n_games=1, greedy=False, t_max=10000):\n",
    "    rewards = []\n",
    "    for _ in range(n_games):\n",
    "        s = env.reset()\n",
    "        reward = 0\n",
    "        for _ in range(t_max):\n",
    "            qvalues = agent.get_qvalues([s])\n",
    "            action = qvalues.argmax(axis=-1)[0] if greedy else agent.sample_actions(qvalues)[0]\n",
    "            s, r, done, _ = env.step(action)\n",
    "            reward += r\n",
    "            if done:\n",
    "                break\n",
    "\n",
    "        rewards.append(reward)\n",
    "    return np.mean(rewards)"
   ]
  },
  {
   "cell_type": "code",
   "execution_count": 8,
   "metadata": {},
   "outputs": [
    {
     "name": "stdout",
     "output_type": "stream",
     "text": [
      "14.0\n"
     ]
    }
   ],
   "source": [
    "print(evaluate(env, agent, n_games=1))\n",
    "env.close()"
   ]
  },
  {
   "cell_type": "markdown",
   "metadata": {},
   "source": [
    "### Experience replay\n",
    "\n",
    "We will use the replay buffer we saw in chapter 4 listings. Replay buffer is very important in DQN to break the correlation between samples. We use a behavior policy (epsilon greedy) to sample from the environment and store the transitions (s,a,r,s',done) into a buffer. These samples are used multiple times in a learning making the process sample efficient. \n",
    "\n",
    "The interface to ReplayBuffer is:\n",
    "* `exp_replay.add(state, action, reward, next_state, done)` - saves (s,a,r,s',done) tuple into the buffer\n",
    "* `exp_replay.sample(batch_size)` - returns states, actions, rewards, next_states and done_flags for `batch_size` random samples.\n",
    "* `len(exp_replay)` - returns number of elements stored in replay buffer.\n",
    "\n",
    "We have modified the implementation a bit to make it more efficient"
   ]
  },
  {
   "cell_type": "code",
   "execution_count": 9,
   "metadata": {},
   "outputs": [],
   "source": [
    "class ReplayBuffer:\n",
    "    def __init__(self, size):\n",
    "        self.size = size #max number of items in buffer\n",
    "        self.buffer =[] #array to holde buffer\n",
    "        self.next_id = 0\n",
    "    \n",
    "    def __len__(self):\n",
    "        return len(self.buffer)\n",
    "    \n",
    "    def add(self, state, action, reward, next_state, done):\n",
    "        item = (state, action, reward, next_state, done)\n",
    "        if len(self.buffer) < self.size:\n",
    "           self.buffer.append(item)\n",
    "        else:\n",
    "            self.buffer[self.next_id] = item\n",
    "        self.next_id = (self.next_id + 1) % self.size\n",
    "        \n",
    "    def sample(self, batch_size):\n",
    "        idxs = np.random.choice(len(self.buffer), batch_size)\n",
    "        samples = [self.buffer[i] for i in idxs]\n",
    "        states, actions, rewards, next_states, done_flags = list(zip(*samples))\n",
    "        return np.array(states), np.array(actions), np.array(rewards), np.array(next_states), np.array(done_flags)"
   ]
  },
  {
   "cell_type": "code",
   "execution_count": 10,
   "metadata": {},
   "outputs": [],
   "source": [
    "def play_and_record(start_state, agent, env, exp_replay, n_steps=1):\n",
    "\n",
    "    s = start_state\n",
    "    sum_rewards = 0\n",
    "\n",
    "    # Play the game for n_steps and record transitions in buffer\n",
    "    for _ in range(n_steps):\n",
    "        qvalues = agent.get_qvalues([s])\n",
    "        a = agent.sample_actions(qvalues)[0]        \n",
    "        next_s, r, done, _ = env.step(a)\n",
    "        sum_rewards += r\n",
    "        exp_replay.add(s, a, r, next_s, done)\n",
    "        if done:\n",
    "            s = env.reset()\n",
    "        else:\n",
    "            s = next_s\n",
    "        \n",
    "    return sum_rewards, s"
   ]
  },
  {
   "cell_type": "markdown",
   "metadata": {},
   "source": [
    "### Target network\n"
   ]
  },
  {
   "cell_type": "code",
   "execution_count": 11,
   "metadata": {},
   "outputs": [
    {
     "data": {
      "text/plain": [
       "<All keys matched successfully>"
      ]
     },
     "execution_count": 11,
     "metadata": {},
     "output_type": "execute_result"
    }
   ],
   "source": [
    "target_network = DQNAgent(agent.state_shape, agent.n_actions, epsilon=0.5).to(device)\n",
    "target_network.load_state_dict(agent.state_dict())"
   ]
  },
  {
   "cell_type": "markdown",
   "metadata": {},
   "source": [
    "### Learning with... Q-learning\n",
    "Here we write a function similar to tabular q-learning. We will calculate average TD error per batch using the equation: \n",
    "\n",
    "$$ L =  \\frac{1}{N} \\sum_{i=1}^{N} \\left[ r_i + \\left( (1-done_i) . \\gamma .  \\max_{a^{'}} \\hat{q}(s_{i}^{'},a^{'};w^{-}_{t}) \\right) – \\hat{q}(s_i,a_i;w_t) \\right]^2$$\n",
    "\n",
    "\n",
    "$$ \\nabla_w L =   - \\frac{1}{N} \\sum_{i=1}^{N} \\left[ r_i + \\left( (1-done_i) . \\gamma .  \\max_{a^{'}} \\hat{q}(s_{i}^{'},a^{'};w^{-}_{t}) \\right) – \\hat{q}(s_i,a_i;w_t) \\right] \\nabla \\hat{q}(s_i,a_i;w_t)$$\n",
    "\n",
    "\n",
    "$\\hat{q}(s',A;w^{-})$ is calculated using target network whose weights are held constant and refreshed periodically from the agent learning network. \n",
    "\n",
    "Target is given by following:\n",
    "* non terminal state: $r_i +  \\gamma .  \\max_{a^{'}} \\hat{q}(s_{i}^{'},a^{'};w^{-}_{t})$\n",
    "* terminal state: $ r_i $\n",
    "\n",
    "We then carryout back propagation through the agent network to update the weights using equation below:\n",
    "\n",
    "\n",
    "$$ \n",
    "\\DeclareMathOperator*{\\max}{max} w_{t+1} \\leftarrow w_t - \\alpha \\nabla_{w}L$$"
   ]
  },
  {
   "cell_type": "code",
   "execution_count": 12,
   "metadata": {},
   "outputs": [],
   "source": [
    "def td_loss_dqn(agent, target_network, states, actions, rewards, next_states, done_flags,\n",
    "                    gamma=0.99, device=device):\n",
    "\n",
    "    # convert numpy array to torch tensors\n",
    "    states = torch.tensor(states, device=device, dtype=torch.float)\n",
    "    actions = torch.tensor(actions, device=device, dtype=torch.long)\n",
    "    rewards = torch.tensor(rewards, device=device, dtype=torch.float)\n",
    "    next_states = torch.tensor(next_states, device=device, dtype=torch.float)\n",
    "    done_flags = torch.tensor(done_flags.astype('float32'),device=device,dtype=torch.float)\n",
    "\n",
    "    # get q-values for all actions in current states\n",
    "    # use agent network\n",
    "    q_s = agent(states)\n",
    "\n",
    "    # select q-values for chosen actions\n",
    "    q_s_a = q_s[range(\n",
    "        len(actions)), actions]\n",
    "\n",
    "    with torch.no_grad():\n",
    "        # compute q-values for all actions in next states\n",
    "        # use target network\n",
    "        q_s1 = target_network(next_states)\n",
    "\n",
    "\n",
    "        # compute Qmax(next_states, actions) using predicted next q-values\n",
    "        q_s1_a1max,_ = torch.max(q_s1, dim=1)\n",
    "\n",
    "        # compute \"target q-values\" \n",
    "        target_q = rewards + gamma * q_s1_a1max * (1-done_flags)\n",
    "\n",
    "    # mean squared error loss to minimize\n",
    "    loss = torch.mean((q_s_a - target_q.detach()) ** 2)\n",
    "\n",
    "    return loss"
   ]
  },
  {
   "cell_type": "code",
   "execution_count": 13,
   "metadata": {},
   "outputs": [],
   "source": [
    "def epsilon_schedule(start_eps, end_eps, step, final_step):\n",
    "    return start_eps + (end_eps-start_eps)*min(step, final_step)/final_step\n",
    "\n",
    "def smoothen(values):\n",
    "    kernel = gaussian(100, std=100)\n",
    "    kernel = kernel / np.sum(kernel)\n",
    "    return convolve(values, kernel, 'valid')"
   ]
  },
  {
   "cell_type": "markdown",
   "metadata": {},
   "source": [
    "### Main loop\n",
    "\n",
    "We now carryout the training on DQN setup above."
   ]
  },
  {
   "cell_type": "code",
   "execution_count": 14,
   "metadata": {},
   "outputs": [],
   "source": [
    "def train_agent(env, agent, target_network, optimizer, td_loss_fn):\n",
    "    \n",
    "    state = env.reset()\n",
    "    # let us fill experience replay with some samples using full random policy\n",
    "    exp_replay = ReplayBuffer(10**4)\n",
    "    for i in range(100):\n",
    "        play_and_record(state, agent, env, exp_replay, n_steps=10**2)\n",
    "        if len(exp_replay) == 10**4:\n",
    "            break\n",
    "    print('Finished filling buffer with: {} samples'.format(len(exp_replay)))\n",
    "\n",
    "    mean_rw_history = []\n",
    "    td_loss_history = []\n",
    "    state = env.reset()\n",
    "    for step in trange(total_steps + 1):\n",
    "\n",
    "        # reduce exploration as we progress\n",
    "        agent.epsilon = epsilon_schedule(start_epsilon, end_epsilon, step, eps_decay_final_step)\n",
    "\n",
    "        # take timesteps_per_epoch and update experience replay buffer\n",
    "        _, state = play_and_record(state, agent, env, exp_replay, timesteps_per_epoch)\n",
    "\n",
    "        # train by sampling batch_size of data from experience replay\n",
    "        states, actions, rewards, next_states, done_flags = exp_replay.sample(batch_size)\n",
    "\n",
    "\n",
    "        # loss = <compute TD loss>\n",
    "        optimizer.zero_grad()\n",
    "        loss = td_loss_fn(agent, target_network, \n",
    "                          states, actions, rewards, next_states, done_flags,                  \n",
    "                          gamma=0.99,\n",
    "                          device=device)\n",
    "\n",
    "        loss.backward()\n",
    "        grad_norm = nn.utils.clip_grad_norm_(agent.parameters(), max_grad_norm)\n",
    "        optimizer.step()\n",
    "\n",
    "        if step % loss_freq == 0:\n",
    "            td_loss_history.append(loss.data.cpu().item())\n",
    "\n",
    "        if step % refresh_target_network_freq == 0:\n",
    "            # Load agent weights into target_network\n",
    "            target_network.load_state_dict(agent.state_dict())\n",
    "\n",
    "        if step % eval_freq == 0:\n",
    "            # eval the agent\n",
    "            mean_rw_history.append(evaluate(\n",
    "                make_env(ENV_NAME, seed=step), agent, n_games=3, greedy=True, t_max=1000)\n",
    "            )\n",
    "\n",
    "            clear_output(True)\n",
    "            print(\"buffer size = %i, epsilon = %.5f\" %\n",
    "                  (len(exp_replay), agent.epsilon))\n",
    "\n",
    "            plt.figure(figsize=[16, 5])\n",
    "            plt.subplot(1, 2, 1)\n",
    "            plt.title(\"Mean reward per episode\")\n",
    "            plt.plot(mean_rw_history)\n",
    "            plt.grid()\n",
    "\n",
    "            assert not np.isnan(td_loss_history[-1])\n",
    "            plt.subplot(1, 2, 2)\n",
    "            plt.title(\"TD loss history (smoothened)\")\n",
    "            plt.plot(smoothen(td_loss_history))\n",
    "            plt.grid()\n",
    "\n",
    "            plt.show()\n",
    "    "
   ]
  },
  {
   "cell_type": "code",
   "execution_count": 15,
   "metadata": {},
   "outputs": [],
   "source": [
    "#setup some parameters for training\n",
    "timesteps_per_epoch = 1\n",
    "batch_size = 32\n",
    "total_steps = 3 * 10**4\n",
    "\n",
    "# set exploration epsilon \n",
    "start_epsilon = 1\n",
    "end_epsilon = 0.05\n",
    "eps_decay_final_step = 2 * 10**4\n",
    "\n",
    "# setup spme frequency for loggind and updating target network\n",
    "loss_freq = 50\n",
    "refresh_target_network_freq = 100\n",
    "eval_freq = 1000\n",
    "\n",
    "# to clip the gradients\n",
    "max_grad_norm = 5000\n",
    "\n",
    "#set up random numbers\n",
    "seed=0\n",
    "random.seed(seed)\n",
    "np.random.seed(seed)\n",
    "torch.manual_seed(seed) \n",
    "\n",
    "#init environment\n",
    "ENV_NAME = 'CartPole-v1'\n",
    "env = make_env(ENV_NAME, seed)\n",
    "state_dim = env.observation_space.shape\n",
    "n_actions = env.action_space.n\n",
    "\n",
    "#init agent, target network and Optimizer\n",
    "agent = DQNAgent(state_dim, n_actions, epsilon=1).to(device)\n",
    "target_network = DQNAgent(state_dim, n_actions, epsilon=1).to(device)\n",
    "target_network.load_state_dict(agent.state_dict())\n",
    "optimizer = torch.optim.Adam(agent.parameters(), lr=1e-4)"
   ]
  },
  {
   "cell_type": "code",
   "execution_count": 16,
   "metadata": {},
   "outputs": [
    {
     "name": "stdout",
     "output_type": "stream",
     "text": [
      "buffer size = 10000, epsilon = 0.05000\n"
     ]
    },
    {
     "data": {
      "image/png": "[encoded data removed]",
      "text/plain": [
       "<Figure size 1152x360 with 2 Axes>"
      ]
     },
     "metadata": {
      "needs_background": "light"
     },
     "output_type": "display_data"
    },
    {
     "name": "stderr",
     "output_type": "stream",
     "text": [
      "100%|███████████████████████████████████████████████████████████████████████████| 30001/30001 [03:00<00:00, 166.01it/s]\n"
     ]
    }
   ],
   "source": [
    "train_agent(env, agent, target_network, optimizer, td_loss_fn=td_loss_dqn)"
   ]
  },
  {
   "cell_type": "code",
   "execution_count": 17,
   "metadata": {},
   "outputs": [
    {
     "name": "stdout",
     "output_type": "stream",
     "text": [
      "final score: 284.6333333333333\n"
     ]
    }
   ],
   "source": [
    "final_score = evaluate(\n",
    "  make_env(ENV_NAME),\n",
    "  agent, n_games=30, greedy=True, t_max=1000\n",
    ")\n",
    "print('final score:', final_score)\n"
   ]
  },
  {
   "cell_type": "markdown",
   "metadata": {},
   "source": [
    "**Let us record a video of trained agent**"
   ]
  },
  {
   "cell_type": "code",
   "execution_count": 18,
   "metadata": {},
   "outputs": [],
   "source": [
    "def generate_animation(env, agent, save_dir):\n",
    "    \n",
    "    try:\n",
    "        env = gym.wrappers.Monitor(\n",
    "            env, save_dir, video_callable=lambda id: True, force=True, mode='evaluation')\n",
    "    except gym.error.Error as e:\n",
    "        print(e)\n",
    "\n",
    "    if not os.path.exists(save_dir):\n",
    "        os.makedirs(save_dir)\n",
    "        \n",
    "    state = env.reset()\n",
    "    reward = 0\n",
    "    while True:\n",
    "        qvalues = agent.get_qvalues([state])\n",
    "        action = qvalues.argmax(axis=-1)[0]\n",
    "        state, r, done, _ = env.step(action)\n",
    "        reward += r\n",
    "        if done:\n",
    "            print('Got reward: {}'.format(reward))\n",
    "            break\n",
    "            \n",
    "def display_animation(filepath):\n",
    "    video = io.open(filepath, 'r+b').read()\n",
    "    encoded = base64.b64encode(video)\n",
    "    return HTML(data='''<video alt=\"test\" controls>\n",
    "                <source src=\"data:video/mp4;base64,{0}\" type=\"video/mp4\" />\n",
    "                 </video>'''.format(encoded.decode('ascii')))"
   ]
  },
  {
   "cell_type": "code",
   "execution_count": 19,
   "metadata": {},
   "outputs": [
    {
     "name": "stdout",
     "output_type": "stream",
     "text": [
      "Got reward: 236.0\n"
     ]
    },
    {
     "data": {
      "text/html": [
       "<video alt=\"test\" controls>\n",
       "                <source src=\"data:video/mp4;base64,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\" type=\"video/mp4\" />\n",
       "                 </video>"
      ],
      "text/plain": [
       "<IPython.core.display.HTML object>"
      ]
     },
     "execution_count": 19,
     "metadata": {},
     "output_type": "execute_result"
    }
   ],
   "source": [
    "# Animate learned policy\n",
    "save_dir='./videos/pytorch/6_5/'\n",
    "env = make_env(ENV_NAME)\n",
    "generate_animation(env, agent, save_dir=save_dir)\n",
    "[filepath] = glob.glob(os.path.join(save_dir, '*.mp4'))\n",
    "display_animation(filepath)\n"
   ]
  },
  {
   "cell_type": "markdown",
   "metadata": {},
   "source": [
    "### Dueling DQN\n",
    "\n",
    "In this approach as discussed in paper, https://arxiv.org/pdf/1511.06581.pdf , we replace the network. Our DQN and DDQN network was predicting Q values for all the actions in a given state. Instead of that, we will now predict two separate values, one for V(s), a scalar value and A(s,a) - advantage of a given action over V(s). Using these two, Q(s,a) is computed as below:\n",
    "\n",
    "$$ Q(s,a) = V(s) + [A(s,a) - \\frac{1}{|A|} \\sum_{a} A(s,a)] $$\n",
    "\n",
    "![Dueling DQN](./images/dueling_network.png \"Dueling DQN\")\n",
    "\n",
    "Training can be performed using either vanilla DQN or using DDQN approach. For demonstration purposes we will stick to vanilla DQN approach \n",
    "\n",
    "Code of Dueling DQN and associated code for training is given following cells"
   ]
  },
  {
   "cell_type": "code",
   "execution_count": 20,
   "metadata": {},
   "outputs": [],
   "source": [
    "class DuelingDQNAgent(nn.Module):\n",
    "    def __init__(self, state_shape, n_actions, epsilon=0):\n",
    "\n",
    "        super().__init__()\n",
    "        self.epsilon = epsilon\n",
    "        self.n_actions = n_actions\n",
    "        self.state_shape = state_shape\n",
    "        \n",
    "        state_dim = state_shape[0]\n",
    "        # a simple NN with state_dim as input vector (inout is state s)\n",
    "        # and self.n_actions as output vector of logits of q(s, a)\n",
    "        self.fc1 = nn.Linear(state_dim, 64)\n",
    "        self.fc2 = nn.Linear(64, 128)\n",
    "        self.fc_value = nn.Linear(128, 32)\n",
    "        self.fc_adv = nn.Linear(128, 32)\n",
    "        self.value = nn.Linear(32, 1)\n",
    "        self.adv = nn.Linear(32, n_actions)\n",
    "                \n",
    "    def forward(self, state_t):\n",
    "        # pass the state at time t through the newrok to get Q(s,a)\n",
    "        x = F.relu(self.fc1(state_t))\n",
    "        x = F.relu(self.fc2(x))\n",
    "        v = F.relu(self.fc_value(x))\n",
    "        v = self.value(v)\n",
    "        adv = F.relu(self.fc_adv(x))\n",
    "        adv = self.adv(adv)\n",
    "        adv_avg = torch.mean(adv, dim=1, keepdim=True)\n",
    "        qvalues = v + adv - adv_avg\n",
    "        return qvalues\n",
    "\n",
    "    def get_qvalues(self, states):\n",
    "        # input is an array of states in numpy and outout is Qvals as numpy array\n",
    "        states = torch.tensor(states, device=device, dtype=torch.float32)\n",
    "        qvalues = self.forward(states)\n",
    "        return qvalues.data.cpu().numpy()\n",
    "\n",
    "    def sample_actions(self, qvalues):\n",
    "        # sample actions from a batch of q_values using epsilon greedy policy\n",
    "        epsilon = self.epsilon\n",
    "        batch_size, n_actions = qvalues.shape\n",
    "        random_actions = np.random.choice(n_actions, size=batch_size)\n",
    "        best_actions = qvalues.argmax(axis=-1)\n",
    "        should_explore = np.random.choice(\n",
    "            [0, 1], batch_size, p=[1-epsilon, epsilon])\n",
    "        return np.where(should_explore, random_actions, best_actions)"
   ]
  },
  {
   "cell_type": "code",
   "execution_count": 21,
   "metadata": {},
   "outputs": [],
   "source": [
    "#setup some parameters for training\n",
    "timesteps_per_epoch = 1\n",
    "batch_size = 32\n",
    "total_steps = 3 * 10**4\n",
    "\n",
    "# set exploration epsilon \n",
    "start_epsilon = 1\n",
    "end_epsilon = 0.05\n",
    "eps_decay_final_step = 2 * 10**4\n",
    "\n",
    "# setup spme frequency for loggind and updating target network\n",
    "loss_freq = 50\n",
    "refresh_target_network_freq = 100\n",
    "eval_freq = 1000\n",
    "\n",
    "# to clip the gradients\n",
    "max_grad_norm = 5000\n",
    "\n",
    "#set up random numbers\n",
    "seed=0\n",
    "random.seed(seed)\n",
    "np.random.seed(seed)\n",
    "torch.manual_seed(seed) \n",
    "\n",
    "#init environment\n",
    "ENV_NAME = 'CartPole-v1'\n",
    "env = make_env(ENV_NAME, seed)\n",
    "state_dim = env.observation_space.shape\n",
    "n_actions = env.action_space.n\n",
    "\n",
    "#init agent, target network and Optimizer\n",
    "agent = DuelingDQNAgent(state_dim, n_actions, epsilon=1).to(device)\n",
    "target_network = DuelingDQNAgent(state_dim, n_actions, epsilon=1).to(device)\n",
    "target_network.load_state_dict(agent.state_dict())\n",
    "optimizer = torch.optim.Adam(agent.parameters(), lr=1e-4)"
   ]
  },
  {
   "cell_type": "code",
   "execution_count": 22,
   "metadata": {},
   "outputs": [
    {
     "name": "stdout",
     "output_type": "stream",
     "text": [
      "buffer size = 10000, epsilon = 0.05000\n"
     ]
    },
    {
     "data": {
      "image/png": "[encoded data removed]",
      "text/plain": [
       "<Figure size 1152x360 with 2 Axes>"
      ]
     },
     "metadata": {
      "needs_background": "light"
     },
     "output_type": "display_data"
    },
    {
     "name": "stderr",
     "output_type": "stream",
     "text": [
      "100%|███████████████████████████████████████████████████████████████████████████| 30001/30001 [04:14<00:00, 118.09it/s]\n"
     ]
    }
   ],
   "source": [
    "train_agent(env, agent, target_network, optimizer, td_loss_fn=td_loss_dqn)"
   ]
  },
  {
   "cell_type": "code",
   "execution_count": 23,
   "metadata": {},
   "outputs": [
    {
     "name": "stdout",
     "output_type": "stream",
     "text": [
      "final score(Dueling DQN): 254\n"
     ]
    }
   ],
   "source": [
    "final_score = evaluate(\n",
    "  make_env(ENV_NAME),\n",
    "  agent, n_games=30, greedy=True, t_max=1000\n",
    ")\n",
    "print('final score(Dueling DQN): {:.0f}'.format(final_score))\n"
   ]
  },
  {
   "cell_type": "markdown",
   "metadata": {},
   "source": [
    "### Summary\n",
    "\n",
    "In this notebook we saw how to train a DQN agent with experience replay and target networks. We also saw variant **Dueling DQN** . As discussed above, we could also combine DDQN with Dueling type of architecture giving us **Dueling DDQN.**\n"
   ]
  }
 ],
 "metadata": {
  "kernelspec": {
   "display_name": "Python 3",
   "language": "python",
   "name": "python3"
  },
  "language_info": {
   "codemirror_mode": {
    "name": "ipython",
    "version": 3
   },
   "file_extension": ".py",
   "mimetype": "text/x-python",
   "name": "python",
   "nbconvert_exporter": "python",
   "pygments_lexer": "ipython3",
   "version": "3.8.3"
  }
 },
 "nbformat": 4,
 "nbformat_minor": 1
}
