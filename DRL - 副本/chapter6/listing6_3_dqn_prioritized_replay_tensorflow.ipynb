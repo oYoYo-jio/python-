{
 "cells": [
  {
   "cell_type": "markdown",
   "metadata": {},
   "source": [
    "# Deep Q-Network implementation (TensorFlow).\n",
    "\n",
    "In this notebook, we will implement DQN with **experience replay** and **target networks**.\n",
    "$$ \\DeclareMathOperator*{\\max}{max}$$\n",
    "### Recap\n",
    "\n",
    "Q Learning control is carried out by sampling step by step and updating Q values at each step. We use ε-greedy policy to explore and generate samples. However, the policy learnt is a deterministic greedy policy with no exploration. We can carryout updates online i.e. we take a step and use `(current state, action, reward and next_state)` tuple to update. \n",
    "\n",
    "In case of function approximation using neural network, the input to the network is the state and output is the q(s,a) for all the actions in the state `s`. It is denoted as $ \\hat{q}(s_t,a; w_{t}) $, where $w_{t}$ is the weights of the neural network which we are trying to learn as part of DQN learning. \n",
    "\n",
    "We use two networks, one target network to get the max q-value of next state denoted by $ \\max_a \\hat {q}(s_{t+1},a; w^{-}_{t}) $ and the primary network (online network) with weights $w_{t}$ which we are updated based on back propagation of the TD error through the network.\n",
    "\n",
    "The Update equation is given below. This is the online version:\n",
    "$$ w_{t+1} \\leftarrow w_t + \\alpha [ R_{t+1} + \\gamma . \\max_{a} \\hat{q}(S_{t+1},a,w^{-}_{t}) – \\hat{q}(S_t,A_t,w_t)] \\nabla \\hat{q}(S_t,A_t,w_t)$$\n",
    "\n",
    "Online update with neural network with millions of weights does not work well. Accordingly, We use experience replay (aka Replay Buffer).  We use a behavior policy to explore the environment and store the samples `(s, a, r, s', done)` in a buffer. The samples are generated using an exploratory behavior policy while we improve a deterministic target policy using q-values. \n",
    "\n",
    "Therefore, we can always use older samples from behavior policy and apply them again and again. We can keep the buffer size fixed to some pre-determined size and keep deleting the older samples as we collect new ones. This process makes learning sample efficient by reusing a sample multiple times and also removing temporal dependence of the samples we would otherwise see while following a trajectory.\n",
    "\n",
    "The update equation with batch update with minor modifications is given below. We collect samples of transitions (current state, action, reward, next state) in a buffer. Where each sample is denoted as a tuple: \n",
    "\n",
    "$$ (s_{i}, a_{i}, r_{i}, s^{'}_{i}, done_{i})$$\n",
    "\n",
    "Subscript (i) denotes ith sample. We take N samples from experience replay selecting randomly and update the weights. Subscript (t) denotes the index of weight updates. If the current state is done, as denoted by `done` flag, the target is just the reward as terminal states have zero value. The final update equation is as given below:\n",
    "\n",
    "$$w_{t+1} \\leftarrow w_t + \\alpha \\frac{1}{N} \\sum_{i=1}^{N} \\left[ r_i + \\left( (1-done_i) . \\gamma .  \\max_{a^{'}} \\hat{q}(s_{i}^{'},a^{'};w^{-}_{t}) \\right) – \\hat{q}(s_i,a_i;w_t) \\right] \\nabla \\hat{q}(s_i,a_i;w_t)$$\n"
   ]
  },
  {
   "cell_type": "code",
   "execution_count": 1,
   "metadata": {},
   "outputs": [],
   "source": [
    "import random\n",
    "import numpy as np\n",
    "import tensorflow as tf\n",
    "from tensorflow.keras.layers import Dense, Flatten\n",
    "from tensorflow.keras import Model\n",
    "import gym\n",
    "import numpy as np\n",
    "import matplotlib.pyplot as plt\n",
    "from scipy.signal import convolve, gaussian\n",
    "\n",
    "import os\n",
    "import io\n",
    "import base64\n",
    "import time\n",
    "import glob\n",
    "from IPython.display import HTML\n",
    "\n",
    "%matplotlib inline\n"
   ]
  },
  {
   "cell_type": "markdown",
   "metadata": {},
   "source": [
    "### Environment - CartPole \n",
    "\n",
    "We can use the setup here to run on any environment which has state as a single vector and actions are discrete. We will build it on Cart Pole and they try to run this on many other environments like Atari games and others."
   ]
  },
  {
   "cell_type": "code",
   "execution_count": 2,
   "metadata": {},
   "outputs": [],
   "source": [
    "def make_env(env_name, seed=None):\n",
    "    # remove time limit wrapper from environment\n",
    "    env = gym.make(env_name).unwrapped\n",
    "    if seed is not None:\n",
    "        env.seed(seed)\n",
    "    return env"
   ]
  },
  {
   "cell_type": "code",
   "execution_count": 3,
   "metadata": {},
   "outputs": [
    {
     "data": {
      "image/png": "[encoded data removed]",
      "text/plain": [
       "<Figure size 432x288 with 1 Axes>"
      ]
     },
     "metadata": {
      "needs_background": "light"
     },
     "output_type": "display_data"
    }
   ],
   "source": [
    "env_name = 'CartPole-v1'\n",
    "\n",
    "env = make_env(env_name)\n",
    "env.reset()\n",
    "plt.imshow(env.render(\"rgb_array\"))\n",
    "state_shape, n_actions = env.observation_space.shape, env.action_space.n"
   ]
  },
  {
   "cell_type": "markdown",
   "metadata": {},
   "source": [
    "### Building a network using tensorflow"
   ]
  },
  {
   "cell_type": "markdown",
   "metadata": {},
   "source": [
    "Let us build a DQN agent using a simple network. We now need to build a neural network that can map states/observations to state q-values. The observation space and action space is as given below for CartPole\n",
    "\n",
    "    Observation:\n",
    "        Type: Box(4)\n",
    "        Num     Observation               Min                     Max\n",
    "        0       Cart Position             -4.8                    4.8\n",
    "        1       Cart Velocity             -Inf                    Inf\n",
    "        2       Pole Angle                -0.418 rad (-24 deg)    0.418 rad (24 deg)\n",
    "        3       Pole Angular Velocity     -Inf                    Inf\n",
    "    Actions:\n",
    "        Type: Discrete(2)\n",
    "        Num   Action\n",
    "        0     Push cart to the left\n",
    "        1     Push cart to the right\n",
    "        \n",
    "\n",
    "The model will be a simple one with 2 hidden layers with Relu activation and final layer being logits with dimension equal to number of actions. "
   ]
  },
  {
   "cell_type": "code",
   "execution_count": 4,
   "metadata": {},
   "outputs": [],
   "source": [
    "class DQNAgent:\n",
    "    def __init__(self, state_shape, n_actions, epsilon=0):\n",
    "        self.epsilon = epsilon\n",
    "        self.n_actions = n_actions\n",
    "        self.state_shape = state_shape\n",
    "\n",
    "        state_dim = state_shape[0]\n",
    "        self.model = tf.keras.models.Sequential()\n",
    "        self.model.add(tf.keras.Input(shape=(state_dim,)))\n",
    "        self.model.add(tf.keras.layers.Dense(192, activation='relu'))\n",
    "        self.model.add(tf.keras.layers.Dense(256, activation='relu'))\n",
    "        self.model.add(tf.keras.layers.Dense(64, activation='relu'))\n",
    "        self.model.add(tf.keras.layers.Dense(n_actions))\n",
    "    \n",
    "    def __call__(self, state_t):\n",
    "        # pass the state at time t through the newrok to get Q(s,a)\n",
    "        qvalues = self.model(state_t)\n",
    "        return qvalues\n",
    "\n",
    "    def get_qvalues(self, states):\n",
    "        # input is an array of states in numpy and outout is Qvals as numpy array\n",
    "        qvalues = self.model(states)\n",
    "        return qvalues.numpy()\n",
    "\n",
    "    def sample_actions(self, qvalues):\n",
    "        # sample actions from a batch of q_values using epsilon greedy policy\n",
    "        epsilon = self.epsilon\n",
    "        batch_size, n_actions = qvalues.shape\n",
    "        random_actions = np.random.choice(n_actions, size=batch_size)\n",
    "        best_actions = qvalues.argmax(axis=-1)\n",
    "        should_explore = np.random.choice(\n",
    "            [0, 1], batch_size, p=[1-epsilon, epsilon])\n",
    "        return np.where(should_explore, random_actions, best_actions)"
   ]
  },
  {
   "cell_type": "code",
   "execution_count": 5,
   "metadata": {},
   "outputs": [],
   "source": [
    "agent = DQNAgent(state_shape, n_actions, epsilon=0.5)"
   ]
  },
  {
   "cell_type": "code",
   "execution_count": 6,
   "metadata": {},
   "outputs": [
    {
     "name": "stdout",
     "output_type": "stream",
     "text": [
      "Model: \"sequential\"\n",
      "_________________________________________________________________\n",
      "Layer (type)                 Output Shape              Param #   \n",
      "=================================================================\n",
      "dense (Dense)                (None, 192)               960       \n",
      "_________________________________________________________________\n",
      "dense_1 (Dense)              (None, 256)               49408     \n",
      "_________________________________________________________________\n",
      "dense_2 (Dense)              (None, 64)                16448     \n",
      "_________________________________________________________________\n",
      "dense_3 (Dense)              (None, 2)                 130       \n",
      "=================================================================\n",
      "Total params: 66,946\n",
      "Trainable params: 66,946\n",
      "Non-trainable params: 0\n",
      "_________________________________________________________________\n"
     ]
    }
   ],
   "source": [
    "agent.model.summary()"
   ]
  },
  {
   "cell_type": "code",
   "execution_count": 7,
   "metadata": {},
   "outputs": [],
   "source": [
    "def evaluate(env, agent, n_games=1, greedy=False, t_max=10000):\n",
    "    rewards = []\n",
    "    for _ in range(n_games):\n",
    "        s = env.reset()\n",
    "        reward = 0\n",
    "        for _ in range(t_max):\n",
    "            qvalues = agent.get_qvalues(np.array([s]))\n",
    "            action = qvalues.argmax(axis=-1)[0] if greedy else agent.sample_actions(qvalues)[0]\n",
    "            s, r, done, _ = env.step(action)\n",
    "            reward += r\n",
    "            if done:\n",
    "                break\n",
    "\n",
    "        rewards.append(reward)\n",
    "    return np.mean(rewards)"
   ]
  },
  {
   "cell_type": "code",
   "execution_count": 8,
   "metadata": {},
   "outputs": [
    {
     "data": {
      "text/plain": [
       "16.0"
      ]
     },
     "execution_count": 8,
     "metadata": {},
     "output_type": "execute_result"
    }
   ],
   "source": [
    "evaluate(env, agent, n_games=1)\n"
   ]
  },
  {
   "cell_type": "code",
   "execution_count": 9,
   "metadata": {},
   "outputs": [],
   "source": [
    "env.close()"
   ]
  },
  {
   "cell_type": "markdown",
   "metadata": {},
   "source": [
    "### Prioritized Experience replay\n",
    "\n",
    "In this notebook, we will use `Prioritized` version replay buffer as explained in the paper https://arxiv.org/pdf/1511.05952.pdf. \n",
    "\n",
    "Replay buffer is very important in DQN to break the correlation between samples. We use a behavior policy ($\\epsilon-greedy$) to sample from the environment and store the transitions (s,a,r,s',done) into a buffer. These samples are used multiple times in a learning making the process sample efficient. \n",
    "\n",
    "We will be using prioritized version of experience replay. \n",
    "\n",
    "The interface to PrioritizedReplayBuffer is:\n",
    "* `exp_replay.add(state, action, reward, next_state, done)` - saves (s,a,r,s',done) tuple into the buffer\n",
    "* `exp_replay.sample(batch_size)` - returns states, actions, rewards, next_states and done_flags for `batch_size` random samples.\n",
    "* `update_priorities(idxs, new_priorities)` - returns nothing. \n",
    "* `len(exp_replay)` - returns number of elements stored in replay buffer.\n",
    "\n",
    "IN usual replay buffer, we select training batch with equal pronability of selection for each sample/transition stored in the buffer. However, in Prioritized replay, we assign an importance score $p_i$ to each sample/transition. One approach to importance score is to use the absolute value of TD error $\\delta_i$ with addition of small constant $\\epsilon$ to avoid the edge case of error being zero and not picked up again ever.  \n",
    "\n",
    "$$ p_i = |\\delta_i| +\\epsilon$$\n",
    "\n",
    "$$\\delta_i = r_i + \\left( (1-done_i) . \\gamma .  \\max_{a^{'}_{i}} \\hat{q}(s_{i}^{'},a_{i}^{'};w^{-}_{t}) \\right) – \\hat{q}(s_i,a_i;w_t)$$\n",
    "\n",
    "\n",
    "At the time of picking the batch samples from buffer, the individual importance scores for samples are converted to probability which defines the probability of a sample being picked:\n",
    "\n",
    "$$P(i) = \\frac{p_i^{\\alpha}}{\\sum_i p_i^{\\alpha}}; \\alpha=0.6 $$\n",
    "\n",
    "$\\alpha$ is a hyper parameter and in the paper cited above, a value of 0.6 was found to work the best. We are using the same value in our code below:\n",
    "\n",
    "\n",
    "TD error for the samples chosen in the batch is used to calculate the loss and $\\nabla_w(L)$. The TD error is also used to update the importance score $p_i$ of the samples back in the buffer. \n",
    "\n",
    "\n",
    "The probability $P(i)$ is also used to calculate a weight, an importance sampling value, to adjust for the fact that samples now have a non uniform probability of being picked. The weight vector for batch samples as given below:\n",
    "\n",
    "$$w_i = \\left(\\frac{1}{N}.\\frac{1}{P(i)} \\right)^\\beta; \\beta=0.4$$\n",
    "\n",
    "Value of $\\beta=0.4$ has been taken from the paper cited above. \n",
    "\n",
    "While calculating the training loss, the individual TD errors $\\delta_i$ are weighed by the weights $w_i$. The updated batch loss equation is shown a few cells below."
   ]
  },
  {
   "cell_type": "code",
   "execution_count": 10,
   "metadata": {},
   "outputs": [],
   "source": [
    "class PrioritizedReplayBuffer:\n",
    "    def __init__(self, size, alpha=0.6, beta=0.4):\n",
    "        self.size = size #max number of items in buffer\n",
    "        self.buffer =[] #array to holde buffer\n",
    "        self.next_id = 0\n",
    "        self.alpha = alpha\n",
    "        self.beta = beta\n",
    "        self.priorities = np.ones(size)\n",
    "        self.epsilon = 1e-5\n",
    "    \n",
    "    def __len__(self):\n",
    "        return len(self.buffer)\n",
    "    \n",
    "    def add(self, state, action, reward, next_state, done):\n",
    "        item = (state, action, reward, next_state, done)\n",
    "        max_priority = self.priorities.max()\n",
    "        if len(self.buffer) < self.size:\n",
    "           self.buffer.append(item)\n",
    "        else:\n",
    "            self.buffer[self.next_id] = item\n",
    "        self.priorities[self.next_id] = max_priority\n",
    "        self.next_id = (self.next_id + 1) % self.size\n",
    "        \n",
    "    def sample(self, batch_size):\n",
    "        priorities = self.priorities[:len(self.buffer)]\n",
    "        probabilities = priorities ** self.alpha\n",
    "        probabilities /= probabilities.sum()\n",
    "        N = len(self.buffer)\n",
    "        weights = (N * probabilities) ** (-self.beta)\n",
    "        weights /= weights.max()\n",
    "\n",
    "        idxs = np.random.choice(len(self.buffer), batch_size, p=probabilities)\n",
    "\n",
    "        samples = [self.buffer[i] for i in idxs]\n",
    "        states, actions, rewards, next_states, done_flags = list(zip(*samples))\n",
    "        weights = weights[idxs]\n",
    "        \n",
    "        \n",
    "        return  (np.array(states), np.array(actions), np.array(rewards), \n",
    "                np.array(next_states), np.array(done_flags), np.array(weights), np.array(idxs))\n",
    "        \n",
    "    def update_priorities(self, idxs, new_priorities):\n",
    "        self.priorities[idxs] = new_priorities+self.epsilon"
   ]
  },
  {
   "cell_type": "code",
   "execution_count": 11,
   "metadata": {},
   "outputs": [],
   "source": [
    "def play_and_record(start_state, agent, env, exp_replay, n_steps=1):\n",
    "\n",
    "    s = start_state\n",
    "    sum_rewards = 0\n",
    "\n",
    "    # Play the game for n_steps and record transitions in buffer\n",
    "    for _ in range(n_steps):\n",
    "        qvalues = agent.get_qvalues(np.array([s]))\n",
    "        a = agent.sample_actions(qvalues)[0]        \n",
    "        next_s, r, done, _ = env.step(a)\n",
    "        sum_rewards += r\n",
    "        exp_replay.add(s, a, r, next_s, done)\n",
    "        if done:\n",
    "            s = env.reset()\n",
    "        else:\n",
    "            s = next_s\n",
    "        \n",
    "    return sum_rewards, s"
   ]
  },
  {
   "cell_type": "markdown",
   "metadata": {},
   "source": [
    "### Target network\n"
   ]
  },
  {
   "cell_type": "code",
   "execution_count": 12,
   "metadata": {},
   "outputs": [],
   "source": [
    "target_network = DQNAgent(agent.state_shape, agent.n_actions, epsilon=0.5)\n",
    "target_network.model.set_weights(agent.model.get_weights())"
   ]
  },
  {
   "cell_type": "markdown",
   "metadata": {},
   "source": [
    "### Learning with... Q-learning\n",
    "Here we write a function similar to tabular q-learning. We will calculate average TD error per batch using the equation: \n",
    "\n",
    "$$ L =  \\frac{1}{N} \\sum_{i=1}^{N} \\left[ r_i + \\left( (1-done_i) . \\gamma .  \\max_{a^{'}} \\hat{q}(s_{i}^{'},a^{'};w^{-}_{t}) \\right) – \\hat{q}(s_i,a_i;w_t) \\right]^2$$\n",
    "\n",
    "\n",
    "$$ \\nabla_w L =   - \\frac{1}{N} \\sum_{i=1}^{N} \\left[ r_i + \\left( (1-done_i) . \\gamma .  \\max_{a^{'}} \\hat{q}(s_{i}^{'},a^{'};w^{-}_{t}) \\right) – \\hat{q}(s_i,a_i;w_t) \\right] \\nabla \\hat{q}(s_i,a_i;w_t)$$\n",
    "\n",
    "\n",
    "$\\hat{q}(s',A;w^{-})$ is calculated using target network whose weights are held constant and refreshed periodically from the agent learning network. \n",
    "\n",
    "Target is given by following:\n",
    "* non terminal state: $r_i +  \\gamma .  \\max_{a^{'}} \\hat{q}(s_{i}^{'},a^{'};w^{-}_{t})$\n",
    "* terminal state: $ r_i $\n",
    "\n",
    "We then carryout back propagation through the agent network to update the weights using equation below:\n",
    "\n",
    "\n",
    "$$ \n",
    "\\DeclareMathOperator*{\\max}{max} w_{t+1} \\leftarrow w_t - \\alpha \\nabla_{w}L$$"
   ]
  },
  {
   "cell_type": "code",
   "execution_count": 13,
   "metadata": {},
   "outputs": [],
   "source": [
    "def compute_td_loss_priority_replay(agent, target_network, replay_buffer,\n",
    "                    states, actions, rewards, next_states, done_flags, weights, buffer_idxs,\n",
    "                    gamma=0.99):\n",
    "\n",
    "    # get q-values for all actions in current states\n",
    "    # use agent network\n",
    "    predicted_qvalues = agent(states)\n",
    "\n",
    "    # compute q-values for all actions in next states\n",
    "    # use target network\n",
    "    predicted_next_qvalues = target_network(next_states)\n",
    "    \n",
    "    # select q-values for chosen actions\n",
    "    row_indices= tf.range(len(actions))\n",
    "    indices = tf.transpose([row_indices, actions])\n",
    "    predicted_qvalues_for_actions = tf.gather_nd(predicted_qvalues, indices)\n",
    "    \n",
    "\n",
    "    # compute Qmax(next_states, actions) using predicted next q-values\n",
    "    next_state_values = tf.reduce_max(predicted_next_qvalues, axis=1)\n",
    "\n",
    "    # compute \"target q-values\" \n",
    "    target_qvalues_for_actions = rewards + gamma * next_state_values * (1-done_flags)\n",
    "\n",
    "    # weighted mean squared error loss to minimize\n",
    "    loss = (target_qvalues_for_actions - predicted_qvalues_for_actions) ** 2 * weights\n",
    "    loss = tf.reduce_mean(loss)\n",
    "    \n",
    "    # calculate new priorities and update buffer\n",
    "    new_priorities = (target_qvalues_for_actions - predicted_qvalues_for_actions).numpy().copy()\n",
    "    new_priorities = np.absolute(new_priorities)\n",
    "    replay_buffer.update_priorities(buffer_idxs, new_priorities)\n",
    "    \n",
    "    return loss"
   ]
  },
  {
   "cell_type": "markdown",
   "metadata": {},
   "source": [
    "### Main loop\n",
    "\n",
    "We now carryout the training on DQN setup above."
   ]
  },
  {
   "cell_type": "code",
   "execution_count": 14,
   "metadata": {},
   "outputs": [],
   "source": [
    "from tqdm import trange\n",
    "from IPython.display import clear_output\n",
    "import matplotlib.pyplot as plt"
   ]
  },
  {
   "cell_type": "code",
   "execution_count": 15,
   "metadata": {},
   "outputs": [],
   "source": [
    "# set a seed\n",
    "seed = 13\n",
    "random.seed(seed)\n",
    "np.random.seed(seed)\n",
    "tf.random.set_seed(seed)"
   ]
  },
  {
   "cell_type": "code",
   "execution_count": 16,
   "metadata": {},
   "outputs": [],
   "source": [
    "#setup env and agent and target networks\n",
    "env_name = 'CartPole-v1'\n",
    "env = make_env(env_name, seed)\n",
    "state_dim = env.observation_space.shape\n",
    "n_actions = env.action_space.n\n",
    "state = env.reset()\n",
    "\n",
    "agent = DQNAgent(state_dim, n_actions, epsilon=1)\n",
    "target_network = DQNAgent(state_dim, n_actions, epsilon=1)\n",
    "target_network.model.set_weights(agent.model.get_weights())"
   ]
  },
  {
   "cell_type": "code",
   "execution_count": 17,
   "metadata": {},
   "outputs": [
    {
     "name": "stdout",
     "output_type": "stream",
     "text": [
      "10000\n"
     ]
    }
   ],
   "source": [
    "# let us fill experience replay with some samples using full random policy\n",
    "exp_replay = PrioritizedReplayBuffer(10**4)\n",
    "for i in range(100):\n",
    "    play_and_record(state, agent, env, exp_replay, n_steps=10**2)\n",
    "    if len(exp_replay) == 10**4:\n",
    "        break\n",
    "print(len(exp_replay))"
   ]
  },
  {
   "cell_type": "code",
   "execution_count": 18,
   "metadata": {},
   "outputs": [],
   "source": [
    "#setup some parameters for training\n",
    "timesteps_per_epoch = 1\n",
    "batch_size = 32\n",
    "total_steps = 45000\n",
    "\n",
    "#init Optimizer\n",
    "optimizer = tf.keras.optimizers.Adam(learning_rate=1e-4)\n",
    "# set exploration epsilon \n",
    "start_epsilon = 1\n",
    "end_epsilon = 0.05\n",
    "eps_decay_final_step = 2 * 10**4\n",
    "\n",
    "# setup spme frequency for loggind and updating target network\n",
    "loss_freq = 20\n",
    "refresh_target_network_freq = 100\n",
    "eval_freq = 1000\n",
    "\n",
    "# to clip the gradients\n",
    "max_grad_norm = 5000"
   ]
  },
  {
   "cell_type": "code",
   "execution_count": 19,
   "metadata": {},
   "outputs": [],
   "source": [
    "mean_rw_history = []\n",
    "td_loss_history = []\n"
   ]
  },
  {
   "cell_type": "code",
   "execution_count": 20,
   "metadata": {},
   "outputs": [],
   "source": [
    "def epsilon_schedule(start_eps, end_eps, step, final_step):\n",
    "    return start_eps + (end_eps-start_eps)*min(step, final_step)/final_step\n",
    "\n",
    "def smoothen(values):\n",
    "    kernel = gaussian(100, std=100)\n",
    "    kernel = kernel / np.sum(kernel)\n",
    "    return convolve(values, kernel, 'valid')"
   ]
  },
  {
   "cell_type": "code",
   "execution_count": 21,
   "metadata": {},
   "outputs": [
    {
     "name": "stdout",
     "output_type": "stream",
     "text": [
      "buffer size = 10000, epsilon = 0.05000\n"
     ]
    },
    {
     "data": {
      "image/png": "[encoded data removed]",
      "text/plain": [
       "<Figure size 1152x360 with 2 Axes>"
      ]
     },
     "metadata": {
      "needs_background": "light"
     },
     "output_type": "display_data"
    },
    {
     "name": "stderr",
     "output_type": "stream",
     "text": [
      "100%|████████████████████████████████████████████████████████████████████████████| 45001/45001 [11:09<00:00, 67.22it/s]\n"
     ]
    }
   ],
   "source": [
    "state = env.reset()\n",
    "for step in trange(total_steps + 1):\n",
    "    \n",
    "    # reduce exploration as we progress\n",
    "    agent.epsilon = epsilon_schedule(start_epsilon, end_epsilon, step, eps_decay_final_step)\n",
    "\n",
    "    # take timesteps_per_epoch and update experience replay buffer\n",
    "    _, state = play_and_record(state, agent, env, exp_replay, timesteps_per_epoch)\n",
    "\n",
    "    # train by sampling batch_size of data from experience replay\n",
    "    states, actions, rewards, next_states, done_flags, weights, idxs = exp_replay.sample(batch_size)\n",
    "    \n",
    "    with tf.GradientTape() as tape:\n",
    "        # loss = <compute TD loss>\n",
    "        loss = compute_td_loss_priority_replay(\n",
    "                    agent, target_network, exp_replay,\n",
    "                    states, actions, rewards, next_states, done_flags, weights, idxs,              \n",
    "                    gamma=0.99)\n",
    "\n",
    "    gradients = tape.gradient(loss, agent.model.trainable_variables)\n",
    "    clipped_grads = [tf.clip_by_norm(g, max_grad_norm) for g in gradients]\n",
    "    optimizer.apply_gradients(zip(clipped_grads, agent.model.trainable_variables))\n",
    "\n",
    "\n",
    "    if step % loss_freq == 0:\n",
    "        td_loss_history.append(loss.numpy())\n",
    "\n",
    "    if step % refresh_target_network_freq == 0:\n",
    "        # Load agent weights into target_network\n",
    "        target_network.model.set_weights(agent.model.get_weights())\n",
    "\n",
    "    if step % eval_freq == 0:\n",
    "        # eval the agent\n",
    "        mean_rw_history.append(evaluate(\n",
    "            make_env(env_name, seed=step), agent, n_games=3, greedy=True, t_max=1000)\n",
    "        )\n",
    "\n",
    "        clear_output(True)\n",
    "        print(\"buffer size = %i, epsilon = %.5f\" %\n",
    "              (len(exp_replay), agent.epsilon))\n",
    "\n",
    "        plt.figure(figsize=[16, 5])\n",
    "        plt.subplot(1, 2, 1)\n",
    "        plt.title(\"Mean reward per episode\")\n",
    "        plt.plot(mean_rw_history)\n",
    "        plt.grid()\n",
    "\n",
    "        assert not np.isnan(td_loss_history[-1])\n",
    "        plt.subplot(1, 2, 2)\n",
    "        plt.title(\"TD loss history (smoothened)\")\n",
    "        plt.plot(smoothen(td_loss_history))\n",
    "        plt.grid()\n",
    "\n",
    "        plt.show()"
   ]
  },
  {
   "cell_type": "code",
   "execution_count": 22,
   "metadata": {},
   "outputs": [
    {
     "name": "stdout",
     "output_type": "stream",
     "text": [
      "final score: 359.56666666666666\n",
      "Well done\n"
     ]
    }
   ],
   "source": [
    "final_score = evaluate(\n",
    "  make_env(env_name),\n",
    "  agent, n_games=30, greedy=True, t_max=1000\n",
    ")\n",
    "print('final score:', final_score)\n",
    "print('Well done')"
   ]
  },
  {
   "cell_type": "markdown",
   "metadata": {},
   "source": [
    "**Let us record a video of trained agent**"
   ]
  },
  {
   "cell_type": "code",
   "execution_count": 23,
   "metadata": {},
   "outputs": [],
   "source": [
    "def generate_animation(env, agent, save_dir):\n",
    "    \n",
    "    try:\n",
    "        env = gym.wrappers.Monitor(\n",
    "            env, save_dir, video_callable=lambda id: True, force=True, mode='evaluation')\n",
    "    except gym.error.Error as e:\n",
    "        print(e)\n",
    "\n",
    "    if not os.path.exists(save_dir):\n",
    "        os.makedirs(save_dir)\n",
    "        \n",
    "    state = env.reset()\n",
    "    reward = 0\n",
    "    while True:\n",
    "        qvalues = agent.get_qvalues(np.array([state]))\n",
    "        action = qvalues.argmax(axis=-1)[0]\n",
    "        state, r, done, _ = env.step(action)\n",
    "        reward += r\n",
    "        if done:\n",
    "            print('Got reward: {}'.format(reward))\n",
    "            break\n",
    "            \n",
    "def display_animation(filepath):\n",
    "    video = io.open(filepath, 'r+b').read()\n",
    "    encoded = base64.b64encode(video)\n",
    "    return HTML(data='''<video alt=\"test\" controls>\n",
    "                <source src=\"data:video/mp4;base64,{0}\" type=\"video/mp4\" />\n",
    "                 </video>'''.format(encoded.decode('ascii')))"
   ]
  },
  {
   "cell_type": "code",
   "execution_count": 24,
   "metadata": {},
   "outputs": [
    {
     "name": "stdout",
     "output_type": "stream",
     "text": [
      "Got reward: 332.0\n"
     ]
    },
    {
     "data": {
      "text/html": [
       "<video alt=\"test\" controls>\n",
       "                <source src=\"data:video/mp4;base64,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\" type=\"video/mp4\" />\n",
       "                 </video>"
      ],
      "text/plain": [
       "<IPython.core.display.HTML object>"
      ]
     },
     "execution_count": 24,
     "metadata": {},
     "output_type": "execute_result"
    }
   ],
   "source": [
    "# Animate learned policy\n",
    "save_dir='./videos/tensorflow/6_3/'\n",
    "env = make_env(env_name)\n",
    "generate_animation(env, agent, save_dir=save_dir)\n",
    "[filepath] = glob.glob(os.path.join(save_dir, '*.mp4'))\n",
    "display_animation(filepath)\n"
   ]
  },
  {
   "cell_type": "code",
   "execution_count": 25,
   "metadata": {},
   "outputs": [],
   "source": [
    "#TODO\n",
    "\n",
    "# Try to run this on another environment of your choice from OpenAI Gym\n",
    "# read the accompanying text and try to enahnce the network using various variants\n"
   ]
  },
  {
   "cell_type": "markdown",
   "metadata": {},
   "source": [
    "### Summary\n",
    "\n",
    "In this notebook we saw how to train a DQN agent with experience replay and target networks. We can improve this agent with many tricks. As we go along, we will be implementing many of these variants."
   ]
  }
 ],
 "metadata": {
  "kernelspec": {
   "display_name": "Python 3",
   "language": "python",
   "name": "python3"
  },
  "language_info": {
   "codemirror_mode": {
    "name": "ipython",
    "version": 3
   },
   "file_extension": ".py",
   "mimetype": "text/x-python",
   "name": "python",
   "nbconvert_exporter": "python",
   "pygments_lexer": "ipython3",
   "version": "3.8.3"
  }
 },
 "nbformat": 4,
 "nbformat_minor": 1
}
