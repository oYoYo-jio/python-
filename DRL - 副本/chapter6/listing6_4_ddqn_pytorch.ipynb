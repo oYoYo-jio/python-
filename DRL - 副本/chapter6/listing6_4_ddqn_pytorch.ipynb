{
 "cells": [
  {
   "cell_type": "markdown",
   "metadata": {},
   "source": [
    "# Double DQN (DDQN) variant  implementation (PyTorch).\n",
    "\n",
    "In this notebook, we will implement Double DQN (DDQN) variant of DQN carrying on from `listing6_1_dqn_pytorch.ipynb`. \n",
    "\n",
    "\n",
    "### Recap\n",
    "\n",
    "Q Learning control is carried out by sampling step by step and updating Q values at each step. We use ε-greedy policy to explore and generate samples. However, the policy learnt is a deterministic greedy policy with no exploration. We can carryout updates online i.e. we take a step and use `(current state, action, reward and next_state)` tuple to update. \n",
    "\n",
    "In case of function approximation using neural network, the input to the network is the state and output is the q(s,a) for all the actions in the state `s`. It is denoted as $ \\hat{q}(s_t,a; w_{t}) $, where $w_{t}$ is the weights of the neural network which we are trying to learn as part of DQN learning. \n",
    "\n",
    "We use two networks, one target network to get the max q-value of next state denoted by $ \\max_a \\hat {q}(s_{t+1},a; w^{-}_{t}) $ and the primary network (online network) with weights $w_{t}$ which we are updated based on back propagation of the TD error through the network.\n",
    "\n",
    "The Update equation is given below. This is the online version:\n",
    "$$ w_{t+1} \\leftarrow w_t + \\alpha [ R_{t+1} + \\gamma . \\max_{a} \\hat{q}(S_{t+1},a,w^{-}_{t}) – \\hat{q}(S_t,A_t,w_t)] \\nabla \\hat{q}(S_t,A_t,w_t)$$\n",
    "\n",
    "Online update with neural network with millions of weights does not work well. Accordingly, We use experience replay (aka Replay Buffer).  We use a behavior policy to explore the environment and store the samples `(s, a, r, s', done)` in a buffer. The samples are generated using an exploratory behavior policy while we improve a deterministic target policy using q-values. \n",
    "\n",
    "Therefore, we can always use older samples from behavior policy and apply them again and again. We can keep the buffer size fixed to some pre-determined size and keep deleting the older samples as we collect new ones. This process makes learning sample efficient by reusing a sample multiple times and also removing temporal dependence of the samples we would otherwise see while following a trajectory.\n",
    "\n",
    "The update equation with batch update with minor modifications is given below. We collect samples of transitions (current state, action, reward, next state) in a buffer. Where each sample is denoted as a tuple: \n",
    "\n",
    "$$ (s_{i}, a_{i}, r_{i}, s^{'}_{i}, done_{i})$$\n",
    "\n",
    "Subscript (i) denotes ith sample. We take N samples from experience replay selecting randomly and update the weights. Subscript (t) denotes the index of weight updates. If the current state is done, as denoted by `done` flag, the target is just the reward as terminal states have zero value. The final update equation is as given below:\n",
    "\n",
    "$$w_{t+1} \\leftarrow w_t + \\alpha \\frac{1}{N} \\sum_{i=1}^{N} \\left[ r_i + \\left( (1-done_i) . \\gamma .  \\max_{a^{'}} \\hat{q}(s_{i}^{'},a^{'};w^{-}_{t}) \\right) – \\hat{q}(s_i,a_i;w_t) \\right] \\nabla \\hat{q}(s_i,a_i;w_t)$$\n",
    "\n",
    "\n",
    "### DDQN Double DQN\n",
    "\n",
    "In DQN (refer equation at the top of this notebook), the target value for $\\hat{q}(s_i,a_i;w_t)$ was given by:\n",
    "\n",
    "$$ \\DeclareMathOperator*{\\max}{max} Y_{i}^{DQN} =   r_i + \\left( (1-done_i) . \\gamma .  \\max_{a^{'}} \\hat{q}(s_{i}^{'},a^{'};w^{-}_{t}) \\right) $$\n",
    "\n",
    "A target network with weights $w^{-}$ was used to find the maximum q-estimate at next state $S_{t+1}$ and the weights of the target network are updated periodically from the agent network (aka online network) with weights $w$ which are being learnt.\n",
    "\n",
    "In Double DQN (DDQN), as proposed in  https://arxiv.org/pdf/1509.06461.pdf , analogous to Double Q-Learning (or DQN specifically), we again use two networks but the target value for $\\hat{q}(s_i,a_i;w_t)$ is now computed in following way:\n",
    "\n",
    "$$ \\DeclareMathOperator*{\\argmax}{argmax} Y_{i}^{DDQN} =  r_i + \\left( (1-done_i) . \\gamma .  \\hat{q}(s_{i}^{'},\\argmax_{a^{'}} \\hat{q}(s_{i}^{'}, a^{'};w_{t});w^{-}_{t})  \\right) $$\n",
    "\n",
    "When updating the weight of network with weight $w$, we use the same network to get the $argmax$ of action for state $s^{'}_{i}$, but the actual value of $$\\hat{q}$$ is calculated by using the above $argmax$ action from another network with weight $w^{-}_{t}$. Like before, we periodically update target network weights $w^{-}_{t}$ from agent/online network weight $w_{t}$ \n",
    "\n",
    "Given below is the implementation for modified `compute_td_loss` function. Rest of the code remains same. \n"
   ]
  },
  {
   "cell_type": "code",
   "execution_count": 1,
   "metadata": {},
   "outputs": [],
   "source": [
    "import random\n",
    "import numpy as np\n",
    "import torch\n",
    "import torch.nn as nn\n",
    "import torch.nn.functional as F\n",
    "import torch.optim as optim\n",
    "\n",
    "import gym\n",
    "\n",
    "import numpy as np\n",
    "import matplotlib.pyplot as plt\n",
    "from scipy.signal import convolve, gaussian\n",
    "import math\n",
    "import os\n",
    "import io\n",
    "import base64\n",
    "import time\n",
    "from tqdm import trange\n",
    "import glob\n",
    "import random\n",
    "from collections import namedtuple\n",
    "\n",
    "from IPython.display import HTML, clear_output\n",
    "\n",
    "%matplotlib inline\n"
   ]
  },
  {
   "cell_type": "markdown",
   "metadata": {},
   "source": [
    "### Environment - CartPole \n",
    "\n",
    "We can use the setup here to run on any environment which has state as a single vector and actions are discrete. We will build it on Cart Pole and they try to run this on many other environments like Lunar Lander and others.\n"
   ]
  },
  {
   "cell_type": "code",
   "execution_count": 2,
   "metadata": {},
   "outputs": [],
   "source": [
    "def make_env(env_name, seed=None):\n",
    "    # remove time limit wrapper from environment\n",
    "    env = gym.make(env_name).unwrapped\n",
    "    if seed is not None:\n",
    "        env.seed(seed)\n",
    "    return env"
   ]
  },
  {
   "cell_type": "code",
   "execution_count": 3,
   "metadata": {},
   "outputs": [
    {
     "data": {
      "image/png": "[encoded data removed]",
      "text/plain": [
       "<Figure size 432x288 with 1 Axes>"
      ]
     },
     "metadata": {
      "needs_background": "light"
     },
     "output_type": "display_data"
    }
   ],
   "source": [
    "ENV_NAME = 'CartPole-v1'\n",
    "\n",
    "env = make_env(ENV_NAME)\n",
    "env.reset()\n",
    "plt.imshow(env.render(\"rgb_array\"))\n",
    "state_shape, n_actions = env.observation_space.shape, env.action_space.n"
   ]
  },
  {
   "cell_type": "markdown",
   "metadata": {},
   "source": [
    "### Building a network using pytorch"
   ]
  },
  {
   "cell_type": "markdown",
   "metadata": {},
   "source": [
    "Let us build a DQN agent using a simple network, We now need to build a neural network that can map states/observations to state q-values. The observation space and action space is as given below for CartPole\n",
    "\n",
    "    Observation:\n",
    "        Type: Box(4)\n",
    "        Num     Observation               Min                     Max\n",
    "        0       Cart Position             -4.8                    4.8\n",
    "        1       Cart Velocity             -Inf                    Inf\n",
    "        2       Pole Angle                -0.418 rad (-24 deg)    0.418 rad (24 deg)\n",
    "        3       Pole Angular Velocity     -Inf                    Inf\n",
    "    Actions:\n",
    "        Type: Discrete(2)\n",
    "        Num   Action\n",
    "        0     Push cart to the left\n",
    "        1     Push cart to the right\n",
    "        \n",
    "\n",
    "The model will be a simple one with 2 hidden payers with Relu activation and final layer being logits with dimension equation to number of actions. "
   ]
  },
  {
   "cell_type": "code",
   "execution_count": 4,
   "metadata": {},
   "outputs": [
    {
     "data": {
      "text/plain": [
       "device(type='cpu')"
      ]
     },
     "execution_count": 4,
     "metadata": {},
     "output_type": "execute_result"
    }
   ],
   "source": [
    "device = torch.device('cuda' if torch.cuda.is_available() else 'cpu')\n",
    "device"
   ]
  },
  {
   "cell_type": "code",
   "execution_count": 5,
   "metadata": {},
   "outputs": [],
   "source": [
    "class DQNAgent(nn.Module):\n",
    "    def __init__(self, state_shape, n_actions, epsilon=0):\n",
    "\n",
    "        super().__init__()\n",
    "        self.epsilon = epsilon\n",
    "        self.n_actions = n_actions\n",
    "        self.state_shape = state_shape\n",
    "        \n",
    "        state_dim = state_shape[0]\n",
    "        # a simple NN with state_dim as input vector (inout is state s)\n",
    "        # and self.n_actions as output vector of logits of q(s, a)\n",
    "        self.fc1 = nn.Linear(state_dim, 64)\n",
    "        self.fc2 = nn.Linear(64, 128)\n",
    "        self.fc3 = nn.Linear(128, 32)\n",
    "        self.q = nn.Linear(32, n_actions)\n",
    "        \n",
    "    def forward(self, state_t):\n",
    "        # pass the state at time t through the newrok to get Q(s,a)\n",
    "        x = F.relu(self.fc1(state_t))\n",
    "        x = F.relu(self.fc2(x))\n",
    "        x = F.relu(self.fc3(x))\n",
    "        qvalues = self.q(x)\n",
    "        return qvalues\n",
    "\n",
    "    def get_qvalues(self, states):\n",
    "        # input is an array of states in numpy and outout is Qvals as numpy array\n",
    "        states = torch.tensor(states, device=device, dtype=torch.float32)\n",
    "        qvalues = self.forward(states)\n",
    "        return qvalues.data.cpu().numpy()\n",
    "\n",
    "    def sample_actions(self, qvalues):\n",
    "        # sample actions from a batch of q_values using epsilon greedy policy\n",
    "        epsilon = self.epsilon\n",
    "        batch_size, n_actions = qvalues.shape\n",
    "        random_actions = np.random.choice(n_actions, size=batch_size)\n",
    "        best_actions = qvalues.argmax(axis=-1)\n",
    "        should_explore = np.random.choice(\n",
    "            [0, 1], batch_size, p=[1-epsilon, epsilon])\n",
    "        return np.where(should_explore, random_actions, best_actions)"
   ]
  },
  {
   "cell_type": "code",
   "execution_count": 6,
   "metadata": {},
   "outputs": [],
   "source": [
    "agent = DQNAgent(state_shape, n_actions, epsilon=0.5).to(device)"
   ]
  },
  {
   "cell_type": "code",
   "execution_count": 7,
   "metadata": {},
   "outputs": [],
   "source": [
    "def evaluate(env, agent, n_games=1, greedy=False, t_max=10000):\n",
    "    rewards = []\n",
    "    for _ in range(n_games):\n",
    "        s = env.reset()\n",
    "        reward = 0\n",
    "        for _ in range(t_max):\n",
    "            qvalues = agent.get_qvalues([s])\n",
    "            action = qvalues.argmax(axis=-1)[0] if greedy else agent.sample_actions(qvalues)[0]\n",
    "            s, r, done, _ = env.step(action)\n",
    "            reward += r\n",
    "            if done:\n",
    "                break\n",
    "\n",
    "        rewards.append(reward)\n",
    "    return np.mean(rewards)"
   ]
  },
  {
   "cell_type": "code",
   "execution_count": 8,
   "metadata": {},
   "outputs": [
    {
     "name": "stdout",
     "output_type": "stream",
     "text": [
      "14.0\n"
     ]
    }
   ],
   "source": [
    "print(evaluate(env, agent, n_games=1))\n",
    "env.close()"
   ]
  },
  {
   "cell_type": "markdown",
   "metadata": {},
   "source": [
    "### Experience replay\n",
    "\n",
    "We will use the replay buffer we saw in chapter 4 listings. Replay buffer is very important in DQN to break the correlation between samples. We use a behavior policy (epsilon greedy) to sample from the environment and store the transitions (s,a,r,s',done) into a buffer. These samples are used multiple times in a learning making the process sample efficient. \n",
    "\n",
    "The interface to ReplayBuffer is:\n",
    "* `exp_replay.add(state, action, reward, next_state, done)` - saves (s,a,r,s',done) tuple into the buffer\n",
    "* `exp_replay.sample(batch_size)` - returns states, actions, rewards, next_states and done_flags for `batch_size` random samples.\n",
    "* `len(exp_replay)` - returns number of elements stored in replay buffer.\n",
    "\n",
    "We have modified the implementation a bit to make it more efficient"
   ]
  },
  {
   "cell_type": "code",
   "execution_count": 9,
   "metadata": {},
   "outputs": [],
   "source": [
    "class ReplayBuffer:\n",
    "    def __init__(self, size):\n",
    "        self.size = size #max number of items in buffer\n",
    "        self.buffer =[] #array to holde buffer\n",
    "        self.next_id = 0\n",
    "    \n",
    "    def __len__(self):\n",
    "        return len(self.buffer)\n",
    "    \n",
    "    def add(self, state, action, reward, next_state, done):\n",
    "        item = (state, action, reward, next_state, done)\n",
    "        if len(self.buffer) < self.size:\n",
    "           self.buffer.append(item)\n",
    "        else:\n",
    "            self.buffer[self.next_id] = item\n",
    "        self.next_id = (self.next_id + 1) % self.size\n",
    "        \n",
    "    def sample(self, batch_size):\n",
    "        idxs = np.random.choice(len(self.buffer), batch_size)\n",
    "        samples = [self.buffer[i] for i in idxs]\n",
    "        states, actions, rewards, next_states, done_flags = list(zip(*samples))\n",
    "        return np.array(states), np.array(actions), np.array(rewards), np.array(next_states), np.array(done_flags)"
   ]
  },
  {
   "cell_type": "code",
   "execution_count": 10,
   "metadata": {},
   "outputs": [],
   "source": [
    "def play_and_record(start_state, agent, env, exp_replay, n_steps=1):\n",
    "\n",
    "    s = start_state\n",
    "    sum_rewards = 0\n",
    "\n",
    "    # Play the game for n_steps and record transitions in buffer\n",
    "    for _ in range(n_steps):\n",
    "        qvalues = agent.get_qvalues([s])\n",
    "        a = agent.sample_actions(qvalues)[0]        \n",
    "        next_s, r, done, _ = env.step(a)\n",
    "        sum_rewards += r\n",
    "        exp_replay.add(s, a, r, next_s, done)\n",
    "        if done:\n",
    "            s = env.reset()\n",
    "        else:\n",
    "            s = next_s\n",
    "        \n",
    "    return sum_rewards, s"
   ]
  },
  {
   "cell_type": "markdown",
   "metadata": {},
   "source": [
    "### Target network\n"
   ]
  },
  {
   "cell_type": "code",
   "execution_count": 11,
   "metadata": {},
   "outputs": [
    {
     "data": {
      "text/plain": [
       "<All keys matched successfully>"
      ]
     },
     "execution_count": 11,
     "metadata": {},
     "output_type": "execute_result"
    }
   ],
   "source": [
    "target_network = DQNAgent(agent.state_shape, agent.n_actions, epsilon=0.5).to(device)\n",
    "target_network.load_state_dict(agent.state_dict())"
   ]
  },
  {
   "cell_type": "markdown",
   "metadata": {},
   "source": [
    "### Learning with... Double DQN \n",
    "Here we write a function similar to tabular q-learning. We will calculate average TD error per batch using the equation: \n",
    "\n",
    "$$ L =  \\frac{1}{N} \\sum_{i=1}^{N} \\left[ r_i + \\left( (1-done_i) . \\gamma .  \\hat{q}(s_{i}^{'},\\argmax_{a^{'}} \\hat{q}(s_{i}^{'}, a^{'};w_{t});w^{-}_{t})  \\right) – \\hat{q}(s_i,a_i;w_t) \\right]^2$$\n",
    "\n",
    "\n",
    "$$ \\nabla_w L =   - \\frac{1}{N} \\sum_{i=1}^{N} \\left[ r_i + \\left( (1-done_i) . \\gamma .  \\hat{q}(s_{i}^{'},\\argmax_{a^{'}} \\hat{q}(s_{i}^{'}, a^{'};w_{t});w^{-}_{t})  \\right) – \\hat{q}(s_i,a_i;w_t) \\right] \\nabla \\hat{q}(s_i,a_i;w_t)$$\n",
    "\n",
    "\n",
    "$\\hat{q}(s',A;w^{-})$ is calculated using target network whose weights are held constant and refreshed periodically from the agent learning network. \n",
    "\n",
    "Target is given by following:\n",
    "* non terminal state: $r_i + \\left( (1-done_i) . \\gamma .  \\hat{q}(s_{i}^{'},\\argmax_{a^{'}} \\hat{q}(s_{i}^{'}, a^{'};w_{t});w^{-}_{t}) \\right)$\n",
    "* terminal state: $ r_i $\n",
    "\n",
    "We then carryout back propagation through the agent network to update the weights using equation below:\n",
    "\n",
    "\n",
    "$$ \n",
    "\\DeclareMathOperator*{\\max}{max} w_{t+1} \\leftarrow w_t - \\alpha \\nabla_{w}L$$"
   ]
  },
  {
   "cell_type": "code",
   "execution_count": 12,
   "metadata": {},
   "outputs": [],
   "source": [
    "def td_loss_ddqn(agent, target_network, states, actions, rewards, next_states, done_flags,\n",
    "                    gamma=0.99, device=device):\n",
    "\n",
    "    # convert numpy array to torch tensors\n",
    "    states = torch.tensor(states, device=device, dtype=torch.float)\n",
    "    actions = torch.tensor(actions, device=device, dtype=torch.long)\n",
    "    rewards = torch.tensor(rewards, device=device, dtype=torch.float)\n",
    "    next_states = torch.tensor(next_states, device=device, dtype=torch.float)\n",
    "    done_flags = torch.tensor(done_flags.astype('float32'),device=device,dtype=torch.float)\n",
    "\n",
    "    # get q-values for all actions in current states\n",
    "    # use agent network\n",
    "    q_s = agent(states)\n",
    "\n",
    "    # select q-values for chosen actions\n",
    "    q_s_a = q_s[range(\n",
    "        len(actions)), actions]\n",
    "\n",
    "    # compute q-values for all actions in next states\n",
    "    # use agent network (online network)\n",
    "    q_s1 = agent(next_states).detach()\n",
    "\n",
    "    # compute Q argmax(next_states, actions) using predicted next q-values\n",
    "    _,a1max = torch.max(q_s1, dim=1)\n",
    "\n",
    "    #use target network to calclaute the q value for best action chosen above\n",
    "    q_s1_target = target_network(next_states)\n",
    "\n",
    "    q_s1_a1max = q_s1_target[range(len(a1max)), a1max]\n",
    "\n",
    "    # compute \"target q-values\" \n",
    "    target_q = rewards + gamma * q_s1_a1max * (1-done_flags)\n",
    "\n",
    "    # mean squared error loss to minimize\n",
    "    loss = torch.mean((q_s_a - target_q).pow(2))\n",
    "\n",
    "    return loss\n"
   ]
  },
  {
   "cell_type": "code",
   "execution_count": 13,
   "metadata": {},
   "outputs": [],
   "source": [
    "def epsilon_schedule(start_eps, end_eps, step, final_step):\n",
    "    return start_eps + (end_eps-start_eps)*min(step, final_step)/final_step\n",
    "\n",
    "def smoothen(values):\n",
    "    kernel = gaussian(100, std=100)\n",
    "    kernel = kernel / np.sum(kernel)\n",
    "    return convolve(values, kernel, 'valid')"
   ]
  },
  {
   "cell_type": "markdown",
   "metadata": {},
   "source": [
    "### Main loop\n",
    "\n",
    "We now carryout the training on DQN setup above."
   ]
  },
  {
   "cell_type": "code",
   "execution_count": 14,
   "metadata": {},
   "outputs": [],
   "source": [
    "def train_agent(env, agent, target_network, optimizer, td_loss_fn):\n",
    "    \n",
    "    state = env.reset()\n",
    "    # let us fill experience replay with some samples using full random policy\n",
    "    exp_replay = ReplayBuffer(10**4)\n",
    "    for i in range(100):\n",
    "        play_and_record(state, agent, env, exp_replay, n_steps=10**2)\n",
    "        if len(exp_replay) == 10**4:\n",
    "            break\n",
    "    print('Finished filling buffer with: {} samples'.format(len(exp_replay)))\n",
    "\n",
    "    mean_rw_history = []\n",
    "    td_loss_history = []\n",
    "    state = env.reset()\n",
    "    for step in trange(total_steps + 1):\n",
    "\n",
    "        # reduce exploration as we progress\n",
    "        agent.epsilon = epsilon_schedule(start_epsilon, end_epsilon, step, eps_decay_final_step)\n",
    "\n",
    "        # take timesteps_per_epoch and update experience replay buffer\n",
    "        _, state = play_and_record(state, agent, env, exp_replay, timesteps_per_epoch)\n",
    "\n",
    "        # train by sampling batch_size of data from experience replay\n",
    "        states, actions, rewards, next_states, done_flags = exp_replay.sample(batch_size)\n",
    "\n",
    "\n",
    "        # loss = <compute TD loss>\n",
    "        optimizer.zero_grad()\n",
    "        loss = td_loss_fn(agent, target_network, \n",
    "                          states, actions, rewards, next_states, done_flags,                  \n",
    "                          gamma=0.99,\n",
    "                          device=device)\n",
    "\n",
    "        loss.backward()\n",
    "        grad_norm = nn.utils.clip_grad_norm_(agent.parameters(), max_grad_norm)\n",
    "        optimizer.step()\n",
    "\n",
    "        if step % loss_freq == 0:\n",
    "            td_loss_history.append(loss.data.cpu().item())\n",
    "\n",
    "        if step % refresh_target_network_freq == 0:\n",
    "            # Load agent weights into target_network\n",
    "            target_network.load_state_dict(agent.state_dict())\n",
    "\n",
    "        if step % eval_freq == 0:\n",
    "            # eval the agent\n",
    "            mean_rw_history.append(evaluate(\n",
    "                make_env(ENV_NAME, seed=step), agent, n_games=3, greedy=True, t_max=1000)\n",
    "            )\n",
    "\n",
    "            clear_output(True)\n",
    "            print(\"buffer size = %i, epsilon = %.5f\" %\n",
    "                  (len(exp_replay), agent.epsilon))\n",
    "\n",
    "            plt.figure(figsize=[16, 5])\n",
    "            plt.subplot(1, 2, 1)\n",
    "            plt.title(\"Mean reward per episode\")\n",
    "            plt.plot(mean_rw_history)\n",
    "            plt.grid()\n",
    "\n",
    "            assert not np.isnan(td_loss_history[-1])\n",
    "            plt.subplot(1, 2, 2)\n",
    "            plt.title(\"TD loss history (smoothened)\")\n",
    "            plt.plot(smoothen(td_loss_history))\n",
    "            plt.grid()\n",
    "\n",
    "            plt.show()\n",
    "    "
   ]
  },
  {
   "cell_type": "code",
   "execution_count": 15,
   "metadata": {},
   "outputs": [],
   "source": [
    "#setup some parameters for training\n",
    "timesteps_per_epoch = 1\n",
    "batch_size = 32\n",
    "total_steps = 5 * 10**4\n",
    "\n",
    "# set exploration epsilon \n",
    "start_epsilon = 1\n",
    "end_epsilon = 0.05\n",
    "eps_decay_final_step = 2 * 10**4\n",
    "\n",
    "# setup spme frequency for loggind and updating target network\n",
    "loss_freq = 50\n",
    "refresh_target_network_freq = 100\n",
    "eval_freq = 1000\n",
    "\n",
    "# to clip the gradients\n",
    "max_grad_norm = 5000\n",
    "\n",
    "#set up random numbers\n",
    "seed=0\n",
    "random.seed(seed)\n",
    "np.random.seed(seed)\n",
    "torch.manual_seed(seed) \n",
    "\n",
    "#init environment\n",
    "ENV_NAME = 'CartPole-v1'\n",
    "env = make_env(ENV_NAME, seed)\n",
    "state_dim = env.observation_space.shape\n",
    "n_actions = env.action_space.n\n",
    "\n",
    "#init agent, target network and Optimizer\n",
    "agent = DQNAgent(state_dim, n_actions, epsilon=1).to(device)\n",
    "target_network = DQNAgent(state_dim, n_actions, epsilon=1).to(device)\n",
    "target_network.load_state_dict(agent.state_dict())\n",
    "optimizer = torch.optim.Adam(agent.parameters(), lr=1e-4)"
   ]
  },
  {
   "cell_type": "code",
   "execution_count": 16,
   "metadata": {},
   "outputs": [
    {
     "name": "stdout",
     "output_type": "stream",
     "text": [
      "buffer size = 10000, epsilon = 0.05000\n"
     ]
    },
    {
     "data": {
      "image/png": "[encoded data removed]",
      "text/plain": [
       "<Figure size 1152x360 with 2 Axes>"
      ]
     },
     "metadata": {
      "needs_background": "light"
     },
     "output_type": "display_data"
    },
    {
     "name": "stderr",
     "output_type": "stream",
     "text": [
      "100%|███████████████████████████████████████████████████████████████████████████| 50001/50001 [05:48<00:00, 143.64it/s]\n"
     ]
    }
   ],
   "source": [
    "train_agent(env, agent, target_network, optimizer, td_loss_fn=td_loss_ddqn)"
   ]
  },
  {
   "cell_type": "code",
   "execution_count": 17,
   "metadata": {},
   "outputs": [
    {
     "name": "stdout",
     "output_type": "stream",
     "text": [
      "final score: 566\n"
     ]
    }
   ],
   "source": [
    "final_score = evaluate(\n",
    "  make_env(ENV_NAME),\n",
    "  agent, n_games=30, greedy=True, t_max=1000\n",
    ")\n",
    "print('final score: {:.0f}'.format(final_score))\n"
   ]
  },
  {
   "cell_type": "markdown",
   "metadata": {},
   "source": [
    "**Let us record a video of trained agent**"
   ]
  },
  {
   "cell_type": "code",
   "execution_count": 18,
   "metadata": {},
   "outputs": [],
   "source": [
    "def generate_animation(env, agent, save_dir):\n",
    "    \n",
    "    try:\n",
    "        env = gym.wrappers.Monitor(\n",
    "            env, save_dir, video_callable=lambda id: True, force=True, mode='evaluation')\n",
    "    except gym.error.Error as e:\n",
    "        print(e)\n",
    "\n",
    "    if not os.path.exists(save_dir):\n",
    "        os.makedirs(save_dir)\n",
    "        \n",
    "    state = env.reset()\n",
    "    reward = 0\n",
    "    while True:\n",
    "        qvalues = agent.get_qvalues([state])\n",
    "        action = qvalues.argmax(axis=-1)[0]\n",
    "        state, r, done, _ = env.step(action)\n",
    "        reward += r\n",
    "        if done:\n",
    "            print('Got reward: {}'.format(reward))\n",
    "            break\n",
    "            \n",
    "def display_animation(filepath):\n",
    "    video = io.open(filepath, 'r+b').read()\n",
    "    encoded = base64.b64encode(video)\n",
    "    return HTML(data='''<video alt=\"test\" controls>\n",
    "                <source src=\"data:video/mp4;base64,{0}\" type=\"video/mp4\" />\n",
    "                 </video>'''.format(encoded.decode('ascii')))"
   ]
  },
  {
   "cell_type": "code",
   "execution_count": 19,
   "metadata": {},
   "outputs": [
    {
     "name": "stdout",
     "output_type": "stream",
     "text": [
      "Got reward: 650.0\n"
     ]
    },
    {
     "data": {
      "text/html": [
       "<video alt=\"test\" controls>\n",
       "                <source src=\"data:video/mp4;base64,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\" type=\"video/mp4\" />\n",
       "                 </video>"
      ],
      "text/plain": [
       "<IPython.core.display.HTML object>"
      ]
     },
     "execution_count": 19,
     "metadata": {},
     "output_type": "execute_result"
    }
   ],
   "source": [
    "# Animate learned policy\n",
    "save_dir='./videos/pytorch/6_4/'\n",
    "env = make_env(ENV_NAME)\n",
    "generate_animation(env, agent, save_dir=save_dir)\n",
    "[filepath] = glob.glob(os.path.join(save_dir, '*.mp4'))\n",
    "display_animation(filepath)\n"
   ]
  },
  {
   "cell_type": "markdown",
   "metadata": {},
   "source": [
    "### Summary\n",
    "\n",
    "In this notebook we saw how to train a DQN agent with experience replay and target networks using variant  **Double DQN (DDQN)**. We used Replay Buffer. You could try following things to get more familiarity:\n",
    "\n",
    "* Implement DDQN in TensorFlow\n",
    "* Create DDQN with Prioritized Replay in PyTorch\n",
    "* Create DDQN with Prioritized Replay in TensorFlow\n",
    "* Make the notebooks more modular where you could choose the agent (DQN vs DDQN) as well as choose replay buffer options (Experience Replay vs Prioritized Experience Replay). You could build this modular notebook both in PyTorch and TensorFlow\n"
   ]
  }
 ],
 "metadata": {
  "kernelspec": {
   "display_name": "Python 3",
   "language": "python",
   "name": "python3"
  },
  "language_info": {
   "codemirror_mode": {
    "name": "ipython",
    "version": 3
   },
   "file_extension": ".py",
   "mimetype": "text/x-python",
   "name": "python",
   "nbconvert_exporter": "python",
   "pygments_lexer": "ipython3",
   "version": "3.8.3"
  }
 },
 "nbformat": 4,
 "nbformat_minor": 1
}
