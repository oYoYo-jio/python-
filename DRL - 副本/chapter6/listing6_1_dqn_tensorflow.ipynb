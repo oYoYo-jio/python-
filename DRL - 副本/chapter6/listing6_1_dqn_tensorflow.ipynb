{
 "cells": [
  {
   "cell_type": "markdown",
   "metadata": {},
   "source": [
    "# Deep Q-Network implementation (TensorFlow).\n",
    "\n",
    "In this notebook, we will implement DQN with **experience replay** and **target networks**.\n",
    "\n",
    "$$ \n",
    "\\DeclareMathOperator*{\\max}{max}$$\n",
    "\n",
    "Q Learning control is carried out by sampling step by step and updating Q values at each step. We use ε-greedy policy to explore and generate samples. However, the policy learnt is a deterministic greedy policy with no exploration. We can carryout updates online i.e. we take a step and use `(current state, action, reward and next_state)` tuple to update. \n",
    "\n",
    "In case of function approximation using neural network, the input to the network is the state and output is the q(s,a) for all the actions in the state `s`. It is denoted as $ \\hat{q}(s_t,a; w_{t}) $, where $w_{t}$ is the weigths of the neural network which we are trying to learn as part of DQN learning. \n",
    "\n",
    "We use two networks, one target network to get the max q-value of next state denoted by $ \\max_a \\hat {q}(s_{t+1},a; w^{-}_{t}) $ and the primary network with weights $w_{t}$ which we are updated based on back propagation of the TD error through the network.\n",
    "\n",
    "The Update equation is given below. This is the online version:\n",
    "$$ w_{t+1} \\leftarrow w_t + \\alpha [ R_{t+1} + \\gamma . \\max_{a} \\hat{q}(S_{t+1},a,w^{-}_{t}) – \\hat{q}(S_t,A_t,w_t)] \\nabla \\hat{q}(S_t,A_t,w_t)$$\n",
    "\n",
    "Online update with neural network with millions of weights does not work well. Accordingly, We use experience replay (aka Replay Buffer).  We use a behavior policy to explore the environment and store the samples `(s, a, r, s', done)` in a buffer. The samples are generated using an exploratory behavior policy while we improve a deterministic target policy using q-values. \n",
    "\n",
    "Therefore, we can always use older samples from behavior policy and apply them again and again. We can keep the buffer size fixed to some pre-determined size and keep deleting the older samples as we collect new ones. This process makes learning sample efficient by reusing a sample multiple times and also removing temporal dependence of the samples we would otherwise see while following a trajectory.\n",
    "\n",
    "The update equation with batch update with minor modifications is given below. We collect samples of transitions (current state, action, reward, next state) in a buffer. Where each sample is denoted as a tuple: \n",
    "\n",
    "$$ (s_{i}, a_{i}, r_{i}, s^{'}_{i}, done_{i})$$\n",
    "\n",
    "Subscript (i) denotes ith sample. We take N samples from experience replay selecting randomly and update the weights. Subscript (t) denotes the index of weight updates. If the current state is done, as denoted by `done` flag, the target is just the reward as terminal states have zero value. The final update equation is as given below:\n",
    "\n",
    "$$w_{t+1} \\leftarrow w_t + \\alpha \\frac{1}{N} \\sum_{i=1}^{N} \\left[ r_i + \\left( (1-done_i) . \\gamma .  \\max_{a^{'}} \\hat{q}(s_{i}^{'},a^{'};w^{-}_{t}) \\right) – \\hat{q}(s_i,a_i;w_t) \\right] \\nabla \\hat{q}(s_i,a_i;w_t)$$"
   ]
  },
  {
   "cell_type": "code",
   "execution_count": 1,
   "metadata": {},
   "outputs": [],
   "source": [
    "import random\n",
    "import numpy as np\n",
    "import tensorflow as tf\n",
    "from tensorflow.keras.layers import Dense, Flatten\n",
    "from tensorflow.keras import Model\n",
    "import gym\n",
    "import numpy as np\n",
    "import matplotlib.pyplot as plt\n",
    "from scipy.signal import convolve, gaussian\n",
    "\n",
    "import os\n",
    "import io\n",
    "import base64\n",
    "import time\n",
    "import glob\n",
    "from IPython.display import HTML\n",
    "\n",
    "%matplotlib inline\n"
   ]
  },
  {
   "cell_type": "markdown",
   "metadata": {},
   "source": [
    "### Environment - CartPole \n",
    "\n",
    "We can use the setup here to run on any environment which has state as a single vector and actions are discrete. We will build it on Cart Pole and they try to run this on many other environments like Atari games and others."
   ]
  },
  {
   "cell_type": "code",
   "execution_count": 2,
   "metadata": {},
   "outputs": [],
   "source": [
    "def make_env(env_name, seed=None):\n",
    "    # remove time limit wrapper from environment\n",
    "    env = gym.make(env_name).unwrapped\n",
    "    if seed is not None:\n",
    "        env.seed(seed)\n",
    "    return env"
   ]
  },
  {
   "cell_type": "code",
   "execution_count": 3,
   "metadata": {},
   "outputs": [
    {
     "data": {
      "image/png": "[encoded data removed]",
      "text/plain": [
       "<Figure size 432x288 with 1 Axes>"
      ]
     },
     "metadata": {
      "needs_background": "light"
     },
     "output_type": "display_data"
    }
   ],
   "source": [
    "env_name = 'CartPole-v1'\n",
    "\n",
    "env = make_env(env_name)\n",
    "env.reset()\n",
    "plt.imshow(env.render(\"rgb_array\"))\n",
    "state_shape, n_actions = env.observation_space.shape, env.action_space.n"
   ]
  },
  {
   "cell_type": "markdown",
   "metadata": {},
   "source": [
    "### Building a network using tensorflow"
   ]
  },
  {
   "cell_type": "markdown",
   "metadata": {},
   "source": [
    "Let us build a DQN agent using a simple network. We now need to build a neural network that can map states/observations to state q-values. The observation space and action space is as given below for CartPole\n",
    "\n",
    "    Observation:\n",
    "        Type: Box(4)\n",
    "        Num     Observation               Min                     Max\n",
    "        0       Cart Position             -4.8                    4.8\n",
    "        1       Cart Velocity             -Inf                    Inf\n",
    "        2       Pole Angle                -0.418 rad (-24 deg)    0.418 rad (24 deg)\n",
    "        3       Pole Angular Velocity     -Inf                    Inf\n",
    "    Actions:\n",
    "        Type: Discrete(2)\n",
    "        Num   Action\n",
    "        0     Push cart to the left\n",
    "        1     Push cart to the right\n",
    "        \n",
    "\n",
    "The model will be a simple one with 2 hidden layers with Relu activation and final layer being logits with dimension equal to number of actions. "
   ]
  },
  {
   "cell_type": "code",
   "execution_count": 4,
   "metadata": {},
   "outputs": [],
   "source": [
    "class DQNAgent:\n",
    "    def __init__(self, state_shape, n_actions, epsilon=0):\n",
    "        self.epsilon = epsilon\n",
    "        self.n_actions = n_actions\n",
    "        self.state_shape = state_shape\n",
    "\n",
    "        state_dim = state_shape[0]\n",
    "        self.model = tf.keras.models.Sequential()\n",
    "        self.model.add(tf.keras.Input(shape=(state_dim,)))\n",
    "        self.model.add(tf.keras.layers.Dense(192, activation='relu'))\n",
    "        self.model.add(tf.keras.layers.Dense(256, activation='relu'))\n",
    "        self.model.add(tf.keras.layers.Dense(64, activation='relu'))\n",
    "        self.model.add(tf.keras.layers.Dense(n_actions))\n",
    "    \n",
    "    def __call__(self, state_t):\n",
    "        # pass the state at time t through the newrok to get Q(s,a)\n",
    "        qvalues = self.model(state_t)\n",
    "        return qvalues\n",
    "\n",
    "    def get_qvalues(self, states):\n",
    "        # input is an array of states in numpy and outout is Qvals as numpy array\n",
    "        qvalues = self.model(states)\n",
    "        return qvalues.numpy()\n",
    "\n",
    "    def sample_actions(self, qvalues):\n",
    "        # sample actions from a batch of q_values using epsilon greedy policy\n",
    "        epsilon = self.epsilon\n",
    "        batch_size, n_actions = qvalues.shape\n",
    "        random_actions = np.random.choice(n_actions, size=batch_size)\n",
    "        best_actions = qvalues.argmax(axis=-1)\n",
    "        should_explore = np.random.choice(\n",
    "            [0, 1], batch_size, p=[1-epsilon, epsilon])\n",
    "        return np.where(should_explore, random_actions, best_actions)"
   ]
  },
  {
   "cell_type": "code",
   "execution_count": 5,
   "metadata": {},
   "outputs": [],
   "source": [
    "agent = DQNAgent(state_shape, n_actions, epsilon=0.5)"
   ]
  },
  {
   "cell_type": "code",
   "execution_count": 6,
   "metadata": {},
   "outputs": [
    {
     "name": "stdout",
     "output_type": "stream",
     "text": [
      "Model: \"sequential\"\n",
      "_________________________________________________________________\n",
      "Layer (type)                 Output Shape              Param #   \n",
      "=================================================================\n",
      "dense (Dense)                (None, 192)               960       \n",
      "_________________________________________________________________\n",
      "dense_1 (Dense)              (None, 256)               49408     \n",
      "_________________________________________________________________\n",
      "dense_2 (Dense)              (None, 64)                16448     \n",
      "_________________________________________________________________\n",
      "dense_3 (Dense)              (None, 2)                 130       \n",
      "=================================================================\n",
      "Total params: 66,946\n",
      "Trainable params: 66,946\n",
      "Non-trainable params: 0\n",
      "_________________________________________________________________\n"
     ]
    }
   ],
   "source": [
    "agent.model.summary()"
   ]
  },
  {
   "cell_type": "code",
   "execution_count": 7,
   "metadata": {},
   "outputs": [],
   "source": [
    "def evaluate(env, agent, n_games=1, greedy=False, t_max=10000):\n",
    "    rewards = []\n",
    "    for _ in range(n_games):\n",
    "        s = env.reset()\n",
    "        reward = 0\n",
    "        for _ in range(t_max):\n",
    "            qvalues = agent.get_qvalues(np.array([s]))\n",
    "            action = qvalues.argmax(axis=-1)[0] if greedy else agent.sample_actions(qvalues)[0]\n",
    "            s, r, done, _ = env.step(action)\n",
    "            reward += r\n",
    "            if done:\n",
    "                break\n",
    "\n",
    "        rewards.append(reward)\n",
    "    return np.mean(rewards)"
   ]
  },
  {
   "cell_type": "code",
   "execution_count": 8,
   "metadata": {},
   "outputs": [
    {
     "data": {
      "text/plain": [
       "36.0"
      ]
     },
     "execution_count": 8,
     "metadata": {},
     "output_type": "execute_result"
    }
   ],
   "source": [
    "evaluate(env, agent, n_games=1)\n"
   ]
  },
  {
   "cell_type": "code",
   "execution_count": 9,
   "metadata": {},
   "outputs": [],
   "source": [
    "env.close()"
   ]
  },
  {
   "cell_type": "markdown",
   "metadata": {},
   "source": [
    "### Experience replay\n",
    "\n",
    "We will use the replay buffer we saw in chapter 4 listings. Replay buffer is very important in DQN to break the correlation between samples. We use a behavior policy ($\\epsilon-greedy$) to sample from the environment and store the transitions (s,a,r,s',done) into a buffer. These samples are used multiple times in a learning making the process sample efficient. \n",
    "\n",
    "The interface to ReplayBuffer is:\n",
    "* `exp_replay.add(state, action, reward, next_state, done)` - saves (s,a,r,s',done) tuple into the buffer\n",
    "* `exp_replay.sample(batch_size)` - returns states, actions, rewards, next_states and done_flags for `batch_size` random samples.\n",
    "* `len(exp_replay)` - returns number of elements stored in replay buffer.\n",
    "\n",
    "We have modified the implementation a bit to make it more efficient"
   ]
  },
  {
   "cell_type": "code",
   "execution_count": 10,
   "metadata": {},
   "outputs": [],
   "source": [
    "class ReplayBuffer:\n",
    "    def __init__(self, size):\n",
    "        self.size = size #max number of items in buffer\n",
    "        self.buffer =[] #array to holde buffer\n",
    "        self.next_id = 0\n",
    "    \n",
    "    def __len__(self):\n",
    "        return len(self.buffer)\n",
    "    \n",
    "    def add(self, state, action, reward, next_state, done):\n",
    "        item = (state, action, reward, next_state, done)\n",
    "        if len(self.buffer) < self.size:\n",
    "           self.buffer.append(item)\n",
    "        else:\n",
    "            self.buffer[self.next_id] = item\n",
    "        self.next_id = (self.next_id + 1) % self.size\n",
    "        \n",
    "    def sample(self, batch_size):\n",
    "        idxs = np.random.choice(len(self.buffer), batch_size)\n",
    "        samples = [self.buffer[i] for i in idxs]\n",
    "        states, actions, rewards, next_states, done_flags = list(zip(*samples))\n",
    "        return np.array(states), np.array(actions), np.array(rewards), np.array(next_states), np.array(done_flags)"
   ]
  },
  {
   "cell_type": "code",
   "execution_count": 11,
   "metadata": {},
   "outputs": [],
   "source": [
    "def play_and_record(start_state, agent, env, exp_replay, n_steps=1):\n",
    "\n",
    "    s = start_state\n",
    "    sum_rewards = 0\n",
    "\n",
    "    # Play the game for n_steps and record transitions in buffer\n",
    "    for _ in range(n_steps):\n",
    "        qvalues = agent.get_qvalues(np.array([s]))\n",
    "        a = agent.sample_actions(qvalues)[0]        \n",
    "        next_s, r, done, _ = env.step(a)\n",
    "        sum_rewards += r\n",
    "        exp_replay.add(s, a, r, next_s, done)\n",
    "        if done:\n",
    "            s = env.reset()\n",
    "        else:\n",
    "            s = next_s\n",
    "        \n",
    "    return sum_rewards, s"
   ]
  },
  {
   "cell_type": "markdown",
   "metadata": {},
   "source": [
    "### Target network\n"
   ]
  },
  {
   "cell_type": "code",
   "execution_count": 12,
   "metadata": {},
   "outputs": [],
   "source": [
    "target_network = DQNAgent(agent.state_shape, agent.n_actions, epsilon=0.5)\n",
    "target_network.model.set_weights(agent.model.get_weights())"
   ]
  },
  {
   "cell_type": "markdown",
   "metadata": {},
   "source": [
    "### Learning with... Q-learning\n",
    "Here we write a function similar to tabular q-learning. We will calculate average TD error per batch using the equation: \n",
    "\n",
    "$$ L =  \\frac{1}{N} \\sum_{i=1}^{N} \\left[ r_i + \\left( (1-done_i) . \\gamma .  \\max_{a^{'}} \\hat{q}(s_{i}^{'},a^{'};w^{-}_{t}) \\right) – \\hat{q}(s_i,a_i;w_t) \\right]^2$$\n",
    "\n",
    "\n",
    "$$ \\nabla_w L =   - \\frac{1}{N} \\sum_{i=1}^{N} \\left[ r_i + \\left( (1-done_i) . \\gamma .  \\max_{a^{'}} \\hat{q}(s_{i}^{'},a^{'};w^{-}_{t}) \\right) – \\hat{q}(s_i,a_i;w_t) \\right] \\nabla \\hat{q}(s_i,a_i;w_t)$$\n",
    "\n",
    "\n",
    "$\\hat{q}(s',A;w^{-})$ is calculated using target network whose weights are held constant and refreshed periodically from the agent learning network. \n",
    "\n",
    "Target is given by following:\n",
    "* non terminal state: $r_i +  \\gamma .  \\max_{a^{'}} \\hat{q}(s_{i}^{'},a^{'};w^{-}_{t})$\n",
    "* terminal state: $ r_i $\n",
    "\n",
    "We then carryout back propagation through the agent network to update the weights using equation below:\n",
    "\n",
    "\n",
    "$$ \n",
    "\\DeclareMathOperator*{\\max}{max} w_{t+1} \\leftarrow w_t - \\alpha \\nabla_{w}L$$"
   ]
  },
  {
   "cell_type": "code",
   "execution_count": 13,
   "metadata": {},
   "outputs": [],
   "source": [
    "def compute_td_loss(agent, target_network, states, actions, rewards, next_states, done_flags,\n",
    "                    gamma=0.99):\n",
    "\n",
    "    # get q-values for all actions in current states\n",
    "    # use agent network\n",
    "    predicted_qvalues = agent(states)\n",
    "\n",
    "    # compute q-values for all actions in next states\n",
    "    # use target network\n",
    "    predicted_next_qvalues = target_network(next_states)\n",
    "    \n",
    "    # select q-values for chosen actions\n",
    "    row_indices= tf.range(len(actions))\n",
    "    indices = tf.transpose([row_indices, actions])\n",
    "    predicted_qvalues_for_actions = tf.gather_nd(predicted_qvalues, indices)\n",
    "    \n",
    "\n",
    "    # compute Qmax(next_states, actions) using predicted next q-values\n",
    "    next_state_values = tf.reduce_max(predicted_next_qvalues, axis=1)\n",
    "\n",
    "    # compute \"target q-values\" \n",
    "    target_qvalues_for_actions = rewards + gamma * next_state_values * (1-done_flags)\n",
    "\n",
    "    # mean squared error loss to minimize\n",
    "    loss = tf.keras.losses.MSE(target_qvalues_for_actions, predicted_qvalues_for_actions)\n",
    "\n",
    "    return loss"
   ]
  },
  {
   "cell_type": "markdown",
   "metadata": {},
   "source": [
    "### Main loop\n",
    "\n",
    "We now carryout the training on DQN setup above."
   ]
  },
  {
   "cell_type": "code",
   "execution_count": 14,
   "metadata": {},
   "outputs": [],
   "source": [
    "from tqdm import trange\n",
    "from IPython.display import clear_output\n",
    "import matplotlib.pyplot as plt"
   ]
  },
  {
   "cell_type": "code",
   "execution_count": 15,
   "metadata": {},
   "outputs": [],
   "source": [
    "# set a seed\n",
    "seed = 13\n",
    "random.seed(seed)\n",
    "np.random.seed(seed)\n",
    "tf.random.set_seed(seed)"
   ]
  },
  {
   "cell_type": "code",
   "execution_count": 16,
   "metadata": {},
   "outputs": [],
   "source": [
    "#setup env and agent and target networks\n",
    "env_name = 'CartPole-v1'\n",
    "env = make_env(env_name, seed)\n",
    "state_dim = env.observation_space.shape\n",
    "n_actions = env.action_space.n\n",
    "state = env.reset()\n",
    "\n",
    "agent = DQNAgent(state_dim, n_actions, epsilon=1)\n",
    "target_network = DQNAgent(state_dim, n_actions, epsilon=1)\n",
    "target_network.model.set_weights(agent.model.get_weights())"
   ]
  },
  {
   "cell_type": "code",
   "execution_count": 17,
   "metadata": {},
   "outputs": [
    {
     "name": "stdout",
     "output_type": "stream",
     "text": [
      "10000\n"
     ]
    }
   ],
   "source": [
    "# let us fill experience replay with some samples using full random policy\n",
    "exp_replay = ReplayBuffer(10**4)\n",
    "for i in range(100):\n",
    "    play_and_record(state, agent, env, exp_replay, n_steps=10**2)\n",
    "    if len(exp_replay) == 10**4:\n",
    "        break\n",
    "print(len(exp_replay))"
   ]
  },
  {
   "cell_type": "code",
   "execution_count": 18,
   "metadata": {},
   "outputs": [],
   "source": [
    "#setup some parameters for training\n",
    "timesteps_per_epoch = 1\n",
    "batch_size = 32\n",
    "total_steps = 5 * 10**4\n",
    "\n",
    "#init Optimizer\n",
    "optimizer = tf.keras.optimizers.Adam(learning_rate=1e-4)\n",
    "# set exploration epsilon \n",
    "start_epsilon = 1\n",
    "end_epsilon = 0.05\n",
    "eps_decay_final_step = 2 * 10**4\n",
    "\n",
    "# setup spme frequency for loggind and updating target network\n",
    "loss_freq = 20\n",
    "refresh_target_network_freq = 100\n",
    "eval_freq = 1000\n",
    "\n",
    "# to clip the gradients\n",
    "max_grad_norm = 5000"
   ]
  },
  {
   "cell_type": "code",
   "execution_count": 19,
   "metadata": {},
   "outputs": [],
   "source": [
    "mean_rw_history = []\n",
    "td_loss_history = []\n"
   ]
  },
  {
   "cell_type": "code",
   "execution_count": 20,
   "metadata": {},
   "outputs": [],
   "source": [
    "def epsilon_schedule(start_eps, end_eps, step, final_step):\n",
    "    return start_eps + (end_eps-start_eps)*min(step, final_step)/final_step\n",
    "\n",
    "def smoothen(values):\n",
    "    kernel = gaussian(100, std=100)\n",
    "    kernel = kernel / np.sum(kernel)\n",
    "    return convolve(values, kernel, 'valid')"
   ]
  },
  {
   "cell_type": "code",
   "execution_count": 21,
   "metadata": {},
   "outputs": [
    {
     "name": "stdout",
     "output_type": "stream",
     "text": [
      "buffer size = 10000, epsilon = 0.05000\n"
     ]
    },
    {
     "data": {
      "image/png": "[encoded data removed]",
      "text/plain": [
       "<Figure size 1152x360 with 2 Axes>"
      ]
     },
     "metadata": {
      "needs_background": "light"
     },
     "output_type": "display_data"
    },
    {
     "name": "stderr",
     "output_type": "stream",
     "text": [
      "100%|████████████████████████████████████████████████████████████████████████████| 50001/50001 [08:51<00:00, 94.13it/s]\n"
     ]
    }
   ],
   "source": [
    "state = env.reset()\n",
    "for step in trange(total_steps + 1):\n",
    "    \n",
    "    # reduce exploration as we progress\n",
    "    agent.epsilon = epsilon_schedule(start_epsilon, end_epsilon, step, eps_decay_final_step)\n",
    "\n",
    "    # take timesteps_per_epoch and update experience replay buffer\n",
    "    _, state = play_and_record(state, agent, env, exp_replay, timesteps_per_epoch)\n",
    "\n",
    "    # train by sampling batch_size of data from experience replay\n",
    "    states, actions, rewards, next_states, done_flags = exp_replay.sample(batch_size)\n",
    "    \n",
    "    with tf.GradientTape() as tape:\n",
    "        # loss = <compute TD loss>\n",
    "        loss = compute_td_loss(agent, target_network, \n",
    "                               states, actions, rewards, next_states, done_flags,                  \n",
    "                               gamma=0.99)\n",
    "\n",
    "    gradients = tape.gradient(loss, agent.model.trainable_variables)\n",
    "    clipped_grads = [tf.clip_by_norm(g, max_grad_norm) for g in gradients]\n",
    "    optimizer.apply_gradients(zip(clipped_grads, agent.model.trainable_variables))\n",
    "\n",
    "\n",
    "    if step % loss_freq == 0:\n",
    "        td_loss_history.append(loss.numpy())\n",
    "\n",
    "    if step % refresh_target_network_freq == 0:\n",
    "        # Load agent weights into target_network\n",
    "        target_network.model.set_weights(agent.model.get_weights())\n",
    "\n",
    "    if step % eval_freq == 0:\n",
    "        # eval the agent\n",
    "        mean_rw_history.append(evaluate(\n",
    "            make_env(env_name, seed=step), agent, n_games=3, greedy=True, t_max=1000)\n",
    "        )\n",
    "\n",
    "        clear_output(True)\n",
    "        print(\"buffer size = %i, epsilon = %.5f\" %\n",
    "              (len(exp_replay), agent.epsilon))\n",
    "\n",
    "        plt.figure(figsize=[16, 5])\n",
    "        plt.subplot(1, 2, 1)\n",
    "        plt.title(\"Mean reward per episode\")\n",
    "        plt.plot(mean_rw_history)\n",
    "        plt.grid()\n",
    "\n",
    "        assert not np.isnan(td_loss_history[-1])\n",
    "        plt.subplot(1, 2, 2)\n",
    "        plt.title(\"TD loss history (smoothened)\")\n",
    "        plt.plot(smoothen(td_loss_history))\n",
    "        plt.grid()\n",
    "\n",
    "        plt.show()"
   ]
  },
  {
   "cell_type": "code",
   "execution_count": 22,
   "metadata": {},
   "outputs": [
    {
     "name": "stdout",
     "output_type": "stream",
     "text": [
      "final score: 379.1666666666667\n",
      "Well done\n"
     ]
    }
   ],
   "source": [
    "final_score = evaluate(\n",
    "  make_env(env_name),\n",
    "  agent, n_games=30, greedy=True, t_max=1000\n",
    ")\n",
    "print('final score:', final_score)\n",
    "print('Well done')"
   ]
  },
  {
   "cell_type": "markdown",
   "metadata": {},
   "source": [
    "**Let us record a video of trained agent**"
   ]
  },
  {
   "cell_type": "code",
   "execution_count": 23,
   "metadata": {},
   "outputs": [],
   "source": [
    "def generate_animation(env, agent, save_dir):\n",
    "    \n",
    "    try:\n",
    "        env = gym.wrappers.Monitor(\n",
    "            env, save_dir, video_callable=lambda id: True, force=True, mode='evaluation')\n",
    "    except gym.error.Error as e:\n",
    "        print(e)\n",
    "\n",
    "    if not os.path.exists(save_dir):\n",
    "        os.makedirs(save_dir)\n",
    "        \n",
    "    state = env.reset()\n",
    "    reward = 0\n",
    "    while True:\n",
    "        qvalues = agent.get_qvalues(np.array([state]))\n",
    "        action = qvalues.argmax(axis=-1)[0]\n",
    "        state, r, done, _ = env.step(action)\n",
    "        reward += r\n",
    "        if done:\n",
    "            print('Got reward: {}'.format(reward))\n",
    "            break\n",
    "            \n",
    "def display_animation(filepath):\n",
    "    video = io.open(filepath, 'r+b').read()\n",
    "    encoded = base64.b64encode(video)\n",
    "    return HTML(data='''<video alt=\"test\" controls>\n",
    "                <source src=\"data:video/mp4;base64,{0}\" type=\"video/mp4\" />\n",
    "                 </video>'''.format(encoded.decode('ascii')))"
   ]
  },
  {
   "cell_type": "code",
   "execution_count": 24,
   "metadata": {},
   "outputs": [
    {
     "name": "stdout",
     "output_type": "stream",
     "text": [
      "Got reward: 396.0\n"
     ]
    },
    {
     "data": {
      "text/html": [
       "<video alt=\"test\" controls>\n",
       "                <source src=\"data:video/mp4;base64,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\" type=\"video/mp4\" />\n",
       "                 </video>"
      ],
      "text/plain": [
       "<IPython.core.display.HTML object>"
      ]
     },
     "execution_count": 24,
     "metadata": {},
     "output_type": "execute_result"
    }
   ],
   "source": [
    "# Animate learned policy\n",
    "save_dir='./videos/tensorflow/6_1/'\n",
    "env = make_env(env_name)\n",
    "generate_animation(env, agent, save_dir=save_dir)\n",
    "[filepath] = glob.glob(os.path.join(save_dir, '*.mp4'))\n",
    "display_animation(filepath)\n"
   ]
  },
  {
   "cell_type": "code",
   "execution_count": null,
   "metadata": {},
   "outputs": [],
   "source": [
    "#TODO\n",
    "\n",
    "# Try to run this on another environment of your choice from OpenAI Gym\n",
    "# read the accompanying text and try to enahnce the network using various variants\n"
   ]
  },
  {
   "cell_type": "markdown",
   "metadata": {},
   "source": [
    "### Summary\n",
    "\n",
    "In this notebook we saw how to train a DQN agent with experience replay and target networks. We can improve this agent with many tricks. As we go along, we will be implementing many of these variants."
   ]
  }
 ],
 "metadata": {
  "kernelspec": {
   "display_name": "Python 3",
   "language": "python",
   "name": "python3"
  },
  "language_info": {
   "codemirror_mode": {
    "name": "ipython",
    "version": 3
   },
   "file_extension": ".py",
   "mimetype": "text/x-python",
   "name": "python",
   "nbconvert_exporter": "python",
   "pygments_lexer": "ipython3",
   "version": "3.8.3"
  }
 },
 "nbformat": 4,
 "nbformat_minor": 1
}
