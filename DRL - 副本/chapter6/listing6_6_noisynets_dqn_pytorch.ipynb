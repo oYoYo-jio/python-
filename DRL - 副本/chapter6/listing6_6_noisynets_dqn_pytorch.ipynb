{
 "cells": [
  {
   "cell_type": "markdown",
   "metadata": {},
   "source": [
    "# Deep Q-Network Variant NoisyNet DQN implementation (PyTorch).\n",
    "\n",
    "In this notebook, we will implement NoisyNet DQN variant of DQN. First part of the notebook is all about the vanilla DQN and how we train - a copy of `6_1_dqn_pytorch.ipynb`. The NoisyNet DQN variant is after these sections on vanilla DQN. \n",
    "\n",
    "\n",
    "### RECAP\n",
    "\n",
    "$$ \n",
    "\\DeclareMathOperator*{\\max}{max}$$\n",
    "\n",
    "Q Learning control is carried out by sampling step by step and updating Q values at each step. We use ε-greedy policy to explore and generate samples. However, the policy learnt is a deterministic greedy policy with no exploration. We can carryout updates online i.e. we take a step and use `(current state, action, reward and next_state)` tuple to update. \n",
    "\n",
    "In case of function approximation using neural network, the input to the network is the state and output is the q(s,a) for all the actions in the state `s`. It is denoted as $ \\hat{q}(s_t,a; w_{t}) $, where $w_{t}$ is the weights of the neural network which we are trying to learn as part of DQN learning. \n",
    "\n",
    "We use two networks, one target network to get the max q-value of next state denoted by $ \\max_a \\hat {q}(s_{t+1},a; w^{-}_{t}) $ and the primary network with weights $w_{t}$ which we are updated based on back propagation of the TD error through the network.\n",
    "\n",
    "The Update equation is given below. This is the online version:\n",
    "$$ w_{t+1} \\leftarrow w_t + \\alpha [ R_{t+1} + \\gamma . \\max_{a} \\hat{q}(S_{t+1},a,w^{-}_{t}) – \\hat{q}(S_t,A_t,w_t)] \\nabla \\hat{q}(S_t,A_t,w_t)$$\n",
    "\n",
    "Online update with neural network with millions of weights does not work well. Accordingly, We use experience replay (aka Replay Buffer).  We use a behavior policy to explore the environment and store the samples `(s, a, r, s', done)` in a buffer. The samples are generated using an exploratory behavior policy while we improve a deterministic target policy using q-values. \n",
    "\n",
    "Therefore, we can always use older samples from behavior policy and apply them again and again. We can keep the buffer size fixed to some pre-determined size and keep deleting the older samples as we collect new ones. This process makes learning sample efficient by reusing a sample multiple times and also removing temporal dependence of the samples we would otherwise see while following a trajectory.\n",
    "\n",
    "The update equation with batch update with minor modifications is given below. We collect samples of transitions (current state, action, reward, next state) in a buffer. Where each sample is denoted as a tuple: \n",
    "\n",
    "$$ (s_{i}, a_{i}, r_{i}, s^{'}_{i}, done_{i})$$\n",
    "\n",
    "Subscript (i) denotes ith sample. We take N samples from experience replay selecting randomly and update the weights. Subscript (t) denotes the index of weight updates. If the current state is done, as denoted by `done` flag, the target is just the reward as terminal states have zero value. The final update equation is as given below:\n",
    "\n",
    "$$w_{t+1} \\leftarrow w_t + \\alpha \\frac{1}{N} \\sum_{i=1}^{N} \\left[ r_i + \\left( (1-done_i) . \\gamma .  \\max_{a^{'}} \\hat{q}(s_{i}^{'},a^{'};w^{-}_{t}) \\right) – \\hat{q}(s_i,a_i;w_t) \\right] \\nabla \\hat{q}(s_i,a_i;w_t)$$"
   ]
  },
  {
   "cell_type": "code",
   "execution_count": 1,
   "metadata": {},
   "outputs": [],
   "source": [
    "import random\n",
    "import numpy as np\n",
    "import torch\n",
    "import torch.nn as nn\n",
    "import torch.nn.functional as F\n",
    "import torch.optim as optim\n",
    "\n",
    "import gym\n",
    "\n",
    "import numpy as np\n",
    "import matplotlib.pyplot as plt\n",
    "from scipy.signal import convolve, gaussian\n",
    "import math\n",
    "import os\n",
    "import io\n",
    "import base64\n",
    "import time\n",
    "from tqdm import trange\n",
    "import glob\n",
    "import random\n",
    "from collections import namedtuple\n",
    "\n",
    "from IPython.display import HTML, clear_output\n",
    "\n",
    "%matplotlib inline\n"
   ]
  },
  {
   "cell_type": "markdown",
   "metadata": {},
   "source": [
    "### Environment - CartPole \n",
    "\n",
    "We can use the setup here to run on any environment which has state as a single vector and actions are discrete. We will build it on Cart Pole and they try to run this on many other environments like Lunar Lander and others.\n"
   ]
  },
  {
   "cell_type": "code",
   "execution_count": 2,
   "metadata": {},
   "outputs": [],
   "source": [
    "def make_env(env_name, seed=None):\n",
    "    # remove time limit wrapper from environment\n",
    "    env = gym.make(env_name).unwrapped\n",
    "    if seed is not None:\n",
    "        env.seed(seed)\n",
    "    return env"
   ]
  },
  {
   "cell_type": "code",
   "execution_count": 3,
   "metadata": {},
   "outputs": [
    {
     "data": {
      "image/png": "[encoded data removed]",
      "text/plain": [
       "<Figure size 432x288 with 1 Axes>"
      ]
     },
     "metadata": {
      "needs_background": "light"
     },
     "output_type": "display_data"
    }
   ],
   "source": [
    "ENV_NAME = 'CartPole-v1'\n",
    "\n",
    "env = make_env(ENV_NAME)\n",
    "env.reset()\n",
    "plt.imshow(env.render(\"rgb_array\"))\n",
    "state_shape, n_actions = env.observation_space.shape, env.action_space.n"
   ]
  },
  {
   "cell_type": "markdown",
   "metadata": {},
   "source": [
    "### Building a network using pytorch"
   ]
  },
  {
   "cell_type": "markdown",
   "metadata": {},
   "source": [
    "Let us build a DQN agent using a simple network. We now need to build a neural network that can map states/observations to state q-values. The observation space and action space is as given below for CartPole\n",
    "\n",
    "    Observation:\n",
    "        Type: Box(4)\n",
    "        Num     Observation               Min                     Max\n",
    "        0       Cart Position             -4.8                    4.8\n",
    "        1       Cart Velocity             -Inf                    Inf\n",
    "        2       Pole Angle                -0.418 rad (-24 deg)    0.418 rad (24 deg)\n",
    "        3       Pole Angular Velocity     -Inf                    Inf\n",
    "    Actions:\n",
    "        Type: Discrete(2)\n",
    "        Num   Action\n",
    "        0     Push cart to the left\n",
    "        1     Push cart to the right\n",
    "        \n",
    "\n",
    "The model will be a simple one with 2 hidden payers with Relu activation and final layer being logits with dimension equation to number of actions. "
   ]
  },
  {
   "cell_type": "code",
   "execution_count": 4,
   "metadata": {},
   "outputs": [
    {
     "data": {
      "text/plain": [
       "device(type='cpu')"
      ]
     },
     "execution_count": 4,
     "metadata": {},
     "output_type": "execute_result"
    }
   ],
   "source": [
    "device = torch.device('cuda' if torch.cuda.is_available() else 'cpu')\n",
    "device"
   ]
  },
  {
   "cell_type": "code",
   "execution_count": 5,
   "metadata": {},
   "outputs": [],
   "source": [
    "class DQNAgent(nn.Module):\n",
    "    def __init__(self, state_shape, n_actions, epsilon=0):\n",
    "\n",
    "        super().__init__()\n",
    "        self.epsilon = epsilon\n",
    "        self.n_actions = n_actions\n",
    "        self.state_shape = state_shape\n",
    "        \n",
    "        state_dim = state_shape[0]\n",
    "        # a simple NN with state_dim as input vector (inout is state s)\n",
    "        # and self.n_actions as output vector of logits of q(s, a)\n",
    "        self.fc1 = nn.Linear(state_dim, 64)\n",
    "        self.fc2 = nn.Linear(64, 128)\n",
    "        self.fc3 = nn.Linear(128, 32)\n",
    "        self.q = nn.Linear(32, n_actions)\n",
    "        \n",
    "    def forward(self, state_t):\n",
    "        # pass the state at time t through the newrok to get Q(s,a)\n",
    "        x = F.relu(self.fc1(state_t))\n",
    "        x = F.relu(self.fc2(x))\n",
    "        x = F.relu(self.fc3(x))\n",
    "        qvalues = self.q(x)\n",
    "        return qvalues\n",
    "\n",
    "    def get_qvalues(self, states):\n",
    "        # input is an array of states in numpy and outout is Qvals as numpy array\n",
    "        states = torch.tensor(states, device=device, dtype=torch.float32)\n",
    "        qvalues = self.forward(states)\n",
    "        return qvalues.data.cpu().numpy()\n",
    "\n",
    "    def sample_actions(self, qvalues):\n",
    "        # sample actions from a batch of q_values using epsilon greedy policy\n",
    "        epsilon = self.epsilon\n",
    "        batch_size, n_actions = qvalues.shape\n",
    "        random_actions = np.random.choice(n_actions, size=batch_size)\n",
    "        best_actions = qvalues.argmax(axis=-1)\n",
    "        should_explore = np.random.choice(\n",
    "            [0, 1], batch_size, p=[1-epsilon, epsilon])\n",
    "        return np.where(should_explore, random_actions, best_actions)"
   ]
  },
  {
   "cell_type": "code",
   "execution_count": 6,
   "metadata": {},
   "outputs": [],
   "source": [
    "agent = DQNAgent(state_shape, n_actions, epsilon=0.5).to(device)"
   ]
  },
  {
   "cell_type": "code",
   "execution_count": 7,
   "metadata": {},
   "outputs": [],
   "source": [
    "def evaluate(env, agent, n_games=1, greedy=False, t_max=10000):\n",
    "    rewards = []\n",
    "    for _ in range(n_games):\n",
    "        s = env.reset()\n",
    "        reward = 0\n",
    "        for _ in range(t_max):\n",
    "            qvalues = agent.get_qvalues([s])\n",
    "            action = qvalues.argmax(axis=-1)[0] if greedy else agent.sample_actions(qvalues)[0]\n",
    "            s, r, done, _ = env.step(action)\n",
    "            reward += r\n",
    "            if done:\n",
    "                break\n",
    "\n",
    "        rewards.append(reward)\n",
    "    return np.mean(rewards)"
   ]
  },
  {
   "cell_type": "code",
   "execution_count": 8,
   "metadata": {},
   "outputs": [
    {
     "name": "stdout",
     "output_type": "stream",
     "text": [
      "11.0\n"
     ]
    }
   ],
   "source": [
    "print(evaluate(env, agent, n_games=1))\n",
    "env.close()"
   ]
  },
  {
   "cell_type": "markdown",
   "metadata": {},
   "source": [
    "### Experience replay\n",
    "\n",
    "We will use the replay buffer we saw in chapter 4 listings. Replay buffer is very important in DQN to break the correlation between samples. We use a behavior policy (epsilon greedy) to sample from the environment and store the transitions (s,a,r,s',done) into a buffer. These samples are used multiple times in a learning making the process sample efficient. \n",
    "\n",
    "The interface to ReplayBuffer is:\n",
    "* `exp_replay.add(state, action, reward, next_state, done)` - saves (s,a,r,s',done) tuple into the buffer\n",
    "* `exp_replay.sample(batch_size)` - returns states, actions, rewards, next_states and done_flags for `batch_size` random samples.\n",
    "* `len(exp_replay)` - returns number of elements stored in replay buffer.\n",
    "\n",
    "We have modified the implementation a bit to make it more efficient"
   ]
  },
  {
   "cell_type": "code",
   "execution_count": 9,
   "metadata": {},
   "outputs": [],
   "source": [
    "class ReplayBuffer:\n",
    "    def __init__(self, size):\n",
    "        self.size = size #max number of items in buffer\n",
    "        self.buffer =[] #array to holde buffer\n",
    "        self.next_id = 0\n",
    "    \n",
    "    def __len__(self):\n",
    "        return len(self.buffer)\n",
    "    \n",
    "    def add(self, state, action, reward, next_state, done):\n",
    "        item = (state, action, reward, next_state, done)\n",
    "        if len(self.buffer) < self.size:\n",
    "           self.buffer.append(item)\n",
    "        else:\n",
    "            self.buffer[self.next_id] = item\n",
    "        self.next_id = (self.next_id + 1) % self.size\n",
    "        \n",
    "    def sample(self, batch_size):\n",
    "        idxs = np.random.choice(len(self.buffer), batch_size)\n",
    "        samples = [self.buffer[i] for i in idxs]\n",
    "        states, actions, rewards, next_states, done_flags = list(zip(*samples))\n",
    "        return np.array(states), np.array(actions), np.array(rewards), np.array(next_states), np.array(done_flags)"
   ]
  },
  {
   "cell_type": "code",
   "execution_count": 10,
   "metadata": {},
   "outputs": [],
   "source": [
    "def play_and_record(start_state, agent, env, exp_replay, n_steps=1):\n",
    "\n",
    "    s = start_state\n",
    "    sum_rewards = 0\n",
    "\n",
    "    # Play the game for n_steps and record transitions in buffer\n",
    "    for _ in range(n_steps):\n",
    "        qvalues = agent.get_qvalues([s])\n",
    "        a = agent.sample_actions(qvalues)[0]        \n",
    "        next_s, r, done, _ = env.step(a)\n",
    "        sum_rewards += r\n",
    "        exp_replay.add(s, a, r, next_s, done)\n",
    "        if done:\n",
    "            s = env.reset()\n",
    "        else:\n",
    "            s = next_s\n",
    "        \n",
    "    return sum_rewards, s"
   ]
  },
  {
   "cell_type": "markdown",
   "metadata": {},
   "source": [
    "### Target network\n"
   ]
  },
  {
   "cell_type": "code",
   "execution_count": 11,
   "metadata": {},
   "outputs": [
    {
     "data": {
      "text/plain": [
       "<All keys matched successfully>"
      ]
     },
     "execution_count": 11,
     "metadata": {},
     "output_type": "execute_result"
    }
   ],
   "source": [
    "target_network = DQNAgent(agent.state_shape, agent.n_actions, epsilon=0.5).to(device)\n",
    "target_network.load_state_dict(agent.state_dict())"
   ]
  },
  {
   "cell_type": "markdown",
   "metadata": {},
   "source": [
    "### Learning with... Q-learning\n",
    "Here we write a function similar to tabular q-learning. We will calculate average TD error per batch using the equation: \n",
    "\n",
    "$$ L =  \\frac{1}{N} \\sum_{i=1}^{N} \\left[ r_i + \\left( (1-done_i) . \\gamma .  \\max_{a^{'}} \\hat{q}(s_{i}^{'},a^{'};w^{-}_{t}) \\right) – \\hat{q}(s_i,a_i;w_t) \\right]^2$$\n",
    "\n",
    "\n",
    "$$ \\nabla_w L =   - \\frac{1}{N} \\sum_{i=1}^{N} \\left[ r_i + \\left( (1-done_i) . \\gamma .  \\max_{a^{'}} \\hat{q}(s_{i}^{'},a^{'};w^{-}_{t}) \\right) – \\hat{q}(s_i,a_i;w_t) \\right] \\nabla \\hat{q}(s_i,a_i;w_t)$$\n",
    "\n",
    "\n",
    "$\\hat{q}(s',A;w^{-})$ is calculated using target network whose weights are held constant and refreshed periodically from the agent learning network. \n",
    "\n",
    "Target is given by following:\n",
    "* non terminal state: $r_i +  \\gamma .  \\max_{a^{'}} \\hat{q}(s_{i}^{'},a^{'};w^{-}_{t})$\n",
    "* terminal state: $ r_i $\n",
    "\n",
    "We then carryout back propagation through the agent network to update the weights using equation below:\n",
    "\n",
    "\n",
    "$$ \n",
    "\\DeclareMathOperator*{\\max}{max} w_{t+1} \\leftarrow w_t - \\alpha \\nabla_{w}L$$"
   ]
  },
  {
   "cell_type": "code",
   "execution_count": 12,
   "metadata": {},
   "outputs": [],
   "source": [
    "def td_loss_dqn(agent, target_network, states, actions, rewards, next_states, done_flags,\n",
    "                    gamma=0.99, device=device):\n",
    "\n",
    "    # convert numpy array to torch tensors\n",
    "    states = torch.tensor(states, device=device, dtype=torch.float)\n",
    "    actions = torch.tensor(actions, device=device, dtype=torch.long)\n",
    "    rewards = torch.tensor(rewards, device=device, dtype=torch.float)\n",
    "    next_states = torch.tensor(next_states, device=device, dtype=torch.float)\n",
    "    done_flags = torch.tensor(done_flags.astype('float32'),device=device,dtype=torch.float)\n",
    "\n",
    "    # get q-values for all actions in current states\n",
    "    # use agent network\n",
    "    q_s = agent(states)\n",
    "\n",
    "    # select q-values for chosen actions\n",
    "    q_s_a = q_s[range(\n",
    "        len(actions)), actions]\n",
    "\n",
    "    with torch.no_grad():\n",
    "        # compute q-values for all actions in next states\n",
    "        # use target network\n",
    "        q_s1 = target_network(next_states)\n",
    "\n",
    "\n",
    "        # compute Qmax(next_states, actions) using predicted next q-values\n",
    "        q_s1_a1max,_ = torch.max(q_s1, dim=1)\n",
    "\n",
    "        # compute \"target q-values\" \n",
    "        target_q = rewards + gamma * q_s1_a1max * (1-done_flags)\n",
    "\n",
    "    # mean squared error loss to minimize\n",
    "    loss = torch.mean((q_s_a - target_q.detach()) ** 2)\n",
    "\n",
    "    return loss"
   ]
  },
  {
   "cell_type": "code",
   "execution_count": 13,
   "metadata": {},
   "outputs": [],
   "source": [
    "def epsilon_schedule(start_eps, end_eps, step, final_step):\n",
    "    return start_eps + (end_eps-start_eps)*min(step, final_step)/final_step\n",
    "\n",
    "def smoothen(values):\n",
    "    kernel = gaussian(100, std=100)\n",
    "    kernel = kernel / np.sum(kernel)\n",
    "    return convolve(values, kernel, 'valid')"
   ]
  },
  {
   "cell_type": "markdown",
   "metadata": {},
   "source": [
    "### Main loop\n",
    "\n",
    "We now carryout the training on DQN setup above."
   ]
  },
  {
   "cell_type": "code",
   "execution_count": 14,
   "metadata": {},
   "outputs": [],
   "source": [
    "def train_agent(env, agent, target_network, optimizer, td_loss_fn):\n",
    "    \n",
    "    state = env.reset()\n",
    "    # let us fill experience replay with some samples using full random policy\n",
    "    exp_replay = ReplayBuffer(10**4)\n",
    "    for i in range(100):\n",
    "        play_and_record(state, agent, env, exp_replay, n_steps=10**2)\n",
    "        if len(exp_replay) == 10**4:\n",
    "            break\n",
    "    print('Finished filling buffer with: {} samples'.format(len(exp_replay)))\n",
    "\n",
    "    mean_rw_history = []\n",
    "    td_loss_history = []\n",
    "    state = env.reset()\n",
    "    for step in trange(total_steps + 1):\n",
    "\n",
    "        # reduce exploration as we progress\n",
    "        agent.epsilon = epsilon_schedule(start_epsilon, end_epsilon, step, eps_decay_final_step)\n",
    "\n",
    "        # take timesteps_per_epoch and update experience replay buffer\n",
    "        _, state = play_and_record(state, agent, env, exp_replay, timesteps_per_epoch)\n",
    "\n",
    "        # train by sampling batch_size of data from experience replay\n",
    "        states, actions, rewards, next_states, done_flags = exp_replay.sample(batch_size)\n",
    "\n",
    "\n",
    "        # loss = <compute TD loss>\n",
    "        optimizer.zero_grad()\n",
    "        loss = td_loss_fn(agent, target_network, \n",
    "                          states, actions, rewards, next_states, done_flags,                  \n",
    "                          gamma=0.99,\n",
    "                          device=device)\n",
    "\n",
    "        loss.backward()\n",
    "        grad_norm = nn.utils.clip_grad_norm_(agent.parameters(), max_grad_norm)\n",
    "        optimizer.step()\n",
    "\n",
    "        if step % loss_freq == 0:\n",
    "            td_loss_history.append(loss.data.cpu().item())\n",
    "\n",
    "        if step % refresh_target_network_freq == 0:\n",
    "            # Load agent weights into target_network\n",
    "            target_network.load_state_dict(agent.state_dict())\n",
    "\n",
    "        if step % eval_freq == 0:\n",
    "            # eval the agent\n",
    "            mean_rw_history.append(evaluate(\n",
    "                make_env(ENV_NAME, seed=step), agent, n_games=3, greedy=True, t_max=1000)\n",
    "            )\n",
    "\n",
    "            clear_output(True)\n",
    "            print(\"buffer size = %i, epsilon = %.5f\" %\n",
    "                  (len(exp_replay), agent.epsilon))\n",
    "\n",
    "            plt.figure(figsize=[16, 5])\n",
    "            plt.subplot(1, 2, 1)\n",
    "            plt.title(\"Mean reward per episode\")\n",
    "            plt.plot(mean_rw_history)\n",
    "            plt.grid()\n",
    "\n",
    "            assert not np.isnan(td_loss_history[-1])\n",
    "            plt.subplot(1, 2, 2)\n",
    "            plt.title(\"TD loss history (smoothened)\")\n",
    "            plt.plot(smoothen(td_loss_history))\n",
    "            plt.grid()\n",
    "\n",
    "            plt.show()\n",
    "    "
   ]
  },
  {
   "cell_type": "code",
   "execution_count": 15,
   "metadata": {},
   "outputs": [],
   "source": [
    "#setup some parameters for training\n",
    "timesteps_per_epoch = 1\n",
    "batch_size = 32\n",
    "total_steps = 3 * 10**4\n",
    "\n",
    "# set exploration epsilon \n",
    "start_epsilon = 1\n",
    "end_epsilon = 0.05\n",
    "eps_decay_final_step = 2 * 10**4\n",
    "\n",
    "# setup spme frequency for loggind and updating target network\n",
    "loss_freq = 50\n",
    "refresh_target_network_freq = 100\n",
    "eval_freq = 1000\n",
    "\n",
    "# to clip the gradients\n",
    "max_grad_norm = 5000\n",
    "\n",
    "#set up random numbers\n",
    "seed=0\n",
    "random.seed(seed)\n",
    "np.random.seed(seed)\n",
    "torch.manual_seed(seed) \n",
    "\n",
    "#init environment\n",
    "ENV_NAME = 'CartPole-v1'\n",
    "env = make_env(ENV_NAME, seed)\n",
    "state_dim = env.observation_space.shape\n",
    "n_actions = env.action_space.n\n",
    "\n",
    "#init agent, target network and Optimizer\n",
    "agent = DQNAgent(state_dim, n_actions, epsilon=1).to(device)\n",
    "target_network = DQNAgent(state_dim, n_actions, epsilon=1).to(device)\n",
    "target_network.load_state_dict(agent.state_dict())\n",
    "optimizer = torch.optim.Adam(agent.parameters(), lr=1e-4)"
   ]
  },
  {
   "cell_type": "code",
   "execution_count": 16,
   "metadata": {},
   "outputs": [
    {
     "name": "stdout",
     "output_type": "stream",
     "text": [
      "buffer size = 10000, epsilon = 0.05000\n"
     ]
    },
    {
     "data": {
      "image/png": "[encoded data removed]",
      "text/plain": [
       "<Figure size 1152x360 with 2 Axes>"
      ]
     },
     "metadata": {
      "needs_background": "light"
     },
     "output_type": "display_data"
    },
    {
     "name": "stderr",
     "output_type": "stream",
     "text": [
      "100%|███████████████████████████████████████████████████████████████████████████| 30001/30001 [03:13<00:00, 155.24it/s]\n"
     ]
    }
   ],
   "source": [
    "train_agent(env, agent, target_network, optimizer, td_loss_fn=td_loss_dqn)"
   ]
  },
  {
   "cell_type": "code",
   "execution_count": 17,
   "metadata": {},
   "outputs": [
    {
     "name": "stdout",
     "output_type": "stream",
     "text": [
      "final score: 264.73333333333335\n"
     ]
    }
   ],
   "source": [
    "final_score = evaluate(\n",
    "  make_env(ENV_NAME),\n",
    "  agent, n_games=30, greedy=True, t_max=1000\n",
    ")\n",
    "print('final score:', final_score)\n"
   ]
  },
  {
   "cell_type": "markdown",
   "metadata": {},
   "source": [
    "**Let us record a video of trained agent**"
   ]
  },
  {
   "cell_type": "code",
   "execution_count": 18,
   "metadata": {},
   "outputs": [],
   "source": [
    "def generate_animation(env, agent, save_dir):\n",
    "    \n",
    "    try:\n",
    "        env = gym.wrappers.Monitor(\n",
    "            env, save_dir, video_callable=lambda id: True, force=True, mode='evaluation')\n",
    "    except gym.error.Error as e:\n",
    "        print(e)\n",
    "\n",
    "    if not os.path.exists(save_dir):\n",
    "        os.makedirs(save_dir)\n",
    "        \n",
    "    state = env.reset()\n",
    "    reward = 0\n",
    "    while True:\n",
    "        qvalues = agent.get_qvalues([state])\n",
    "        action = qvalues.argmax(axis=-1)[0]\n",
    "        state, r, done, _ = env.step(action)\n",
    "        reward += r\n",
    "        if done:\n",
    "            print('Got reward: {}'.format(reward))\n",
    "            break\n",
    "            \n",
    "def display_animation(filepath):\n",
    "    video = io.open(filepath, 'r+b').read()\n",
    "    encoded = base64.b64encode(video)\n",
    "    return HTML(data='''<video alt=\"test\" controls>\n",
    "                <source src=\"data:video/mp4;base64,{0}\" type=\"video/mp4\" />\n",
    "                 </video>'''.format(encoded.decode('ascii')))"
   ]
  },
  {
   "cell_type": "code",
   "execution_count": 19,
   "metadata": {},
   "outputs": [
    {
     "name": "stdout",
     "output_type": "stream",
     "text": [
      "Got reward: 281.0\n"
     ]
    },
    {
     "data": {
      "text/html": [
       "<video alt=\"test\" controls>\n",
       "                <source src=\"data:video/mp4;base64,AAAAIGZ0eXBpc29tAAACAGlzb21pc28yYXZjMW1wNDEAAAAIZnJlZQAATzFtZGF0AAACoQYF//+d3EXpvebZSLeWLNgg2SPu73gyNjQgLSBjb3JlIDE2MSAtIEguMjY0L01QRUctNCBBVkMgY29kZWMgLSBDb3B5bGVmdCAyMDAzLTIwMjAgLSBodHRwOi8vd3d3LnZpZGVvbGFuLm9yZy94MjY0Lmh0bWwgLSBvcHRpb25zOiBjYWJhYz0xIHJlZj0zIGRlYmxvY2s9MTowOjAgYW5hbHlzZT0weDM6MHgxMTMgbWU9aGV4IHN1Ym1lPTcgcHN5PTEgcHN5X3JkPTEuMDA6MC4wMCBtaXhlZF9yZWY9MSBtZV9yYW5nZT0xNiBjaHJvbWFfbWU9MSB0cmVsbGlzPTEgOHg4ZGN0PTEgY3FtPTAgZGVhZHpvbmU9MjEsMTEgZmFzdF9wc2tpcD0xIGNocm9tYV9xcF9vZmZzZXQ9LTIgdGhyZWFkcz0xMiBsb29rYWhlYWRfdGhyZWFkcz0yIHNsaWNlZF90aHJlYWRzPTAgbnI9MCBkZWNpbWF0ZT0xIGludGVybGFjZWQ9MCBibHVyYXlfY29tcGF0PTAgY29uc3RyYWluZWRfaW50cmE9MCBiZnJhbWVzPTMgYl9weXJhbWlkPTIgYl9hZGFwdD0xIGJfYmlhcz0wIGRpcmVjdD0xIHdlaWdodGI9MSBvcGVuX2dvcD0wIHdlaWdodHA9MiBrZXlpbnQ9MjUwIGtleWludF9taW49MjUgc2NlbmVjdXQ9NDAgaW50cmFfcmVmcmVzaD0wIHJjX2xvb2thaGVhZD00MCByYz1jcmYgbWJ0cmVlPTEgY3JmPTIzLjAgcWNvbXA9MC42MCBxcG1pbj0wIHFwbWF4PTY5IHFwc3RlcD00IGlwX3JhdGlvPTEuNDAgYXE9MToxLjAwAIAAAAIfZYiEACf//vWxfApqyfOKDOgyLuGXJMmutiLibQDAFR8gAAADAAA7Zb/FzICUal8AAAMAQkANQH0GUHmImKsVAlgxwKOLkKiQ6CFQi9tPXsvrVcjr0MOnelCN+qCK7dapMf/Tz8YDg6TdK2YSzz2t3g5896DZOrLbKJ2RjhSaAeqHGCGVZYpEWC1XsF678AjvoJlHYfPyvH2Xh3u1NacWt7UhqRHeXrB9c2CiBl8ClsAKIAWnHRYzRimZorPyezO4D6AdIRFZjO0KHI316K3yKJ64TFP4NCLdpmS64uHqKuiYPgTQx9OQZPp77rD+mvjm98ICbE8oFmVfUG20kkZ/5H8WO0LqekDlzag/YK3+Cl6nPZetfT5SaJOlssOsw7GPEI1PJ/XGhZFom0LEMccT9owIc7w6DZRmxR1yqsruKTmgJEW0UAAfLTsXipTtzAI1EKTH7hsyjBdYvTEzor/WcTUbXGWxa2N2Ou52J1cEf2be5DSU6AHNkTz+ME6+pC64CDzoQLPiuxVQaiZoRCqzvwJlE1kM/nckTc94ZobHP6Q/sg11tUzs9q9fVN9DIrOzphyjJ9k9NbPQLdUUK/fCFdlDZu/t2PeCpnavT0Myc2ZT44ASN8DDpNzz6Cc86kp+XSkvghqgUp9u2El4GTv75sdiJiZNE5+P+Lpn4yh6oMIr45PVOMcqzJawAB9gBTxAAAADAAADAAADAAADAO6BAAAAh0GaJGxCv/44QAABDRvSoAQjurrOhji+v1B7UkHmHIcvf6JzR+dvoPJKRkPSwCJqWkFOT+4GuEmgNii7eEalOqrcz9gwdOeBJllDEupRvGf018sPt5d0EFMg072Y1PiE180BzAFT3bhcCuqTQys/p5Z+fkKw9OKOzc6cYODEgxQZrWRTlXksYAAAAEdBnkJ4hH8AABa+Ww+rBYzeBnma9CGSUtI/rnMiYzRhQJSA3/R2KhWhfO4Cs37BKgnuXv2PIcQpU6sKgiugOAkshYfy80EPFwAAACQBnmF0R/8AAA1/UMaWVt41MIOWYxdkWxwC340OcXUS0yR8Qv8AAAA6AZ5jakf/AAAjkizIG0DmA8SX2WWsne4ruEzyn6XPiVABMetO1aEKaGz/f7vFTFb5YeaVuqNdWjUW0QAAAJZBmmZJqEFomUwU8J/98QAAAwKgxg6lduAmtvwL66hDy6Lm3Ke81EuEDRZrpuz6S4yv4e4R5BBiCez+JPkvQSG6wrMXy99M7sX58LL4htW/XZwzCbHlgiH4L1D6/vd5tbk1v6ysgxaZUaxc4FixTfmx2N0bXcwju05SkxbFE0zVbeGOoqGzS2f8YClmrGKUl/oG+o3s/yEAAAAiAZ6Fakf/AAAjvx01HmzyU/WQDvMsT1ZBgbXYBmGx6tS2gQAAAGVBmopJ4QpSZTAhX/44QAABDYQYsABtVQavjT8XP5GGpQwuQXo3Fpb+09IXSG164zj49l3ng1eN/OTSk7mK+I0zYH7loGyfo3Q0GAiGinpPhnLPYOYNtrrd4kTkSCQDtVFU/RnAMQAAAC9BnqhFNEwj/wAAAwM5Ma/JwAAe3P/IG2e0qJS+5oYhpZcmjlqegTM7Zms1U+IOCAAAACsBnsd0R/8AAAMB5rGxFe7sRipi5Y7xRYXn4gAmPQvdG35C82U9jpZqgtSAAAAAGwGeyWpH/wAABRphDw2ixuJ5CMXuzjf9b9optQAAADxBms5JqEFomUwIT//98QAAAwKf7v8hATNkh3OQ8VevvG8Y74Jju1+AMYPD/AzkpXfPemtMd3st56gRVnAAAAAmQZ7sRREsI/8AABa8TjLmgAkfjIcr72nM5gkLXhxBgNphWqPNSsAAAAAnAZ8LdEf/AAAkw0aAgcBFvKo7cPKM2ZkL/Pjb1iIAJj0Y4vMAmiJ3AAAAHwGfDWpH/wAAJMe3p9x6Mn2jK2i+LpnLdF70ztVBtYEAAAAzQZsSSahBbJlMCF///oywAAAamTpPGq/SShoALG+6a9V2/8b7AaM9XyJkUcgn1ZCg0DPhAAAAJEGfMEUVLCP/AAAWvnW0yAfx06eVTvhCKeJEzyQ2/U99ojgiRgAAACABn090R/8AACPDQKtRThAgBKpQcvbZmSaJsEMwLUGrYAAAABQBn1FqR/8AACO/Gs570zS1g9iJgQAAADNBm1ZJqEFsmUwIV//+OEAAAQ2SsEZc+hLYwGNxWThyYSve4TPhzjcO7554LSIsu7z8GFAAAAAwQZ90RRUsI/8AABZsGyGr15JAAcQDgLXIMbaBDutsdisdcjWI3hLEzbebqbsJE3g8AAAAFAGfk3RH/wAAI8CanLmcVGY/4WpvAAAAEgGflWpH/wAAI78b2Pq/V5LlQAAAACRBm5pJqEFsmUwIT//98QAAAwKf7v8hANGPuPgDrRf57bmAA2cAAAATQZ+4RRUsI/8AABbAn5AyXU7EHQAAABEBn9d0R/8AACO4wex672s2oAAAABEBn9lqR/8AACO/G9j1svxBwQAAAGVBm95JqEFsmUwIX//+jLAAAEgQ9Cshz8AJ5xzPNlGUPu04fc4h0lCIWnL/45loHi2Mdi5rn1Ul225kHBCWLqe6UMGIg2ttG7acYBYJZ6Sw8HP1w5nMQfwAafQG0ut2MeEk5t+SQAAAADFBn/xFFSwj/wAAFweUoHdkrwwrhUhQA2zyMYEC2KbApySyZCCs1GOLgRSVt4tTVbUhAAAAMQGeG3RH/wAAJKt0h2xYAONfBGOmLnV6yxFsEZnB8zxF1jqfPF4ahVWxeORzYT7takEAAAAXAZ4dakf/AAAkvwQnEsr+fFA+Alk3emAAAAAfQZoCSahBbJlMCFf//jhAAAADABzu+oA2s+ukY8TOaAAAABdBniBFFSwj/wAAF051o+kCDOdXGHLlQQAAABMBnl90R/8AACTDF3VRUD6w8JuAAAAAEwGeQWpH/wAAJL8EK8Byi9RHXkEAAAA4QZpGSahBbJlMCE///fEAAAMCsQLw4PSB7YdufJszLoVJWDjJ/dZ3F9gsV6jKUis0ALFcdJoVtmAAAAAYQZ5kRRUsI/8AABdQmz92a5YJgQEMKTf5AAAAEgGeg3RH/wAAJMMXdVFQ0STCbwAAABgBnoVqR/8AACS/BCcS0CVBBXTQAfsvFf8AAAA5QZqKSahBbJlMCF///oywAAAbT+WNAxgCZ9bTFq+ij5eBgwg7+x6Bm5TEeNgVDw3crGjvXWS5oFlBAAAASkGeqEUVLCP/AAAXSTMKQiTKn4gAsECWISpYXj7KLbVWlnefKCrq1hTGS2mm9bWB8CJsB0pFM6fLmQTXrhQczXrkwI6psuijb8QWAAAALgGex3RH/wAAJMLMqUuAakH+gAcerQOmYDqlD/9LtRKOM8TJxVQtD34f954gDggAAAAaAZ7Jakf/AAAkvwQryE6D+R/ItrsBTJHs9akAAABFQZrOSahBbJlMCFf//jhAAABm5/cAChN80X+CCbFkvmJOJ47i7Yv//lgcNM6I7F/+/6ftkXQPqUl2Tvz8mru1YR10/MOqAAAAH0Ge7EUVLCP/AAADAC2BMc55rrelHqEkdACleCzP48AAAAApAZ8LdEf/AAADAEccHogA4LNvWzuOKsfO4aOfyUBbPWbAj8lcCn093uEAAAAWAZ8Nakf/AAADAAqGYSCa1yrQCxH/gQAAAHJBmxJJqEFsmUwIT//98QAAAwKxl3v7ci4L48An842dtOQRTz2XgY5nZT8XX467zrs1BCQORenoFtMZE13J6/MUm18Ohw9woijYU5vUiKhc8Jf9/W2E6J3jinNu/8NdN6qw2QWUYCP8TNJt6kuLflZR780AAAAhQZ8wRRUsI/8AABdMQ8+MRn83QWAOVomFpFEQABgPjnteAAAAKwGfT3RH/wAAJLrOtSADddC8PKLSdDZ80ZL5OUM7jT+sPp8AqBASpbaDvcAAAAAgAZ9Rakf/AAAkvYOByXR6cX0Mk+INMN4VXii7E1RNrUkAAAA+QZtWSahBbJlMCFf//jhAAAEU+r3DND0rwCaFwKKXijHels89Xoo0Fghz1BuaqaSdcTRc02PFlA9zZ6xglnAAAAAlQZ90RRUsI/8AABdFKzdrbU1vc6LTkbm8ts11rdRkWisSsfvfjwAAACABn5N0R/8AACSr63YghxiIU+taAZhHMKS7qTW1T012pQAAACoBn5VqR/8AAAVDNNWxqW37AAOCzb2WbgQ9nstkxwlScQn5t3VjNeT1614AAAAxQZuaSahBbJlMCE///fEAAAMCse3zN5zdCJkoy58p0ADYcoLGOfRqYu7YHdElcrAg4QAAADRBn7hFFSwj/wAAF03d2jauMQAIwGSiiaIUB6/uqzgSVK2X57sHrw4ulMQCm+mgK64036LhAAAAFwGf13RH/wAAJMLkSvgmtcZdTDgE2fjQAAAAFgGf2WpH/wAAJL8EJxXCe2U/RaXAV/kAAABtQZveSahBbJlMCFf//jhAAAEVKiNsBW6kWYaDws8ML01nRjt7kR5V66MUFlwEHrmvV/S5IhBruF7rcw2p2js8YVHAgaZM/fpwDdgggfDCNXOR0S0cboBh+jhJjoKH4+1tE0IEQ4FcOAlYvvyoHgAAAC5Bn/xFFSwj/wAAF0xDz75QusVA2AEXP9oDYMQkMhEfbOqk/cZA/dUOD79y8ifNAAAAIAGeG3RH/wAABUIyLMG3hGHQAt4gt9YfIBj5gPA9lTVNAAAAGQGeHWpH/wAAJL8EK8E5MncDd6xOMRVI7UgAAAA+QZoCSahBbJlMCE///fEAAAMCsb1pmipgYf+QAIfj5eEVBYdXmRWKkkSdTKG6k4hnq7tcuWrvbBWuVBoTLFwAAAAXQZ4gRRUsI/8AABdQmG6ZY/bQTDsIoTcAAAASAZ5fdEf/AAAkwxd1UVDRJMJuAAAAGAGeQWpH/wAAJLHSboAIwEkSIXYtgXADjwAAAERBmkZJqEFsmUwIT//98QAAAwD9k1d5EahyjBZPoITkW2cQ5fHoAkz1N+sLq1Wrtx1IZICNDmM+Wvz67KtXgZ2h0afT2gAAACtBnmRFFSwj/wAACKv65xvNLy6fYABuaRcv31IlvsUbVpx9qYp5vx+kN9HTAAAAHQGeg3RH/wAAI9hcwBEgkiRDKCh7RuNjkwTkkCphAAAAGQGehWpH/wAAAwC/WF+WCsFgAncUZ9u8kakAAABuQZqKSahBbJlMCFf//jhAAAEVowQ0owE8AIGTCzUeVZXfwL91SPXB7R2y/OD7RSXhS8r0ANfoRpNhwAvyzOxlfcyT1iK+x6znC9vGV0mFIsVFMg2cajOiRi2QkG78nlTJMKn3Cn3Llzq00akTmCMAAAAkQZ6oRRUsI/8AABdMQ823FoOTKAVq//7mqp7vVPCmP58BkM+PAAAAFwGex3RH/wAAAwAKh44FwnpuZP0GM5VgAAAALQGeyWpH/wAAJLnN3uIaIlC0ACWDjfpudRWjwSj6WEHghU2lb+ywIPb11DORYQAAACVBms5JqEFsmUwIT//98QAAAwKxvXw4FLlu5pKVDBq+XKGrSCoYAAAAHEGe7EUVLCP/AAAXRVpZSHX/RPp3eMAqWivSO1IAAAAZAZ8LdEf/AAAkrDxbF31sN+pOc6xx57f5tQAAABkBnw1qR/8AAAMAGulsI6EWDbGypxJcAsdfAAAAOkGbEkmoQWyZTAhP//3xAAADArLV4PClRU5S3MkQL24T9KiasxVM9hSQYfHtbWueWDA7vYYxgByjULEAAAAwQZ8wRRUsI/8AABdFKzdrXGwANHCsG4GzEaNO0+hcul1BlkuyeLrKPxKH++q57OcEAAAAIwGfT3RH/wAAI6xCVCT6B3oAC5/dvkQsgCDcUMeqdIqSAA8IAAAAHQGfUWpH/wAAAwC++2jDce0tkoCNyYf+Q3vh42pBAAAANEGbVkmoQWyZTAhX//44QAABFcjwAx5bB/VAK1Lhk4L6+k4XkV28aFH5duN0Rpj5+tTt8j4AAABGQZ90RRUsI/8AABa1X0fN0AJphAigWUyk+KVvQyIjPhVubjKLc0xfJo1iSvgLEuvJOYkp1a4HS8FuQOHqrXTrlJuwfxci4AAAABsBn5N0R/8AACTDF2ipxcspKosegCTW8d3hRYEAAAArAZ+Vakf/AAANz7aMNzfODamOSf8iUjWswQAAJzPyqQS//kz7sxkKlKQtLwAAAFlBm5pJqEFsmUwIT//98QAAAwKxAq02S0NIUAGe/zW4wr7giAyQxxZIiCkUX10eiHsmnoyY5693DRE7/zMpM9H62q60S07ZVJ6u+mtggtm66pX/9BIEMascwQAAAB9Bn7hFFSwj/wAAF0xDzbcVzLI0rQE6U6fZyBt21ScFAAAAHQGf13RH/wAAAwC+4A0hJqx+FkX9TIqVHzARoF3uAAAAEwGf2WpH/wAAJD3MDowfyG98ARcAAAA6QZveSahBbJlMCE///fEAAAMCs5bnMayOr5NiPiJzpI3gAWrCwx4ViibJIyA8M85odDnKhBpwFe6bgAAAACVBn/xFFSwj/wAAF0xDzbcWMADxSGAcf5pS4zj751s+xJ0oBG1JAAAALAGeG3RH/wAAJLf/SG6JsMFPg0R+bAAuJ/XL91Oh2RiYMEYN6MTXdommc/HBAAAAGgGeHWpH/wAAJL8EJxLO5vzRJl+NnYO792pAAAAAbUGaAkmoQWyZTAhP//3xAAADArG8jTACkPDQ5STX4/vbn7Qy+Bzhy9KXtUiECv+kBKuC+qWn6hFNrf00G2mdc5tEL5KUiuYFRntTp1ipy8CJ3kDV7q08oth6fAEgDSdl4D6O3D2XWR+Wd9HKXAgAAAA1QZ4gRRUsI/8AABdQVpPOXzL9Q1thvAIACcBW1MRKHIjCthfG7qw7EG1R9QZane5HJDy1+90AAAA3AZ5fdEf/AAAkw0JXukWwA6AFrMJfUvrlbi9eAdpcfWa30oGrHXJzIbRUYB8GeqRK1vU/FrRwQAAAABkBnkFqR/8AACS/HAg4vatTLxsyrxfjlE3BAAAAUEGaRkmoQWyZTAhP//3xAAADArG9cJJFmCymZypQqdTkCbQowgvz/x/hALQu2DucrocPgE7FsnsJ05QMuKn1gzsmaf5tGbpByC9WbSLCk5HMAAAAJEGeZEUVLCP/AAAXRVhVis4rqajRe+BvX4gmz1iYR3h68HeWpQAAADYBnoN0R/8AACSsOQSaR4FVnSACTKkAFO+WJzMriQ/LT+KnMyY+mZNZm++uQiOZ6Uvfh4ww2cEAAAAlAZ6Fakf/AAADAL79IuPpLT0BgAun8an0N4/V1PGTW0ujTEFe4QAAAExBmopJqEFsmUwIT//98QAAAwKxAvDgJko4zmPX3flr6HQaJpByOltCxp5Pn2q4VpekwZMZEMW2t9MKLhLltUmE1Qvo9MTeB2iWaJXhAAAAHUGeqEUVLCP/AAAXRVhVis4/+mn0ZLG5feeWnYfKAAAAHgGex3RH/wAAJKw5BUrAqAFrPp6SX74YCGB7BmwCpgAAACQBnslqR/8AAAMAR2Rbfg4ALhhCY77oe13f1bvJAk2Gk1OKLa8AAABCQZrOSahBbJlMCE///fEAAAMCsPcZugFJOp4iNoQCYI/+1VlnOecnTeV/Ibqxpwm3S27NFzOmga/PsSizHSX7c4yOAAAAIUGe7EUVLCP/AAAXS4rQhLlxnBp0NV3nEgWDkBtKYGjdwAAAABgBnwt0R/8AACS3/0FA/OY2CCyzMyDNllEAAAAZAZ8Nakf/AAAkvxvezzO9wN4pP9MceEfX7wAAAEtBmxJJqEFsmUwIT//98QAAAwKxAsSV/FX9XYKHDzACE0k25J8i5HzDgdebahdyHBOBtoqbl4kBINw9mAFf/Q0mNXT1rFQCuEOgnVUAAAAvQZ8wRRUsI/8AABdQVpIbh3DfW458iMOw+FiAD2673MLuy0jCefFh7wrLwA4K+mAAAAApAZ9PdEf/AAAkwzufqqSF8kakngALnplbv8kW7Mawqv1UDoYNYMFZ6YAAAAAqAZ9Rakf/AAAkni/iWEcHEe9uw6AE0uafFRUyV7mwDr2cfRsC4VzTwNiLAAAARkGbVkmoQWyZTAhP//3xAAADArMm8WrT7MKPmL2iAEqu8ZctL4c8FjZ5RcRxzB36i4Tr6EHcWmkguCrq7B/ZRMovyGHZq2AAAAA3QZ90RRUsI/8AABdDSI/4i5UALqFOXNpJXgrZXVy6zZCvBq7mTmv/yDfHNKjzpb1K3GuPopcO0AAAACYBn5N0R/8AACSsPmyEjsKPgALnPN8jV0neWjoGuYopT0Apr1KgQQAAACkBn5VqR/8AACTHK/w3knP8AEsfr/rDfhFC8/pm3lifp7TVsSiARUV3EAAAAE1Bm5pJqEFsmUwIT//98QAAAwLDAp7aunvHM1714ieDPXu4PRBbTD2QArlOlVZKnibTa9wCImT2MZgWWJRFNfEjNGYWMXme0xI2Qn9JqQAAADxBn7hFFSwj/wAAF+JPB3EBQACKukjvNlX8B+B3L1izDdxAwmTrspccVpvniUnyV0bXZ1Iw1iqJzsoZ04EAAAAeAZ/XdEf/AAAlwxdoqcbNdMmkJyGmD9lRixjQPUCAAAAAJAGf2WpH/wAAJL8fhmLilPle4Idi/MAJYpuAZwta0uL6lCDx6QAAAFhBm95JqEFsmUwIT//98QAAAwLC9trALNyjA/xABOIL2/tbmfldxBD0CrjxGWJX9nuBQvisaGzJiXXUAy1ajIz6vzjRC3tTtX0wGojGbgXkka1+GkbMdLglAAAAM0Gf/EUVLCP/AAAX7ZZ0xps6VuMfUPBnAC3i4yD/HkySNewgG5s3iSxdmSkCdyBw2c2OnQAAAC0Bnht0R/8AACWr+Ft4F1EVnmZ315/xogBGRLeyBAtE8JydZtQALQRjRaSI5BkAAAAlAZ4dakf/AAAOK/S2T5V/PibWE8AIqfpe0/uqk5wudcFa8d0HHAAAAFlBmgJJqEFsmUwIT//98QAAAwLDun3QBPUfl9bFASxOIArN89CvqYFdj4LGrsH1rdqd3pTs9uglpPOAHGghhf5tQluuc5sBnFQ11EeXIORob5HtiHAM9UFAdgAAAD5BniBFFSwj/wAAF+JrOdvhACZYlhJvORnA6RfT6FUYWHxyTDTd+KTRmiEzxxUn3Zo6WYFhJnslHs3J+LYO6wAAACoBnl90R/8AACXDF2iprLi+XsADjaXzsyXj+IWwOoF/vwT72M++n+miDtAAAAAuAZ5Bakf/AAAOJkqMsKABbxLdj6NNWjdf8z128jPX0qX3vX5kyhgXSPy/x93mBQAAAGxBmkZJqEFsmUwIT//98QAAAwLGbvramqtjIw0AIwK2Ptu0Ud9hBgSrGMxkDR7VdMtgVm8ZkM9IF37oHn6UHrvHIvAVXWpVUwzSYmtZpMyfcZ5JyH+6d294s5oMRpxchjzueqvRfjjpRY+dZ4AAAAA8QZ5kRRUsI/8AABfgh7cNuRyt3u4q6gxwCLFe+EAsuca3gnZZH8OUWarw/h2BMSQG6jYCfhyQqGH2RzZ9AAAAMwGeg3RH/wAAJav4W3gYVcgAWojZ62WRewZyL/9eWdt0Q5T2eoDmf0iHRC2N4dfGIu3s+QAAADMBnoVqR/8AACWyK2H4AW3V827u+DDpdRiRPaxCFR8pjaZoy66t1+V7spZQopgckiXJiXkAAACUQZqKSahBbJlMCE///fEAAAMCxNQ2q+A/EBnv4F3cePOKp+X4oIZxNYEsYhDZHQxTlpfyh46r1Ia+Qk0hIA1X5G0CWyFy79mSTFIdgdvTlMupSI7Y0e+QgMWB4w2wq/o3w3YXiGRp+QTOgzKlOJMZfhR+efykHr9ofLefKOao0iwQRZa4NK3A0p1E9ws0/1cNuqnIQQAAAEFBnqhFFSwj/wAAF+jKlGSN+KAL+4p9bPlZHSKKU/v0pXQU/98kMzTrqrtAZvh/4ntjWc9DMp49qsv+XGS31sd1gAAAADoBnsd0R/8AACW3/vQvcE3AAs4m99fEMI1qU2WwM0Z+EaHJwT7Y1SQZDopOuCzFDipeAYEN1jKGYXDtAAAAOgGeyWpH/wAAJbHMDVZozOabQfoRxYekUNsI9fNCsn97pI6j6IyrhrYAGz34d36k+CfoOyWav3+ns+EAAABlQZrOSahBbJlMCE///fEAAAMCw+z+rSTNZfBdoFAsfgQyavJYYA+moGTtuFxOpfKX+Adm3fNRAqXGmaD9PS0ttwuJYVHd6H/K/1xVw40m9dCtOgQdWr3VhvRiR7T1kkOHg7SDuiAAAAA6QZ7sRRUsI/8AABfgh7cNuRyupDs22dhAkALeaBgfHOfXiDsehFpisTJJads6O6XRzAAWvgneLg7O6wAAADgBnwt0R/8AACXAmTJ/uUHcTj/ouQUUxbZIpCpAAuf3b5EQ2gGfupIN5FiUJZQ48vbXkJnO/N158QAAAD8Bnw1qR/8AACW/BCcSy49yED/+SCAAlQqsyjxPBuwZyMSQlWi6LrvKSDCEs2IKgEaDE8Xh18a1FegBJp59zacAAABNQZsSSahBbJlMCEf//eEAAARTW9G2nXXlIFIMIEgATtrEBwZLCOLf9Imnc7+Z5so0ByBEtb4TTB76xp+9LXwg3gEilRK7MyxkdFMbNUEAAABKQZ8wRRUsI/8AABfgiIvfOJL5MmppsAAThtp91N6ENNt9DUG835LkDzCPbgpYa1pTf1hZdhE+6F1jYR/caYkWfMM8qXp0qoKS2z4AAAA7AZ9PdEf/AAAl1xUAHGkVCNYFDGd6iGPRW4HY2yCfPNsgOr7NR5LtVYEXoDY7JDjdrFhqzg1eiWz+Gi4AAAA9AZ9Rakf/AAAlsi2/BwAXDZYb1oIHkZUR8UzZ8E+x1Jir8s5dBChoufL3GwHLzJ4FJ1jJb4W04XnJNYpzpwAAAFZBm1ZJqEFsmUwIT//98QAAAwLC6O1dAG35X6EWVBHAx8evTI0NoqS/YFho0qokKmL/lbJfXkZ88NvANeM3lc+fbECIgPJzQ66IPN0+5XZu2tEX4ZEFoAAAAD9Bn3RFFSwj/wAAF+jK0eZCNE+V9toBKAE0wgPU/JPkAkQ2lY5ipYiMiZ1E3sbCNOIiP5sjNDrQ/G+/EBlaz4AAAAA6AZ+TdEf/AAAlrDerw7AUtj9Nac7/4ASbpO0kHPaQcxr9uvW4M+deaFis77j+Y0zD1Plq+SUurmcQIQAAAD8Bn5VqR/8AACW9g/jPyGPfwASxTb+m5XcZz5+PQ3Zm7AfkAxGIXIB/q8w/iTDYylGLzMhLaTEBX7NYcH3SjPgAAABYQZuaSahBbJlMCEf//eEAAARzW7lutwq0DAgBlMelmNcJPv2vEWVagoIyptb4SlGABnbU+70FFnC3JO1zzoQKm5vbre4u278xmTwoCLCtTN3NqZESxSXQ4wAAADlBn7hFFSwj/wAAGImDFqjY07QSktONWasc2eshUqxrgCRHEIhDSC8GUIOkq9STLVEoOhDLfleXXcEAAAAoAZ/XdEf/AAAlt8wgCH11zeB8QvNf3uR0YaR+x1dBxZ3/3UOa1tPpgAAAADIBn9lqR/8AACa+9T4apA+XYP1okjZ0yhxQM5ABIoR8xAvtm9ICx8kQL85my1tV40iruQAAAHlBm95JqEFsmUwIT//98QAAAwLU6NiACuHrhrztkJtMRP64xLtHDWikmZ24JochxNdz2+JayembhmhLR6ja26M3cE4mi9dyRwLGnFoGFD45eTB+3uy1Y3c/ww9fkLFi6Y9yDKy0UhG7uJpvaDO/KrP1dE6i9RYFChzQAAAASkGf/EUVLCP/AAAYf+weonSkb2+AALrUZJMs55jynJaHL6r6raHSVaVc3zpAE86SyMg4NTYz8hluQwB1ggNUhhZHgc86rS7jrX2pAAAAOwGeG3RH/wAAJqv4V+ASWbeiH5RRjA687giBWDdvAC59W4rSD3aAM1MgBeS+JVLt2blpP9170suCElRZAAAALAGeHWpH/wAAJq5eM4IvtBfq9B6XSAzqYv0KZvYQJTEQxqJz9Hc4zp/HJ3CAAAAAY0GaAkmoQWyZTAhP//3xAAADAtbR57YAzfLfrAs0rV9TMD2BbXCzUVmQWmH3HtLh3rO8J88FXmPOUP1UALTM5IG8PpDXD0VBb0YXzVRQJ6Q300JXoyazw3dcSmY2RNSgps+NRgAAAD9BniBFFSwj/wAAGIjKlGRy4RblDXVgseC5gAmagUgKkjiwn2xJwIkiEUEysV3vbdZSGXrec+XmgODS+fwXcIEAAAA+AZ5fdEf/AAAmwxdShDovRZwi5u4EXYjooIAEp3DR9NpaI79DWMoU7C15hqixD57UJVRF7vYRIZfD8GQF2fAAAAAqAZ5Bakf/AAAmvYOBygD7ECd3PybyPl2WDAVppkcEMrSKIq3MXFTyXkSdAAAAfkGaRkmoQWyZTAhH//3hAAAEcz+jn0HeLkIohHu4M+z6mNHjLynOGkcXFwo0RiUNOzhA1FG7aUgMB/Zs3OXgzhvN2pSpLYrkN0Yngc6iJYKB7lg3JrV1LB2UZ+5zIazpDbtEOAGjnCt2lGk4apABmd33qr7JXXJjAsAlhZXk6AAAAEBBnmRFFSwj/wAAGIibYuSUG0dwAfh4FH+2PRLyfbEt1Rh0rhFUKXT4Rb8LaaLXgtF61kqs7eOfBYe1S+5f8fuFAAAANwGeg3RH/wAAJsCZ3ef5T0XDoAbmO8huFZkgq60BsRCuYFk124cAIwANCu+cYTgNrGDTB/7+Dn0AAAApAZ6Fakf/AAAmkrupJX228D1JKXF0S8OtHCpY6T6sjEtB2gWB9vCwruEAAAB2QZqKSahBbJlMCEf//eEAAARzSGYoA2qRa3e5fH7a7AzktHqHakhOttIEQf9e6FMUgJvwUWVHBRbNmjhupaVhEGH5njZ9bxte8HKcUpu/nGcFf/m46NVcwn+blmIcUWFpMfzWZsiPhabmPLuBEXS4ayyPZ1dfawAAADlBnqhFFSwj/wAAGIibfpSZv8JQOKe2DvZnTEI/noKavAXXCrO6T1adJTvzfNBsAGQ8WQqBBN6FOfAAAAA2AZ7HdEf/AAAmwJrMaZJqJdDqEeQX4X9EIF0DBVglSPIT01CkICZc4ABD2iCcJhq5apGtErhAAAAALAGeyWpH/wAAJr2EHhJu5witSSurDMOkSYuOEWOJnPxFDYNWmN5/Kqh+R17hAAAAckGazkmoQWyZTAhH//3hAAAEk0gy3+oCcKAUO9n7x+wrD4wEDktRPzE4Yd5EsT1ET7lTRe4L3yOWkgUNqozRyPk8boRDEizC4f0jIHqBX9qd1c0xmGbgyFYcx/EaNG4X1pUwjYiq4zcffnVb+gPeSqxogAAAAFlBnuxFFSwj/wAAGSl8w2Cu7fZnlRIzndMl3OqaEcUAoMU1hHhOzyglIikre5XKQky3fWx9EEEVRWM1K+ttXj2EFQnZTQKTHOhkmopMnLwc/RC1snZbJYTXgAAAADEBnwt0R/8AACbAmswO0JhlZB+PLYGZL0OWI5dyLxIoJ1A374s1MFOksK77/6lt0j3BAAAANQGfDWpH/wAAJ8VTyzzNvcs+sCAWwaqHWeHPPgZB0DElnmYCFU4Q8LrmwC4J/ffuj8zLlx7hAAAAa0GbEkmoQWyZTAhH//3hAAAEkz+agTVAUEWzxcy0QnbRJ5+m/B2YyqDCgDi72j486YgMxVL26strrzfJ5pJLzc1XaWvxlxI+RKfJq2OJmqRyAcwgVctTrVPpSAAWdNnh3BFNJif1GD5UvWGVAAAAS0GfMEUVLCP/AAAZH+votDzTzF6kFxfkxZ+uYsaOYy3QSRayhVWnpwT4rd37zn0iTP4sMAD90iWNRU+Rl/tIzmi0wxXUkjekadN7uAAAADMBn090R/8AACfCtCKtgBwrcQub6kQBCTt6IZv+/HaMJNOqfuFxH1zjYK8NC/gNx3W/3cAAAAAuAZ9Rakf/AAAnxVPTPHqIQKlxY4wdYM2MvHrsj4MQAlz5E1iFtDScmJR3xcbFgQAAAEVBm1ZJqEFsmUwIR//94QAABJgiGzwNiw65CkVXSWr2qrXZKy+9uBtYlCskpb+G/WkMMMi2TYZuWENlBdL3kwpcu/F20oAAAABFQZ90RRUsI/8AABkom26m5g7wbSnmZ6bIrc9dXfZNJtY1nrj4WW0RGScWFsbNPgAnY9rd/OwoyTzVD4WFMjom2noOMR1gAAAAJwGfk3RH/wAAJ9tXJihWylRKTQ0zd6hejzTXSku7SGbybOklPej7VQAAAD0Bn5VqR/8AACfXqH1plYJks9dfoL3TI3bo99cdDZEYMQu7irkBUiADZ77Ad1sWYtaIbB0Fmhayvc7r1DtUAAAAdUGbmkmoQWyZTAhP//3xAAADAue5B89AFw4PGCXcBRQkKF1N8b30PQd3jIFdnRPUrw+pHe+qoYqpP9VaRqEHdP07b9iVC9nEyyjxEengBh6gCUNvDPqOjOdEkJfcgTD/4P6WivD5GWeB9gjRvitJFzBqH3XyEQAAAEtBn7hFFSwj/wAAGR/siZOK8XoCKM5sT5t6M/zY2mwzqzTzMrGaPB0bAW4P30HI9SPAB78ZLxlt737sZZzwKYlq+16/0kzngbWvGxcAAAA4AZ/XdEf/AAAn21f7XwwJK7V00YHLIOzAnFoGuBf937U51zSM5bJKKAAJaGnwHA2qfiAa4oVN+LAAAAAwAZ/Zakf/AAAnxVXiIfYx+p5DqdThuWCSSgkyp/0Fs17ed1JeGuDdCvzNX4+J47FhAAAAgkGb3kmoQWyZTAhP//3xAAADAvpO8fXgs/wCSMTCWLnolbtZ7bdLzVV2NBfFvV2H58Wbx0Ut4Vg21/tzQ9yVZdWj09E6yZWBER9cp54yyPmZQMsYP+6W62x8t++gROwyQ9wspCpHKtxrYDCo8zKenR+LhHs9o87uWyVCkLDF7HfciEgAAABBQZ/8RRUsI/8AABm/7FOAuHyl4FKwAGkB6Jd0gtwSLxaQ/8f7VbYOILoFuscQ7VxJRIV1ATKH6y7SOBMqWxjw24EAAAA4AZ4bdEf/AAAo/ioEuHMABwyF9ipjinyHFLchCmlpuiLUuuZi8+SB2o+qqVwTWtlb0kxKFHRaxYEAAAAvAZ4dakf/AAAo5VSDUxSAcvk70GDyCZPllwBA+0MlgKrsO8ofWz1kA+OFf8Wi1sAAAABYQZoCSahBbJlMCEf//eEAAAS0txchu8fSrJxwE1vu0LFwYbzYsNKtUAXolEv6yOzUjCtP4bjUbkfQCYWG1U7KA1+uYIT3VWD9VQoMBwhXMRi0vBlh75jiaAAAAEdBniBFFSwj/wAAGb9DvQtbYVdvKFFC0cyGlkxBreHTO0D9lOvRMjgaCR1TvNIRiugklu4jPEra6JdE1NeEVh5WO53bK+lPcQAAAEABnl90R/8AACj6nRx8N5fDWMdwm3a6L+dQRjBHgSlNnjHOc9In2LnTaZVOOVABOqTqU0TcNIJCwG7ej0uWMsCAAAAAMQGeQWpH/wAAKOQZl8kqDtE0wmngYaFSwVjf9ZkXQYIdClt/mHNoHxpFQtPWpTaz0wMAAABvQZpGSahBbJlMCEf//eEAAAS2QAwhqrwCaGgpHxcEvxxTmDQdvGBLtKgFCLAHMeukUdKkogFbB+iEgBBs1BljqQIT/pNx7oq3aXX+GhHUNgOG2XusCtdSivfN1xDvxWcE8FpqBWi2DaewLmjJSp+AAAAAUUGeZEUVLCP/AAAZyF9ZAAHGCnnKjj9VMzohKhSt9x86UacfFODua+8pEwPEUp9gaMOQjIs9MXEJYpTQ9eDbQ2MwkLGF9qAkqqdIjOSGgZWGBQAAADEBnoN0R/8AACj7Vr7cRhZ7txfj1t5+uPPK2y/DtFfDH499X6mOOLjvuABbMqEh9ZTLAAAANwGehWpH/wAAKQMVxPAIRDxWbRXHT4nH0b/l+H9ifoyH0VI/VzJbhGtpn462lsLeEYKI/+ZGqy0AAABcQZqISahBbJlMFEwj//3hAAAE01u6nJY5aMyaMs0X2FsMsBKAVtPj6jpQYxVFezxtmLE9IYXNK8pNCnRN5DM6CW1/2o6ovMu80kYNvTt7DdM0x4bbHA1ki9Al51cAAABMAZ6nakf/AAAqGW44rBQKv2/J+HIqTU0/20ddd990Nk+lACvK1W+fm+9+chnpHy1wUU+TH0FkIo7WKEkg4S/6KAEX0X8TjQvTGgOGUAAAAHNBmqxJ4QpSZTAhH/3hAAAE1zOhyy4BCPKeme4QTvaLwjSOvyf30vgjICTCPEhD/DdZ34ZqArjJHqoC1fKZorMvOieIa/4maCtTmfPe4QEn/7Tmv7N7hGEW25FRsNrG8LtSfUzcvByXI834eK/dahlROMyiAAAAX0GeykU0TCP/AAAaaGMr/yeIsgB/eSDVvLRYos9vBerUwPF3vCEmjU1fnGwD/A6gSnxD2ecgWYezf65ZWihr8vFbvUvy82784oO0gjSNpEkPbsyKIcwiadIUqIa8dabLAAAAQAGe6XRH/wAAKhqdjWIn40XhPeGNZvnhyLIMlk5PoNVXR0XeAA9B0impDNG+dg8ALuThKTHP4AT1+cEFCSu71gQAAABEAZ7rakf/AAAqFzNFVIR0E31IeLaRV59ikXlwyYVJ2Mvtiaj3u7He0glY7IAM9OGDeazIjQVoXN7q3sNxo0RTIKdpGSAAAAB2QZrvSahBaJlMCEf//eEAAATUtxpigCgDDal88FE3FvPs0L4JyX29sPr1BPOLT6oGn5b0w4ByC/OM1a3KOjVaXFuRC2OwJrezVY2dOBJOkW52/5qhQj/6WDxXvtsQKOiiCyC9ryrRupo2I3mIjuLSO2eYkjZLEQAAAERBnw1FESwj/wAAGm15hhiRySj7BYaDKT3GEz9bkWteaycOJc5GR1vaEBDHORf/6qgp0UIC79eFrAAIV7/kDICe6jNTrQAAADQBny5qR/8AACoXMyc/F6v1a+uHczC9SZ8MbgayUqjyPDFaads0EYlycms9BVv/UYWD88DJAAAAXEGbM0moQWyZTAhH//3hAAAE9ZA1ewD2IAUhml9q7X0ujCZrCHuxIWE3IRd2qQaADIFM6F/U3nBSHIhan3pyw8i7fPqnzpQ1b4SvVo8tXkzV3osyAY/WxS3dJiGUAAAAX0GfUUUVLCP/AAAbCYbOHS+xTqFlACWNpZOPHt3kvQBwx1LnUlHcqNPHcY4Arlvb+2D8ea68Oz8pk8EokbIewlspkr5QvUxWKBySpoyyb7aphwNYsymS3ThY6xVICt6AAAAAQwGfcHRH/wAAKf+fLPr6Tigw+3GJ3ufQsmJHusr6kEGfzCO92n2iXjLZggkAANhh5PC8UR5nSMHPk4HR7ruOpZDehkkAAABFAZ9yakf/AAArJVR8DgQ7NMeZjOex299rzWuDNKj1eWo2dC6nCQNAOUfqojNQFFAQAE4vVVZ+T/v7AVtrQeCPHZbn16GAAAAAS0GbdkmoQWyZTAhH//3hAAAE9Y4QDt9JQ1MT9z9m41aa0YsWEL3VyJo6CyNj1Ai7eYzz1QBwZZwaHIvfU7FyHeR/9JfIMkNJ+KIviAAAAFdBn5RFFSwj/wAAGv91SYg0SMp5wwz7uRQkBh9vF78Qir0cOgBGU7qAD+1lk2y6QNXjIQHkLqhz0aG0FcwM7Zryv4l+0qYUhxcMbZtsnwHNkVn1lipH1sEAAABAAZ+1akf/AAArJBkycPp8yK8vKALAiveyZzK2kKaJg8UQ2UdTPsD++oEtIwA0eJOLFTJiToLARqcjD6vytShXCAAAAGRBm7pJqEFsmUwIR//94QAABRmSXn902hUA/dckmswsAGQG2/gryskcowoDoNSxJDnAs02DAkU9t7J7roe5TfDCu/s53EN3JrP/JceHj2Yeb6EwpW7ufs51pa3BSrMYnwIgUx3FAAAARkGf2EUVLCP/AAAbqXxxSYLnP+tmI8CKga5wXTaa/aACTbLvHC6VfuUSlOJCJvezZVGdlnSgAhTvF3uptWvRXojSHNBzJ/kAAAA5AZ/3dEf/AAArH56gj9fBp4hR4jLvp/kwRhGn4TezMD7slQ4Wg1jCBsptvtvHYsAHxpPMkQmqhxx4AAAARwGf+WpH/wAALFls+5Y87cSyRcdtwAbbnjtXgEbQ/dmz5TTjMwAhzk2g6Qt5nN1u6SW90jlZPi2i53qpxzOhopbYB/QYiMY9AAAAVUGb/kmoQWyZTAhH//3hAAAFG6ch5gFtH6JqaaUZeHykp2dySJM1o8LL4FKbCIh4ibADklO7Dg6tL+h6Yp9sn3VHwA2G/KJJlxHikiw1XNyEC52hgqAAAABIQZ4cRRUsI/8AABufdUkKq8pFWzVp+dAnlKbC81+O9KwlasBb0DB8r+rcddqRP1yVH+8s2D4AEOmg5K3r7ieCstuJS79JFt59AAAAQQGeO3RH/wAALD+e2lUjamQq3PYsLDgSoK7FoKXE3D4m2zYawv4Wl97zmHfirUuvxuiwyGhzoZWSyGu/w/upx/nxAAAAPQGePWpH/wAALFczRVRzBeUvUm3uWYgsUx6n5hct/pkS0wbskdskIoaTsR8knB+z9mobnkWFt2xqYnuP4vwAAABgQZoiSahBbJlMCEf//eEAAAU9k0mjTLLRUBANzYk1kaMqC/SrkVIN3W9Do62PPtnr2iXWJ6RkE1iKlsAmjSJ6tfA5H0KuoFotZMi/csCYDi0RMnuoegt4K0a2Nytc8wVAAAAATUGeQEUVLCP/AAAcWHICgjgA4sEOHeVTT/y5hr40UzZMUkFZo1MHGKEQJ0BZvvVEcBD3iqbadxYYbHG2zqjirYywdFkgijYh0aqvJoGHAAAARgGef3RH/wAALCeP9mJIvK65dgY7izT8fV2m78hG435lVYCLjWDZ9qbRHbPRIN66ACWqd9hFdcd/e7VMVM/4hza0lNQxMW4AAAAzAZ5hakf/AAAteWz6W8NhdO86xEuJ1kJ/MCT4KIY/sM+uma0lMkMnl0incED3x9SZUqvNAAAAc0GaZEmoQWyZTBRMI//94QAABUGls8utg0CWem8Q59XYjft94vJ95N6IZS1yZow2s5ZWVQs3Jm64CPSpjADvksSIlh8u3IEVgxGJYLfrOQFWEchqnqIPaUM9kpJrabBNm1wy033TwHXxO70mBgdU4zDqm8AAAAA3AZ6Dakf/AAAtgyVrwoQShJk91m8LIi7v7XjowQYWtTjO3Jxhed5vDTQ3tJ66Q28K+cDcNzbWpQAAAJZBmohJ4QpSZTAhH/3hAAAFYZPTqLPWq/JgrSVgAuQVcfqDi6gr4y2zf3ZfaO+ojtrv1B+VV1Z7BogiDYcD8f11cHU+/F0NMbEz5fK7FcrsyxYEpzLY38MFflz87TLoiL4+m1hdZNM4mlNlrMA6ZAcQ1wTxdzVZ5dqrvGhC4EModQXbzS3zKRzNs9Ih2wljHMJxtPs7zYEAAABXQZ6mRTRMI/8AAB0IcgiyYLZsLQf9gcXIQW9Mf/kqAARk3rRn8cSNsyUxvUUbIxxOeZ3DsfZt6q61RFYdtAxddm3fK+fWFf/2qwTa4IVZ5CEOjniRI8V5AAAAQAGexXRH/wAALXqc7UjkNcvWjy3Me4Yamrt4Hnya6agbPHwrQC2+le3fjKQIcTbMMZzYsAJX0L7oRCgCrRdBq2EAAABEAZ7Hakf/AAAumYGRSpjwF/43cPpkzU1ub8IK5G0GvDZ+3mXSzuDxaEP/kLbTh1k3bOhAAiDoM9qjBLacVj5ScEZ9VsAAAAB8QZrMSahBaJlMCEf//eEAAAVhk9Q6GBlsnsZXS/BACzaIcXT67qPIqFg9vunA7mRtVHYLBZXmds5WrO9Ac/GL8HNDsb4Aurg1P0Z+Zh6WKYOG2iWOu5+jfqePqfioqVGhZ4mVNJQMy7Vwq6T4TQMrjbzsutU7tnnkw4yGgAAAAFRBnupFESwj/wAAHPyQZILYapECgq+E5u1VoABx28xzQ3bZ7elZYLTes5jrutSVWJaBYNrkbb00/2K9WOWz7VEm4QQEyukmkMyQpR9HeQ/0uBzwDHkAAABYAZ8JdEf/AAAump2NYcKVnbhJHiaIf0lZkRgsHaE3H1fMdVcweHcTPKVRY/KFaxEnE0E9TQQAfb3wA5OdkPA1M2OxHzpW4Dm3753Uir7eeNyMiqmjHgUv4AAAAEcBnwtqR/8AAC6CnJ/0ffwJ4Dn17fZ884cWBXtqasra1SY6kRYTshl2B6zIm9U6LIgGP5ijMn93qXAB+5pN8SyinO18KMKQQAAAAIJBmxBJqEFsmUwIR//94QAABYWT0zZz8qgZL1S+nQ6XweRjptZDbFa/yG6WlRLuWf4Zz8HR4h29ypPg2oHNQuO9oRKaarmgp3/jQL6pEY5iQ9zjnqg+ybQ+GU92rACbm68KDBIwOAchf6kWCuu7B6J16d/M/yoc8hCcoBtFMZlsyp3hAAAAR0GfLkUVLCP/AAAduHreIU6kZQ70Otq64FJYXDK3Z6XaEYykrLG4nqfIZJx4j/oclGpkwOpyIDyGuJ0tV7/l+mOUOafIW5OBAAAARwGfTXRH/wAALpmS62DwRXM8AMGMu8uanalQUfvLKZJbnq7eRMDCSgd+xEciPFWMjX75RgALmF3imXa/OGPT3xYDPlUr4YrdAAAASAGfT2pH/wAAL7jdoRFfIt3zBkLYT/jN8pK6XpSvXWC+/UYPpWWsWCcMS6dtyF/CftdewNuT7JnT3IstTACwObzyMfgbWlcsOAAAAGFBm1RJqEFsmUwIR//94QAABYlTHOVxvgGpSCNU4pHJp5/8X5h/MN8fPBnM9+3OGs8N8C1TR22hCHHL/XC42rVHHPDTz5hVDwoT2bsYTN+kb3n285bIkCyUOeFAsl+DUV/BAAAAOUGfckUVLCP/AAAdtwhB0hamlczDntepcHEkWtkDsedHfW41HhxH3gUphKHUVdJi93JNXvRQpa4ipwAAAEgBn5F0R/8AAC/RfQ/efhNiobwQrBrVzgQjihVusni3gfbmjH8GlBBAA9rBbjtv6nZB74HrEyYZ+EAEZFLD5328Rw7qEyuZRm4AAABHAZ+Takf/AAAvrF38xynRZl6czQplHnQvrX/FODw4lEffs6VQrLaVnPShaOaKFMABANEErEVo4CUi9DABuUvscu5ir0OupIAAAABPQZuYSahBbJlMCEf//eEAAAWplOg59B3kH35W52Dx3zB4oDCMjY9IDjw8lrGZyfmuuxtQHhHiwPPrG/wBzDYmbwAfULIqJnwH6fihenGmgQAAAC9Bn7ZFFSwj/wAAHlyeZILYcKfkuoD95r5P5knwVTKXYsZsK4ILyGhaGJKAueFtJAAAAEIBn9V0R/8AADERfNekkWNOGvAS4aa0kvH0/d6W/bOFmhGRxHuxKwAAmRDt2E6hCpwTt4Rk79zzF/nh6aLfGjC9KL0AAABCAZ/Xakf/AAAw9xe29k5sbGm8NL7g2BaEXvawhzGlCaN5LyXa1/v+uAAgGiG20k1s4wrfBi7u73WWcyYcfvTyjYlxAAAASEGb2UmoQWyZTAj//IQAABYUTwP9tWsBXTxOSKUye1FJHE8dhUrjMusM9itYcNxl3IzbZ2amVQyc3kAAmUM3Bmk+QIBAK90Z4AAAAnVliIIAC//+9q78yytHC5UuHVl7s1Hy6JBHUl2zdg6GgAAAAwAAAwABqizOzxtjVPNkAAADAXMAQsJKHkHmImKsVAvvN4HO4ARdc10Yt4Gj9uQRgwIYN4AUHzYeZIETC/qkr+fpkUsQO0exSEbFJ/vYpRoAQYmVyV4Xdm2O2xfsjcMtnutR2yteN71zHbvXVyfoBtLHkPA6Wfc2DFtSYX3a9+qVxqo05LHTLND7Ty2hQGB01lnIAMz47+EcbVnwQbHRB2+oz48Pw/8j3I+KsPMO5UYzE+z26ARNywM/BBpf+2cWk9IaZyNQghwG1CU9dR1dsE98gnR1We85tSDHvejYHznNmvDShq6SWa1o3m/M6FEdKaxYbELrw3cIsuhSjODp4o/yuB94H4bx1x+vSCGI5GCXW2HisOULoJ80GxMrfoZeqTEV1MBJ/3OqQgAUJ/tAxWIqIXFRRGCyFGA/3+OCG/4AWawE6/4jzzzK7c9j5rogBKmRCZD+WZlcWxgFpf3Zkcz28WmOOMNE6a8I5M3ghYcTCA8lDCt7U3BVN7M8VI9Mi3fgf4AhsAEfxQvw0uvY63+0ctAvdlCabN1Kk4eXOYFPP6KythuRcg/FpW9/xDznMVXjhc6KWgHnebu00x4461w5nKh/UNWp4z/hQSz63tfaNYF7OW34WE1mmxUMChmQn21Ly1Q7cRl0iySz4SaFH8MGw8HjykfuojuV/CjQC2/9aPSQ6E0rodnI40jtAGYP+ibMLX1e6S0UJNVP8qXYKnmUrjbxanG/bj9z+9mYZKg+NVRObuaMIaZt5+6CnO9qWLABjdaWJLaAAAADAAADAAD0gQAAAHlBmiRsQj/94QAABc4i6pAAbRnPvBk2KyFTEMw/7okOM6nSPhZO5NiVXHx/orMXlxsSEgo8CPRI8d/on3RRrne8PxcnFgTDkvJlZ8rFg2ZbObbAtRmhLPwi7MAptvOR46w5rrO//6zsLZCiGmnIejHGTzLK7o+7kyKsAAAAPUGeQniEfwAAH8rhCqud47PK6JEKaOai/wCJWPynImzScJv2yAEVhKlYtfhYylOaLUlWnHUVHfEjGHwYHycAAABOAZ5hdEf/AAAyM47Gkwkf9Um3/IipEzJAYG+3qBNCRpYzTpjCHpbtxb8BiKPbABME98jAGfW27Kcv62PgoWbVL2DHJVlx9VNXa+GOV2y5AAAASQGeY2pH/wAAM5I7fU384vISRLp6Y9HEijtibHa0/fZXbgAsS5Twy6ujmE/ERQZm/Y4WzBpkAD5S1j4lu0iAbDyyL2bQqwyDzyAAAABvQZpoSahBaJlMCEf//eEAAAX0Vf5igCg2RakwZVBPzPgR5Pm7PmtNTEJapnSK8Ay83F/GzMPPO3XhFma9U1LlhAKHS+V3nfEFfsTjnet/jmZSY3kdWEqLPOcfy+0M6gaGZQB1hiD2ox1yytTRBuLAAAAAV0GehkURLCP/AAAfvKxyk1+O6rG5rJIXnQHeCCRX9jnTnAbTFQCKp8cKKYFS5vTtQzreUYUFCLXu8ES97vMY3wEBCC7LJk3Vfi4Eo5TBg4FkO31frVdKgQAAAD4BnqV0R/8AADOR4jh0vOWJmklhZ9c3UB/Bf2UMpsTRL/UU29ATWWr0qL04V4k/VjJQQEEluFG1QO+aLGcgfAAAAEcBnqdqR/8AADN3nzjob1ny+Hgz4oQTzhDKWpZ+WFKrNOjnruPkbLA2zHPVAAQPW01pPWCwh88d1Qw1edFhek9+B9w2dOdNjwAAAF1BmqpJqEFsmUwUTCP//eEAAAYcTg/pjrOPrHGG5zt7mRhalc+qWqdr0gq98q/rTV8eAIBGykhPNtmmifTi7fdUNMSbgCt94ubwBGeS8BOqLqCHhUsGb35l9IppZcAAAABOAZ7Jakf/AAA00l6WfZwfsCrKsbTXvCdHlybnuN9XY2u/F0RoB/lM/b8ZbBGW1LNJZn4wzoAICqGCL7CCikbUZyHMDZ+jalXS/KKc8dazAAAAgEGazknhClJlMCEf/eEAAAZEVkNigHygYDMDmgvDTHjp5OLkVZcU5nBWmnoC06LUe7CXSPGM861xR0GPkUfeXVQ/4s6sDP9hi9RunQyACouJp0rChhgs+HvzDT8I/7GoJjetWLj96PG+kZvr6BmmIPaaBAOnFpMoBJdWqy1sc3IrAAAAREGe7EU0TCP/AAAhvIW1WsJ76+cr8DL5bnINQoiwMMrj8gkxjOCa4w4Q6sC0nMfISferMAFxTOjKuq1xxcCzReKdMtQ5AAAASwGfC3RH/wAANNHiD+j6cUEbgvBpUdw6Lk1uHjDK9X8aBc7wbn+mN6yEAD2s50o1fMyhqiGd04e60w+Vn070LFnOSsuWwnBxR3kBLwAAAFMBnw1qR/8AADYSURD+J00M0YyctptpuRpkKwxLr7qZM2jITT+seRJpEkd58MxZMQLl8wuOjzOO6eHjHAAB+t7ytbuAQuhmDUSpYaImRnWqeLVi4AAAAHdBmxBJqEFomUwU8I/94QAABknwKF9Rn334sGAHJu7KW/9qfOZauVm3f7CVGvmFztBnwfvWWU5GpU5MTQMMqG1ugSsN5uAJVamBtw4bQBUopUfCr21uVu6yaYEq7Tvv8eJm3ygvveVnnFBti7hz+hyS1hYLWwpZgAAAAFsBny9qR/8AADX3nrb+fCZCUhEP9ChCq3iXSpHnlLqQkypYL2arO+Ylx+bykYBuWAKP30ACZct9H0X+CfcQNnTo2U0Fq8YyKDZUv0jxPHSvKrsNejFJyzZiGNMbAAAAgEGbM0nhClJlMCP//IQAABkQCDlAI+uZvhqxwS/1BrU4DFlgCg1o75AQp/x4WIhHiMt3aoAvxKCV4JiBo67bAaFQAv/5OPEAgbZutvIvI3TPMZRaQeqz3BQWoNsMx7/KmuRiCQiI3cUO3oi7SuZ6+pOB+7dIgtNTylRzilMaxiFgAAAASUGfUUU0TCP/AAAivG7zURgNfNp0RpyVlJYPta/bH0pD5KDT9awQPhC2+nNnT8p9Lrg3gALi6MpxD8snAKzY5v8waWDpc9MGDzAAAABRAZ9yakf/AAA3N17EgCgSg2unPkYyuVtlXBDMh9n+yO1vyQ+NuTPcuboxXUqRKJEXUauHpyGIXKRVpQaJfZMF1si5Gf1aynWFO0Ot8BKL+pBhAAAAc0GbdEmoQWiZTAhH//3hAAAGcIIXfOvjfuEaBfcuwwF7i91VEBES+R6Y5lWIXMVIXEPN5mg2Iv+vCVCHHHz4nLsOp3jozN2bR0kUe65/FmjQwDANqBRxZV3UIkgWhtjeA4HzVkJXN1sSNmmyNsLUTg4frXUAAABtQZuXSeEKUmUwIR/94QAABpRU7tSfJCDvxku0KFaJeizGKPEc8INAFhELWd9+ucyh4y2f8BnGm+bpUmiU7UIa4AhRV5Vk/uYGeaM5lHYhW62AYWXcsMw6NE3hYLtOX/rrbMGurGcEP2N08wKQWQAAADpBn7VFNEwj/wAAI74qGnHqFbes5S776P0NN+3Y/HXuIUszq+/hoihYAH7oH7LW9tn7b2KPmDP46+OAAAAAMwGf1mpH/wAAOLJgxfvyWXfczboQkYPgw97mb/f02ggX3nNjrPAZ1w4vMM5GbBODMk2oOAAAAHVBm9tJqEFomUwIV//+OEAAAa8+jw1LNb/IzwqmbHHR6Lb2Cbj8+gA+VGEQJ+lISLjCxN1bnbmBSXQnrvZJz3A4bzReFijD8QHAtAM1zv5MZm56MWTP2yUYrjAW/N4pZJZCrtf/sLqXtUHJS7NiZPNl2evG/40AAABKQZ/5RREsI/8AACO6ke00Y105KTuXUxYvVvfDSbUu0Uvz9ORfqMyhfQgAkfkba6uRHvSjakjtLnBFFCe0n6t6sCxBeHY7FkdzDOAAAAA5AZ4YdEf/AAA4r0Yxc2giO1tWkPvubYiMGGYm22o45sR+AD9TGx9EUKqlSqDH3FzF8quRXr0hLJUwAAAAOgGeGmpH/wAAOJCzJMO5Zdm/m8tx5FDVf0jzO/H3juQbOiD3dKCcWEjg5vtcN187R3UMZXWL1imGHdEAAAAzQZofSahBbJlMCP/8hAAAGd9FE5exUC2ER6lMZxWi6JgJSmYZnZFEcRnxhsUHHQXjgvqwAAAAQkGePUUVLCP/AAAjs0kKBynEAmcF8fmgn1aZ67qlIy3L3G+Nk5QwZLwD3WBsO84ue4CNGerYnMmstZ3vvrbBE6BU+QAAAD0Bnlx0R/8AADivaxpc+GK3tJNgbT4wxxyaLA7ArN2LXpU50AE4vXnkOdRiSQggx1KGNxy7TznHQeTLFLbpAAAAIwGeXmpH/wAAB+/+JhcFAFnvBQMts2SPn9MYda5ZzbqjzGw8AAAQK21vb3YAAABsbXZoZAAAAAAAAAAAAAAAAAAAA+gAABYIAAEAAAEAAAAAAAAAAAAAAAABAAAAAAAAAAAAAAAAAAAAAQAAAAAAAAAAAAAAAAAAQAAAAAAAAAAAAAAAAAAAAAAAAAAAAAAAAAAAAAAAAAIAAA9VdHJhawAAAFx0a2hkAAAAAwAAAAAAAAAAAAAAAQAAAAAAABYIAAAAAAAAAAAAAAAAAAAAAAABAAAAAAAAAAAAAAAAAAAAAQAAAAAAAAAAAAAAAAAAQAAAAAJYAAABkAAAAAAAJGVkdHMAAAAcZWxzdAAAAAAAAAABAAAWCAAAAgAAAQAAAAAOzW1kaWEAAAAgbWRoZAAAAAAAAAAAAAAAAAAAMgAAARoAVcQAAAAAAC1oZGxyAAAAAAAAAAB2aWRlAAAAAAAAAAAAAAAAVmlkZW9IYW5kbGVyAAAADnhtaW5mAAAAFHZtaGQAAAABAAAAAAAAAAAAAAAkZGluZgAAABxkcmVmAAAAAAAAAAEAAAAMdXJsIAAAAAEAAA44c3RibAAAAJxzdHNkAAAAAAAAAAEAAACMYXZjMQAAAAAAAAABAAAAAAAAAAAAAAAAAAAAAAJYAZAASAAAAEgAAAAAAAAAAQAAAAAAAAAAAAAAAAAAAAAAAAAAAAAAAAAAAAAAAAAAABj//wAAADZhdmNDAWQAH//hABlnZAAfrNlAmDPl4QAAAwABAAADAGQPGDGWAQAGaOvjyyLA/fj4AAAAABhzdHRzAAAAAAAAAAEAAAEaAAABAAAAABhzdHNzAAAAAAAAAAIAAAABAAAA+wAACLhjdHRzAAAAAAAAARUAAAABAAACAAAAAAEAAAUAAAAAAQAAAgAAAAABAAAAAAAAAAEAAAEAAAAAAQAAAwAAAAABAAABAAAAAAEAAAUAAAAAAQAAAgAAAAABAAAAAAAAAAEAAAEAAAAAAQAABQAAAAABAAACAAAAAAEAAAAAAAAAAQAAAQAAAAABAAAFAAAAAAEAAAIAAAAAAQAAAAAAAAABAAABAAAAAAEAAAUAAAAAAQAAAgAAAAABAAAAAAAAAAEAAAEAAAAAAQAABQAAAAABAAACAAAAAAEAAAAAAAAAAQAAAQAAAAABAAAFAAAAAAEAAAIAAAAAAQAAAAAAAAABAAABAAAAAAEAAAUAAAAAAQAAAgAAAAABAAAAAAAAAAEAAAEAAAAAAQAABQAAAAABAAACAAAAAAEAAAAAAAAAAQAAAQAAAAABAAAFAAAAAAEAAAIAAAAAAQAAAAAAAAABAAABAAAAAAEAAAUAAAAAAQAAAgAAAAABAAAAAAAAAAEAAAEAAAAAAQAABQAAAAABAAACAAAAAAEAAAAAAAAAAQAAAQAAAAABAAAFAAAAAAEAAAIAAAAAAQAAAAAAAAABAAABAAAAAAEAAAUAAAAAAQAAAgAAAAABAAAAAAAAAAEAAAEAAAAAAQAABQAAAAABAAACAAAAAAEAAAAAAAAAAQAAAQAAAAABAAAFAAAAAAEAAAIAAAAAAQAAAAAAAAABAAABAAAAAAEAAAUAAAAAAQAAAgAAAAABAAAAAAAAAAEAAAEAAAAAAQAABQAAAAABAAACAAAAAAEAAAAAAAAAAQAAAQAAAAABAAAFAAAAAAEAAAIAAAAAAQAAAAAAAAABAAABAAAAAAEAAAUAAAAAAQAAAgAAAAABAAAAAAAAAAEAAAEAAAAAAQAABQAAAAABAAACAAAAAAEAAAAAAAAAAQAAAQAAAAABAAAFAAAAAAEAAAIAAAAAAQAAAAAAAAABAAABAAAAAAEAAAUAAAAAAQAAAgAAAAABAAAAAAAAAAEAAAEAAAAAAQAABQAAAAABAAACAAAAAAEAAAAAAAAAAQAAAQAAAAABAAAFAAAAAAEAAAIAAAAAAQAAAAAAAAABAAABAAAAAAEAAAUAAAAAAQAAAgAAAAABAAAAAAAAAAEAAAEAAAAAAQAABQAAAAABAAACAAAAAAEAAAAAAAAAAQAAAQAAAAABAAAFAAAAAAEAAAIAAAAAAQAAAAAAAAABAAABAAAAAAEAAAUAAAAAAQAAAgAAAAABAAAAAAAAAAEAAAEAAAAAAQAABQAAAAABAAACAAAAAAEAAAAAAAAAAQAAAQAAAAABAAAFAAAAAAEAAAIAAAAAAQAAAAAAAAABAAABAAAAAAEAAAUAAAAAAQAAAgAAAAABAAAAAAAAAAEAAAEAAAAAAQAABQAAAAABAAACAAAAAAEAAAAAAAAAAQAAAQAAAAABAAAFAAAAAAEAAAIAAAAAAQAAAAAAAAABAAABAAAAAAEAAAUAAAAAAQAAAgAAAAABAAAAAAAAAAEAAAEAAAAAAQAABQAAAAABAAACAAAAAAEAAAAAAAAAAQAAAQAAAAABAAAFAAAAAAEAAAIAAAAAAQAAAAAAAAABAAABAAAAAAEAAAUAAAAAAQAAAgAAAAABAAAAAAAAAAEAAAEAAAAAAQAABQAAAAABAAACAAAAAAEAAAAAAAAAAQAAAQAAAAABAAAFAAAAAAEAAAIAAAAAAQAAAAAAAAABAAABAAAAAAEAAAUAAAAAAQAAAgAAAAABAAAAAAAAAAEAAAEAAAAAAQAABQAAAAABAAACAAAAAAEAAAAAAAAAAQAAAQAAAAABAAAFAAAAAAEAAAIAAAAAAQAAAAAAAAABAAABAAAAAAEAAAUAAAAAAQAAAgAAAAABAAAAAAAAAAEAAAEAAAAAAQAABQAAAAABAAACAAAAAAEAAAAAAAAAAQAAAQAAAAABAAAFAAAAAAEAAAIAAAAAAQAAAAAAAAABAAABAAAAAAEAAAUAAAAAAQAAAgAAAAABAAAAAAAAAAEAAAEAAAAAAQAABQAAAAABAAACAAAAAAEAAAAAAAAAAQAAAQAAAAABAAAFAAAAAAEAAAIAAAAAAQAAAAAAAAABAAABAAAAAAEAAAMAAAAAAQAAAQAAAAABAAAFAAAAAAEAAAIAAAAAAQAAAAAAAAABAAABAAAAAAEAAAQAAAAAAgAAAQAAAAABAAAFAAAAAAEAAAIAAAAAAQAAAAAAAAABAAABAAAAAAEAAAQAAAAAAgAAAQAAAAABAAAFAAAAAAEAAAIAAAAAAQAAAAAAAAABAAABAAAAAAEAAAUAAAAAAQAAAgAAAAABAAAAAAAAAAEAAAEAAAAAAQAABQAAAAABAAACAAAAAAEAAAAAAAAAAQAAAQAAAAABAAADAAAAAAEAAAEAAAAAAQAABQAAAAABAAACAAAAAAEAAAAAAAAAAQAAAQAAAAABAAAFAAAAAAEAAAIAAAAAAQAAAAAAAAABAAABAAAAAAEAAAUAAAAAAQAAAgAAAAABAAAAAAAAAAEAAAEAAAAAAQAABQAAAAABAAACAAAAAAEAAAAAAAAAAQAAAQAAAAABAAAFAAAAAAEAAAIAAAAAAQAAAAAAAAABAAABAAAAAAIAAAIAAAAAAQAABQAAAAABAAACAAAAAAEAAAAAAAAAAQAAAQAAAAABAAAFAAAAAAEAAAIAAAAAAQAAAAAAAAABAAABAAAAAAEAAAMAAAAAAQAAAQAAAAABAAAFAAAAAAEAAAIAAAAAAQAAAAAAAAABAAABAAAAAAEAAAMAAAAAAQAAAQAAAAABAAAEAAAAAAIAAAEAAAAAAQAAAgAAAAABAAAEAAAAAAIAAAEAAAAAAQAABQAAAAABAAACAAAAAAEAAAAAAAAAAQAAAQAAAAABAAAFAAAAAAEAAAIAAAAAAQAAAAAAAAABAAABAAAAABxzdHNjAAAAAAAAAAEAAAABAAABGgAAAAEAAAR8c3RzegAAAAAAAAAAAAABGgAABMgAAACLAAAASwAAACgAAAA+AAAAmgAAACYAAABpAAAAMwAAAC8AAAAfAAAAQAAAACoAAAArAAAAIwAAADcAAAAoAAAAJAAAABgAAAA3AAAANAAAABgAAAAWAAAAKAAAABcAAAAVAAAAFQAAAGkAAAA1AAAANQAAABsAAAAjAAAAGwAAABcAAAAXAAAAPAAAABwAAAAWAAAAHAAAAD0AAABOAAAAMgAAAB4AAABJAAAAIwAAAC0AAAAaAAAAdgAAACUAAAAvAAAAJAAAAEIAAAApAAAAJAAAAC4AAAA1AAAAOAAAABsAAAAaAAAAcQAAADIAAAAkAAAAHQAAAEIAAAAbAAAAFgAAABwAAABIAAAALwAAACEAAAAdAAAAcgAAACgAAAAbAAAAMQAAACkAAAAgAAAAHQAAAB0AAAA+AAAANAAAACcAAAAhAAAAOAAAAEoAAAAfAAAALwAAAF0AAAAjAAAAIQAAABcAAAA+AAAAKQAAADAAAAAeAAAAcQAAADkAAAA7AAAAHQAAAFQAAAAoAAAAOgAAACkAAABQAAAAIQAAACIAAAAoAAAARgAAACUAAAAcAAAAHQAAAE8AAAAzAAAALQAAAC4AAABKAAAAOwAAACoAAAAtAAAAUQAAAEAAAAAiAAAAKAAAAFwAAAA3AAAAMQAAACkAAABdAAAAQgAAAC4AAAAyAAAAcAAAAEAAAAA3AAAANwAAAJgAAABFAAAAPgAAAD4AAABpAAAAPgAAADwAAABDAAAAUQAAAE4AAAA/AAAAQQAAAFoAAABDAAAAPgAAAEMAAABcAAAAPQAAACwAAAA2AAAAfQAAAE4AAAA/AAAAMAAAAGcAAABDAAAAQgAAAC4AAACCAAAARAAAADsAAAAtAAAAegAAAD0AAAA6AAAAMAAAAHYAAABdAAAANQAAADkAAABvAAAATwAAADcAAAAyAAAASQAAAEkAAAArAAAAQQAAAHkAAABPAAAAPAAAADQAAACGAAAARQAAADwAAAAzAAAAXAAAAEsAAABEAAAANQAAAHMAAABVAAAANQAAADsAAABgAAAAUAAAAHcAAABjAAAARAAAAEgAAAB6AAAASAAAADgAAABgAAAAYwAAAEcAAABJAAAATwAAAFsAAABEAAAAaAAAAEoAAAA9AAAASwAAAFkAAABMAAAARQAAAEEAAABkAAAAUQAAAEoAAAA3AAAAdwAAADsAAACaAAAAWwAAAEQAAABIAAAAgAAAAFgAAABcAAAASwAAAIYAAABLAAAASwAAAEwAAABlAAAAPQAAAEwAAABLAAAAUwAAADMAAABGAAAARgAAAEwAAAJ5AAAAfQAAAEEAAABSAAAATQAAAHMAAABbAAAAQgAAAEsAAABhAAAAUgAAAIQAAABIAAAATwAAAFcAAAB7AAAAXwAAAIQAAABNAAAAVQAAAHcAAABxAAAAPgAAADcAAAB5AAAATgAAAD0AAAA+AAAANwAAAEYAAABBAAAAJwAAABRzdGNvAAAAAAAAAAEAAAAwAAAAYnVkdGEAAABabWV0YQAAAAAAAAAhaGRscgAAAAAAAAAAbWRpcmFwcGwAAAAAAAAAAAAAAAAtaWxzdAAAACWpdG9vAAAAHWRhdGEAAAABAAAAAExhdmY1OC41MS4xMDE=\" type=\"video/mp4\" />\n",
       "                 </video>"
      ],
      "text/plain": [
       "<IPython.core.display.HTML object>"
      ]
     },
     "execution_count": 19,
     "metadata": {},
     "output_type": "execute_result"
    }
   ],
   "source": [
    "# Animate learned policy\n",
    "save_dir='./videos/pytorch/6_6/'\n",
    "env = make_env(ENV_NAME)\n",
    "generate_animation(env, agent, save_dir=save_dir)\n",
    "[filepath] = glob.glob(os.path.join(save_dir, '*.mp4'))\n",
    "display_animation(filepath)\n"
   ]
  },
  {
   "cell_type": "markdown",
   "metadata": {},
   "source": [
    "### Noisy Nets\n",
    "\n",
    "The main idea is to replace ε-greedy policy used for exploration with a deterministic greedy policy. However, to explore random perturbations are added to linear layers as parameters which are learnt. The details are provided in the paper at https://arxiv.org/pdf/1706.10295.pdf\n",
    "\n",
    "The usual linear layers are affine transformations as given below\n",
    "\n",
    "$$ y = wx + b $$\n",
    "\n",
    "In Noisy Linear versions, we introduce random perturbations in the weights as given below:\n",
    "\n",
    "$$ y = (\\mu^w + \\sigma^w \\odot \\epsilon^w)x + (\\mu^b + \\sigma^b \\odot \\epsilon^b)  $$\n",
    "\n",
    "In above equation $\\mu^w$, $\\sigma^w$, $\\mu^b$, $\\sigma^b$ are the weights of the network that are learnt. $\\epsilon^w$ and $\\epsilon^b$ are random noises that introduce randomness leading to exploration.\n",
    "\n",
    "\n",
    "Code cells below show how this approach could be applied to any of the DQN variants. We create our own Noisy layer on the lines of Linear layer provided by torch. For this walk-through, we will use noisy version on DQN.  We also train using regular DQN approach. \n",
    "\n",
    "However, you could also try noisy version of DuelingDQN. Further, you could also try DDQN variant of learning as well. In other words, with what we have learnt so far, we could try following combinations:\n",
    "\n",
    "* DQN\n",
    "* DDQN (impacts how we learn)\n",
    "* Dueling DQN (impacts the architecture of training)\n",
    "* Dueling DDQN\n",
    "* replace $\\epsilon$-exploration with NoisyNets in any of the above approaches"
   ]
  },
  {
   "cell_type": "code",
   "execution_count": 20,
   "metadata": {},
   "outputs": [],
   "source": [
    "class NoisyLinear(nn.Module):\n",
    "    def __init__(self, in_features, out_features, sigma_0 = 0.4):\n",
    "        super(NoisyLinear, self).__init__()\n",
    "        self.in_features  = in_features\n",
    "        self.out_features = out_features\n",
    "        self.sigma_0= sigma_0\n",
    "        \n",
    "        self.mu_w = nn.Parameter(torch.FloatTensor(out_features, in_features))\n",
    "        self.sigma_w = nn.Parameter(torch.FloatTensor(out_features, in_features))\n",
    "        self.mu_b = nn.Parameter(torch.FloatTensor(out_features))\n",
    "        self.sigma_b = nn.Parameter(torch.FloatTensor(out_features))\n",
    "\n",
    "        self.register_buffer('epsilon_w', torch.FloatTensor(out_features, in_features))\n",
    "        self.register_buffer('epsilon_b', torch.FloatTensor(out_features))\n",
    "        \n",
    "        self.reset_noise()\n",
    "        self.reset_params()\n",
    "\n",
    "\n",
    "    def forward(self, x):\n",
    "        if self.training:\n",
    "            w = self.mu_w + self.sigma_w * self.epsilon_w\n",
    "            b = self.mu_b + self.sigma_b * self.epsilon_b\n",
    "        else:\n",
    "            w = self.mu_w\n",
    "            b = self.mu_b\n",
    "        return F.linear(x, w, b)        \n",
    "\n",
    "\n",
    "    def reset_params(self):\n",
    "        k = 1/self.in_features\n",
    "        k_sqrt = math.sqrt(k)\n",
    "        self.mu_w.data.uniform_(-k_sqrt, k_sqrt)\n",
    "        self.sigma_w.data.fill_(k_sqrt*self.sigma_0)\n",
    "        self.mu_b.data.uniform_(-k_sqrt, k_sqrt)\n",
    "        self.sigma_b.data.fill_(k_sqrt*self.sigma_0)\n",
    "\n",
    "    def reset_noise(self):\n",
    "        eps_in = self._noise(self.in_features)\n",
    "        eps_out = self._noise(self.out_features)\n",
    "        self.epsilon_w.copy_(eps_out.ger(eps_in)) \n",
    "        self.epsilon_b.copy_(self._noise(self.out_features))\n",
    "\n",
    "    def _noise(self, size):\n",
    "        x = torch.randn(size)\n",
    "        x = torch.sign(x)*torch.sqrt(torch.abs(x))\n",
    "        return x     "
   ]
  },
  {
   "cell_type": "code",
   "execution_count": 21,
   "metadata": {},
   "outputs": [],
   "source": [
    "class NoisyDQN(nn.Module):\n",
    "    def __init__(self, state_shape, n_actions):\n",
    "        super(NoisyDQN, self).__init__()\n",
    "        self.n_actions = n_actions\n",
    "        self.state_shape = state_shape\n",
    "        state_dim = state_shape[0]\n",
    "        # a simple NN with state_dim as input vector (inout is state s)\n",
    "        # and self.n_actions as output vector of logits of q(s, a)\n",
    "        self.fc1 = NoisyLinear(state_dim, 64)\n",
    "        self.fc2 = NoisyLinear(64, 128)\n",
    "        self.fc3 = NoisyLinear(128, 32)\n",
    "        self.q = NoisyLinear(32, n_actions)\n",
    "        \n",
    "    def forward(self, state_t):\n",
    "        # pass the state at time t through the newrok to get Q(s,a)\n",
    "        x = F.relu(self.fc1(state_t))\n",
    "        x = F.relu(self.fc2(x))\n",
    "        x = F.relu(self.fc3(x))\n",
    "        qvalues = self.q(x)\n",
    "        return qvalues\n",
    "\n",
    "    def get_qvalues(self, states):\n",
    "        # input is an array of states in numpy and outout is Qvals as numpy array\n",
    "        states = torch.tensor(states, device=device, dtype=torch.float32)\n",
    "        qvalues = self.forward(states)\n",
    "        return qvalues.data.cpu().numpy()\n",
    "\n",
    "    def sample_actions(self, qvalues):\n",
    "        # sample actions from a batch of q_values using greedy policy\n",
    "        batch_size, n_actions = qvalues.shape\n",
    "        best_actions = qvalues.argmax(axis=-1)\n",
    "        return best_actions\n",
    "    \n",
    "    def reset_noise(self):\n",
    "        self.fc1.reset_noise()\n",
    "        self.fc2.reset_noise()\n",
    "        self.fc3.reset_noise()\n",
    "        self.q.reset_noise()\n"
   ]
  },
  {
   "cell_type": "code",
   "execution_count": 22,
   "metadata": {},
   "outputs": [],
   "source": [
    "#setup some parameters for training\n",
    "timesteps_per_epoch = 1\n",
    "batch_size = 32\n",
    "total_steps = 3 * 10**4\n",
    "\n",
    "# set exploration epsilon \n",
    "# start_epsilon = 1\n",
    "# end_epsilon = 0.05\n",
    "# eps_decay_final_step = 2 * 10**4\n",
    "\n",
    "# setup spme frequency for loggind and updating target network\n",
    "loss_freq = 50\n",
    "refresh_target_network_freq = 100\n",
    "eval_freq = 1000\n",
    "\n",
    "# to clip the gradients\n",
    "max_grad_norm = 5000\n",
    "\n",
    "#set up random numbers\n",
    "seed=0\n",
    "random.seed(seed)\n",
    "np.random.seed(seed)\n",
    "torch.manual_seed(seed) \n",
    "\n",
    "#init environment\n",
    "ENV_NAME = 'CartPole-v1'\n",
    "env = make_env(ENV_NAME, seed)\n",
    "state_dim = env.observation_space.shape\n",
    "n_actions = env.action_space.n\n",
    "\n",
    "#init agent, target network and Optimizer\n",
    "agent = NoisyDQN(state_dim, n_actions).to(device)\n",
    "target_network = NoisyDQN(state_dim, n_actions).to(device)\n",
    "target_network.load_state_dict(agent.state_dict())\n",
    "optimizer = torch.optim.Adam(agent.parameters(), lr=1e-4)"
   ]
  },
  {
   "cell_type": "code",
   "execution_count": 23,
   "metadata": {},
   "outputs": [],
   "source": [
    "def train_agent_noisy(env, agent, target_network, optimizer, td_loss_fn):\n",
    "    \n",
    "    state = env.reset()\n",
    "    # let us fill experience replay with some samples using full random policy\n",
    "    exp_replay = ReplayBuffer(10**4)\n",
    "    for i in range(100):\n",
    "        play_and_record(state, agent, env, exp_replay, n_steps=10**2)\n",
    "        if len(exp_replay) == 10**4:\n",
    "            break\n",
    "    print('Finished filling buffer with: {} samples'.format(len(exp_replay)))\n",
    "\n",
    "    mean_rw_history = []\n",
    "    td_loss_history = []\n",
    "    state = env.reset()\n",
    "    for step in trange(total_steps + 1):\n",
    "\n",
    "\n",
    "        # take timesteps_per_epoch and update experience replay buffer\n",
    "        with torch.no_grad():\n",
    "            _, state = play_and_record(state, agent, env, exp_replay, timesteps_per_epoch)\n",
    "\n",
    "        # train by sampling batch_size of data from experience replay\n",
    "        states, actions, rewards, next_states, done_flags = exp_replay.sample(batch_size)\n",
    "\n",
    "\n",
    "        # loss = <compute TD loss>\n",
    "        optimizer.zero_grad()\n",
    "        agent.reset_noise()\n",
    "        target_network.reset_noise()\n",
    "        loss = td_loss_fn(agent, target_network, \n",
    "                          states, actions, rewards, next_states, done_flags,                  \n",
    "                          gamma=0.99,\n",
    "                          device=device)\n",
    "\n",
    "        loss.backward()\n",
    "        grad_norm = nn.utils.clip_grad_norm_(agent.parameters(), max_grad_norm)\n",
    "        optimizer.step()\n",
    "\n",
    "        if step % loss_freq == 0:\n",
    "            td_loss_history.append(loss.data.cpu().item())\n",
    "\n",
    "        if step % refresh_target_network_freq == 0:\n",
    "            # Load agent weights into target_network\n",
    "            target_network.load_state_dict(agent.state_dict())\n",
    "\n",
    "        if step % eval_freq == 0:\n",
    "            # eval the agent\n",
    "            mean_rw_history.append(evaluate(\n",
    "                make_env(ENV_NAME, seed=step), agent, n_games=3, greedy=True, t_max=1000)\n",
    "            )\n",
    "\n",
    "            clear_output(True)\n",
    "            print(\"buffer size = %i\" %\n",
    "                  (len(exp_replay)))\n",
    "\n",
    "            plt.figure(figsize=[16, 5])\n",
    "            plt.subplot(1, 2, 1)\n",
    "            plt.title(\"Mean reward per episode\")\n",
    "            plt.plot(mean_rw_history)\n",
    "            plt.grid()\n",
    "\n",
    "            assert not np.isnan(td_loss_history[-1])\n",
    "            plt.subplot(1, 2, 2)\n",
    "            plt.title(\"TD loss history (smoothened)\")\n",
    "            plt.plot(smoothen(td_loss_history))\n",
    "            plt.grid()\n",
    "\n",
    "            plt.show()\n"
   ]
  },
  {
   "cell_type": "code",
   "execution_count": 24,
   "metadata": {},
   "outputs": [
    {
     "name": "stdout",
     "output_type": "stream",
     "text": [
      "buffer size = 10000\n"
     ]
    },
    {
     "data": {
      "image/png": "[encoded data removed]",
      "text/plain": [
       "<Figure size 1152x360 with 2 Axes>"
      ]
     },
     "metadata": {
      "needs_background": "light"
     },
     "output_type": "display_data"
    },
    {
     "name": "stderr",
     "output_type": "stream",
     "text": [
      "100%|███████████████████████████████████████████████████████████████████████████| 30001/30001 [04:43<00:00, 105.77it/s]\n"
     ]
    }
   ],
   "source": [
    "train_agent_noisy(env, agent, target_network, optimizer, td_loss_fn=td_loss_dqn)"
   ]
  },
  {
   "cell_type": "code",
   "execution_count": 25,
   "metadata": {},
   "outputs": [
    {
     "name": "stdout",
     "output_type": "stream",
     "text": [
      "final score(Noisy DQN): 111\n"
     ]
    }
   ],
   "source": [
    "final_score = evaluate(\n",
    "  make_env(ENV_NAME),\n",
    "  agent, n_games=30, greedy=True, t_max=1000\n",
    ")\n",
    "print('final score(Noisy DQN): {:.0f}'.format(final_score))"
   ]
  },
  {
   "cell_type": "markdown",
   "metadata": {},
   "source": [
    "### Summary\n",
    "\n",
    "In this notebook we saw how to train a DQN agent with experience replay and target networks. We also learnt a new way to explore i.e. to introduce some amount of randomness in the linear layer weights instead of using epsilon-greedy exploration. "
   ]
  }
 ],
 "metadata": {
  "kernelspec": {
   "display_name": "Python 3",
   "language": "python",
   "name": "python3"
  },
  "language_info": {
   "codemirror_mode": {
    "name": "ipython",
    "version": 3
   },
   "file_extension": ".py",
   "mimetype": "text/x-python",
   "name": "python",
   "nbconvert_exporter": "python",
   "pygments_lexer": "ipython3",
   "version": "3.8.3"
  }
 },
 "nbformat": 4,
 "nbformat_minor": 1
}
