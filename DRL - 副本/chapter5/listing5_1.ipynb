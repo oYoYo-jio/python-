{
 "cells": [
  {
   "cell_type": "markdown",
   "metadata": {},
   "source": [
    "### Semi Gradient  n-step SARSA\n",
    "\n",
    "In this notebook, we will be using n-step SARSA with function approximation using Tiles to solve Mountain Car Environment.\n",
    "\n",
    "![nStepSARSA](./images/nstepSarsa.png \"n-Step SARSA\")"
   ]
  },
  {
   "cell_type": "code",
   "execution_count": 3,
   "metadata": {},
   "outputs": [],
   "source": [
    "import numpy as np\n",
    "import sys\n",
    "import seaborn as sns\n",
    "import matplotlib.pyplot as plt\n",
    "%matplotlib inline\n",
    "import gym"
   ]
  },
  {
   "cell_type": "code",
   "execution_count": 4,
   "metadata": {},
   "outputs": [
    {
     "name": "stdout",
     "output_type": "stream",
     "text": [
      "Mountain Car Environment\n"
     ]
    },
    {
     "data": {
      "text/plain": [
       "<matplotlib.image.AxesImage at 0x1ffb197eb50>"
      ]
     },
     "execution_count": 4,
     "metadata": {},
     "output_type": "execute_result"
    },
    {
     "data": {
      "image/png": "[encoded data removed]",
      "text/plain": [
       "<Figure size 432x288 with 1 Axes>"
      ]
     },
     "metadata": {
      "needs_background": "light"
     },
     "output_type": "display_data"
    }
   ],
   "source": [
    "env = gym.make('MountainCar-v0') # rest of the code is designed to work only for this environment. It will require change for other environments\n",
    "\n",
    "# increase episode length from 200 to 4000\n",
    "env._max_episode_steps = 4000\n",
    "\n",
    "np.random.seed(13)\n",
    "env.reset()\n",
    "print(\"Mountain Car Environment\")\n",
    "plt.imshow(env.render('rgb_array'))\n"
   ]
  },
  {
   "cell_type": "code",
   "execution_count": 5,
   "metadata": {},
   "outputs": [],
   "source": [
    "# the implementation of tiles3 is from Richard Sutton's website\n",
    "# http://incompleteideas.net/tiles/tiles3.html\n",
    "from tiles3 import IHT, tiles"
   ]
  },
  {
   "cell_type": "code",
   "execution_count": 6,
   "metadata": {},
   "outputs": [],
   "source": [
    "class QEstimator:\n",
    "\n",
    "    def __init__(self, step_size, num_of_tilings=8, tiles_per_dim=8, max_size=2048, epsilon=0.0):\n",
    "        self.max_size = max_size\n",
    "        self.num_of_tilings = num_of_tilings\n",
    "        self.tiles_per_dim = tiles_per_dim\n",
    "        self.epsilon = epsilon\n",
    "        self.step_size = step_size / num_of_tilings\n",
    "        \n",
    "        self.table = IHT(max_size)\n",
    "        \n",
    "        self.w = np.zeros(max_size)\n",
    "        \n",
    "        self.pos_scale = self.tiles_per_dim / (env.observation_space.high[0] \\\n",
    "                                                  - env.observation_space.low[0])\n",
    "        self.vel_scale = self.tiles_per_dim / (env.observation_space.high[1] \\\n",
    "                                                  - env.observation_space.low[1])\n",
    "        \n",
    "    def get_active_features(self, state, action):\n",
    "        pos, vel = state\n",
    "        active_features = tiles(self.table, self.num_of_tilings,\n",
    "                            [self.pos_scale * (pos - env.observation_space.low[0]), \n",
    "                             self.vel_scale * (vel- env.observation_space.low[1])],\n",
    "                            [action])\n",
    "        return active_features\n",
    "        \n",
    "    def q_predict(self, state, action):\n",
    "        pos, vel = state\n",
    "        if pos == env.observation_space.high[0]:  # reached goal\n",
    "            return 0.0\n",
    "        else:\n",
    "            active_features = self.get_active_features(state, action)\n",
    "            return np.sum(self.w[active_features])\n",
    "        \n",
    "    \n",
    "    # learn with given state, action and target\n",
    "    def q_update(self, state, action, target):\n",
    "        active_features = self.get_active_features(state, action)\n",
    "        q_s_a = np.sum(self.w[active_features])\n",
    "        delta = (target - q_s_a)\n",
    "        self.w[active_features] += self.step_size * delta\n",
    "        \n",
    "    def get_eps_greedy_action(self, state):\n",
    "        pos, vel = state\n",
    "        if np.random.rand() < self.epsilon:\n",
    "            return np.random.choice(env.action_space.n)\n",
    "        else:\n",
    "            qvals = np.array([self.q_predict(state, action) for action in range(env.action_space.n)])\n",
    "            return np.argmax(qvals)\n",
    "            \n",
    "    \n",
    "    "
   ]
  },
  {
   "cell_type": "code",
   "execution_count": 7,
   "metadata": {},
   "outputs": [],
   "source": [
    "def sarsa_n(qhat, step_size=0.5, epsilon=0.0, n=1, gamma=1.0, episode_cnt = 10000):\n",
    "    episode_rewards = []\n",
    "    for _ in range(episode_cnt):\n",
    "        state = env.reset()\n",
    "        action = qhat.get_eps_greedy_action(state)\n",
    "        T = float('inf')\n",
    "        t = 0\n",
    "        states = [state]\n",
    "        actions = [action]\n",
    "        rewards = [0.0]\n",
    "        while True:\n",
    "            if t < T:\n",
    "                next_state, reward, done, _ = env.step(action)\n",
    "                states.append(next_state)\n",
    "                rewards.append(reward)\n",
    "                \n",
    "                if done:\n",
    "                    T = t+1\n",
    "                else:\n",
    "                    next_action = qhat.get_eps_greedy_action(next_state)\n",
    "                    actions.append(next_action)\n",
    "\n",
    "            tau = t - n + 1\n",
    "            \n",
    "            if tau >= 0:\n",
    "                G = 0\n",
    "                for i in range(tau+1, min(tau+n, T)+1):\n",
    "                    G += gamma ** (i-tau-1) * rewards[i]\n",
    "                if tau+n < T:\n",
    "                    G += gamma**n * qhat.q_predict(states[tau+n], actions[tau+n])\n",
    "                qhat.q_update(states[tau], actions[tau], G)\n",
    "            \n",
    "            if tau == T - 1:\n",
    "                episode_rewards.append(np.sum(rewards))\n",
    "                break\n",
    "            else:\n",
    "                t += 1\n",
    "                state = next_state\n",
    "                action = next_action\n",
    "    \n",
    "    return np.array(episode_rewards)\n",
    "        \n",
    "    \n",
    "    \n",
    "    "
   ]
  },
  {
   "cell_type": "code",
   "execution_count": 8,
   "metadata": {},
   "outputs": [],
   "source": [
    "# plot rewards\n",
    "def plot_rewards(env_name, rewards, label):\n",
    "    plt.title(\"env={}, Mean reward = {:.1f}\".format(env_name,np.mean(rewards[-20:])))\n",
    "    plt.plot(rewards, label=label)\n",
    "    plt.grid()\n",
    "    plt.legend()\n",
    "    plt.ylim(-500, 0)\n",
    "    plt.show()"
   ]
  },
  {
   "cell_type": "code",
   "execution_count": 9,
   "metadata": {},
   "outputs": [
    {
     "data": {
      "image/png": "[encoded data removed]",
      "text/plain": [
       "<Figure size 432x288 with 1 Axes>"
      ]
     },
     "metadata": {
      "needs_background": "light"
     },
     "output_type": "display_data"
    }
   ],
   "source": [
    "# create a n-SARSA Learning agent\n",
    "step_size = 0.8\n",
    "episode_cnt = 1000\n",
    "n=4\n",
    "epsilon= 0.0\n",
    "gamma = 1.0\n",
    "\n",
    "estimator = QEstimator(step_size, epsilon=epsilon)\n",
    "rewards = sarsa_n(estimator, step_size=step_size, epsilon=epsilon, n=n, gamma=gamma, episode_cnt = episode_cnt)\n",
    "\n",
    "#plot rewards\n",
    "plot_rewards(\"Mountain Car World\",rewards, 'Semi Grad n-step SARSA')"
   ]
  },
  {
   "cell_type": "code",
   "execution_count": 10,
   "metadata": {},
   "outputs": [],
   "source": [
    "env.close()"
   ]
  }
 ],
 "metadata": {
  "kernelspec": {
   "display_name": "Python 3",
   "language": "python",
   "name": "python3"
  },
  "language_info": {
   "codemirror_mode": {
    "name": "ipython",
    "version": 3
   },
   "file_extension": ".py",
   "mimetype": "text/x-python",
   "name": "python",
   "nbconvert_exporter": "python",
   "pygments_lexer": "ipython3",
   "version": "3.8.3"
  }
 },
 "nbformat": 4,
 "nbformat_minor": 4
}
